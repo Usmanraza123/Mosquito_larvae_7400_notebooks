{
 "cells": [
  {
   "cell_type": "code",
   "execution_count": 16,
   "metadata": {},
   "outputs": [
    {
     "name": "stdout",
     "output_type": "stream",
     "text": [
      "Ultralytics YOLOv8.2.78 🚀 Python-3.11.7 torch-2.1.1+cu121 CUDA:0 (NVIDIA GeForce RTX 3090, 24260MiB)\n",
      "Setup complete ✅ (32 CPUs, 62.5 GB RAM, 128.5/1876.2 GB disk)\n"
     ]
    }
   ],
   "source": [
    "# Pip install method (recommended)\n",
    "\n",
    "#%pip install ultralytics==8.0.20\n",
    "import os\n",
    "HOME = os.getcwd()\n",
    "print(HOME)\n",
    "\n",
    "from IPython import display\n",
    "display.clear_output()\n",
    "\n",
    "import ultralytics\n",
    "ultralytics.checks()\n",
    "\n",
    "from ultralytics import YOLO\n",
    "\n",
    "from IPython.display import display, Image"
   ]
  },
  {
   "cell_type": "code",
   "execution_count": 17,
   "metadata": {},
   "outputs": [
    {
     "name": "stdout",
     "output_type": "stream",
     "text": [
      "/home/esidserver/New_project_larvae\n"
     ]
    }
   ],
   "source": [
    "%cd {HOME}"
   ]
  },
  {
   "cell_type": "code",
   "execution_count": 18,
   "metadata": {},
   "outputs": [],
   "source": [
    "import comet_ml\n",
    "from roboflow import Roboflow\n",
    "from ultralytics import YOLO\n",
    "\n",
    "from IPython.display import display, Image"
   ]
  },
  {
   "cell_type": "code",
   "execution_count": 40,
   "metadata": {},
   "outputs": [
    {
     "name": "stdout",
     "output_type": "stream",
     "text": [
      "/home/esidserver/New_project_larvae\n",
      "YOLOv8n-cls summary: 99 layers, 2,719,288 parameters, 2,719,288 gradients, 4.4 GFLOPs\n",
      "YOLOv8n-cls summary: 99 layers, 2,719,288 parameters, 2,719,288 gradients, 4.4 GFLOPs\n",
      "Transferred 158/158 items from pretrained weights\n",
      "Ultralytics YOLOv8.2.78 🚀 Python-3.11.7 torch-2.1.1+cu121 CUDA:0 (NVIDIA GeForce RTX 3090, 24260MiB)\n",
      "\u001b[34m\u001b[1mengine/trainer: \u001b[0mtask=classify, mode=train, model=yolov8n-cls.yaml, data=/home/esidserver/datasets/testing_cls/swapvaltrain, epochs=250, time=None, patience=100, batch=16, imgsz=224, save=True, save_period=-1, cache=False, device=None, workers=8, project=None, name=train5, exist_ok=False, pretrained=yolov8n-cls.pt, optimizer=auto, verbose=True, seed=0, deterministic=True, single_cls=False, rect=False, cos_lr=False, close_mosaic=10, resume=False, amp=True, fraction=1.0, profile=False, freeze=None, multi_scale=False, overlap_mask=True, mask_ratio=4, dropout=0.0, val=True, split=val, save_json=False, save_hybrid=False, conf=None, iou=0.7, max_det=300, half=False, dnn=False, plots=True, source=None, vid_stride=1, stream_buffer=False, visualize=False, augment=False, agnostic_nms=False, classes=None, retina_masks=False, embed=None, show=False, save_frames=False, save_txt=False, save_conf=False, save_crop=False, show_labels=True, show_conf=True, show_boxes=True, line_width=None, format=torchscript, keras=False, optimize=False, int8=False, dynamic=False, simplify=False, opset=None, workspace=4, nms=False, lr0=0.01, lrf=0.01, momentum=0.937, weight_decay=0.0005, warmup_epochs=3.0, warmup_momentum=0.8, warmup_bias_lr=0.1, box=7.5, cls=0.5, dfl=1.5, pose=12.0, kobj=1.0, label_smoothing=0.0, nbs=64, hsv_h=0.015, hsv_s=0.7, hsv_v=0.4, degrees=0.0, translate=0.1, scale=0.5, shear=0.0, perspective=0.0, flipud=0.0, fliplr=0.5, bgr=0.0, mosaic=1.0, mixup=0.0, copy_paste=0.0, auto_augment=randaugment, erasing=0.4, crop_fraction=1.0, cfg=None, tracker=botsort.yaml, save_dir=runs/classify/train5\n",
      "\u001b[34m\u001b[1mtrain:\u001b[0m /home/esidserver/datasets/testing_cls/swapvaltrain/train... found 5193 images in 4 classes ✅ \n",
      "\u001b[34m\u001b[1mval:\u001b[0m /home/esidserver/datasets/testing_cls/swapvaltrain/val... found 1484 images in 4 classes ✅ \n",
      "\u001b[34m\u001b[1mtest:\u001b[0m /home/esidserver/datasets/testing_cls/swapvaltrain/test... found 740 images in 4 classes ✅ \n",
      "Overriding model.yaml nc=1000 with nc=4\n",
      "\n",
      "                   from  n    params  module                                       arguments                     \n",
      "  0                  -1  1       464  ultralytics.nn.modules.conv.Conv             [3, 16, 3, 2]                 \n",
      "  1                  -1  1      4672  ultralytics.nn.modules.conv.Conv             [16, 32, 3, 2]                \n",
      "  2                  -1  1      7360  ultralytics.nn.modules.block.C2f             [32, 32, 1, True]             \n",
      "  3                  -1  1     18560  ultralytics.nn.modules.conv.Conv             [32, 64, 3, 2]                \n",
      "  4                  -1  2     49664  ultralytics.nn.modules.block.C2f             [64, 64, 2, True]             \n",
      "  5                  -1  1     73984  ultralytics.nn.modules.conv.Conv             [64, 128, 3, 2]               \n",
      "  6                  -1  2    197632  ultralytics.nn.modules.block.C2f             [128, 128, 2, True]           \n",
      "  7                  -1  1    295424  ultralytics.nn.modules.conv.Conv             [128, 256, 3, 2]              \n",
      "  8                  -1  1    460288  ultralytics.nn.modules.block.C2f             [256, 256, 1, True]           \n",
      "  9                  -1  1    335364  ultralytics.nn.modules.head.Classify         [256, 4]                      \n",
      "YOLOv8n-cls summary: 99 layers, 1,443,412 parameters, 1,443,412 gradients, 3.4 GFLOPs\n",
      "Transferred 156/158 items from pretrained weights\n",
      "WARNING ⚠️ Comet installed but not initialized correctly, not logging this run. Comet.ml requires an API key. Please provide as the first argument to Experiment(api_key) or as an environment variable named COMET_API_KEY \n",
      "\u001b[34m\u001b[1mTensorBoard: \u001b[0mStart with 'tensorboard --logdir runs/classify/train5', view at http://localhost:6006/\n",
      "\u001b[34m\u001b[1mAMP: \u001b[0mrunning Automatic Mixed Precision (AMP) checks with YOLOv8n...\n",
      "\u001b[34m\u001b[1mAMP: \u001b[0mchecks passed ✅\n"
     ]
    },
    {
     "name": "stderr",
     "output_type": "stream",
     "text": [
      "\u001b[34m\u001b[1mtrain: \u001b[0mScanning /home/esidserver/datasets/testing_cls/swapvaltrain/train... 5193 images, 0 corrupt: 100%|██████████| 5193/5193 [00:02<00:00, 2052.63it/s]\n"
     ]
    },
    {
     "name": "stdout",
     "output_type": "stream",
     "text": [
      "\u001b[34m\u001b[1mtrain: \u001b[0mNew cache created: /home/esidserver/datasets/testing_cls/swapvaltrain/train.cache\n"
     ]
    },
    {
     "name": "stderr",
     "output_type": "stream",
     "text": [
      "\u001b[34m\u001b[1mval: \u001b[0mScanning /home/esidserver/datasets/testing_cls/swapvaltrain/val... 1484 images, 0 corrupt: 100%|██████████| 1484/1484 [00:00<?, ?it/s]\n"
     ]
    },
    {
     "name": "stdout",
     "output_type": "stream",
     "text": [
      "\u001b[34m\u001b[1moptimizer:\u001b[0m 'optimizer=auto' found, ignoring 'lr0=0.01' and 'momentum=0.937' and determining best 'optimizer', 'lr0' and 'momentum' automatically... \n",
      "\u001b[34m\u001b[1moptimizer:\u001b[0m SGD(lr=0.01, momentum=0.9) with parameter groups 26 weight(decay=0.0), 27 weight(decay=0.0005), 27 bias(decay=0.0)\n",
      "\u001b[34m\u001b[1mTensorBoard: \u001b[0mmodel graph visualization added ✅\n",
      "Image sizes 224 train, 224 val\n",
      "Using 8 dataloader workers\n",
      "Logging results to \u001b[1mruns/classify/train5\u001b[0m\n",
      "Starting training for 250 epochs...\n",
      "\n",
      "      Epoch    GPU_mem       loss  Instances       Size\n"
     ]
    },
    {
     "name": "stderr",
     "output_type": "stream",
     "text": [
      "      1/250     0.514G     0.8519          9        224: 100%|██████████| 325/325 [00:17<00:00, 18.78it/s]\n",
      "               classes   top1_acc   top5_acc: 100%|██████████| 47/47 [00:01<00:00, 28.10it/s]"
     ]
    },
    {
     "name": "stdout",
     "output_type": "stream",
     "text": [
      "                   all       0.85          1\n"
     ]
    },
    {
     "name": "stderr",
     "output_type": "stream",
     "text": [
      "\n"
     ]
    },
    {
     "name": "stdout",
     "output_type": "stream",
     "text": [
      "\n",
      "      Epoch    GPU_mem       loss  Instances       Size\n"
     ]
    },
    {
     "name": "stderr",
     "output_type": "stream",
     "text": [
      "      2/250     0.508G        0.5          9        224: 100%|██████████| 325/325 [00:18<00:00, 17.78it/s]\n",
      "               classes   top1_acc   top5_acc: 100%|██████████| 47/47 [00:01<00:00, 28.34it/s]"
     ]
    },
    {
     "name": "stdout",
     "output_type": "stream",
     "text": [
      "                   all      0.899          1\n"
     ]
    },
    {
     "name": "stderr",
     "output_type": "stream",
     "text": [
      "\n"
     ]
    },
    {
     "name": "stdout",
     "output_type": "stream",
     "text": [
      "\n",
      "      Epoch    GPU_mem       loss  Instances       Size\n"
     ]
    },
    {
     "name": "stderr",
     "output_type": "stream",
     "text": [
      "      3/250     0.508G     0.4974          9        224: 100%|██████████| 325/325 [00:17<00:00, 19.02it/s]\n",
      "               classes   top1_acc   top5_acc: 100%|██████████| 47/47 [00:01<00:00, 29.63it/s]"
     ]
    },
    {
     "name": "stdout",
     "output_type": "stream",
     "text": [
      "                   all      0.819          1\n"
     ]
    },
    {
     "name": "stderr",
     "output_type": "stream",
     "text": [
      "\n"
     ]
    },
    {
     "name": "stdout",
     "output_type": "stream",
     "text": [
      "\n",
      "      Epoch    GPU_mem       loss  Instances       Size\n"
     ]
    },
    {
     "name": "stderr",
     "output_type": "stream",
     "text": [
      "      4/250     0.505G     0.5485          9        224: 100%|██████████| 325/325 [00:16<00:00, 19.94it/s]\n",
      "               classes   top1_acc   top5_acc: 100%|██████████| 47/47 [00:01<00:00, 27.40it/s]"
     ]
    },
    {
     "name": "stdout",
     "output_type": "stream",
     "text": [
      "                   all      0.856          1\n"
     ]
    },
    {
     "name": "stderr",
     "output_type": "stream",
     "text": [
      "\n"
     ]
    },
    {
     "name": "stdout",
     "output_type": "stream",
     "text": [
      "\n",
      "      Epoch    GPU_mem       loss  Instances       Size\n"
     ]
    },
    {
     "name": "stderr",
     "output_type": "stream",
     "text": [
      "      5/250     0.508G     0.5184          9        224: 100%|██████████| 325/325 [00:16<00:00, 19.30it/s]\n",
      "               classes   top1_acc   top5_acc: 100%|██████████| 47/47 [00:01<00:00, 26.77it/s]"
     ]
    },
    {
     "name": "stdout",
     "output_type": "stream",
     "text": [
      "                   all      0.924          1\n"
     ]
    },
    {
     "name": "stderr",
     "output_type": "stream",
     "text": [
      "\n"
     ]
    },
    {
     "name": "stdout",
     "output_type": "stream",
     "text": [
      "\n",
      "      Epoch    GPU_mem       loss  Instances       Size\n"
     ]
    },
    {
     "name": "stderr",
     "output_type": "stream",
     "text": [
      "      6/250     0.508G     0.4692          9        224: 100%|██████████| 325/325 [00:16<00:00, 19.88it/s]\n",
      "               classes   top1_acc   top5_acc: 100%|██████████| 47/47 [00:01<00:00, 31.68it/s]"
     ]
    },
    {
     "name": "stdout",
     "output_type": "stream",
     "text": [
      "                   all      0.883          1\n"
     ]
    },
    {
     "name": "stderr",
     "output_type": "stream",
     "text": [
      "\n"
     ]
    },
    {
     "name": "stdout",
     "output_type": "stream",
     "text": [
      "\n",
      "      Epoch    GPU_mem       loss  Instances       Size\n"
     ]
    },
    {
     "name": "stderr",
     "output_type": "stream",
     "text": [
      "      7/250     0.508G      0.426          9        224: 100%|██████████| 325/325 [00:16<00:00, 19.91it/s]\n",
      "               classes   top1_acc   top5_acc: 100%|██████████| 47/47 [00:01<00:00, 28.14it/s]"
     ]
    },
    {
     "name": "stdout",
     "output_type": "stream",
     "text": [
      "                   all      0.904          1\n"
     ]
    },
    {
     "name": "stderr",
     "output_type": "stream",
     "text": [
      "\n"
     ]
    },
    {
     "name": "stdout",
     "output_type": "stream",
     "text": [
      "\n",
      "      Epoch    GPU_mem       loss  Instances       Size\n"
     ]
    },
    {
     "name": "stderr",
     "output_type": "stream",
     "text": [
      "      8/250     0.505G     0.3728          9        224: 100%|██████████| 325/325 [00:16<00:00, 20.06it/s]\n",
      "               classes   top1_acc   top5_acc: 100%|██████████| 47/47 [00:01<00:00, 26.85it/s]"
     ]
    },
    {
     "name": "stdout",
     "output_type": "stream",
     "text": [
      "                   all      0.927          1\n"
     ]
    },
    {
     "name": "stderr",
     "output_type": "stream",
     "text": [
      "\n"
     ]
    },
    {
     "name": "stdout",
     "output_type": "stream",
     "text": [
      "\n",
      "      Epoch    GPU_mem       loss  Instances       Size\n"
     ]
    },
    {
     "name": "stderr",
     "output_type": "stream",
     "text": [
      "      9/250     0.508G     0.3719          9        224: 100%|██████████| 325/325 [00:16<00:00, 19.82it/s]\n",
      "               classes   top1_acc   top5_acc: 100%|██████████| 47/47 [00:01<00:00, 30.13it/s]"
     ]
    },
    {
     "name": "stdout",
     "output_type": "stream",
     "text": [
      "                   all      0.944          1\n"
     ]
    },
    {
     "name": "stderr",
     "output_type": "stream",
     "text": [
      "\n"
     ]
    },
    {
     "name": "stdout",
     "output_type": "stream",
     "text": [
      "\n",
      "      Epoch    GPU_mem       loss  Instances       Size\n"
     ]
    },
    {
     "name": "stderr",
     "output_type": "stream",
     "text": [
      "     10/250     0.508G     0.3289          9        224: 100%|██████████| 325/325 [00:16<00:00, 20.26it/s]\n",
      "               classes   top1_acc   top5_acc: 100%|██████████| 47/47 [00:01<00:00, 29.15it/s]"
     ]
    },
    {
     "name": "stdout",
     "output_type": "stream",
     "text": [
      "                   all      0.932          1\n"
     ]
    },
    {
     "name": "stderr",
     "output_type": "stream",
     "text": [
      "\n"
     ]
    },
    {
     "name": "stdout",
     "output_type": "stream",
     "text": [
      "\n",
      "      Epoch    GPU_mem       loss  Instances       Size\n"
     ]
    },
    {
     "name": "stderr",
     "output_type": "stream",
     "text": [
      "     11/250     0.508G     0.3094          9        224: 100%|██████████| 325/325 [00:16<00:00, 19.88it/s]\n",
      "               classes   top1_acc   top5_acc: 100%|██████████| 47/47 [00:01<00:00, 28.95it/s]"
     ]
    },
    {
     "name": "stdout",
     "output_type": "stream",
     "text": [
      "                   all      0.946          1\n"
     ]
    },
    {
     "name": "stderr",
     "output_type": "stream",
     "text": [
      "\n"
     ]
    },
    {
     "name": "stdout",
     "output_type": "stream",
     "text": [
      "\n",
      "      Epoch    GPU_mem       loss  Instances       Size\n"
     ]
    },
    {
     "name": "stderr",
     "output_type": "stream",
     "text": [
      "     12/250     0.505G     0.3126          9        224: 100%|██████████| 325/325 [00:17<00:00, 18.85it/s]\n",
      "               classes   top1_acc   top5_acc: 100%|██████████| 47/47 [00:01<00:00, 28.18it/s]"
     ]
    },
    {
     "name": "stdout",
     "output_type": "stream",
     "text": [
      "                   all      0.947          1\n"
     ]
    },
    {
     "name": "stderr",
     "output_type": "stream",
     "text": [
      "\n"
     ]
    },
    {
     "name": "stdout",
     "output_type": "stream",
     "text": [
      "\n",
      "      Epoch    GPU_mem       loss  Instances       Size\n"
     ]
    },
    {
     "name": "stderr",
     "output_type": "stream",
     "text": [
      "     13/250     0.508G     0.2905          9        224: 100%|██████████| 325/325 [00:15<00:00, 20.53it/s]\n",
      "               classes   top1_acc   top5_acc: 100%|██████████| 47/47 [00:01<00:00, 28.66it/s]"
     ]
    },
    {
     "name": "stdout",
     "output_type": "stream",
     "text": [
      "                   all      0.956          1\n"
     ]
    },
    {
     "name": "stderr",
     "output_type": "stream",
     "text": [
      "\n"
     ]
    },
    {
     "name": "stdout",
     "output_type": "stream",
     "text": [
      "\n",
      "      Epoch    GPU_mem       loss  Instances       Size\n"
     ]
    },
    {
     "name": "stderr",
     "output_type": "stream",
     "text": [
      "     14/250     0.508G     0.2646          9        224: 100%|██████████| 325/325 [00:16<00:00, 19.51it/s]\n",
      "               classes   top1_acc   top5_acc: 100%|██████████| 47/47 [00:01<00:00, 27.63it/s]"
     ]
    },
    {
     "name": "stdout",
     "output_type": "stream",
     "text": [
      "                   all      0.951          1\n"
     ]
    },
    {
     "name": "stderr",
     "output_type": "stream",
     "text": [
      "\n"
     ]
    },
    {
     "name": "stdout",
     "output_type": "stream",
     "text": [
      "\n",
      "      Epoch    GPU_mem       loss  Instances       Size\n"
     ]
    },
    {
     "name": "stderr",
     "output_type": "stream",
     "text": [
      "     15/250     0.508G     0.2625          9        224: 100%|██████████| 325/325 [00:17<00:00, 19.06it/s]\n",
      "               classes   top1_acc   top5_acc: 100%|██████████| 47/47 [00:01<00:00, 28.20it/s]"
     ]
    },
    {
     "name": "stdout",
     "output_type": "stream",
     "text": [
      "                   all      0.947          1\n"
     ]
    },
    {
     "name": "stderr",
     "output_type": "stream",
     "text": [
      "\n"
     ]
    },
    {
     "name": "stdout",
     "output_type": "stream",
     "text": [
      "\n",
      "      Epoch    GPU_mem       loss  Instances       Size\n"
     ]
    },
    {
     "name": "stderr",
     "output_type": "stream",
     "text": [
      "     16/250     0.505G     0.2501          9        224: 100%|██████████| 325/325 [00:16<00:00, 19.93it/s]\n",
      "               classes   top1_acc   top5_acc: 100%|██████████| 47/47 [00:01<00:00, 29.44it/s]"
     ]
    },
    {
     "name": "stdout",
     "output_type": "stream",
     "text": [
      "                   all      0.966          1\n"
     ]
    },
    {
     "name": "stderr",
     "output_type": "stream",
     "text": [
      "\n"
     ]
    },
    {
     "name": "stdout",
     "output_type": "stream",
     "text": [
      "\n",
      "      Epoch    GPU_mem       loss  Instances       Size\n"
     ]
    },
    {
     "name": "stderr",
     "output_type": "stream",
     "text": [
      "     17/250     0.508G      0.232          9        224: 100%|██████████| 325/325 [00:16<00:00, 19.37it/s]\n",
      "               classes   top1_acc   top5_acc: 100%|██████████| 47/47 [00:01<00:00, 27.80it/s]"
     ]
    },
    {
     "name": "stdout",
     "output_type": "stream",
     "text": [
      "                   all      0.976          1\n"
     ]
    },
    {
     "name": "stderr",
     "output_type": "stream",
     "text": [
      "\n"
     ]
    },
    {
     "name": "stdout",
     "output_type": "stream",
     "text": [
      "\n",
      "      Epoch    GPU_mem       loss  Instances       Size\n"
     ]
    },
    {
     "name": "stderr",
     "output_type": "stream",
     "text": [
      "     18/250     0.508G     0.2325          9        224: 100%|██████████| 325/325 [00:17<00:00, 18.79it/s]\n",
      "               classes   top1_acc   top5_acc: 100%|██████████| 47/47 [00:01<00:00, 28.26it/s]"
     ]
    },
    {
     "name": "stdout",
     "output_type": "stream",
     "text": [
      "                   all      0.972          1\n"
     ]
    },
    {
     "name": "stderr",
     "output_type": "stream",
     "text": [
      "\n"
     ]
    },
    {
     "name": "stdout",
     "output_type": "stream",
     "text": [
      "\n",
      "      Epoch    GPU_mem       loss  Instances       Size\n"
     ]
    },
    {
     "name": "stderr",
     "output_type": "stream",
     "text": [
      "     19/250     0.508G     0.2092          9        224: 100%|██████████| 325/325 [00:17<00:00, 18.37it/s]\n",
      "               classes   top1_acc   top5_acc: 100%|██████████| 47/47 [00:01<00:00, 27.12it/s]"
     ]
    },
    {
     "name": "stdout",
     "output_type": "stream",
     "text": [
      "                   all      0.966          1\n"
     ]
    },
    {
     "name": "stderr",
     "output_type": "stream",
     "text": [
      "\n"
     ]
    },
    {
     "name": "stdout",
     "output_type": "stream",
     "text": [
      "\n",
      "      Epoch    GPU_mem       loss  Instances       Size\n"
     ]
    },
    {
     "name": "stderr",
     "output_type": "stream",
     "text": [
      "     20/250     0.505G     0.2183          9        224: 100%|██████████| 325/325 [00:16<00:00, 20.05it/s]\n",
      "               classes   top1_acc   top5_acc: 100%|██████████| 47/47 [00:01<00:00, 29.31it/s]\n"
     ]
    },
    {
     "name": "stdout",
     "output_type": "stream",
     "text": [
      "                   all      0.972          1\n",
      "\n",
      "      Epoch    GPU_mem       loss  Instances       Size\n"
     ]
    },
    {
     "name": "stderr",
     "output_type": "stream",
     "text": [
      "     21/250     0.508G     0.1963          9        224: 100%|██████████| 325/325 [00:16<00:00, 19.70it/s]\n",
      "               classes   top1_acc   top5_acc: 100%|██████████| 47/47 [00:01<00:00, 27.70it/s]"
     ]
    },
    {
     "name": "stdout",
     "output_type": "stream",
     "text": [
      "                   all      0.973          1\n"
     ]
    },
    {
     "name": "stderr",
     "output_type": "stream",
     "text": [
      "\n"
     ]
    },
    {
     "name": "stdout",
     "output_type": "stream",
     "text": [
      "\n",
      "      Epoch    GPU_mem       loss  Instances       Size\n"
     ]
    },
    {
     "name": "stderr",
     "output_type": "stream",
     "text": [
      "     22/250     0.508G     0.2027          9        224: 100%|██████████| 325/325 [00:17<00:00, 18.59it/s]\n",
      "               classes   top1_acc   top5_acc: 100%|██████████| 47/47 [00:01<00:00, 30.11it/s]"
     ]
    },
    {
     "name": "stdout",
     "output_type": "stream",
     "text": [
      "                   all      0.976          1\n"
     ]
    },
    {
     "name": "stderr",
     "output_type": "stream",
     "text": [
      "\n"
     ]
    },
    {
     "name": "stdout",
     "output_type": "stream",
     "text": [
      "\n",
      "      Epoch    GPU_mem       loss  Instances       Size\n"
     ]
    },
    {
     "name": "stderr",
     "output_type": "stream",
     "text": [
      "     23/250     0.508G     0.1666          9        224: 100%|██████████| 325/325 [00:16<00:00, 19.50it/s]\n",
      "               classes   top1_acc   top5_acc: 100%|██████████| 47/47 [00:01<00:00, 28.15it/s]"
     ]
    },
    {
     "name": "stdout",
     "output_type": "stream",
     "text": [
      "                   all      0.977          1\n"
     ]
    },
    {
     "name": "stderr",
     "output_type": "stream",
     "text": [
      "\n"
     ]
    },
    {
     "name": "stdout",
     "output_type": "stream",
     "text": [
      "\n",
      "      Epoch    GPU_mem       loss  Instances       Size\n"
     ]
    },
    {
     "name": "stderr",
     "output_type": "stream",
     "text": [
      "     24/250     0.505G     0.2012          9        224: 100%|██████████| 325/325 [00:16<00:00, 19.17it/s]\n",
      "               classes   top1_acc   top5_acc: 100%|██████████| 47/47 [00:01<00:00, 29.74it/s]"
     ]
    },
    {
     "name": "stdout",
     "output_type": "stream",
     "text": [
      "                   all      0.974          1\n"
     ]
    },
    {
     "name": "stderr",
     "output_type": "stream",
     "text": [
      "\n"
     ]
    },
    {
     "name": "stdout",
     "output_type": "stream",
     "text": [
      "\n",
      "      Epoch    GPU_mem       loss  Instances       Size\n"
     ]
    },
    {
     "name": "stderr",
     "output_type": "stream",
     "text": [
      "     25/250     0.508G     0.1933          9        224: 100%|██████████| 325/325 [00:16<00:00, 19.34it/s]\n",
      "               classes   top1_acc   top5_acc: 100%|██████████| 47/47 [00:01<00:00, 29.92it/s]"
     ]
    },
    {
     "name": "stdout",
     "output_type": "stream",
     "text": [
      "                   all      0.972          1\n"
     ]
    },
    {
     "name": "stderr",
     "output_type": "stream",
     "text": [
      "\n"
     ]
    },
    {
     "name": "stdout",
     "output_type": "stream",
     "text": [
      "\n",
      "      Epoch    GPU_mem       loss  Instances       Size\n"
     ]
    },
    {
     "name": "stderr",
     "output_type": "stream",
     "text": [
      "     26/250     0.508G     0.1918          9        224: 100%|██████████| 325/325 [00:16<00:00, 19.55it/s]\n",
      "               classes   top1_acc   top5_acc: 100%|██████████| 47/47 [00:01<00:00, 27.89it/s]"
     ]
    },
    {
     "name": "stdout",
     "output_type": "stream",
     "text": [
      "                   all      0.967          1\n"
     ]
    },
    {
     "name": "stderr",
     "output_type": "stream",
     "text": [
      "\n"
     ]
    },
    {
     "name": "stdout",
     "output_type": "stream",
     "text": [
      "\n",
      "      Epoch    GPU_mem       loss  Instances       Size\n"
     ]
    },
    {
     "name": "stderr",
     "output_type": "stream",
     "text": [
      "     27/250     0.508G     0.1864          9        224: 100%|██████████| 325/325 [00:18<00:00, 17.60it/s]\n",
      "               classes   top1_acc   top5_acc: 100%|██████████| 47/47 [00:01<00:00, 29.28it/s]"
     ]
    },
    {
     "name": "stdout",
     "output_type": "stream",
     "text": [
      "                   all      0.979          1\n"
     ]
    },
    {
     "name": "stderr",
     "output_type": "stream",
     "text": [
      "\n"
     ]
    },
    {
     "name": "stdout",
     "output_type": "stream",
     "text": [
      "\n",
      "      Epoch    GPU_mem       loss  Instances       Size\n"
     ]
    },
    {
     "name": "stderr",
     "output_type": "stream",
     "text": [
      "     28/250     0.505G     0.1795          9        224: 100%|██████████| 325/325 [00:15<00:00, 20.97it/s]\n",
      "               classes   top1_acc   top5_acc: 100%|██████████| 47/47 [00:01<00:00, 29.13it/s]"
     ]
    },
    {
     "name": "stdout",
     "output_type": "stream",
     "text": [
      "                   all       0.97          1\n"
     ]
    },
    {
     "name": "stderr",
     "output_type": "stream",
     "text": [
      "\n"
     ]
    },
    {
     "name": "stdout",
     "output_type": "stream",
     "text": [
      "\n",
      "      Epoch    GPU_mem       loss  Instances       Size\n"
     ]
    },
    {
     "name": "stderr",
     "output_type": "stream",
     "text": [
      "     29/250     0.508G     0.1669          9        224: 100%|██████████| 325/325 [00:17<00:00, 18.15it/s]\n",
      "               classes   top1_acc   top5_acc: 100%|██████████| 47/47 [00:01<00:00, 30.18it/s]"
     ]
    },
    {
     "name": "stdout",
     "output_type": "stream",
     "text": [
      "                   all      0.975          1\n"
     ]
    },
    {
     "name": "stderr",
     "output_type": "stream",
     "text": [
      "\n"
     ]
    },
    {
     "name": "stdout",
     "output_type": "stream",
     "text": [
      "\n",
      "      Epoch    GPU_mem       loss  Instances       Size\n"
     ]
    },
    {
     "name": "stderr",
     "output_type": "stream",
     "text": [
      "     30/250     0.508G     0.1768          9        224: 100%|██████████| 325/325 [00:16<00:00, 19.40it/s]\n",
      "               classes   top1_acc   top5_acc: 100%|██████████| 47/47 [00:01<00:00, 29.01it/s]"
     ]
    },
    {
     "name": "stdout",
     "output_type": "stream",
     "text": [
      "                   all      0.976          1\n"
     ]
    },
    {
     "name": "stderr",
     "output_type": "stream",
     "text": [
      "\n"
     ]
    },
    {
     "name": "stdout",
     "output_type": "stream",
     "text": [
      "\n",
      "      Epoch    GPU_mem       loss  Instances       Size\n"
     ]
    },
    {
     "name": "stderr",
     "output_type": "stream",
     "text": [
      "     31/250     0.508G     0.1796          9        224: 100%|██████████| 325/325 [00:14<00:00, 23.18it/s]\n",
      "               classes   top1_acc   top5_acc: 100%|██████████| 47/47 [00:01<00:00, 29.57it/s]"
     ]
    },
    {
     "name": "stdout",
     "output_type": "stream",
     "text": [
      "                   all      0.985          1\n"
     ]
    },
    {
     "name": "stderr",
     "output_type": "stream",
     "text": [
      "\n"
     ]
    },
    {
     "name": "stdout",
     "output_type": "stream",
     "text": [
      "\n",
      "      Epoch    GPU_mem       loss  Instances       Size\n"
     ]
    },
    {
     "name": "stderr",
     "output_type": "stream",
     "text": [
      "     32/250     0.508G     0.1837          9        224: 100%|██████████| 325/325 [00:15<00:00, 21.27it/s]\n",
      "               classes   top1_acc   top5_acc: 100%|██████████| 47/47 [00:01<00:00, 30.06it/s]"
     ]
    },
    {
     "name": "stdout",
     "output_type": "stream",
     "text": [
      "                   all      0.981          1\n"
     ]
    },
    {
     "name": "stderr",
     "output_type": "stream",
     "text": [
      "\n"
     ]
    },
    {
     "name": "stdout",
     "output_type": "stream",
     "text": [
      "\n",
      "      Epoch    GPU_mem       loss  Instances       Size\n"
     ]
    },
    {
     "name": "stderr",
     "output_type": "stream",
     "text": [
      "     33/250     0.508G     0.1688          9        224: 100%|██████████| 325/325 [00:15<00:00, 20.79it/s]\n",
      "               classes   top1_acc   top5_acc: 100%|██████████| 47/47 [00:01<00:00, 29.67it/s]"
     ]
    },
    {
     "name": "stdout",
     "output_type": "stream",
     "text": [
      "                   all      0.983          1\n"
     ]
    },
    {
     "name": "stderr",
     "output_type": "stream",
     "text": [
      "\n"
     ]
    },
    {
     "name": "stdout",
     "output_type": "stream",
     "text": [
      "\n",
      "      Epoch    GPU_mem       loss  Instances       Size\n"
     ]
    },
    {
     "name": "stderr",
     "output_type": "stream",
     "text": [
      "     34/250     0.508G     0.1467          9        224: 100%|██████████| 325/325 [00:17<00:00, 18.59it/s]\n",
      "               classes   top1_acc   top5_acc: 100%|██████████| 47/47 [00:01<00:00, 29.55it/s]"
     ]
    },
    {
     "name": "stdout",
     "output_type": "stream",
     "text": [
      "                   all      0.988          1\n"
     ]
    },
    {
     "name": "stderr",
     "output_type": "stream",
     "text": [
      "\n"
     ]
    },
    {
     "name": "stdout",
     "output_type": "stream",
     "text": [
      "\n",
      "      Epoch    GPU_mem       loss  Instances       Size\n"
     ]
    },
    {
     "name": "stderr",
     "output_type": "stream",
     "text": [
      "     35/250     0.508G     0.1628          9        224: 100%|██████████| 325/325 [00:17<00:00, 19.11it/s]\n",
      "               classes   top1_acc   top5_acc: 100%|██████████| 47/47 [00:01<00:00, 30.04it/s]"
     ]
    },
    {
     "name": "stdout",
     "output_type": "stream",
     "text": [
      "                   all       0.98          1\n"
     ]
    },
    {
     "name": "stderr",
     "output_type": "stream",
     "text": [
      "\n"
     ]
    },
    {
     "name": "stdout",
     "output_type": "stream",
     "text": [
      "\n",
      "      Epoch    GPU_mem       loss  Instances       Size\n"
     ]
    },
    {
     "name": "stderr",
     "output_type": "stream",
     "text": [
      "     36/250     0.505G     0.1407          9        224: 100%|██████████| 325/325 [00:15<00:00, 20.65it/s]\n",
      "               classes   top1_acc   top5_acc: 100%|██████████| 47/47 [00:01<00:00, 28.04it/s]"
     ]
    },
    {
     "name": "stdout",
     "output_type": "stream",
     "text": [
      "                   all      0.984          1\n"
     ]
    },
    {
     "name": "stderr",
     "output_type": "stream",
     "text": [
      "\n"
     ]
    },
    {
     "name": "stdout",
     "output_type": "stream",
     "text": [
      "\n",
      "      Epoch    GPU_mem       loss  Instances       Size\n"
     ]
    },
    {
     "name": "stderr",
     "output_type": "stream",
     "text": [
      "     37/250     0.508G     0.1687          9        224: 100%|██████████| 325/325 [00:16<00:00, 20.08it/s]\n",
      "               classes   top1_acc   top5_acc: 100%|██████████| 47/47 [00:01<00:00, 28.10it/s]"
     ]
    },
    {
     "name": "stdout",
     "output_type": "stream",
     "text": [
      "                   all       0.99          1\n"
     ]
    },
    {
     "name": "stderr",
     "output_type": "stream",
     "text": [
      "\n"
     ]
    },
    {
     "name": "stdout",
     "output_type": "stream",
     "text": [
      "\n",
      "      Epoch    GPU_mem       loss  Instances       Size\n"
     ]
    },
    {
     "name": "stderr",
     "output_type": "stream",
     "text": [
      "     38/250     0.508G     0.1411          9        224: 100%|██████████| 325/325 [00:16<00:00, 19.72it/s]\n",
      "               classes   top1_acc   top5_acc: 100%|██████████| 47/47 [00:01<00:00, 29.19it/s]"
     ]
    },
    {
     "name": "stdout",
     "output_type": "stream",
     "text": [
      "                   all      0.983          1\n"
     ]
    },
    {
     "name": "stderr",
     "output_type": "stream",
     "text": [
      "\n"
     ]
    },
    {
     "name": "stdout",
     "output_type": "stream",
     "text": [
      "\n",
      "      Epoch    GPU_mem       loss  Instances       Size\n"
     ]
    },
    {
     "name": "stderr",
     "output_type": "stream",
     "text": [
      "     39/250     0.508G      0.148          9        224: 100%|██████████| 325/325 [00:17<00:00, 18.56it/s]\n",
      "               classes   top1_acc   top5_acc: 100%|██████████| 47/47 [00:01<00:00, 28.17it/s]"
     ]
    },
    {
     "name": "stdout",
     "output_type": "stream",
     "text": [
      "                   all      0.993          1\n"
     ]
    },
    {
     "name": "stderr",
     "output_type": "stream",
     "text": [
      "\n"
     ]
    },
    {
     "name": "stdout",
     "output_type": "stream",
     "text": [
      "\n",
      "      Epoch    GPU_mem       loss  Instances       Size\n"
     ]
    },
    {
     "name": "stderr",
     "output_type": "stream",
     "text": [
      "     40/250     0.508G     0.1314          9        224: 100%|██████████| 325/325 [00:17<00:00, 18.14it/s]\n",
      "               classes   top1_acc   top5_acc: 100%|██████████| 47/47 [00:01<00:00, 30.35it/s]"
     ]
    },
    {
     "name": "stdout",
     "output_type": "stream",
     "text": [
      "                   all      0.987          1\n"
     ]
    },
    {
     "name": "stderr",
     "output_type": "stream",
     "text": [
      "\n"
     ]
    },
    {
     "name": "stdout",
     "output_type": "stream",
     "text": [
      "\n",
      "      Epoch    GPU_mem       loss  Instances       Size\n"
     ]
    },
    {
     "name": "stderr",
     "output_type": "stream",
     "text": [
      "     41/250     0.508G     0.1311          9        224: 100%|██████████| 325/325 [00:16<00:00, 19.78it/s]\n",
      "               classes   top1_acc   top5_acc: 100%|██████████| 47/47 [00:01<00:00, 29.27it/s]"
     ]
    },
    {
     "name": "stdout",
     "output_type": "stream",
     "text": [
      "                   all      0.986          1\n"
     ]
    },
    {
     "name": "stderr",
     "output_type": "stream",
     "text": [
      "\n"
     ]
    },
    {
     "name": "stdout",
     "output_type": "stream",
     "text": [
      "\n",
      "      Epoch    GPU_mem       loss  Instances       Size\n"
     ]
    },
    {
     "name": "stderr",
     "output_type": "stream",
     "text": [
      "     42/250     0.508G     0.1354          9        224: 100%|██████████| 325/325 [00:16<00:00, 19.72it/s]\n",
      "               classes   top1_acc   top5_acc: 100%|██████████| 47/47 [00:01<00:00, 29.73it/s]"
     ]
    },
    {
     "name": "stdout",
     "output_type": "stream",
     "text": [
      "                   all      0.991          1\n"
     ]
    },
    {
     "name": "stderr",
     "output_type": "stream",
     "text": [
      "\n"
     ]
    },
    {
     "name": "stdout",
     "output_type": "stream",
     "text": [
      "\n",
      "      Epoch    GPU_mem       loss  Instances       Size\n"
     ]
    },
    {
     "name": "stderr",
     "output_type": "stream",
     "text": [
      "     43/250     0.508G     0.1412          9        224: 100%|██████████| 325/325 [00:18<00:00, 18.01it/s]\n",
      "               classes   top1_acc   top5_acc: 100%|██████████| 47/47 [00:01<00:00, 28.06it/s]"
     ]
    },
    {
     "name": "stdout",
     "output_type": "stream",
     "text": [
      "                   all      0.991          1\n"
     ]
    },
    {
     "name": "stderr",
     "output_type": "stream",
     "text": [
      "\n"
     ]
    },
    {
     "name": "stdout",
     "output_type": "stream",
     "text": [
      "\n",
      "      Epoch    GPU_mem       loss  Instances       Size\n"
     ]
    },
    {
     "name": "stderr",
     "output_type": "stream",
     "text": [
      "     44/250     0.505G     0.1285          9        224: 100%|██████████| 325/325 [00:17<00:00, 19.11it/s]\n",
      "               classes   top1_acc   top5_acc: 100%|██████████| 47/47 [00:01<00:00, 28.33it/s]"
     ]
    },
    {
     "name": "stdout",
     "output_type": "stream",
     "text": [
      "                   all      0.985          1\n"
     ]
    },
    {
     "name": "stderr",
     "output_type": "stream",
     "text": [
      "\n"
     ]
    },
    {
     "name": "stdout",
     "output_type": "stream",
     "text": [
      "\n",
      "      Epoch    GPU_mem       loss  Instances       Size\n"
     ]
    },
    {
     "name": "stderr",
     "output_type": "stream",
     "text": [
      "     45/250     0.508G     0.1333          9        224: 100%|██████████| 325/325 [00:16<00:00, 19.48it/s]\n",
      "               classes   top1_acc   top5_acc: 100%|██████████| 47/47 [00:01<00:00, 28.71it/s]"
     ]
    },
    {
     "name": "stdout",
     "output_type": "stream",
     "text": [
      "                   all      0.989          1\n"
     ]
    },
    {
     "name": "stderr",
     "output_type": "stream",
     "text": [
      "\n"
     ]
    },
    {
     "name": "stdout",
     "output_type": "stream",
     "text": [
      "\n",
      "      Epoch    GPU_mem       loss  Instances       Size\n"
     ]
    },
    {
     "name": "stderr",
     "output_type": "stream",
     "text": [
      "     46/250     0.508G     0.1208          9        224: 100%|██████████| 325/325 [00:17<00:00, 18.45it/s]\n",
      "               classes   top1_acc   top5_acc: 100%|██████████| 47/47 [00:01<00:00, 28.69it/s]"
     ]
    },
    {
     "name": "stdout",
     "output_type": "stream",
     "text": [
      "                   all      0.991          1\n"
     ]
    },
    {
     "name": "stderr",
     "output_type": "stream",
     "text": [
      "\n"
     ]
    },
    {
     "name": "stdout",
     "output_type": "stream",
     "text": [
      "\n",
      "      Epoch    GPU_mem       loss  Instances       Size\n"
     ]
    },
    {
     "name": "stderr",
     "output_type": "stream",
     "text": [
      "     47/250     0.508G     0.1387          9        224: 100%|██████████| 325/325 [00:17<00:00, 18.81it/s]\n",
      "               classes   top1_acc   top5_acc: 100%|██████████| 47/47 [00:01<00:00, 28.64it/s]"
     ]
    },
    {
     "name": "stdout",
     "output_type": "stream",
     "text": [
      "                   all      0.987          1\n"
     ]
    },
    {
     "name": "stderr",
     "output_type": "stream",
     "text": [
      "\n"
     ]
    },
    {
     "name": "stdout",
     "output_type": "stream",
     "text": [
      "\n",
      "      Epoch    GPU_mem       loss  Instances       Size\n"
     ]
    },
    {
     "name": "stderr",
     "output_type": "stream",
     "text": [
      "     48/250     0.508G     0.1167          9        224: 100%|██████████| 325/325 [00:17<00:00, 18.66it/s]\n",
      "               classes   top1_acc   top5_acc: 100%|██████████| 47/47 [00:01<00:00, 29.63it/s]"
     ]
    },
    {
     "name": "stdout",
     "output_type": "stream",
     "text": [
      "                   all      0.988          1\n"
     ]
    },
    {
     "name": "stderr",
     "output_type": "stream",
     "text": [
      "\n"
     ]
    },
    {
     "name": "stdout",
     "output_type": "stream",
     "text": [
      "\n",
      "      Epoch    GPU_mem       loss  Instances       Size\n"
     ]
    },
    {
     "name": "stderr",
     "output_type": "stream",
     "text": [
      "     49/250     0.508G     0.1283          9        224: 100%|██████████| 325/325 [00:17<00:00, 18.56it/s]\n",
      "               classes   top1_acc   top5_acc: 100%|██████████| 47/47 [00:01<00:00, 29.02it/s]"
     ]
    },
    {
     "name": "stdout",
     "output_type": "stream",
     "text": [
      "                   all       0.99          1\n"
     ]
    },
    {
     "name": "stderr",
     "output_type": "stream",
     "text": [
      "\n"
     ]
    },
    {
     "name": "stdout",
     "output_type": "stream",
     "text": [
      "\n",
      "      Epoch    GPU_mem       loss  Instances       Size\n"
     ]
    },
    {
     "name": "stderr",
     "output_type": "stream",
     "text": [
      "     50/250     0.508G     0.1183          9        224: 100%|██████████| 325/325 [00:18<00:00, 17.90it/s]\n",
      "               classes   top1_acc   top5_acc: 100%|██████████| 47/47 [00:01<00:00, 28.63it/s]"
     ]
    },
    {
     "name": "stdout",
     "output_type": "stream",
     "text": [
      "                   all      0.989          1\n"
     ]
    },
    {
     "name": "stderr",
     "output_type": "stream",
     "text": [
      "\n"
     ]
    },
    {
     "name": "stdout",
     "output_type": "stream",
     "text": [
      "\n",
      "      Epoch    GPU_mem       loss  Instances       Size\n"
     ]
    },
    {
     "name": "stderr",
     "output_type": "stream",
     "text": [
      "     51/250     0.508G     0.1385          9        224: 100%|██████████| 325/325 [00:15<00:00, 21.36it/s]\n",
      "               classes   top1_acc   top5_acc: 100%|██████████| 47/47 [00:01<00:00, 28.81it/s]"
     ]
    },
    {
     "name": "stdout",
     "output_type": "stream",
     "text": [
      "                   all      0.991          1\n"
     ]
    },
    {
     "name": "stderr",
     "output_type": "stream",
     "text": [
      "\n"
     ]
    },
    {
     "name": "stdout",
     "output_type": "stream",
     "text": [
      "\n",
      "      Epoch    GPU_mem       loss  Instances       Size\n"
     ]
    },
    {
     "name": "stderr",
     "output_type": "stream",
     "text": [
      "     52/250     0.505G     0.1207          9        224: 100%|██████████| 325/325 [00:17<00:00, 19.05it/s]\n",
      "               classes   top1_acc   top5_acc: 100%|██████████| 47/47 [00:01<00:00, 29.56it/s]"
     ]
    },
    {
     "name": "stdout",
     "output_type": "stream",
     "text": [
      "                   all      0.987          1\n"
     ]
    },
    {
     "name": "stderr",
     "output_type": "stream",
     "text": [
      "\n"
     ]
    },
    {
     "name": "stdout",
     "output_type": "stream",
     "text": [
      "\n",
      "      Epoch    GPU_mem       loss  Instances       Size\n"
     ]
    },
    {
     "name": "stderr",
     "output_type": "stream",
     "text": [
      "     53/250     0.508G     0.1154          9        224: 100%|██████████| 325/325 [00:18<00:00, 17.70it/s]\n",
      "               classes   top1_acc   top5_acc: 100%|██████████| 47/47 [00:01<00:00, 28.46it/s]"
     ]
    },
    {
     "name": "stdout",
     "output_type": "stream",
     "text": [
      "                   all      0.991          1\n"
     ]
    },
    {
     "name": "stderr",
     "output_type": "stream",
     "text": [
      "\n"
     ]
    },
    {
     "name": "stdout",
     "output_type": "stream",
     "text": [
      "\n",
      "      Epoch    GPU_mem       loss  Instances       Size\n"
     ]
    },
    {
     "name": "stderr",
     "output_type": "stream",
     "text": [
      "     54/250     0.508G     0.1171          9        224: 100%|██████████| 325/325 [00:18<00:00, 17.34it/s]\n",
      "               classes   top1_acc   top5_acc: 100%|██████████| 47/47 [00:01<00:00, 28.88it/s]"
     ]
    },
    {
     "name": "stdout",
     "output_type": "stream",
     "text": [
      "                   all      0.988          1\n"
     ]
    },
    {
     "name": "stderr",
     "output_type": "stream",
     "text": [
      "\n"
     ]
    },
    {
     "name": "stdout",
     "output_type": "stream",
     "text": [
      "\n",
      "      Epoch    GPU_mem       loss  Instances       Size\n"
     ]
    },
    {
     "name": "stderr",
     "output_type": "stream",
     "text": [
      "     55/250     0.508G     0.1215          9        224: 100%|██████████| 325/325 [00:16<00:00, 19.40it/s]\n",
      "               classes   top1_acc   top5_acc: 100%|██████████| 47/47 [00:01<00:00, 30.01it/s]"
     ]
    },
    {
     "name": "stdout",
     "output_type": "stream",
     "text": [
      "                   all      0.993          1\n"
     ]
    },
    {
     "name": "stderr",
     "output_type": "stream",
     "text": [
      "\n"
     ]
    },
    {
     "name": "stdout",
     "output_type": "stream",
     "text": [
      "\n",
      "      Epoch    GPU_mem       loss  Instances       Size\n"
     ]
    },
    {
     "name": "stderr",
     "output_type": "stream",
     "text": [
      "     56/250     0.505G      0.119          9        224: 100%|██████████| 325/325 [00:18<00:00, 17.75it/s]\n",
      "               classes   top1_acc   top5_acc: 100%|██████████| 47/47 [00:01<00:00, 29.59it/s]"
     ]
    },
    {
     "name": "stdout",
     "output_type": "stream",
     "text": [
      "                   all      0.989          1\n"
     ]
    },
    {
     "name": "stderr",
     "output_type": "stream",
     "text": [
      "\n"
     ]
    },
    {
     "name": "stdout",
     "output_type": "stream",
     "text": [
      "\n",
      "      Epoch    GPU_mem       loss  Instances       Size\n"
     ]
    },
    {
     "name": "stderr",
     "output_type": "stream",
     "text": [
      "     57/250     0.508G     0.1146          9        224: 100%|██████████| 325/325 [00:17<00:00, 18.19it/s]\n",
      "               classes   top1_acc   top5_acc: 100%|██████████| 47/47 [00:01<00:00, 26.47it/s]"
     ]
    },
    {
     "name": "stdout",
     "output_type": "stream",
     "text": [
      "                   all      0.989          1\n"
     ]
    },
    {
     "name": "stderr",
     "output_type": "stream",
     "text": [
      "\n"
     ]
    },
    {
     "name": "stdout",
     "output_type": "stream",
     "text": [
      "\n",
      "      Epoch    GPU_mem       loss  Instances       Size\n"
     ]
    },
    {
     "name": "stderr",
     "output_type": "stream",
     "text": [
      "     58/250     0.508G     0.1116          9        224: 100%|██████████| 325/325 [00:15<00:00, 20.45it/s]\n",
      "               classes   top1_acc   top5_acc: 100%|██████████| 47/47 [00:01<00:00, 27.81it/s]"
     ]
    },
    {
     "name": "stdout",
     "output_type": "stream",
     "text": [
      "                   all      0.986          1\n"
     ]
    },
    {
     "name": "stderr",
     "output_type": "stream",
     "text": [
      "\n"
     ]
    },
    {
     "name": "stdout",
     "output_type": "stream",
     "text": [
      "\n",
      "      Epoch    GPU_mem       loss  Instances       Size\n"
     ]
    },
    {
     "name": "stderr",
     "output_type": "stream",
     "text": [
      "     59/250     0.508G     0.1194          9        224: 100%|██████████| 325/325 [00:15<00:00, 20.40it/s]\n",
      "               classes   top1_acc   top5_acc: 100%|██████████| 47/47 [00:01<00:00, 29.34it/s]"
     ]
    },
    {
     "name": "stdout",
     "output_type": "stream",
     "text": [
      "                   all      0.992          1\n"
     ]
    },
    {
     "name": "stderr",
     "output_type": "stream",
     "text": [
      "\n"
     ]
    },
    {
     "name": "stdout",
     "output_type": "stream",
     "text": [
      "\n",
      "      Epoch    GPU_mem       loss  Instances       Size\n"
     ]
    },
    {
     "name": "stderr",
     "output_type": "stream",
     "text": [
      "     60/250     0.508G     0.1102          9        224: 100%|██████████| 325/325 [00:16<00:00, 19.91it/s]\n",
      "               classes   top1_acc   top5_acc: 100%|██████████| 47/47 [00:01<00:00, 29.30it/s]"
     ]
    },
    {
     "name": "stdout",
     "output_type": "stream",
     "text": [
      "                   all      0.991          1\n"
     ]
    },
    {
     "name": "stderr",
     "output_type": "stream",
     "text": [
      "\n"
     ]
    },
    {
     "name": "stdout",
     "output_type": "stream",
     "text": [
      "\n",
      "      Epoch    GPU_mem       loss  Instances       Size\n"
     ]
    },
    {
     "name": "stderr",
     "output_type": "stream",
     "text": [
      "     61/250     0.508G     0.1134          9        224: 100%|██████████| 325/325 [00:16<00:00, 19.38it/s]\n",
      "               classes   top1_acc   top5_acc: 100%|██████████| 47/47 [00:01<00:00, 27.22it/s]"
     ]
    },
    {
     "name": "stdout",
     "output_type": "stream",
     "text": [
      "                   all      0.993          1\n"
     ]
    },
    {
     "name": "stderr",
     "output_type": "stream",
     "text": [
      "\n"
     ]
    },
    {
     "name": "stdout",
     "output_type": "stream",
     "text": [
      "\n",
      "      Epoch    GPU_mem       loss  Instances       Size\n"
     ]
    },
    {
     "name": "stderr",
     "output_type": "stream",
     "text": [
      "     62/250     0.508G     0.1025          9        224: 100%|██████████| 325/325 [00:16<00:00, 19.31it/s]\n",
      "               classes   top1_acc   top5_acc: 100%|██████████| 47/47 [00:01<00:00, 29.73it/s]"
     ]
    },
    {
     "name": "stdout",
     "output_type": "stream",
     "text": [
      "                   all      0.993          1\n"
     ]
    },
    {
     "name": "stderr",
     "output_type": "stream",
     "text": [
      "\n"
     ]
    },
    {
     "name": "stdout",
     "output_type": "stream",
     "text": [
      "\n",
      "      Epoch    GPU_mem       loss  Instances       Size\n"
     ]
    },
    {
     "name": "stderr",
     "output_type": "stream",
     "text": [
      "     63/250     0.508G    0.09769          9        224: 100%|██████████| 325/325 [00:17<00:00, 18.14it/s]\n",
      "               classes   top1_acc   top5_acc: 100%|██████████| 47/47 [00:01<00:00, 29.94it/s]"
     ]
    },
    {
     "name": "stdout",
     "output_type": "stream",
     "text": [
      "                   all      0.994          1\n"
     ]
    },
    {
     "name": "stderr",
     "output_type": "stream",
     "text": [
      "\n"
     ]
    },
    {
     "name": "stdout",
     "output_type": "stream",
     "text": [
      "\n",
      "      Epoch    GPU_mem       loss  Instances       Size\n"
     ]
    },
    {
     "name": "stderr",
     "output_type": "stream",
     "text": [
      "     64/250     0.508G     0.1114          9        224: 100%|██████████| 325/325 [00:17<00:00, 19.06it/s]\n",
      "               classes   top1_acc   top5_acc: 100%|██████████| 47/47 [00:01<00:00, 29.74it/s]"
     ]
    },
    {
     "name": "stdout",
     "output_type": "stream",
     "text": [
      "                   all      0.997          1\n"
     ]
    },
    {
     "name": "stderr",
     "output_type": "stream",
     "text": [
      "\n"
     ]
    },
    {
     "name": "stdout",
     "output_type": "stream",
     "text": [
      "\n",
      "      Epoch    GPU_mem       loss  Instances       Size\n"
     ]
    },
    {
     "name": "stderr",
     "output_type": "stream",
     "text": [
      "     65/250     0.508G     0.1049          9        224: 100%|██████████| 325/325 [00:17<00:00, 18.78it/s]\n",
      "               classes   top1_acc   top5_acc: 100%|██████████| 47/47 [00:01<00:00, 29.89it/s]"
     ]
    },
    {
     "name": "stdout",
     "output_type": "stream",
     "text": [
      "                   all      0.997          1\n"
     ]
    },
    {
     "name": "stderr",
     "output_type": "stream",
     "text": [
      "\n"
     ]
    },
    {
     "name": "stdout",
     "output_type": "stream",
     "text": [
      "\n",
      "      Epoch    GPU_mem       loss  Instances       Size\n"
     ]
    },
    {
     "name": "stderr",
     "output_type": "stream",
     "text": [
      "     66/250     0.508G     0.1006          9        224: 100%|██████████| 325/325 [00:15<00:00, 20.43it/s]\n",
      "               classes   top1_acc   top5_acc: 100%|██████████| 47/47 [00:01<00:00, 29.06it/s]"
     ]
    },
    {
     "name": "stdout",
     "output_type": "stream",
     "text": [
      "                   all      0.995          1\n"
     ]
    },
    {
     "name": "stderr",
     "output_type": "stream",
     "text": [
      "\n"
     ]
    },
    {
     "name": "stdout",
     "output_type": "stream",
     "text": [
      "\n",
      "      Epoch    GPU_mem       loss  Instances       Size\n"
     ]
    },
    {
     "name": "stderr",
     "output_type": "stream",
     "text": [
      "     67/250     0.508G     0.1017          9        224: 100%|██████████| 325/325 [00:17<00:00, 18.52it/s]\n",
      "               classes   top1_acc   top5_acc: 100%|██████████| 47/47 [00:01<00:00, 30.22it/s]"
     ]
    },
    {
     "name": "stdout",
     "output_type": "stream",
     "text": [
      "                   all      0.993          1\n"
     ]
    },
    {
     "name": "stderr",
     "output_type": "stream",
     "text": [
      "\n"
     ]
    },
    {
     "name": "stdout",
     "output_type": "stream",
     "text": [
      "\n",
      "      Epoch    GPU_mem       loss  Instances       Size\n"
     ]
    },
    {
     "name": "stderr",
     "output_type": "stream",
     "text": [
      "     68/250     0.505G     0.1095          9        224: 100%|██████████| 325/325 [00:17<00:00, 18.47it/s]\n",
      "               classes   top1_acc   top5_acc: 100%|██████████| 47/47 [00:01<00:00, 28.61it/s]"
     ]
    },
    {
     "name": "stdout",
     "output_type": "stream",
     "text": [
      "                   all      0.989          1\n"
     ]
    },
    {
     "name": "stderr",
     "output_type": "stream",
     "text": [
      "\n"
     ]
    },
    {
     "name": "stdout",
     "output_type": "stream",
     "text": [
      "\n",
      "      Epoch    GPU_mem       loss  Instances       Size\n"
     ]
    },
    {
     "name": "stderr",
     "output_type": "stream",
     "text": [
      "     69/250     0.508G    0.09917          9        224: 100%|██████████| 325/325 [00:17<00:00, 18.58it/s]\n",
      "               classes   top1_acc   top5_acc: 100%|██████████| 47/47 [00:01<00:00, 28.78it/s]"
     ]
    },
    {
     "name": "stdout",
     "output_type": "stream",
     "text": [
      "                   all      0.995          1\n"
     ]
    },
    {
     "name": "stderr",
     "output_type": "stream",
     "text": [
      "\n"
     ]
    },
    {
     "name": "stdout",
     "output_type": "stream",
     "text": [
      "\n",
      "      Epoch    GPU_mem       loss  Instances       Size\n"
     ]
    },
    {
     "name": "stderr",
     "output_type": "stream",
     "text": [
      "     70/250     0.508G     0.1043          9        224: 100%|██████████| 325/325 [00:15<00:00, 20.87it/s]\n",
      "               classes   top1_acc   top5_acc: 100%|██████████| 47/47 [00:01<00:00, 30.23it/s]"
     ]
    },
    {
     "name": "stdout",
     "output_type": "stream",
     "text": [
      "                   all      0.997          1\n"
     ]
    },
    {
     "name": "stderr",
     "output_type": "stream",
     "text": [
      "\n"
     ]
    },
    {
     "name": "stdout",
     "output_type": "stream",
     "text": [
      "\n",
      "      Epoch    GPU_mem       loss  Instances       Size\n"
     ]
    },
    {
     "name": "stderr",
     "output_type": "stream",
     "text": [
      "     71/250     0.508G    0.09142          9        224: 100%|██████████| 325/325 [00:17<00:00, 18.68it/s]\n",
      "               classes   top1_acc   top5_acc: 100%|██████████| 47/47 [00:01<00:00, 28.23it/s]"
     ]
    },
    {
     "name": "stdout",
     "output_type": "stream",
     "text": [
      "                   all      0.995          1\n"
     ]
    },
    {
     "name": "stderr",
     "output_type": "stream",
     "text": [
      "\n"
     ]
    },
    {
     "name": "stdout",
     "output_type": "stream",
     "text": [
      "\n",
      "      Epoch    GPU_mem       loss  Instances       Size\n"
     ]
    },
    {
     "name": "stderr",
     "output_type": "stream",
     "text": [
      "     72/250     0.508G     0.1053          9        224: 100%|██████████| 325/325 [00:16<00:00, 19.42it/s]\n",
      "               classes   top1_acc   top5_acc: 100%|██████████| 47/47 [00:01<00:00, 29.48it/s]"
     ]
    },
    {
     "name": "stdout",
     "output_type": "stream",
     "text": [
      "                   all      0.994          1\n"
     ]
    },
    {
     "name": "stderr",
     "output_type": "stream",
     "text": [
      "\n"
     ]
    },
    {
     "name": "stdout",
     "output_type": "stream",
     "text": [
      "\n",
      "      Epoch    GPU_mem       loss  Instances       Size\n"
     ]
    },
    {
     "name": "stderr",
     "output_type": "stream",
     "text": [
      "     73/250     0.508G     0.1095          9        224: 100%|██████████| 325/325 [00:15<00:00, 20.99it/s]\n",
      "               classes   top1_acc   top5_acc: 100%|██████████| 47/47 [00:01<00:00, 30.38it/s]"
     ]
    },
    {
     "name": "stdout",
     "output_type": "stream",
     "text": [
      "                   all      0.992          1\n"
     ]
    },
    {
     "name": "stderr",
     "output_type": "stream",
     "text": [
      "\n"
     ]
    },
    {
     "name": "stdout",
     "output_type": "stream",
     "text": [
      "\n",
      "      Epoch    GPU_mem       loss  Instances       Size\n"
     ]
    },
    {
     "name": "stderr",
     "output_type": "stream",
     "text": [
      "     74/250     0.508G     0.1013          9        224: 100%|██████████| 325/325 [00:15<00:00, 20.75it/s]\n",
      "               classes   top1_acc   top5_acc: 100%|██████████| 47/47 [00:01<00:00, 28.86it/s]"
     ]
    },
    {
     "name": "stdout",
     "output_type": "stream",
     "text": [
      "                   all      0.996          1\n"
     ]
    },
    {
     "name": "stderr",
     "output_type": "stream",
     "text": [
      "\n"
     ]
    },
    {
     "name": "stdout",
     "output_type": "stream",
     "text": [
      "\n",
      "      Epoch    GPU_mem       loss  Instances       Size\n"
     ]
    },
    {
     "name": "stderr",
     "output_type": "stream",
     "text": [
      "     75/250     0.508G     0.1016          9        224: 100%|██████████| 325/325 [00:15<00:00, 20.90it/s]\n",
      "               classes   top1_acc   top5_acc: 100%|██████████| 47/47 [00:01<00:00, 28.64it/s]"
     ]
    },
    {
     "name": "stdout",
     "output_type": "stream",
     "text": [
      "                   all      0.993          1\n"
     ]
    },
    {
     "name": "stderr",
     "output_type": "stream",
     "text": [
      "\n"
     ]
    },
    {
     "name": "stdout",
     "output_type": "stream",
     "text": [
      "\n",
      "      Epoch    GPU_mem       loss  Instances       Size\n"
     ]
    },
    {
     "name": "stderr",
     "output_type": "stream",
     "text": [
      "     76/250     0.505G     0.1099          9        224: 100%|██████████| 325/325 [00:15<00:00, 21.05it/s]\n",
      "               classes   top1_acc   top5_acc: 100%|██████████| 47/47 [00:01<00:00, 29.83it/s]"
     ]
    },
    {
     "name": "stdout",
     "output_type": "stream",
     "text": [
      "                   all      0.995          1\n"
     ]
    },
    {
     "name": "stderr",
     "output_type": "stream",
     "text": [
      "\n"
     ]
    },
    {
     "name": "stdout",
     "output_type": "stream",
     "text": [
      "\n",
      "      Epoch    GPU_mem       loss  Instances       Size\n"
     ]
    },
    {
     "name": "stderr",
     "output_type": "stream",
     "text": [
      "     77/250     0.508G    0.08718          9        224: 100%|██████████| 325/325 [00:16<00:00, 19.54it/s]\n",
      "               classes   top1_acc   top5_acc: 100%|██████████| 47/47 [00:01<00:00, 26.23it/s]"
     ]
    },
    {
     "name": "stdout",
     "output_type": "stream",
     "text": [
      "                   all      0.997          1\n"
     ]
    },
    {
     "name": "stderr",
     "output_type": "stream",
     "text": [
      "\n"
     ]
    },
    {
     "name": "stdout",
     "output_type": "stream",
     "text": [
      "\n",
      "      Epoch    GPU_mem       loss  Instances       Size\n"
     ]
    },
    {
     "name": "stderr",
     "output_type": "stream",
     "text": [
      "     78/250     0.508G    0.09937          9        224: 100%|██████████| 325/325 [00:16<00:00, 19.85it/s]\n",
      "               classes   top1_acc   top5_acc: 100%|██████████| 47/47 [00:01<00:00, 29.17it/s]"
     ]
    },
    {
     "name": "stdout",
     "output_type": "stream",
     "text": [
      "                   all      0.998          1\n"
     ]
    },
    {
     "name": "stderr",
     "output_type": "stream",
     "text": [
      "\n"
     ]
    },
    {
     "name": "stdout",
     "output_type": "stream",
     "text": [
      "\n",
      "      Epoch    GPU_mem       loss  Instances       Size\n"
     ]
    },
    {
     "name": "stderr",
     "output_type": "stream",
     "text": [
      "     79/250     0.508G     0.0777          9        224: 100%|██████████| 325/325 [00:18<00:00, 17.75it/s]\n",
      "               classes   top1_acc   top5_acc: 100%|██████████| 47/47 [00:01<00:00, 28.99it/s]"
     ]
    },
    {
     "name": "stdout",
     "output_type": "stream",
     "text": [
      "                   all      0.999          1\n"
     ]
    },
    {
     "name": "stderr",
     "output_type": "stream",
     "text": [
      "\n"
     ]
    },
    {
     "name": "stdout",
     "output_type": "stream",
     "text": [
      "\n",
      "      Epoch    GPU_mem       loss  Instances       Size\n"
     ]
    },
    {
     "name": "stderr",
     "output_type": "stream",
     "text": [
      "     80/250     0.508G     0.0772          9        224: 100%|██████████| 325/325 [00:16<00:00, 19.60it/s]\n",
      "               classes   top1_acc   top5_acc: 100%|██████████| 47/47 [00:01<00:00, 26.84it/s]"
     ]
    },
    {
     "name": "stdout",
     "output_type": "stream",
     "text": [
      "                   all      0.996          1\n"
     ]
    },
    {
     "name": "stderr",
     "output_type": "stream",
     "text": [
      "\n"
     ]
    },
    {
     "name": "stdout",
     "output_type": "stream",
     "text": [
      "\n",
      "      Epoch    GPU_mem       loss  Instances       Size\n"
     ]
    },
    {
     "name": "stderr",
     "output_type": "stream",
     "text": [
      "     81/250     0.508G    0.09044          9        224: 100%|██████████| 325/325 [00:17<00:00, 19.01it/s]\n",
      "               classes   top1_acc   top5_acc: 100%|██████████| 47/47 [00:01<00:00, 29.74it/s]"
     ]
    },
    {
     "name": "stdout",
     "output_type": "stream",
     "text": [
      "                   all      0.993          1\n"
     ]
    },
    {
     "name": "stderr",
     "output_type": "stream",
     "text": [
      "\n"
     ]
    },
    {
     "name": "stdout",
     "output_type": "stream",
     "text": [
      "\n",
      "      Epoch    GPU_mem       loss  Instances       Size\n"
     ]
    },
    {
     "name": "stderr",
     "output_type": "stream",
     "text": [
      "     82/250     0.508G    0.09162          9        224: 100%|██████████| 325/325 [00:16<00:00, 19.48it/s]\n",
      "               classes   top1_acc   top5_acc: 100%|██████████| 47/47 [00:01<00:00, 28.87it/s]"
     ]
    },
    {
     "name": "stdout",
     "output_type": "stream",
     "text": [
      "                   all      0.997          1\n"
     ]
    },
    {
     "name": "stderr",
     "output_type": "stream",
     "text": [
      "\n"
     ]
    },
    {
     "name": "stdout",
     "output_type": "stream",
     "text": [
      "\n",
      "      Epoch    GPU_mem       loss  Instances       Size\n"
     ]
    },
    {
     "name": "stderr",
     "output_type": "stream",
     "text": [
      "     83/250     0.508G     0.1028          9        224: 100%|██████████| 325/325 [00:15<00:00, 21.13it/s]\n",
      "               classes   top1_acc   top5_acc: 100%|██████████| 47/47 [00:01<00:00, 29.55it/s]"
     ]
    },
    {
     "name": "stdout",
     "output_type": "stream",
     "text": [
      "                   all      0.993          1\n"
     ]
    },
    {
     "name": "stderr",
     "output_type": "stream",
     "text": [
      "\n"
     ]
    },
    {
     "name": "stdout",
     "output_type": "stream",
     "text": [
      "\n",
      "      Epoch    GPU_mem       loss  Instances       Size\n"
     ]
    },
    {
     "name": "stderr",
     "output_type": "stream",
     "text": [
      "     84/250     0.505G    0.09195          9        224: 100%|██████████| 325/325 [00:16<00:00, 19.14it/s]\n",
      "               classes   top1_acc   top5_acc: 100%|██████████| 47/47 [00:01<00:00, 28.02it/s]"
     ]
    },
    {
     "name": "stdout",
     "output_type": "stream",
     "text": [
      "                   all      0.995          1\n"
     ]
    },
    {
     "name": "stderr",
     "output_type": "stream",
     "text": [
      "\n"
     ]
    },
    {
     "name": "stdout",
     "output_type": "stream",
     "text": [
      "\n",
      "      Epoch    GPU_mem       loss  Instances       Size\n"
     ]
    },
    {
     "name": "stderr",
     "output_type": "stream",
     "text": [
      "     85/250     0.508G    0.08681          9        224: 100%|██████████| 325/325 [00:18<00:00, 17.83it/s]\n",
      "               classes   top1_acc   top5_acc: 100%|██████████| 47/47 [00:01<00:00, 29.15it/s]"
     ]
    },
    {
     "name": "stdout",
     "output_type": "stream",
     "text": [
      "                   all      0.995          1\n"
     ]
    },
    {
     "name": "stderr",
     "output_type": "stream",
     "text": [
      "\n"
     ]
    },
    {
     "name": "stdout",
     "output_type": "stream",
     "text": [
      "\n",
      "      Epoch    GPU_mem       loss  Instances       Size\n"
     ]
    },
    {
     "name": "stderr",
     "output_type": "stream",
     "text": [
      "     86/250     0.508G    0.08212          9        224: 100%|██████████| 325/325 [00:16<00:00, 19.35it/s]\n",
      "               classes   top1_acc   top5_acc: 100%|██████████| 47/47 [00:01<00:00, 29.28it/s]"
     ]
    },
    {
     "name": "stdout",
     "output_type": "stream",
     "text": [
      "                   all      0.997          1\n"
     ]
    },
    {
     "name": "stderr",
     "output_type": "stream",
     "text": [
      "\n"
     ]
    },
    {
     "name": "stdout",
     "output_type": "stream",
     "text": [
      "\n",
      "      Epoch    GPU_mem       loss  Instances       Size\n"
     ]
    },
    {
     "name": "stderr",
     "output_type": "stream",
     "text": [
      "     87/250     0.508G    0.09746          9        224: 100%|██████████| 325/325 [00:16<00:00, 20.25it/s]\n",
      "               classes   top1_acc   top5_acc: 100%|██████████| 47/47 [00:01<00:00, 29.68it/s]"
     ]
    },
    {
     "name": "stdout",
     "output_type": "stream",
     "text": [
      "                   all      0.997          1\n"
     ]
    },
    {
     "name": "stderr",
     "output_type": "stream",
     "text": [
      "\n"
     ]
    },
    {
     "name": "stdout",
     "output_type": "stream",
     "text": [
      "\n",
      "      Epoch    GPU_mem       loss  Instances       Size\n"
     ]
    },
    {
     "name": "stderr",
     "output_type": "stream",
     "text": [
      "     88/250     0.508G     0.0888          9        224: 100%|██████████| 325/325 [00:17<00:00, 18.69it/s]\n",
      "               classes   top1_acc   top5_acc: 100%|██████████| 47/47 [00:01<00:00, 29.33it/s]"
     ]
    },
    {
     "name": "stdout",
     "output_type": "stream",
     "text": [
      "                   all      0.991          1\n"
     ]
    },
    {
     "name": "stderr",
     "output_type": "stream",
     "text": [
      "\n"
     ]
    },
    {
     "name": "stdout",
     "output_type": "stream",
     "text": [
      "\n",
      "      Epoch    GPU_mem       loss  Instances       Size\n"
     ]
    },
    {
     "name": "stderr",
     "output_type": "stream",
     "text": [
      "     89/250     0.508G    0.08859          9        224: 100%|██████████| 325/325 [00:16<00:00, 19.62it/s]\n",
      "               classes   top1_acc   top5_acc: 100%|██████████| 47/47 [00:01<00:00, 25.66it/s]"
     ]
    },
    {
     "name": "stdout",
     "output_type": "stream",
     "text": [
      "                   all      0.993          1\n"
     ]
    },
    {
     "name": "stderr",
     "output_type": "stream",
     "text": [
      "\n"
     ]
    },
    {
     "name": "stdout",
     "output_type": "stream",
     "text": [
      "\n",
      "      Epoch    GPU_mem       loss  Instances       Size\n"
     ]
    },
    {
     "name": "stderr",
     "output_type": "stream",
     "text": [
      "     90/250     0.508G    0.08162          9        224: 100%|██████████| 325/325 [00:15<00:00, 20.73it/s]\n",
      "               classes   top1_acc   top5_acc: 100%|██████████| 47/47 [00:01<00:00, 30.30it/s]"
     ]
    },
    {
     "name": "stdout",
     "output_type": "stream",
     "text": [
      "                   all      0.997          1\n"
     ]
    },
    {
     "name": "stderr",
     "output_type": "stream",
     "text": [
      "\n"
     ]
    },
    {
     "name": "stdout",
     "output_type": "stream",
     "text": [
      "\n",
      "      Epoch    GPU_mem       loss  Instances       Size\n"
     ]
    },
    {
     "name": "stderr",
     "output_type": "stream",
     "text": [
      "     91/250     0.508G    0.08356          9        224: 100%|██████████| 325/325 [00:17<00:00, 18.86it/s]\n",
      "               classes   top1_acc   top5_acc: 100%|██████████| 47/47 [00:01<00:00, 29.25it/s]"
     ]
    },
    {
     "name": "stdout",
     "output_type": "stream",
     "text": [
      "                   all      0.995          1\n"
     ]
    },
    {
     "name": "stderr",
     "output_type": "stream",
     "text": [
      "\n"
     ]
    },
    {
     "name": "stdout",
     "output_type": "stream",
     "text": [
      "\n",
      "      Epoch    GPU_mem       loss  Instances       Size\n"
     ]
    },
    {
     "name": "stderr",
     "output_type": "stream",
     "text": [
      "     92/250     0.505G    0.07198          9        224: 100%|██████████| 325/325 [00:15<00:00, 20.91it/s]\n",
      "               classes   top1_acc   top5_acc: 100%|██████████| 47/47 [00:01<00:00, 30.06it/s]"
     ]
    },
    {
     "name": "stdout",
     "output_type": "stream",
     "text": [
      "                   all      0.997          1\n"
     ]
    },
    {
     "name": "stderr",
     "output_type": "stream",
     "text": [
      "\n"
     ]
    },
    {
     "name": "stdout",
     "output_type": "stream",
     "text": [
      "\n",
      "      Epoch    GPU_mem       loss  Instances       Size\n"
     ]
    },
    {
     "name": "stderr",
     "output_type": "stream",
     "text": [
      "     93/250     0.508G    0.07491          9        224: 100%|██████████| 325/325 [00:15<00:00, 21.01it/s]\n",
      "               classes   top1_acc   top5_acc: 100%|██████████| 47/47 [00:01<00:00, 30.06it/s]"
     ]
    },
    {
     "name": "stdout",
     "output_type": "stream",
     "text": [
      "                   all      0.999          1\n"
     ]
    },
    {
     "name": "stderr",
     "output_type": "stream",
     "text": [
      "\n"
     ]
    },
    {
     "name": "stdout",
     "output_type": "stream",
     "text": [
      "\n",
      "      Epoch    GPU_mem       loss  Instances       Size\n"
     ]
    },
    {
     "name": "stderr",
     "output_type": "stream",
     "text": [
      "     94/250     0.508G    0.08653          9        224: 100%|██████████| 325/325 [00:18<00:00, 17.69it/s]\n",
      "               classes   top1_acc   top5_acc: 100%|██████████| 47/47 [00:01<00:00, 29.35it/s]"
     ]
    },
    {
     "name": "stdout",
     "output_type": "stream",
     "text": [
      "                   all      0.999          1\n"
     ]
    },
    {
     "name": "stderr",
     "output_type": "stream",
     "text": [
      "\n"
     ]
    },
    {
     "name": "stdout",
     "output_type": "stream",
     "text": [
      "\n",
      "      Epoch    GPU_mem       loss  Instances       Size\n"
     ]
    },
    {
     "name": "stderr",
     "output_type": "stream",
     "text": [
      "     95/250     0.508G    0.07654          9        224: 100%|██████████| 325/325 [00:17<00:00, 18.90it/s]\n",
      "               classes   top1_acc   top5_acc: 100%|██████████| 47/47 [00:01<00:00, 29.17it/s]"
     ]
    },
    {
     "name": "stdout",
     "output_type": "stream",
     "text": [
      "                   all      0.997          1\n"
     ]
    },
    {
     "name": "stderr",
     "output_type": "stream",
     "text": [
      "\n"
     ]
    },
    {
     "name": "stdout",
     "output_type": "stream",
     "text": [
      "\n",
      "      Epoch    GPU_mem       loss  Instances       Size\n"
     ]
    },
    {
     "name": "stderr",
     "output_type": "stream",
     "text": [
      "     96/250     0.505G    0.07647          9        224: 100%|██████████| 325/325 [00:16<00:00, 19.43it/s]\n",
      "               classes   top1_acc   top5_acc: 100%|██████████| 47/47 [00:01<00:00, 29.59it/s]"
     ]
    },
    {
     "name": "stdout",
     "output_type": "stream",
     "text": [
      "                   all      0.997          1\n"
     ]
    },
    {
     "name": "stderr",
     "output_type": "stream",
     "text": [
      "\n"
     ]
    },
    {
     "name": "stdout",
     "output_type": "stream",
     "text": [
      "\n",
      "      Epoch    GPU_mem       loss  Instances       Size\n"
     ]
    },
    {
     "name": "stderr",
     "output_type": "stream",
     "text": [
      "     97/250     0.508G     0.0645          9        224: 100%|██████████| 325/325 [00:15<00:00, 21.46it/s]\n",
      "               classes   top1_acc   top5_acc: 100%|██████████| 47/47 [00:01<00:00, 29.83it/s]\n"
     ]
    },
    {
     "name": "stdout",
     "output_type": "stream",
     "text": [
      "                   all      0.997          1\n",
      "\n",
      "      Epoch    GPU_mem       loss  Instances       Size\n"
     ]
    },
    {
     "name": "stderr",
     "output_type": "stream",
     "text": [
      "     98/250     0.508G    0.07582          9        224: 100%|██████████| 325/325 [00:14<00:00, 22.13it/s]\n",
      "               classes   top1_acc   top5_acc: 100%|██████████| 47/47 [00:01<00:00, 29.75it/s]"
     ]
    },
    {
     "name": "stdout",
     "output_type": "stream",
     "text": [
      "                   all      0.998          1\n"
     ]
    },
    {
     "name": "stderr",
     "output_type": "stream",
     "text": [
      "\n"
     ]
    },
    {
     "name": "stdout",
     "output_type": "stream",
     "text": [
      "\n",
      "      Epoch    GPU_mem       loss  Instances       Size\n"
     ]
    },
    {
     "name": "stderr",
     "output_type": "stream",
     "text": [
      "     99/250     0.508G    0.08067          9        224: 100%|██████████| 325/325 [00:16<00:00, 20.19it/s]\n",
      "               classes   top1_acc   top5_acc: 100%|██████████| 47/47 [00:01<00:00, 28.09it/s]"
     ]
    },
    {
     "name": "stdout",
     "output_type": "stream",
     "text": [
      "                   all      0.997          1\n"
     ]
    },
    {
     "name": "stderr",
     "output_type": "stream",
     "text": [
      "\n"
     ]
    },
    {
     "name": "stdout",
     "output_type": "stream",
     "text": [
      "\n",
      "      Epoch    GPU_mem       loss  Instances       Size\n"
     ]
    },
    {
     "name": "stderr",
     "output_type": "stream",
     "text": [
      "    100/250     0.508G    0.08493          9        224: 100%|██████████| 325/325 [00:15<00:00, 20.99it/s]\n",
      "               classes   top1_acc   top5_acc: 100%|██████████| 47/47 [00:01<00:00, 30.61it/s]"
     ]
    },
    {
     "name": "stdout",
     "output_type": "stream",
     "text": [
      "                   all      0.998          1\n"
     ]
    },
    {
     "name": "stderr",
     "output_type": "stream",
     "text": [
      "\n"
     ]
    },
    {
     "name": "stdout",
     "output_type": "stream",
     "text": [
      "\n",
      "      Epoch    GPU_mem       loss  Instances       Size\n"
     ]
    },
    {
     "name": "stderr",
     "output_type": "stream",
     "text": [
      "    101/250     0.508G    0.08172          9        224: 100%|██████████| 325/325 [00:16<00:00, 20.17it/s]\n",
      "               classes   top1_acc   top5_acc: 100%|██████████| 47/47 [00:01<00:00, 29.13it/s]"
     ]
    },
    {
     "name": "stdout",
     "output_type": "stream",
     "text": [
      "                   all      0.997          1\n"
     ]
    },
    {
     "name": "stderr",
     "output_type": "stream",
     "text": [
      "\n"
     ]
    },
    {
     "name": "stdout",
     "output_type": "stream",
     "text": [
      "\n",
      "      Epoch    GPU_mem       loss  Instances       Size\n"
     ]
    },
    {
     "name": "stderr",
     "output_type": "stream",
     "text": [
      "    102/250     0.508G    0.07331          9        224: 100%|██████████| 325/325 [00:14<00:00, 22.01it/s]\n",
      "               classes   top1_acc   top5_acc: 100%|██████████| 47/47 [00:01<00:00, 31.09it/s]"
     ]
    },
    {
     "name": "stdout",
     "output_type": "stream",
     "text": [
      "                   all      0.999          1\n"
     ]
    },
    {
     "name": "stderr",
     "output_type": "stream",
     "text": [
      "\n"
     ]
    },
    {
     "name": "stdout",
     "output_type": "stream",
     "text": [
      "\n",
      "      Epoch    GPU_mem       loss  Instances       Size\n"
     ]
    },
    {
     "name": "stderr",
     "output_type": "stream",
     "text": [
      "    103/250     0.508G    0.08722          9        224: 100%|██████████| 325/325 [00:16<00:00, 19.89it/s]\n",
      "               classes   top1_acc   top5_acc: 100%|██████████| 47/47 [00:01<00:00, 30.46it/s]"
     ]
    },
    {
     "name": "stdout",
     "output_type": "stream",
     "text": [
      "                   all      0.997          1\n"
     ]
    },
    {
     "name": "stderr",
     "output_type": "stream",
     "text": [
      "\n"
     ]
    },
    {
     "name": "stdout",
     "output_type": "stream",
     "text": [
      "\n",
      "      Epoch    GPU_mem       loss  Instances       Size\n"
     ]
    },
    {
     "name": "stderr",
     "output_type": "stream",
     "text": [
      "    104/250     0.508G     0.0696          9        224: 100%|██████████| 325/325 [00:16<00:00, 20.27it/s]\n",
      "               classes   top1_acc   top5_acc: 100%|██████████| 47/47 [00:01<00:00, 28.41it/s]"
     ]
    },
    {
     "name": "stdout",
     "output_type": "stream",
     "text": [
      "                   all      0.997          1\n"
     ]
    },
    {
     "name": "stderr",
     "output_type": "stream",
     "text": [
      "\n"
     ]
    },
    {
     "name": "stdout",
     "output_type": "stream",
     "text": [
      "\n",
      "      Epoch    GPU_mem       loss  Instances       Size\n"
     ]
    },
    {
     "name": "stderr",
     "output_type": "stream",
     "text": [
      "    105/250     0.508G    0.06482          9        224: 100%|██████████| 325/325 [00:14<00:00, 22.34it/s]\n",
      "               classes   top1_acc   top5_acc: 100%|██████████| 47/47 [00:01<00:00, 26.81it/s]"
     ]
    },
    {
     "name": "stdout",
     "output_type": "stream",
     "text": [
      "                   all      0.999          1\n"
     ]
    },
    {
     "name": "stderr",
     "output_type": "stream",
     "text": [
      "\n"
     ]
    },
    {
     "name": "stdout",
     "output_type": "stream",
     "text": [
      "\n",
      "      Epoch    GPU_mem       loss  Instances       Size\n"
     ]
    },
    {
     "name": "stderr",
     "output_type": "stream",
     "text": [
      "    106/250     0.508G    0.06616          9        224: 100%|██████████| 325/325 [00:15<00:00, 20.42it/s]\n",
      "               classes   top1_acc   top5_acc: 100%|██████████| 47/47 [00:01<00:00, 30.08it/s]"
     ]
    },
    {
     "name": "stdout",
     "output_type": "stream",
     "text": [
      "                   all      0.997          1\n"
     ]
    },
    {
     "name": "stderr",
     "output_type": "stream",
     "text": [
      "\n"
     ]
    },
    {
     "name": "stdout",
     "output_type": "stream",
     "text": [
      "\n",
      "      Epoch    GPU_mem       loss  Instances       Size\n"
     ]
    },
    {
     "name": "stderr",
     "output_type": "stream",
     "text": [
      "    107/250     0.508G    0.07484          9        224: 100%|██████████| 325/325 [00:16<00:00, 19.67it/s]\n",
      "               classes   top1_acc   top5_acc: 100%|██████████| 47/47 [00:01<00:00, 29.27it/s]"
     ]
    },
    {
     "name": "stdout",
     "output_type": "stream",
     "text": [
      "                   all      0.999          1\n"
     ]
    },
    {
     "name": "stderr",
     "output_type": "stream",
     "text": [
      "\n"
     ]
    },
    {
     "name": "stdout",
     "output_type": "stream",
     "text": [
      "\n",
      "      Epoch    GPU_mem       loss  Instances       Size\n"
     ]
    },
    {
     "name": "stderr",
     "output_type": "stream",
     "text": [
      "    108/250     0.505G    0.07424          9        224: 100%|██████████| 325/325 [00:16<00:00, 20.14it/s]\n",
      "               classes   top1_acc   top5_acc: 100%|██████████| 47/47 [00:01<00:00, 29.35it/s]"
     ]
    },
    {
     "name": "stdout",
     "output_type": "stream",
     "text": [
      "                   all      0.999          1\n"
     ]
    },
    {
     "name": "stderr",
     "output_type": "stream",
     "text": [
      "\n"
     ]
    },
    {
     "name": "stdout",
     "output_type": "stream",
     "text": [
      "\n",
      "      Epoch    GPU_mem       loss  Instances       Size\n"
     ]
    },
    {
     "name": "stderr",
     "output_type": "stream",
     "text": [
      "    109/250     0.508G    0.07305          9        224: 100%|██████████| 325/325 [00:17<00:00, 18.72it/s]\n",
      "               classes   top1_acc   top5_acc: 100%|██████████| 47/47 [00:01<00:00, 28.11it/s]"
     ]
    },
    {
     "name": "stdout",
     "output_type": "stream",
     "text": [
      "                   all      0.998          1\n"
     ]
    },
    {
     "name": "stderr",
     "output_type": "stream",
     "text": [
      "\n"
     ]
    },
    {
     "name": "stdout",
     "output_type": "stream",
     "text": [
      "\n",
      "      Epoch    GPU_mem       loss  Instances       Size\n"
     ]
    },
    {
     "name": "stderr",
     "output_type": "stream",
     "text": [
      "    110/250     0.508G    0.07895          9        224: 100%|██████████| 325/325 [00:14<00:00, 21.67it/s]\n",
      "               classes   top1_acc   top5_acc: 100%|██████████| 47/47 [00:01<00:00, 28.94it/s]"
     ]
    },
    {
     "name": "stdout",
     "output_type": "stream",
     "text": [
      "                   all      0.999          1\n"
     ]
    },
    {
     "name": "stderr",
     "output_type": "stream",
     "text": [
      "\n"
     ]
    },
    {
     "name": "stdout",
     "output_type": "stream",
     "text": [
      "\n",
      "      Epoch    GPU_mem       loss  Instances       Size\n"
     ]
    },
    {
     "name": "stderr",
     "output_type": "stream",
     "text": [
      "    111/250     0.508G    0.07241          9        224: 100%|██████████| 325/325 [00:17<00:00, 19.06it/s]\n",
      "               classes   top1_acc   top5_acc: 100%|██████████| 47/47 [00:01<00:00, 30.42it/s]"
     ]
    },
    {
     "name": "stdout",
     "output_type": "stream",
     "text": [
      "                   all      0.999          1\n"
     ]
    },
    {
     "name": "stderr",
     "output_type": "stream",
     "text": [
      "\n"
     ]
    },
    {
     "name": "stdout",
     "output_type": "stream",
     "text": [
      "\n",
      "      Epoch    GPU_mem       loss  Instances       Size\n"
     ]
    },
    {
     "name": "stderr",
     "output_type": "stream",
     "text": [
      "    112/250     0.505G    0.07234          9        224: 100%|██████████| 325/325 [00:16<00:00, 19.67it/s]\n",
      "               classes   top1_acc   top5_acc: 100%|██████████| 47/47 [00:01<00:00, 29.20it/s]"
     ]
    },
    {
     "name": "stdout",
     "output_type": "stream",
     "text": [
      "                   all      0.999          1\n"
     ]
    },
    {
     "name": "stderr",
     "output_type": "stream",
     "text": [
      "\n"
     ]
    },
    {
     "name": "stdout",
     "output_type": "stream",
     "text": [
      "\n",
      "      Epoch    GPU_mem       loss  Instances       Size\n"
     ]
    },
    {
     "name": "stderr",
     "output_type": "stream",
     "text": [
      "    113/250     0.508G    0.06112          9        224: 100%|██████████| 325/325 [00:15<00:00, 21.36it/s]\n",
      "               classes   top1_acc   top5_acc: 100%|██████████| 47/47 [00:01<00:00, 30.18it/s]"
     ]
    },
    {
     "name": "stdout",
     "output_type": "stream",
     "text": [
      "                   all      0.999          1\n"
     ]
    },
    {
     "name": "stderr",
     "output_type": "stream",
     "text": [
      "\n"
     ]
    },
    {
     "name": "stdout",
     "output_type": "stream",
     "text": [
      "\n",
      "      Epoch    GPU_mem       loss  Instances       Size\n"
     ]
    },
    {
     "name": "stderr",
     "output_type": "stream",
     "text": [
      "    114/250     0.508G    0.06323          9        224: 100%|██████████| 325/325 [00:15<00:00, 21.36it/s]\n",
      "               classes   top1_acc   top5_acc: 100%|██████████| 47/47 [00:01<00:00, 29.01it/s]"
     ]
    },
    {
     "name": "stdout",
     "output_type": "stream",
     "text": [
      "                   all      0.999          1\n"
     ]
    },
    {
     "name": "stderr",
     "output_type": "stream",
     "text": [
      "\n"
     ]
    },
    {
     "name": "stdout",
     "output_type": "stream",
     "text": [
      "\n",
      "      Epoch    GPU_mem       loss  Instances       Size\n"
     ]
    },
    {
     "name": "stderr",
     "output_type": "stream",
     "text": [
      "    115/250     0.508G    0.06935          9        224: 100%|██████████| 325/325 [00:15<00:00, 21.42it/s]\n",
      "               classes   top1_acc   top5_acc: 100%|██████████| 47/47 [00:01<00:00, 28.96it/s]"
     ]
    },
    {
     "name": "stdout",
     "output_type": "stream",
     "text": [
      "                   all      0.998          1\n"
     ]
    },
    {
     "name": "stderr",
     "output_type": "stream",
     "text": [
      "\n"
     ]
    },
    {
     "name": "stdout",
     "output_type": "stream",
     "text": [
      "\n",
      "      Epoch    GPU_mem       loss  Instances       Size\n"
     ]
    },
    {
     "name": "stderr",
     "output_type": "stream",
     "text": [
      "    116/250     0.505G    0.06758          9        224: 100%|██████████| 325/325 [00:16<00:00, 19.31it/s]\n",
      "               classes   top1_acc   top5_acc: 100%|██████████| 47/47 [00:01<00:00, 29.54it/s]"
     ]
    },
    {
     "name": "stdout",
     "output_type": "stream",
     "text": [
      "                   all      0.999          1\n"
     ]
    },
    {
     "name": "stderr",
     "output_type": "stream",
     "text": [
      "\n"
     ]
    },
    {
     "name": "stdout",
     "output_type": "stream",
     "text": [
      "\n",
      "      Epoch    GPU_mem       loss  Instances       Size\n"
     ]
    },
    {
     "name": "stderr",
     "output_type": "stream",
     "text": [
      "    117/250     0.508G    0.06877          9        224: 100%|██████████| 325/325 [00:16<00:00, 19.13it/s]\n",
      "               classes   top1_acc   top5_acc: 100%|██████████| 47/47 [00:01<00:00, 28.07it/s]"
     ]
    },
    {
     "name": "stdout",
     "output_type": "stream",
     "text": [
      "                   all      0.999          1\n"
     ]
    },
    {
     "name": "stderr",
     "output_type": "stream",
     "text": [
      "\n"
     ]
    },
    {
     "name": "stdout",
     "output_type": "stream",
     "text": [
      "\n",
      "      Epoch    GPU_mem       loss  Instances       Size\n"
     ]
    },
    {
     "name": "stderr",
     "output_type": "stream",
     "text": [
      "    118/250     0.508G    0.06992          9        224: 100%|██████████| 325/325 [00:17<00:00, 18.55it/s]\n",
      "               classes   top1_acc   top5_acc: 100%|██████████| 47/47 [00:01<00:00, 30.23it/s]"
     ]
    },
    {
     "name": "stdout",
     "output_type": "stream",
     "text": [
      "                   all      0.999          1\n"
     ]
    },
    {
     "name": "stderr",
     "output_type": "stream",
     "text": [
      "\n"
     ]
    },
    {
     "name": "stdout",
     "output_type": "stream",
     "text": [
      "\n",
      "      Epoch    GPU_mem       loss  Instances       Size\n"
     ]
    },
    {
     "name": "stderr",
     "output_type": "stream",
     "text": [
      "    119/250     0.508G    0.07272          9        224: 100%|██████████| 325/325 [00:16<00:00, 19.52it/s]\n",
      "               classes   top1_acc   top5_acc: 100%|██████████| 47/47 [00:01<00:00, 29.54it/s]"
     ]
    },
    {
     "name": "stdout",
     "output_type": "stream",
     "text": [
      "                   all      0.999          1\n"
     ]
    },
    {
     "name": "stderr",
     "output_type": "stream",
     "text": [
      "\n"
     ]
    },
    {
     "name": "stdout",
     "output_type": "stream",
     "text": [
      "\n",
      "      Epoch    GPU_mem       loss  Instances       Size\n"
     ]
    },
    {
     "name": "stderr",
     "output_type": "stream",
     "text": [
      "    120/250     0.505G    0.05778          9        224: 100%|██████████| 325/325 [00:15<00:00, 21.15it/s]\n",
      "               classes   top1_acc   top5_acc: 100%|██████████| 47/47 [00:01<00:00, 28.26it/s]"
     ]
    },
    {
     "name": "stdout",
     "output_type": "stream",
     "text": [
      "                   all      0.999          1\n"
     ]
    },
    {
     "name": "stderr",
     "output_type": "stream",
     "text": [
      "\n"
     ]
    },
    {
     "name": "stdout",
     "output_type": "stream",
     "text": [
      "\n",
      "      Epoch    GPU_mem       loss  Instances       Size\n"
     ]
    },
    {
     "name": "stderr",
     "output_type": "stream",
     "text": [
      "    121/250     0.508G    0.06882          9        224: 100%|██████████| 325/325 [00:16<00:00, 20.14it/s]\n",
      "               classes   top1_acc   top5_acc: 100%|██████████| 47/47 [00:01<00:00, 29.32it/s]"
     ]
    },
    {
     "name": "stdout",
     "output_type": "stream",
     "text": [
      "                   all      0.999          1\n"
     ]
    },
    {
     "name": "stderr",
     "output_type": "stream",
     "text": [
      "\n"
     ]
    },
    {
     "name": "stdout",
     "output_type": "stream",
     "text": [
      "\n",
      "      Epoch    GPU_mem       loss  Instances       Size\n"
     ]
    },
    {
     "name": "stderr",
     "output_type": "stream",
     "text": [
      "    122/250     0.508G    0.05411          9        224: 100%|██████████| 325/325 [00:17<00:00, 18.14it/s]\n",
      "               classes   top1_acc   top5_acc: 100%|██████████| 47/47 [00:01<00:00, 30.10it/s]"
     ]
    },
    {
     "name": "stdout",
     "output_type": "stream",
     "text": [
      "                   all      0.999          1\n"
     ]
    },
    {
     "name": "stderr",
     "output_type": "stream",
     "text": [
      "\n"
     ]
    },
    {
     "name": "stdout",
     "output_type": "stream",
     "text": [
      "\n",
      "      Epoch    GPU_mem       loss  Instances       Size\n"
     ]
    },
    {
     "name": "stderr",
     "output_type": "stream",
     "text": [
      "    123/250     0.508G    0.05828          9        224: 100%|██████████| 325/325 [00:16<00:00, 20.23it/s]\n",
      "               classes   top1_acc   top5_acc: 100%|██████████| 47/47 [00:01<00:00, 28.31it/s]"
     ]
    },
    {
     "name": "stdout",
     "output_type": "stream",
     "text": [
      "                   all      0.999          1\n"
     ]
    },
    {
     "name": "stderr",
     "output_type": "stream",
     "text": [
      "\n"
     ]
    },
    {
     "name": "stdout",
     "output_type": "stream",
     "text": [
      "\n",
      "      Epoch    GPU_mem       loss  Instances       Size\n"
     ]
    },
    {
     "name": "stderr",
     "output_type": "stream",
     "text": [
      "    124/250     0.508G    0.05456          9        224: 100%|██████████| 325/325 [00:17<00:00, 18.95it/s]\n",
      "               classes   top1_acc   top5_acc: 100%|██████████| 47/47 [00:01<00:00, 29.20it/s]"
     ]
    },
    {
     "name": "stdout",
     "output_type": "stream",
     "text": [
      "                   all      0.999          1\n"
     ]
    },
    {
     "name": "stderr",
     "output_type": "stream",
     "text": [
      "\n"
     ]
    },
    {
     "name": "stdout",
     "output_type": "stream",
     "text": [
      "\n",
      "      Epoch    GPU_mem       loss  Instances       Size\n"
     ]
    },
    {
     "name": "stderr",
     "output_type": "stream",
     "text": [
      "    125/250     0.508G    0.06162          9        224: 100%|██████████| 325/325 [00:16<00:00, 19.44it/s]\n",
      "               classes   top1_acc   top5_acc: 100%|██████████| 47/47 [00:01<00:00, 29.19it/s]"
     ]
    },
    {
     "name": "stdout",
     "output_type": "stream",
     "text": [
      "                   all      0.999          1\n"
     ]
    },
    {
     "name": "stderr",
     "output_type": "stream",
     "text": [
      "\n"
     ]
    },
    {
     "name": "stdout",
     "output_type": "stream",
     "text": [
      "\n",
      "      Epoch    GPU_mem       loss  Instances       Size\n"
     ]
    },
    {
     "name": "stderr",
     "output_type": "stream",
     "text": [
      "    126/250     0.508G    0.06038          9        224: 100%|██████████| 325/325 [00:15<00:00, 20.74it/s]\n",
      "               classes   top1_acc   top5_acc: 100%|██████████| 47/47 [00:01<00:00, 30.41it/s]"
     ]
    },
    {
     "name": "stdout",
     "output_type": "stream",
     "text": [
      "                   all      0.999          1\n"
     ]
    },
    {
     "name": "stderr",
     "output_type": "stream",
     "text": [
      "\n"
     ]
    },
    {
     "name": "stdout",
     "output_type": "stream",
     "text": [
      "\n",
      "      Epoch    GPU_mem       loss  Instances       Size\n"
     ]
    },
    {
     "name": "stderr",
     "output_type": "stream",
     "text": [
      "    127/250     0.508G    0.06422          9        224: 100%|██████████| 325/325 [00:16<00:00, 19.91it/s]\n",
      "               classes   top1_acc   top5_acc: 100%|██████████| 47/47 [00:01<00:00, 29.28it/s]"
     ]
    },
    {
     "name": "stdout",
     "output_type": "stream",
     "text": [
      "                   all      0.999          1\n"
     ]
    },
    {
     "name": "stderr",
     "output_type": "stream",
     "text": [
      "\n"
     ]
    },
    {
     "name": "stdout",
     "output_type": "stream",
     "text": [
      "\n",
      "      Epoch    GPU_mem       loss  Instances       Size\n"
     ]
    },
    {
     "name": "stderr",
     "output_type": "stream",
     "text": [
      "    128/250     0.505G    0.05511          9        224: 100%|██████████| 325/325 [00:16<00:00, 19.94it/s]\n",
      "               classes   top1_acc   top5_acc: 100%|██████████| 47/47 [00:01<00:00, 29.92it/s]"
     ]
    },
    {
     "name": "stdout",
     "output_type": "stream",
     "text": [
      "                   all      0.999          1\n"
     ]
    },
    {
     "name": "stderr",
     "output_type": "stream",
     "text": [
      "\n"
     ]
    },
    {
     "name": "stdout",
     "output_type": "stream",
     "text": [
      "\n",
      "      Epoch    GPU_mem       loss  Instances       Size\n"
     ]
    },
    {
     "name": "stderr",
     "output_type": "stream",
     "text": [
      "    129/250     0.508G    0.06244          9        224: 100%|██████████| 325/325 [00:16<00:00, 19.13it/s]\n",
      "               classes   top1_acc   top5_acc: 100%|██████████| 47/47 [00:01<00:00, 30.91it/s]"
     ]
    },
    {
     "name": "stdout",
     "output_type": "stream",
     "text": [
      "                   all      0.999          1\n"
     ]
    },
    {
     "name": "stderr",
     "output_type": "stream",
     "text": [
      "\n"
     ]
    },
    {
     "name": "stdout",
     "output_type": "stream",
     "text": [
      "\n",
      "      Epoch    GPU_mem       loss  Instances       Size\n"
     ]
    },
    {
     "name": "stderr",
     "output_type": "stream",
     "text": [
      "    130/250     0.508G    0.05628          9        224: 100%|██████████| 325/325 [00:17<00:00, 18.24it/s]\n",
      "               classes   top1_acc   top5_acc: 100%|██████████| 47/47 [00:01<00:00, 27.33it/s] "
     ]
    },
    {
     "name": "stdout",
     "output_type": "stream",
     "text": [
      "                   all      0.999          1\n"
     ]
    },
    {
     "name": "stderr",
     "output_type": "stream",
     "text": [
      "\n"
     ]
    },
    {
     "name": "stdout",
     "output_type": "stream",
     "text": [
      "\n",
      "      Epoch    GPU_mem       loss  Instances       Size\n"
     ]
    },
    {
     "name": "stderr",
     "output_type": "stream",
     "text": [
      "    131/250     0.508G    0.05132          9        224: 100%|██████████| 325/325 [00:17<00:00, 18.29it/s]\n",
      "               classes   top1_acc   top5_acc: 100%|██████████| 47/47 [00:01<00:00, 29.67it/s]"
     ]
    },
    {
     "name": "stdout",
     "output_type": "stream",
     "text": [
      "                   all      0.999          1\n"
     ]
    },
    {
     "name": "stderr",
     "output_type": "stream",
     "text": [
      "\n"
     ]
    },
    {
     "name": "stdout",
     "output_type": "stream",
     "text": [
      "\n",
      "      Epoch    GPU_mem       loss  Instances       Size\n"
     ]
    },
    {
     "name": "stderr",
     "output_type": "stream",
     "text": [
      "    132/250     0.505G    0.05501          9        224: 100%|██████████| 325/325 [00:18<00:00, 17.86it/s]\n",
      "               classes   top1_acc   top5_acc: 100%|██████████| 47/47 [00:01<00:00, 29.19it/s]"
     ]
    },
    {
     "name": "stdout",
     "output_type": "stream",
     "text": [
      "                   all      0.999          1\n"
     ]
    },
    {
     "name": "stderr",
     "output_type": "stream",
     "text": [
      "\n"
     ]
    },
    {
     "name": "stdout",
     "output_type": "stream",
     "text": [
      "\n",
      "      Epoch    GPU_mem       loss  Instances       Size\n"
     ]
    },
    {
     "name": "stderr",
     "output_type": "stream",
     "text": [
      "    133/250     0.508G     0.0561          9        224: 100%|██████████| 325/325 [00:16<00:00, 20.13it/s]\n",
      "               classes   top1_acc   top5_acc: 100%|██████████| 47/47 [00:01<00:00, 30.51it/s]"
     ]
    },
    {
     "name": "stdout",
     "output_type": "stream",
     "text": [
      "                   all      0.999          1\n"
     ]
    },
    {
     "name": "stderr",
     "output_type": "stream",
     "text": [
      "\n"
     ]
    },
    {
     "name": "stdout",
     "output_type": "stream",
     "text": [
      "\n",
      "      Epoch    GPU_mem       loss  Instances       Size\n"
     ]
    },
    {
     "name": "stderr",
     "output_type": "stream",
     "text": [
      "    134/250     0.508G    0.06314          9        224: 100%|██████████| 325/325 [00:16<00:00, 19.40it/s]\n",
      "               classes   top1_acc   top5_acc: 100%|██████████| 47/47 [00:01<00:00, 28.53it/s]"
     ]
    },
    {
     "name": "stdout",
     "output_type": "stream",
     "text": [
      "                   all      0.999          1\n"
     ]
    },
    {
     "name": "stderr",
     "output_type": "stream",
     "text": [
      "\n"
     ]
    },
    {
     "name": "stdout",
     "output_type": "stream",
     "text": [
      "\n",
      "      Epoch    GPU_mem       loss  Instances       Size\n"
     ]
    },
    {
     "name": "stderr",
     "output_type": "stream",
     "text": [
      "    135/250     0.508G    0.05074          9        224: 100%|██████████| 325/325 [00:15<00:00, 20.82it/s]\n",
      "               classes   top1_acc   top5_acc: 100%|██████████| 47/47 [00:01<00:00, 28.90it/s]\n"
     ]
    },
    {
     "name": "stdout",
     "output_type": "stream",
     "text": [
      "                   all      0.999          1\n",
      "\n",
      "      Epoch    GPU_mem       loss  Instances       Size\n"
     ]
    },
    {
     "name": "stderr",
     "output_type": "stream",
     "text": [
      "    136/250     0.505G    0.06019          9        224: 100%|██████████| 325/325 [00:17<00:00, 18.79it/s]\n",
      "               classes   top1_acc   top5_acc: 100%|██████████| 47/47 [00:01<00:00, 30.22it/s]"
     ]
    },
    {
     "name": "stdout",
     "output_type": "stream",
     "text": [
      "                   all      0.999          1\n"
     ]
    },
    {
     "name": "stderr",
     "output_type": "stream",
     "text": [
      "\n"
     ]
    },
    {
     "name": "stdout",
     "output_type": "stream",
     "text": [
      "\n",
      "      Epoch    GPU_mem       loss  Instances       Size\n"
     ]
    },
    {
     "name": "stderr",
     "output_type": "stream",
     "text": [
      "    137/250     0.508G    0.05539          9        224: 100%|██████████| 325/325 [00:17<00:00, 18.24it/s]\n",
      "               classes   top1_acc   top5_acc: 100%|██████████| 47/47 [00:01<00:00, 27.94it/s]"
     ]
    },
    {
     "name": "stdout",
     "output_type": "stream",
     "text": [
      "                   all      0.999          1\n"
     ]
    },
    {
     "name": "stderr",
     "output_type": "stream",
     "text": [
      "\n"
     ]
    },
    {
     "name": "stdout",
     "output_type": "stream",
     "text": [
      "\n",
      "      Epoch    GPU_mem       loss  Instances       Size\n"
     ]
    },
    {
     "name": "stderr",
     "output_type": "stream",
     "text": [
      "    138/250     0.508G     0.0585          9        224: 100%|██████████| 325/325 [00:16<00:00, 19.97it/s]\n",
      "               classes   top1_acc   top5_acc: 100%|██████████| 47/47 [00:01<00:00, 28.34it/s]"
     ]
    },
    {
     "name": "stdout",
     "output_type": "stream",
     "text": [
      "                   all      0.999          1\n"
     ]
    },
    {
     "name": "stderr",
     "output_type": "stream",
     "text": [
      "\n"
     ]
    },
    {
     "name": "stdout",
     "output_type": "stream",
     "text": [
      "\n",
      "      Epoch    GPU_mem       loss  Instances       Size\n"
     ]
    },
    {
     "name": "stderr",
     "output_type": "stream",
     "text": [
      "    139/250     0.508G    0.05552          9        224: 100%|██████████| 325/325 [00:16<00:00, 19.87it/s]\n",
      "               classes   top1_acc   top5_acc: 100%|██████████| 47/47 [00:01<00:00, 29.94it/s]"
     ]
    },
    {
     "name": "stdout",
     "output_type": "stream",
     "text": [
      "                   all      0.999          1\n"
     ]
    },
    {
     "name": "stderr",
     "output_type": "stream",
     "text": [
      "\n"
     ]
    },
    {
     "name": "stdout",
     "output_type": "stream",
     "text": [
      "\n",
      "      Epoch    GPU_mem       loss  Instances       Size\n"
     ]
    },
    {
     "name": "stderr",
     "output_type": "stream",
     "text": [
      "    140/250     0.508G    0.05707          9        224: 100%|██████████| 325/325 [00:15<00:00, 20.34it/s]\n",
      "               classes   top1_acc   top5_acc: 100%|██████████| 47/47 [00:01<00:00, 29.27it/s]\n"
     ]
    },
    {
     "name": "stdout",
     "output_type": "stream",
     "text": [
      "                   all      0.999          1\n",
      "\n",
      "      Epoch    GPU_mem       loss  Instances       Size\n"
     ]
    },
    {
     "name": "stderr",
     "output_type": "stream",
     "text": [
      "    141/250     0.508G    0.05497          9        224: 100%|██████████| 325/325 [00:17<00:00, 18.16it/s]\n",
      "               classes   top1_acc   top5_acc: 100%|██████████| 47/47 [00:01<00:00, 28.55it/s]"
     ]
    },
    {
     "name": "stdout",
     "output_type": "stream",
     "text": [
      "                   all      0.999          1\n"
     ]
    },
    {
     "name": "stderr",
     "output_type": "stream",
     "text": [
      "\n"
     ]
    },
    {
     "name": "stdout",
     "output_type": "stream",
     "text": [
      "\n",
      "      Epoch    GPU_mem       loss  Instances       Size\n"
     ]
    },
    {
     "name": "stderr",
     "output_type": "stream",
     "text": [
      "    142/250     0.508G    0.05721          9        224: 100%|██████████| 325/325 [00:17<00:00, 19.04it/s]\n",
      "               classes   top1_acc   top5_acc: 100%|██████████| 47/47 [00:01<00:00, 27.30it/s]"
     ]
    },
    {
     "name": "stdout",
     "output_type": "stream",
     "text": [
      "                   all      0.999          1\n"
     ]
    },
    {
     "name": "stderr",
     "output_type": "stream",
     "text": [
      "\n"
     ]
    },
    {
     "name": "stdout",
     "output_type": "stream",
     "text": [
      "\n",
      "      Epoch    GPU_mem       loss  Instances       Size\n"
     ]
    },
    {
     "name": "stderr",
     "output_type": "stream",
     "text": [
      "    143/250     0.508G    0.06116          9        224: 100%|██████████| 325/325 [00:14<00:00, 22.13it/s]\n",
      "               classes   top1_acc   top5_acc: 100%|██████████| 47/47 [00:01<00:00, 29.24it/s]"
     ]
    },
    {
     "name": "stdout",
     "output_type": "stream",
     "text": [
      "                   all      0.999          1\n"
     ]
    },
    {
     "name": "stderr",
     "output_type": "stream",
     "text": [
      "\n"
     ]
    },
    {
     "name": "stdout",
     "output_type": "stream",
     "text": [
      "\n",
      "      Epoch    GPU_mem       loss  Instances       Size\n"
     ]
    },
    {
     "name": "stderr",
     "output_type": "stream",
     "text": [
      "    144/250     0.505G    0.05372          9        224: 100%|██████████| 325/325 [00:17<00:00, 18.94it/s]\n",
      "               classes   top1_acc   top5_acc: 100%|██████████| 47/47 [00:01<00:00, 28.91it/s]"
     ]
    },
    {
     "name": "stdout",
     "output_type": "stream",
     "text": [
      "                   all      0.999          1\n"
     ]
    },
    {
     "name": "stderr",
     "output_type": "stream",
     "text": [
      "\n"
     ]
    },
    {
     "name": "stdout",
     "output_type": "stream",
     "text": [
      "\n",
      "      Epoch    GPU_mem       loss  Instances       Size\n"
     ]
    },
    {
     "name": "stderr",
     "output_type": "stream",
     "text": [
      "    145/250     0.508G     0.0429          9        224: 100%|██████████| 325/325 [00:16<00:00, 19.69it/s]\n",
      "               classes   top1_acc   top5_acc: 100%|██████████| 47/47 [00:01<00:00, 29.61it/s]"
     ]
    },
    {
     "name": "stdout",
     "output_type": "stream",
     "text": [
      "                   all      0.999          1\n"
     ]
    },
    {
     "name": "stderr",
     "output_type": "stream",
     "text": [
      "\n"
     ]
    },
    {
     "name": "stdout",
     "output_type": "stream",
     "text": [
      "\n",
      "      Epoch    GPU_mem       loss  Instances       Size\n"
     ]
    },
    {
     "name": "stderr",
     "output_type": "stream",
     "text": [
      "    146/250     0.508G     0.0577          9        224: 100%|██████████| 325/325 [00:16<00:00, 19.31it/s]\n",
      "               classes   top1_acc   top5_acc: 100%|██████████| 47/47 [00:01<00:00, 28.68it/s]"
     ]
    },
    {
     "name": "stdout",
     "output_type": "stream",
     "text": [
      "                   all      0.999          1\n"
     ]
    },
    {
     "name": "stderr",
     "output_type": "stream",
     "text": [
      "\n"
     ]
    },
    {
     "name": "stdout",
     "output_type": "stream",
     "text": [
      "\n",
      "      Epoch    GPU_mem       loss  Instances       Size\n"
     ]
    },
    {
     "name": "stderr",
     "output_type": "stream",
     "text": [
      "    147/250     0.508G    0.05346          9        224: 100%|██████████| 325/325 [00:17<00:00, 18.52it/s]\n",
      "               classes   top1_acc   top5_acc: 100%|██████████| 47/47 [00:01<00:00, 29.92it/s]"
     ]
    },
    {
     "name": "stdout",
     "output_type": "stream",
     "text": [
      "                   all      0.999          1\n"
     ]
    },
    {
     "name": "stderr",
     "output_type": "stream",
     "text": [
      "\n"
     ]
    },
    {
     "name": "stdout",
     "output_type": "stream",
     "text": [
      "\n",
      "      Epoch    GPU_mem       loss  Instances       Size\n"
     ]
    },
    {
     "name": "stderr",
     "output_type": "stream",
     "text": [
      "    148/250     0.505G    0.04044          9        224: 100%|██████████| 325/325 [00:17<00:00, 18.78it/s]\n",
      "               classes   top1_acc   top5_acc: 100%|██████████| 47/47 [00:01<00:00, 27.98it/s]"
     ]
    },
    {
     "name": "stdout",
     "output_type": "stream",
     "text": [
      "                   all      0.999          1\n"
     ]
    },
    {
     "name": "stderr",
     "output_type": "stream",
     "text": [
      "\n"
     ]
    },
    {
     "name": "stdout",
     "output_type": "stream",
     "text": [
      "\n",
      "      Epoch    GPU_mem       loss  Instances       Size\n"
     ]
    },
    {
     "name": "stderr",
     "output_type": "stream",
     "text": [
      "    149/250     0.508G    0.05355          9        224: 100%|██████████| 325/325 [00:15<00:00, 20.95it/s]\n",
      "               classes   top1_acc   top5_acc: 100%|██████████| 47/47 [00:01<00:00, 28.85it/s]"
     ]
    },
    {
     "name": "stdout",
     "output_type": "stream",
     "text": [
      "                   all      0.999          1\n"
     ]
    },
    {
     "name": "stderr",
     "output_type": "stream",
     "text": [
      "\n"
     ]
    },
    {
     "name": "stdout",
     "output_type": "stream",
     "text": [
      "\n",
      "      Epoch    GPU_mem       loss  Instances       Size\n"
     ]
    },
    {
     "name": "stderr",
     "output_type": "stream",
     "text": [
      "    150/250     0.508G    0.05503          9        224: 100%|██████████| 325/325 [00:16<00:00, 19.32it/s]\n",
      "               classes   top1_acc   top5_acc: 100%|██████████| 47/47 [00:01<00:00, 30.30it/s]"
     ]
    },
    {
     "name": "stdout",
     "output_type": "stream",
     "text": [
      "                   all      0.999          1\n"
     ]
    },
    {
     "name": "stderr",
     "output_type": "stream",
     "text": [
      "\n"
     ]
    },
    {
     "name": "stdout",
     "output_type": "stream",
     "text": [
      "\n",
      "      Epoch    GPU_mem       loss  Instances       Size\n"
     ]
    },
    {
     "name": "stderr",
     "output_type": "stream",
     "text": [
      "    151/250     0.508G    0.05579          9        224: 100%|██████████| 325/325 [00:16<00:00, 19.38it/s]\n",
      "               classes   top1_acc   top5_acc: 100%|██████████| 47/47 [00:01<00:00, 30.59it/s]"
     ]
    },
    {
     "name": "stdout",
     "output_type": "stream",
     "text": [
      "                   all      0.999          1\n"
     ]
    },
    {
     "name": "stderr",
     "output_type": "stream",
     "text": [
      "\n"
     ]
    },
    {
     "name": "stdout",
     "output_type": "stream",
     "text": [
      "\n",
      "      Epoch    GPU_mem       loss  Instances       Size\n"
     ]
    },
    {
     "name": "stderr",
     "output_type": "stream",
     "text": [
      "    152/250     0.505G    0.04553          9        224: 100%|██████████| 325/325 [00:18<00:00, 17.99it/s]\n",
      "               classes   top1_acc   top5_acc: 100%|██████████| 47/47 [00:01<00:00, 29.51it/s]"
     ]
    },
    {
     "name": "stdout",
     "output_type": "stream",
     "text": [
      "                   all      0.998          1\n"
     ]
    },
    {
     "name": "stderr",
     "output_type": "stream",
     "text": [
      "\n"
     ]
    },
    {
     "name": "stdout",
     "output_type": "stream",
     "text": [
      "\n",
      "      Epoch    GPU_mem       loss  Instances       Size\n"
     ]
    },
    {
     "name": "stderr",
     "output_type": "stream",
     "text": [
      "    153/250     0.508G    0.04491          9        224: 100%|██████████| 325/325 [00:16<00:00, 19.13it/s]\n",
      "               classes   top1_acc   top5_acc: 100%|██████████| 47/47 [00:01<00:00, 29.11it/s]"
     ]
    },
    {
     "name": "stdout",
     "output_type": "stream",
     "text": [
      "                   all      0.998          1\n"
     ]
    },
    {
     "name": "stderr",
     "output_type": "stream",
     "text": [
      "\n"
     ]
    },
    {
     "name": "stdout",
     "output_type": "stream",
     "text": [
      "\n",
      "      Epoch    GPU_mem       loss  Instances       Size\n"
     ]
    },
    {
     "name": "stderr",
     "output_type": "stream",
     "text": [
      "    154/250     0.508G    0.04102          9        224: 100%|██████████| 325/325 [00:15<00:00, 20.33it/s]\n",
      "               classes   top1_acc   top5_acc: 100%|██████████| 47/47 [00:01<00:00, 29.20it/s]"
     ]
    },
    {
     "name": "stdout",
     "output_type": "stream",
     "text": [
      "                   all      0.998          1\n"
     ]
    },
    {
     "name": "stderr",
     "output_type": "stream",
     "text": [
      "\n"
     ]
    },
    {
     "name": "stdout",
     "output_type": "stream",
     "text": [
      "\n",
      "      Epoch    GPU_mem       loss  Instances       Size\n"
     ]
    },
    {
     "name": "stderr",
     "output_type": "stream",
     "text": [
      "    155/250      0.51G    0.04929          9        224: 100%|██████████| 325/325 [00:15<00:00, 20.84it/s]\n",
      "               classes   top1_acc   top5_acc: 100%|██████████| 47/47 [00:01<00:00, 30.41it/s]"
     ]
    },
    {
     "name": "stdout",
     "output_type": "stream",
     "text": [
      "                   all      0.999          1\n"
     ]
    },
    {
     "name": "stderr",
     "output_type": "stream",
     "text": [
      "\n"
     ]
    },
    {
     "name": "stdout",
     "output_type": "stream",
     "text": [
      "\n",
      "      Epoch    GPU_mem       loss  Instances       Size\n"
     ]
    },
    {
     "name": "stderr",
     "output_type": "stream",
     "text": [
      "    156/250     0.505G     0.0519          9        224: 100%|██████████| 325/325 [00:17<00:00, 18.90it/s]\n",
      "               classes   top1_acc   top5_acc: 100%|██████████| 47/47 [00:01<00:00, 29.87it/s]"
     ]
    },
    {
     "name": "stdout",
     "output_type": "stream",
     "text": [
      "                   all      0.999          1\n"
     ]
    },
    {
     "name": "stderr",
     "output_type": "stream",
     "text": [
      "\n"
     ]
    },
    {
     "name": "stdout",
     "output_type": "stream",
     "text": [
      "\n",
      "      Epoch    GPU_mem       loss  Instances       Size\n"
     ]
    },
    {
     "name": "stderr",
     "output_type": "stream",
     "text": [
      "    157/250     0.508G    0.05443          9        224: 100%|██████████| 325/325 [00:17<00:00, 18.34it/s]\n",
      "               classes   top1_acc   top5_acc: 100%|██████████| 47/47 [00:01<00:00, 28.30it/s]"
     ]
    },
    {
     "name": "stdout",
     "output_type": "stream",
     "text": [
      "                   all      0.999          1\n"
     ]
    },
    {
     "name": "stderr",
     "output_type": "stream",
     "text": [
      "\n"
     ]
    },
    {
     "name": "stdout",
     "output_type": "stream",
     "text": [
      "\n",
      "      Epoch    GPU_mem       loss  Instances       Size\n"
     ]
    },
    {
     "name": "stderr",
     "output_type": "stream",
     "text": [
      "    158/250     0.508G    0.04823          9        224: 100%|██████████| 325/325 [00:17<00:00, 18.33it/s]\n",
      "               classes   top1_acc   top5_acc: 100%|██████████| 47/47 [00:01<00:00, 29.53it/s]"
     ]
    },
    {
     "name": "stdout",
     "output_type": "stream",
     "text": [
      "                   all      0.999          1\n"
     ]
    },
    {
     "name": "stderr",
     "output_type": "stream",
     "text": [
      "\n"
     ]
    },
    {
     "name": "stdout",
     "output_type": "stream",
     "text": [
      "\n",
      "      Epoch    GPU_mem       loss  Instances       Size\n"
     ]
    },
    {
     "name": "stderr",
     "output_type": "stream",
     "text": [
      "    159/250     0.508G    0.04453          9        224: 100%|██████████| 325/325 [00:16<00:00, 19.43it/s]\n",
      "               classes   top1_acc   top5_acc: 100%|██████████| 47/47 [00:01<00:00, 29.93it/s]"
     ]
    },
    {
     "name": "stdout",
     "output_type": "stream",
     "text": [
      "                   all      0.999          1\n"
     ]
    },
    {
     "name": "stderr",
     "output_type": "stream",
     "text": [
      "\n"
     ]
    },
    {
     "name": "stdout",
     "output_type": "stream",
     "text": [
      "\n",
      "      Epoch    GPU_mem       loss  Instances       Size\n"
     ]
    },
    {
     "name": "stderr",
     "output_type": "stream",
     "text": [
      "    160/250     0.508G    0.05259          9        224: 100%|██████████| 325/325 [00:17<00:00, 19.06it/s]\n",
      "               classes   top1_acc   top5_acc: 100%|██████████| 47/47 [00:01<00:00, 28.95it/s]"
     ]
    },
    {
     "name": "stdout",
     "output_type": "stream",
     "text": [
      "                   all      0.999          1\n"
     ]
    },
    {
     "name": "stderr",
     "output_type": "stream",
     "text": [
      "\n"
     ]
    },
    {
     "name": "stdout",
     "output_type": "stream",
     "text": [
      "\n",
      "      Epoch    GPU_mem       loss  Instances       Size\n"
     ]
    },
    {
     "name": "stderr",
     "output_type": "stream",
     "text": [
      "    161/250     0.508G    0.04084          9        224: 100%|██████████| 325/325 [00:17<00:00, 18.51it/s]\n",
      "               classes   top1_acc   top5_acc: 100%|██████████| 47/47 [00:01<00:00, 29.56it/s]"
     ]
    },
    {
     "name": "stdout",
     "output_type": "stream",
     "text": [
      "                   all      0.999          1\n"
     ]
    },
    {
     "name": "stderr",
     "output_type": "stream",
     "text": [
      "\n"
     ]
    },
    {
     "name": "stdout",
     "output_type": "stream",
     "text": [
      "\n",
      "      Epoch    GPU_mem       loss  Instances       Size\n"
     ]
    },
    {
     "name": "stderr",
     "output_type": "stream",
     "text": [
      "    162/250     0.508G     0.0446          9        224: 100%|██████████| 325/325 [00:14<00:00, 22.86it/s]\n",
      "               classes   top1_acc   top5_acc: 100%|██████████| 47/47 [00:01<00:00, 30.49it/s]"
     ]
    },
    {
     "name": "stdout",
     "output_type": "stream",
     "text": [
      "                   all      0.999          1\n"
     ]
    },
    {
     "name": "stderr",
     "output_type": "stream",
     "text": [
      "\n"
     ]
    },
    {
     "name": "stdout",
     "output_type": "stream",
     "text": [
      "\n",
      "      Epoch    GPU_mem       loss  Instances       Size\n"
     ]
    },
    {
     "name": "stderr",
     "output_type": "stream",
     "text": [
      "    163/250     0.508G    0.03987          9        224: 100%|██████████| 325/325 [00:15<00:00, 20.83it/s]\n",
      "               classes   top1_acc   top5_acc: 100%|██████████| 47/47 [00:01<00:00, 29.46it/s]"
     ]
    },
    {
     "name": "stdout",
     "output_type": "stream",
     "text": [
      "                   all      0.999          1\n"
     ]
    },
    {
     "name": "stderr",
     "output_type": "stream",
     "text": [
      "\n"
     ]
    },
    {
     "name": "stdout",
     "output_type": "stream",
     "text": [
      "\n",
      "      Epoch    GPU_mem       loss  Instances       Size\n"
     ]
    },
    {
     "name": "stderr",
     "output_type": "stream",
     "text": [
      "    164/250     0.508G    0.03982          9        224: 100%|██████████| 325/325 [00:17<00:00, 19.08it/s]\n",
      "               classes   top1_acc   top5_acc: 100%|██████████| 47/47 [00:01<00:00, 30.47it/s]"
     ]
    },
    {
     "name": "stdout",
     "output_type": "stream",
     "text": [
      "                   all      0.999          1\n"
     ]
    },
    {
     "name": "stderr",
     "output_type": "stream",
     "text": [
      "\n"
     ]
    },
    {
     "name": "stdout",
     "output_type": "stream",
     "text": [
      "\n",
      "      Epoch    GPU_mem       loss  Instances       Size\n"
     ]
    },
    {
     "name": "stderr",
     "output_type": "stream",
     "text": [
      "    165/250     0.508G     0.0391          9        224: 100%|██████████| 325/325 [00:18<00:00, 17.62it/s]\n",
      "               classes   top1_acc   top5_acc: 100%|██████████| 47/47 [00:01<00:00, 30.62it/s]"
     ]
    },
    {
     "name": "stdout",
     "output_type": "stream",
     "text": [
      "                   all      0.999          1\n"
     ]
    },
    {
     "name": "stderr",
     "output_type": "stream",
     "text": [
      "\n"
     ]
    },
    {
     "name": "stdout",
     "output_type": "stream",
     "text": [
      "\n",
      "      Epoch    GPU_mem       loss  Instances       Size\n"
     ]
    },
    {
     "name": "stderr",
     "output_type": "stream",
     "text": [
      "    166/250     0.508G     0.0442          9        224: 100%|██████████| 325/325 [00:17<00:00, 18.63it/s]\n",
      "               classes   top1_acc   top5_acc: 100%|██████████| 47/47 [00:01<00:00, 30.73it/s]"
     ]
    },
    {
     "name": "stdout",
     "output_type": "stream",
     "text": [
      "                   all      0.999          1\n"
     ]
    },
    {
     "name": "stderr",
     "output_type": "stream",
     "text": [
      "\n"
     ]
    },
    {
     "name": "stdout",
     "output_type": "stream",
     "text": [
      "\n",
      "      Epoch    GPU_mem       loss  Instances       Size\n"
     ]
    },
    {
     "name": "stderr",
     "output_type": "stream",
     "text": [
      "    167/250     0.508G    0.03728          9        224: 100%|██████████| 325/325 [00:16<00:00, 19.32it/s]\n",
      "               classes   top1_acc   top5_acc: 100%|██████████| 47/47 [00:01<00:00, 31.01it/s]"
     ]
    },
    {
     "name": "stdout",
     "output_type": "stream",
     "text": [
      "                   all      0.999          1\n"
     ]
    },
    {
     "name": "stderr",
     "output_type": "stream",
     "text": [
      "\n"
     ]
    },
    {
     "name": "stdout",
     "output_type": "stream",
     "text": [
      "\n",
      "      Epoch    GPU_mem       loss  Instances       Size\n"
     ]
    },
    {
     "name": "stderr",
     "output_type": "stream",
     "text": [
      "    168/250     0.505G    0.03884          9        224: 100%|██████████| 325/325 [00:18<00:00, 17.43it/s]\n",
      "               classes   top1_acc   top5_acc: 100%|██████████| 47/47 [00:01<00:00, 29.33it/s]"
     ]
    },
    {
     "name": "stdout",
     "output_type": "stream",
     "text": [
      "                   all      0.999          1\n"
     ]
    },
    {
     "name": "stderr",
     "output_type": "stream",
     "text": [
      "\n"
     ]
    },
    {
     "name": "stdout",
     "output_type": "stream",
     "text": [
      "\n",
      "      Epoch    GPU_mem       loss  Instances       Size\n"
     ]
    },
    {
     "name": "stderr",
     "output_type": "stream",
     "text": [
      "    169/250     0.508G    0.05265          9        224: 100%|██████████| 325/325 [00:17<00:00, 18.14it/s]\n",
      "               classes   top1_acc   top5_acc: 100%|██████████| 47/47 [00:01<00:00, 29.57it/s]"
     ]
    },
    {
     "name": "stdout",
     "output_type": "stream",
     "text": [
      "                   all      0.999          1\n"
     ]
    },
    {
     "name": "stderr",
     "output_type": "stream",
     "text": [
      "\n"
     ]
    },
    {
     "name": "stdout",
     "output_type": "stream",
     "text": [
      "\n",
      "      Epoch    GPU_mem       loss  Instances       Size\n"
     ]
    },
    {
     "name": "stderr",
     "output_type": "stream",
     "text": [
      "    170/250     0.508G    0.03715          9        224: 100%|██████████| 325/325 [00:17<00:00, 18.77it/s]\n",
      "               classes   top1_acc   top5_acc: 100%|██████████| 47/47 [00:01<00:00, 29.72it/s]"
     ]
    },
    {
     "name": "stdout",
     "output_type": "stream",
     "text": [
      "                   all      0.999          1\n"
     ]
    },
    {
     "name": "stderr",
     "output_type": "stream",
     "text": [
      "\n"
     ]
    },
    {
     "name": "stdout",
     "output_type": "stream",
     "text": [
      "\n",
      "      Epoch    GPU_mem       loss  Instances       Size\n"
     ]
    },
    {
     "name": "stderr",
     "output_type": "stream",
     "text": [
      "    171/250     0.508G     0.0452          9        224: 100%|██████████| 325/325 [00:16<00:00, 19.58it/s]\n",
      "               classes   top1_acc   top5_acc: 100%|██████████| 47/47 [00:01<00:00, 28.11it/s]"
     ]
    },
    {
     "name": "stdout",
     "output_type": "stream",
     "text": [
      "                   all      0.999          1\n"
     ]
    },
    {
     "name": "stderr",
     "output_type": "stream",
     "text": [
      "\n"
     ]
    },
    {
     "name": "stdout",
     "output_type": "stream",
     "text": [
      "\n",
      "      Epoch    GPU_mem       loss  Instances       Size\n"
     ]
    },
    {
     "name": "stderr",
     "output_type": "stream",
     "text": [
      "    172/250     0.505G    0.04533          9        224: 100%|██████████| 325/325 [00:17<00:00, 18.36it/s]\n",
      "               classes   top1_acc   top5_acc: 100%|██████████| 47/47 [00:01<00:00, 29.93it/s]"
     ]
    },
    {
     "name": "stdout",
     "output_type": "stream",
     "text": [
      "                   all      0.999          1\n"
     ]
    },
    {
     "name": "stderr",
     "output_type": "stream",
     "text": [
      "\n"
     ]
    },
    {
     "name": "stdout",
     "output_type": "stream",
     "text": [
      "\n",
      "      Epoch    GPU_mem       loss  Instances       Size\n"
     ]
    },
    {
     "name": "stderr",
     "output_type": "stream",
     "text": [
      "    173/250     0.508G    0.04491          9        224: 100%|██████████| 325/325 [00:15<00:00, 20.50it/s]\n",
      "               classes   top1_acc   top5_acc: 100%|██████████| 47/47 [00:01<00:00, 30.26it/s]\n"
     ]
    },
    {
     "name": "stdout",
     "output_type": "stream",
     "text": [
      "                   all      0.999          1\n",
      "\n",
      "      Epoch    GPU_mem       loss  Instances       Size\n"
     ]
    },
    {
     "name": "stderr",
     "output_type": "stream",
     "text": [
      "    174/250     0.508G    0.04433          9        224: 100%|██████████| 325/325 [00:16<00:00, 20.25it/s]\n",
      "               classes   top1_acc   top5_acc: 100%|██████████| 47/47 [00:01<00:00, 29.60it/s]"
     ]
    },
    {
     "name": "stdout",
     "output_type": "stream",
     "text": [
      "                   all      0.999          1\n"
     ]
    },
    {
     "name": "stderr",
     "output_type": "stream",
     "text": [
      "\n"
     ]
    },
    {
     "name": "stdout",
     "output_type": "stream",
     "text": [
      "\n",
      "      Epoch    GPU_mem       loss  Instances       Size\n"
     ]
    },
    {
     "name": "stderr",
     "output_type": "stream",
     "text": [
      "    175/250     0.508G    0.03289          9        224: 100%|██████████| 325/325 [00:17<00:00, 18.62it/s]\n",
      "               classes   top1_acc   top5_acc: 100%|██████████| 47/47 [00:01<00:00, 30.61it/s]"
     ]
    },
    {
     "name": "stdout",
     "output_type": "stream",
     "text": [
      "                   all      0.999          1\n"
     ]
    },
    {
     "name": "stderr",
     "output_type": "stream",
     "text": [
      "\n"
     ]
    },
    {
     "name": "stdout",
     "output_type": "stream",
     "text": [
      "\n",
      "      Epoch    GPU_mem       loss  Instances       Size\n"
     ]
    },
    {
     "name": "stderr",
     "output_type": "stream",
     "text": [
      "    176/250     0.505G    0.03557          9        224: 100%|██████████| 325/325 [00:17<00:00, 18.81it/s]\n",
      "               classes   top1_acc   top5_acc: 100%|██████████| 47/47 [00:01<00:00, 26.40it/s]"
     ]
    },
    {
     "name": "stdout",
     "output_type": "stream",
     "text": [
      "                   all      0.999          1\n"
     ]
    },
    {
     "name": "stderr",
     "output_type": "stream",
     "text": [
      "\n"
     ]
    },
    {
     "name": "stdout",
     "output_type": "stream",
     "text": [
      "\n",
      "      Epoch    GPU_mem       loss  Instances       Size\n"
     ]
    },
    {
     "name": "stderr",
     "output_type": "stream",
     "text": [
      "    177/250     0.508G    0.03269          9        224: 100%|██████████| 325/325 [00:18<00:00, 17.68it/s]\n",
      "               classes   top1_acc   top5_acc: 100%|██████████| 47/47 [00:01<00:00, 30.08it/s]"
     ]
    },
    {
     "name": "stdout",
     "output_type": "stream",
     "text": [
      "                   all      0.999          1\n"
     ]
    },
    {
     "name": "stderr",
     "output_type": "stream",
     "text": [
      "\n"
     ]
    },
    {
     "name": "stdout",
     "output_type": "stream",
     "text": [
      "\n",
      "      Epoch    GPU_mem       loss  Instances       Size\n"
     ]
    },
    {
     "name": "stderr",
     "output_type": "stream",
     "text": [
      "    178/250     0.508G    0.03889          9        224: 100%|██████████| 325/325 [00:16<00:00, 19.27it/s]\n",
      "               classes   top1_acc   top5_acc: 100%|██████████| 47/47 [00:01<00:00, 28.00it/s]"
     ]
    },
    {
     "name": "stdout",
     "output_type": "stream",
     "text": [
      "                   all      0.999          1\n"
     ]
    },
    {
     "name": "stderr",
     "output_type": "stream",
     "text": [
      "\n"
     ]
    },
    {
     "name": "stdout",
     "output_type": "stream",
     "text": [
      "\n",
      "      Epoch    GPU_mem       loss  Instances       Size\n"
     ]
    },
    {
     "name": "stderr",
     "output_type": "stream",
     "text": [
      "    179/250     0.508G    0.03864          9        224: 100%|██████████| 325/325 [00:17<00:00, 18.59it/s]\n",
      "               classes   top1_acc   top5_acc: 100%|██████████| 47/47 [00:01<00:00, 29.27it/s]"
     ]
    },
    {
     "name": "stdout",
     "output_type": "stream",
     "text": [
      "                   all      0.999          1\n"
     ]
    },
    {
     "name": "stderr",
     "output_type": "stream",
     "text": [
      "\n"
     ]
    },
    {
     "name": "stdout",
     "output_type": "stream",
     "text": [
      "\n",
      "      Epoch    GPU_mem       loss  Instances       Size\n"
     ]
    },
    {
     "name": "stderr",
     "output_type": "stream",
     "text": [
      "    180/250     0.508G    0.03025          9        224: 100%|██████████| 325/325 [00:17<00:00, 19.09it/s]\n",
      "               classes   top1_acc   top5_acc: 100%|██████████| 47/47 [00:01<00:00, 30.31it/s]"
     ]
    },
    {
     "name": "stdout",
     "output_type": "stream",
     "text": [
      "                   all      0.999          1\n"
     ]
    },
    {
     "name": "stderr",
     "output_type": "stream",
     "text": [
      "\n"
     ]
    },
    {
     "name": "stdout",
     "output_type": "stream",
     "text": [
      "\n",
      "      Epoch    GPU_mem       loss  Instances       Size\n"
     ]
    },
    {
     "name": "stderr",
     "output_type": "stream",
     "text": [
      "    181/250     0.508G    0.04092          9        224: 100%|██████████| 325/325 [00:17<00:00, 18.71it/s]\n",
      "               classes   top1_acc   top5_acc: 100%|██████████| 47/47 [00:01<00:00, 29.53it/s]"
     ]
    },
    {
     "name": "stdout",
     "output_type": "stream",
     "text": [
      "                   all      0.999          1\n"
     ]
    },
    {
     "name": "stderr",
     "output_type": "stream",
     "text": [
      "\n"
     ]
    },
    {
     "name": "stdout",
     "output_type": "stream",
     "text": [
      "\n",
      "      Epoch    GPU_mem       loss  Instances       Size\n"
     ]
    },
    {
     "name": "stderr",
     "output_type": "stream",
     "text": [
      "    182/250     0.508G    0.04134          9        224: 100%|██████████| 325/325 [00:16<00:00, 19.87it/s]\n",
      "               classes   top1_acc   top5_acc: 100%|██████████| 47/47 [00:01<00:00, 29.95it/s]"
     ]
    },
    {
     "name": "stdout",
     "output_type": "stream",
     "text": [
      "                   all      0.999          1\n"
     ]
    },
    {
     "name": "stderr",
     "output_type": "stream",
     "text": [
      "\n"
     ]
    },
    {
     "name": "stdout",
     "output_type": "stream",
     "text": [
      "\n",
      "      Epoch    GPU_mem       loss  Instances       Size\n"
     ]
    },
    {
     "name": "stderr",
     "output_type": "stream",
     "text": [
      "    183/250     0.508G    0.04284          9        224: 100%|██████████| 325/325 [00:16<00:00, 19.44it/s]\n",
      "               classes   top1_acc   top5_acc: 100%|██████████| 47/47 [00:01<00:00, 28.38it/s]"
     ]
    },
    {
     "name": "stdout",
     "output_type": "stream",
     "text": [
      "                   all      0.999          1\n"
     ]
    },
    {
     "name": "stderr",
     "output_type": "stream",
     "text": [
      "\n"
     ]
    },
    {
     "name": "stdout",
     "output_type": "stream",
     "text": [
      "\n",
      "      Epoch    GPU_mem       loss  Instances       Size\n"
     ]
    },
    {
     "name": "stderr",
     "output_type": "stream",
     "text": [
      "    184/250     0.505G    0.03494          9        224: 100%|██████████| 325/325 [00:16<00:00, 19.97it/s]\n",
      "               classes   top1_acc   top5_acc: 100%|██████████| 47/47 [00:01<00:00, 29.30it/s]"
     ]
    },
    {
     "name": "stdout",
     "output_type": "stream",
     "text": [
      "                   all      0.999          1\n"
     ]
    },
    {
     "name": "stderr",
     "output_type": "stream",
     "text": [
      "\n"
     ]
    },
    {
     "name": "stdout",
     "output_type": "stream",
     "text": [
      "\n",
      "      Epoch    GPU_mem       loss  Instances       Size\n"
     ]
    },
    {
     "name": "stderr",
     "output_type": "stream",
     "text": [
      "    185/250     0.508G    0.03299          9        224: 100%|██████████| 325/325 [00:15<00:00, 20.94it/s]\n",
      "               classes   top1_acc   top5_acc: 100%|██████████| 47/47 [00:01<00:00, 30.57it/s]"
     ]
    },
    {
     "name": "stdout",
     "output_type": "stream",
     "text": [
      "                   all      0.999          1\n"
     ]
    },
    {
     "name": "stderr",
     "output_type": "stream",
     "text": [
      "\n"
     ]
    },
    {
     "name": "stdout",
     "output_type": "stream",
     "text": [
      "\n",
      "      Epoch    GPU_mem       loss  Instances       Size\n"
     ]
    },
    {
     "name": "stderr",
     "output_type": "stream",
     "text": [
      "    186/250     0.508G    0.03608          9        224: 100%|██████████| 325/325 [00:17<00:00, 18.54it/s]\n",
      "               classes   top1_acc   top5_acc: 100%|██████████| 47/47 [00:01<00:00, 27.83it/s]"
     ]
    },
    {
     "name": "stdout",
     "output_type": "stream",
     "text": [
      "                   all      0.999          1\n"
     ]
    },
    {
     "name": "stderr",
     "output_type": "stream",
     "text": [
      "\n"
     ]
    },
    {
     "name": "stdout",
     "output_type": "stream",
     "text": [
      "\n",
      "      Epoch    GPU_mem       loss  Instances       Size\n"
     ]
    },
    {
     "name": "stderr",
     "output_type": "stream",
     "text": [
      "    187/250     0.508G    0.03297          9        224: 100%|██████████| 325/325 [00:16<00:00, 19.43it/s]\n",
      "               classes   top1_acc   top5_acc: 100%|██████████| 47/47 [00:01<00:00, 31.04it/s]"
     ]
    },
    {
     "name": "stdout",
     "output_type": "stream",
     "text": [
      "                   all      0.999          1\n"
     ]
    },
    {
     "name": "stderr",
     "output_type": "stream",
     "text": [
      "\n"
     ]
    },
    {
     "name": "stdout",
     "output_type": "stream",
     "text": [
      "\n",
      "      Epoch    GPU_mem       loss  Instances       Size\n"
     ]
    },
    {
     "name": "stderr",
     "output_type": "stream",
     "text": [
      "    188/250     0.505G    0.03196          9        224: 100%|██████████| 325/325 [00:17<00:00, 18.67it/s]\n",
      "               classes   top1_acc   top5_acc: 100%|██████████| 47/47 [00:01<00:00, 29.78it/s]"
     ]
    },
    {
     "name": "stdout",
     "output_type": "stream",
     "text": [
      "                   all      0.999          1\n"
     ]
    },
    {
     "name": "stderr",
     "output_type": "stream",
     "text": [
      "\n"
     ]
    },
    {
     "name": "stdout",
     "output_type": "stream",
     "text": [
      "\n",
      "      Epoch    GPU_mem       loss  Instances       Size\n"
     ]
    },
    {
     "name": "stderr",
     "output_type": "stream",
     "text": [
      "    189/250     0.508G    0.03354          9        224: 100%|██████████| 325/325 [00:16<00:00, 19.37it/s]\n",
      "               classes   top1_acc   top5_acc: 100%|██████████| 47/47 [00:01<00:00, 29.87it/s]"
     ]
    },
    {
     "name": "stdout",
     "output_type": "stream",
     "text": [
      "                   all      0.999          1\n"
     ]
    },
    {
     "name": "stderr",
     "output_type": "stream",
     "text": [
      "\n"
     ]
    },
    {
     "name": "stdout",
     "output_type": "stream",
     "text": [
      "\n",
      "      Epoch    GPU_mem       loss  Instances       Size\n"
     ]
    },
    {
     "name": "stderr",
     "output_type": "stream",
     "text": [
      "    190/250     0.508G    0.02751          9        224: 100%|██████████| 325/325 [00:15<00:00, 21.43it/s]\n",
      "               classes   top1_acc   top5_acc: 100%|██████████| 47/47 [00:01<00:00, 29.65it/s]"
     ]
    },
    {
     "name": "stdout",
     "output_type": "stream",
     "text": [
      "                   all      0.999          1\n"
     ]
    },
    {
     "name": "stderr",
     "output_type": "stream",
     "text": [
      "\n"
     ]
    },
    {
     "name": "stdout",
     "output_type": "stream",
     "text": [
      "\n",
      "      Epoch    GPU_mem       loss  Instances       Size\n"
     ]
    },
    {
     "name": "stderr",
     "output_type": "stream",
     "text": [
      "    191/250     0.508G    0.02777          9        224: 100%|██████████| 325/325 [00:18<00:00, 17.68it/s]\n",
      "               classes   top1_acc   top5_acc: 100%|██████████| 47/47 [00:01<00:00, 31.20it/s]"
     ]
    },
    {
     "name": "stdout",
     "output_type": "stream",
     "text": [
      "                   all      0.999          1\n"
     ]
    },
    {
     "name": "stderr",
     "output_type": "stream",
     "text": [
      "\n"
     ]
    },
    {
     "name": "stdout",
     "output_type": "stream",
     "text": [
      "\n",
      "      Epoch    GPU_mem       loss  Instances       Size\n"
     ]
    },
    {
     "name": "stderr",
     "output_type": "stream",
     "text": [
      "    192/250     0.505G    0.03452          9        224: 100%|██████████| 325/325 [00:17<00:00, 18.44it/s]\n",
      "               classes   top1_acc   top5_acc: 100%|██████████| 47/47 [00:01<00:00, 30.57it/s]"
     ]
    },
    {
     "name": "stdout",
     "output_type": "stream",
     "text": [
      "                   all      0.999          1\n"
     ]
    },
    {
     "name": "stderr",
     "output_type": "stream",
     "text": [
      "\n"
     ]
    },
    {
     "name": "stdout",
     "output_type": "stream",
     "text": [
      "\n",
      "      Epoch    GPU_mem       loss  Instances       Size\n"
     ]
    },
    {
     "name": "stderr",
     "output_type": "stream",
     "text": [
      "    193/250     0.508G    0.03784          9        224: 100%|██████████| 325/325 [00:16<00:00, 19.76it/s]\n",
      "               classes   top1_acc   top5_acc: 100%|██████████| 47/47 [00:01<00:00, 30.39it/s]"
     ]
    },
    {
     "name": "stdout",
     "output_type": "stream",
     "text": [
      "                   all      0.999          1\n"
     ]
    },
    {
     "name": "stderr",
     "output_type": "stream",
     "text": [
      "\n"
     ]
    },
    {
     "name": "stdout",
     "output_type": "stream",
     "text": [
      "\n",
      "      Epoch    GPU_mem       loss  Instances       Size\n"
     ]
    },
    {
     "name": "stderr",
     "output_type": "stream",
     "text": [
      "    194/250     0.508G    0.03231          9        224: 100%|██████████| 325/325 [00:18<00:00, 17.97it/s]\n",
      "               classes   top1_acc   top5_acc: 100%|██████████| 47/47 [00:01<00:00, 31.28it/s]"
     ]
    },
    {
     "name": "stdout",
     "output_type": "stream",
     "text": [
      "                   all      0.999          1\n"
     ]
    },
    {
     "name": "stderr",
     "output_type": "stream",
     "text": [
      "\n"
     ]
    },
    {
     "name": "stdout",
     "output_type": "stream",
     "text": [
      "\n",
      "      Epoch    GPU_mem       loss  Instances       Size\n"
     ]
    },
    {
     "name": "stderr",
     "output_type": "stream",
     "text": [
      "    195/250     0.508G    0.02736          9        224: 100%|██████████| 325/325 [00:17<00:00, 18.83it/s]\n",
      "               classes   top1_acc   top5_acc: 100%|██████████| 47/47 [00:01<00:00, 31.12it/s]"
     ]
    },
    {
     "name": "stdout",
     "output_type": "stream",
     "text": [
      "                   all      0.999          1\n"
     ]
    },
    {
     "name": "stderr",
     "output_type": "stream",
     "text": [
      "\n"
     ]
    },
    {
     "name": "stdout",
     "output_type": "stream",
     "text": [
      "\n",
      "      Epoch    GPU_mem       loss  Instances       Size\n"
     ]
    },
    {
     "name": "stderr",
     "output_type": "stream",
     "text": [
      "    196/250     0.505G     0.0246          9        224: 100%|██████████| 325/325 [00:18<00:00, 18.04it/s]\n",
      "               classes   top1_acc   top5_acc: 100%|██████████| 47/47 [00:01<00:00, 30.57it/s]"
     ]
    },
    {
     "name": "stdout",
     "output_type": "stream",
     "text": [
      "                   all      0.999          1\n"
     ]
    },
    {
     "name": "stderr",
     "output_type": "stream",
     "text": [
      "\n"
     ]
    },
    {
     "name": "stdout",
     "output_type": "stream",
     "text": [
      "\n",
      "      Epoch    GPU_mem       loss  Instances       Size\n"
     ]
    },
    {
     "name": "stderr",
     "output_type": "stream",
     "text": [
      "    197/250     0.508G     0.0245          9        224: 100%|██████████| 325/325 [00:16<00:00, 20.14it/s]\n",
      "               classes   top1_acc   top5_acc: 100%|██████████| 47/47 [00:01<00:00, 29.95it/s]"
     ]
    },
    {
     "name": "stdout",
     "output_type": "stream",
     "text": [
      "                   all      0.999          1\n"
     ]
    },
    {
     "name": "stderr",
     "output_type": "stream",
     "text": [
      "\n"
     ]
    },
    {
     "name": "stdout",
     "output_type": "stream",
     "text": [
      "\n",
      "      Epoch    GPU_mem       loss  Instances       Size\n"
     ]
    },
    {
     "name": "stderr",
     "output_type": "stream",
     "text": [
      "    198/250     0.508G     0.0267          9        224: 100%|██████████| 325/325 [00:18<00:00, 17.95it/s]\n",
      "               classes   top1_acc   top5_acc: 100%|██████████| 47/47 [00:01<00:00, 30.67it/s]"
     ]
    },
    {
     "name": "stdout",
     "output_type": "stream",
     "text": [
      "                   all      0.999          1\n"
     ]
    },
    {
     "name": "stderr",
     "output_type": "stream",
     "text": [
      "\n"
     ]
    },
    {
     "name": "stdout",
     "output_type": "stream",
     "text": [
      "\n",
      "      Epoch    GPU_mem       loss  Instances       Size\n"
     ]
    },
    {
     "name": "stderr",
     "output_type": "stream",
     "text": [
      "    199/250     0.508G    0.02666          9        224: 100%|██████████| 325/325 [00:17<00:00, 18.33it/s]\n",
      "               classes   top1_acc   top5_acc: 100%|██████████| 47/47 [00:01<00:00, 26.66it/s]"
     ]
    },
    {
     "name": "stdout",
     "output_type": "stream",
     "text": [
      "                   all      0.999          1\n"
     ]
    },
    {
     "name": "stderr",
     "output_type": "stream",
     "text": [
      "\n"
     ]
    },
    {
     "name": "stdout",
     "output_type": "stream",
     "text": [
      "\n",
      "      Epoch    GPU_mem       loss  Instances       Size\n"
     ]
    },
    {
     "name": "stderr",
     "output_type": "stream",
     "text": [
      "    200/250     0.508G    0.02702          9        224: 100%|██████████| 325/325 [00:16<00:00, 19.20it/s]\n",
      "               classes   top1_acc   top5_acc: 100%|██████████| 47/47 [00:01<00:00, 30.21it/s]"
     ]
    },
    {
     "name": "stdout",
     "output_type": "stream",
     "text": [
      "                   all      0.999          1\n"
     ]
    },
    {
     "name": "stderr",
     "output_type": "stream",
     "text": [
      "\n"
     ]
    },
    {
     "name": "stdout",
     "output_type": "stream",
     "text": [
      "\n",
      "      Epoch    GPU_mem       loss  Instances       Size\n"
     ]
    },
    {
     "name": "stderr",
     "output_type": "stream",
     "text": [
      "    201/250     0.508G    0.03542          9        224: 100%|██████████| 325/325 [00:15<00:00, 20.45it/s]\n",
      "               classes   top1_acc   top5_acc: 100%|██████████| 47/47 [00:01<00:00, 30.51it/s]"
     ]
    },
    {
     "name": "stdout",
     "output_type": "stream",
     "text": [
      "                   all      0.999          1\n"
     ]
    },
    {
     "name": "stderr",
     "output_type": "stream",
     "text": [
      "\n"
     ]
    },
    {
     "name": "stdout",
     "output_type": "stream",
     "text": [
      "\n",
      "      Epoch    GPU_mem       loss  Instances       Size\n"
     ]
    },
    {
     "name": "stderr",
     "output_type": "stream",
     "text": [
      "    202/250     0.508G    0.02725          9        224: 100%|██████████| 325/325 [00:17<00:00, 18.51it/s]\n",
      "               classes   top1_acc   top5_acc: 100%|██████████| 47/47 [00:01<00:00, 29.32it/s]"
     ]
    },
    {
     "name": "stdout",
     "output_type": "stream",
     "text": [
      "                   all      0.999          1\n"
     ]
    },
    {
     "name": "stderr",
     "output_type": "stream",
     "text": [
      "\n"
     ]
    },
    {
     "name": "stdout",
     "output_type": "stream",
     "text": [
      "\n",
      "      Epoch    GPU_mem       loss  Instances       Size\n"
     ]
    },
    {
     "name": "stderr",
     "output_type": "stream",
     "text": [
      "    203/250     0.508G    0.02587          9        224: 100%|██████████| 325/325 [00:18<00:00, 17.41it/s]\n",
      "               classes   top1_acc   top5_acc: 100%|██████████| 47/47 [00:01<00:00, 30.74it/s]"
     ]
    },
    {
     "name": "stdout",
     "output_type": "stream",
     "text": [
      "                   all      0.999          1\n"
     ]
    },
    {
     "name": "stderr",
     "output_type": "stream",
     "text": [
      "\n"
     ]
    },
    {
     "name": "stdout",
     "output_type": "stream",
     "text": [
      "\n",
      "      Epoch    GPU_mem       loss  Instances       Size\n"
     ]
    },
    {
     "name": "stderr",
     "output_type": "stream",
     "text": [
      "    204/250     0.505G    0.02718          9        224: 100%|██████████| 325/325 [00:16<00:00, 19.22it/s]\n",
      "               classes   top1_acc   top5_acc: 100%|██████████| 47/47 [00:01<00:00, 30.43it/s]"
     ]
    },
    {
     "name": "stdout",
     "output_type": "stream",
     "text": [
      "                   all      0.999          1\n"
     ]
    },
    {
     "name": "stderr",
     "output_type": "stream",
     "text": [
      "\n"
     ]
    },
    {
     "name": "stdout",
     "output_type": "stream",
     "text": [
      "\n",
      "      Epoch    GPU_mem       loss  Instances       Size\n"
     ]
    },
    {
     "name": "stderr",
     "output_type": "stream",
     "text": [
      "    205/250     0.508G    0.02828          9        224: 100%|██████████| 325/325 [00:17<00:00, 18.34it/s]\n",
      "               classes   top1_acc   top5_acc: 100%|██████████| 47/47 [00:01<00:00, 31.30it/s]"
     ]
    },
    {
     "name": "stdout",
     "output_type": "stream",
     "text": [
      "                   all      0.999          1\n"
     ]
    },
    {
     "name": "stderr",
     "output_type": "stream",
     "text": [
      "\n"
     ]
    },
    {
     "name": "stdout",
     "output_type": "stream",
     "text": [
      "\n",
      "      Epoch    GPU_mem       loss  Instances       Size\n"
     ]
    },
    {
     "name": "stderr",
     "output_type": "stream",
     "text": [
      "    206/250     0.508G    0.02714          9        224: 100%|██████████| 325/325 [00:18<00:00, 17.94it/s]\n",
      "               classes   top1_acc   top5_acc: 100%|██████████| 47/47 [00:01<00:00, 29.55it/s]"
     ]
    },
    {
     "name": "stdout",
     "output_type": "stream",
     "text": [
      "                   all      0.999          1\n"
     ]
    },
    {
     "name": "stderr",
     "output_type": "stream",
     "text": [
      "\n"
     ]
    },
    {
     "name": "stdout",
     "output_type": "stream",
     "text": [
      "\n",
      "      Epoch    GPU_mem       loss  Instances       Size\n"
     ]
    },
    {
     "name": "stderr",
     "output_type": "stream",
     "text": [
      "    207/250     0.508G    0.02521          9        224: 100%|██████████| 325/325 [00:17<00:00, 18.83it/s]\n",
      "               classes   top1_acc   top5_acc: 100%|██████████| 47/47 [00:01<00:00, 30.12it/s]"
     ]
    },
    {
     "name": "stdout",
     "output_type": "stream",
     "text": [
      "                   all      0.999          1\n"
     ]
    },
    {
     "name": "stderr",
     "output_type": "stream",
     "text": [
      "\n"
     ]
    },
    {
     "name": "stdout",
     "output_type": "stream",
     "text": [
      "\n",
      "      Epoch    GPU_mem       loss  Instances       Size\n"
     ]
    },
    {
     "name": "stderr",
     "output_type": "stream",
     "text": [
      "    208/250     0.505G    0.02525          9        224: 100%|██████████| 325/325 [00:16<00:00, 19.17it/s]\n",
      "               classes   top1_acc   top5_acc: 100%|██████████| 47/47 [00:01<00:00, 30.45it/s]"
     ]
    },
    {
     "name": "stdout",
     "output_type": "stream",
     "text": [
      "                   all      0.999          1\n"
     ]
    },
    {
     "name": "stderr",
     "output_type": "stream",
     "text": [
      "\n"
     ]
    },
    {
     "name": "stdout",
     "output_type": "stream",
     "text": [
      "\n",
      "      Epoch    GPU_mem       loss  Instances       Size\n"
     ]
    },
    {
     "name": "stderr",
     "output_type": "stream",
     "text": [
      "    209/250     0.508G    0.02931          9        224: 100%|██████████| 325/325 [00:17<00:00, 18.72it/s]\n",
      "               classes   top1_acc   top5_acc: 100%|██████████| 47/47 [00:01<00:00, 30.16it/s]"
     ]
    },
    {
     "name": "stdout",
     "output_type": "stream",
     "text": [
      "                   all      0.999          1\n"
     ]
    },
    {
     "name": "stderr",
     "output_type": "stream",
     "text": [
      "\n"
     ]
    },
    {
     "name": "stdout",
     "output_type": "stream",
     "text": [
      "\n",
      "      Epoch    GPU_mem       loss  Instances       Size\n"
     ]
    },
    {
     "name": "stderr",
     "output_type": "stream",
     "text": [
      "    210/250     0.508G     0.0212          9        224: 100%|██████████| 325/325 [00:18<00:00, 17.69it/s]\n",
      "               classes   top1_acc   top5_acc: 100%|██████████| 47/47 [00:01<00:00, 30.71it/s]"
     ]
    },
    {
     "name": "stdout",
     "output_type": "stream",
     "text": [
      "                   all      0.999          1\n"
     ]
    },
    {
     "name": "stderr",
     "output_type": "stream",
     "text": [
      "\n"
     ]
    },
    {
     "name": "stdout",
     "output_type": "stream",
     "text": [
      "\n",
      "      Epoch    GPU_mem       loss  Instances       Size\n"
     ]
    },
    {
     "name": "stderr",
     "output_type": "stream",
     "text": [
      "    211/250     0.508G     0.0285          9        224: 100%|██████████| 325/325 [00:17<00:00, 18.44it/s]\n",
      "               classes   top1_acc   top5_acc: 100%|██████████| 47/47 [00:01<00:00, 29.47it/s]"
     ]
    },
    {
     "name": "stdout",
     "output_type": "stream",
     "text": [
      "                   all      0.999          1\n"
     ]
    },
    {
     "name": "stderr",
     "output_type": "stream",
     "text": [
      "\n"
     ]
    },
    {
     "name": "stdout",
     "output_type": "stream",
     "text": [
      "\n",
      "      Epoch    GPU_mem       loss  Instances       Size\n"
     ]
    },
    {
     "name": "stderr",
     "output_type": "stream",
     "text": [
      "    212/250     0.508G    0.02906          9        224: 100%|██████████| 325/325 [00:17<00:00, 18.32it/s]\n",
      "               classes   top1_acc   top5_acc: 100%|██████████| 47/47 [00:01<00:00, 27.93it/s]"
     ]
    },
    {
     "name": "stdout",
     "output_type": "stream",
     "text": [
      "                   all      0.999          1\n"
     ]
    },
    {
     "name": "stderr",
     "output_type": "stream",
     "text": [
      "\n"
     ]
    },
    {
     "name": "stdout",
     "output_type": "stream",
     "text": [
      "\n",
      "      Epoch    GPU_mem       loss  Instances       Size\n"
     ]
    },
    {
     "name": "stderr",
     "output_type": "stream",
     "text": [
      "    213/250     0.508G     0.0231          9        224: 100%|██████████| 325/325 [00:17<00:00, 18.48it/s]\n",
      "               classes   top1_acc   top5_acc: 100%|██████████| 47/47 [00:01<00:00, 29.95it/s]"
     ]
    },
    {
     "name": "stdout",
     "output_type": "stream",
     "text": [
      "                   all      0.999          1\n"
     ]
    },
    {
     "name": "stderr",
     "output_type": "stream",
     "text": [
      "\n"
     ]
    },
    {
     "name": "stdout",
     "output_type": "stream",
     "text": [
      "\n",
      "      Epoch    GPU_mem       loss  Instances       Size\n"
     ]
    },
    {
     "name": "stderr",
     "output_type": "stream",
     "text": [
      "    214/250     0.508G    0.02156          9        224: 100%|██████████| 325/325 [00:17<00:00, 18.09it/s]\n",
      "               classes   top1_acc   top5_acc: 100%|██████████| 47/47 [00:01<00:00, 29.69it/s]"
     ]
    },
    {
     "name": "stdout",
     "output_type": "stream",
     "text": [
      "                   all      0.999          1\n"
     ]
    },
    {
     "name": "stderr",
     "output_type": "stream",
     "text": [
      "\n"
     ]
    },
    {
     "name": "stdout",
     "output_type": "stream",
     "text": [
      "\n",
      "      Epoch    GPU_mem       loss  Instances       Size\n"
     ]
    },
    {
     "name": "stderr",
     "output_type": "stream",
     "text": [
      "    215/250     0.508G    0.02744          9        224: 100%|██████████| 325/325 [00:17<00:00, 18.13it/s]\n",
      "               classes   top1_acc   top5_acc: 100%|██████████| 47/47 [00:01<00:00, 30.52it/s]"
     ]
    },
    {
     "name": "stdout",
     "output_type": "stream",
     "text": [
      "                   all      0.999          1\n"
     ]
    },
    {
     "name": "stderr",
     "output_type": "stream",
     "text": [
      "\n"
     ]
    },
    {
     "name": "stdout",
     "output_type": "stream",
     "text": [
      "\n",
      "      Epoch    GPU_mem       loss  Instances       Size\n"
     ]
    },
    {
     "name": "stderr",
     "output_type": "stream",
     "text": [
      "    216/250     0.508G    0.02125          9        224: 100%|██████████| 325/325 [00:18<00:00, 17.86it/s]\n",
      "               classes   top1_acc   top5_acc: 100%|██████████| 47/47 [00:01<00:00, 31.18it/s]"
     ]
    },
    {
     "name": "stdout",
     "output_type": "stream",
     "text": [
      "                   all      0.999          1\n"
     ]
    },
    {
     "name": "stderr",
     "output_type": "stream",
     "text": [
      "\n"
     ]
    },
    {
     "name": "stdout",
     "output_type": "stream",
     "text": [
      "\n",
      "      Epoch    GPU_mem       loss  Instances       Size\n"
     ]
    },
    {
     "name": "stderr",
     "output_type": "stream",
     "text": [
      "    217/250     0.508G    0.02521          9        224: 100%|██████████| 325/325 [00:17<00:00, 18.37it/s]\n",
      "               classes   top1_acc   top5_acc: 100%|██████████| 47/47 [00:01<00:00, 30.54it/s]"
     ]
    },
    {
     "name": "stdout",
     "output_type": "stream",
     "text": [
      "                   all      0.999          1\n"
     ]
    },
    {
     "name": "stderr",
     "output_type": "stream",
     "text": [
      "\n"
     ]
    },
    {
     "name": "stdout",
     "output_type": "stream",
     "text": [
      "\n",
      "      Epoch    GPU_mem       loss  Instances       Size\n"
     ]
    },
    {
     "name": "stderr",
     "output_type": "stream",
     "text": [
      "    218/250     0.508G    0.02193          9        224: 100%|██████████| 325/325 [00:17<00:00, 18.61it/s]\n",
      "               classes   top1_acc   top5_acc: 100%|██████████| 47/47 [00:01<00:00, 29.99it/s]"
     ]
    },
    {
     "name": "stdout",
     "output_type": "stream",
     "text": [
      "                   all      0.999          1\n"
     ]
    },
    {
     "name": "stderr",
     "output_type": "stream",
     "text": [
      "\n"
     ]
    },
    {
     "name": "stdout",
     "output_type": "stream",
     "text": [
      "\n",
      "      Epoch    GPU_mem       loss  Instances       Size\n"
     ]
    },
    {
     "name": "stderr",
     "output_type": "stream",
     "text": [
      "    219/250     0.508G    0.02365          9        224: 100%|██████████| 325/325 [00:17<00:00, 18.83it/s]\n",
      "               classes   top1_acc   top5_acc: 100%|██████████| 47/47 [00:01<00:00, 29.97it/s]"
     ]
    },
    {
     "name": "stdout",
     "output_type": "stream",
     "text": [
      "                   all      0.999          1\n"
     ]
    },
    {
     "name": "stderr",
     "output_type": "stream",
     "text": [
      "\n"
     ]
    },
    {
     "name": "stdout",
     "output_type": "stream",
     "text": [
      "\n",
      "      Epoch    GPU_mem       loss  Instances       Size\n"
     ]
    },
    {
     "name": "stderr",
     "output_type": "stream",
     "text": [
      "    220/250     0.505G    0.02163          9        224: 100%|██████████| 325/325 [00:18<00:00, 17.65it/s]\n",
      "               classes   top1_acc   top5_acc: 100%|██████████| 47/47 [00:01<00:00, 30.89it/s]"
     ]
    },
    {
     "name": "stdout",
     "output_type": "stream",
     "text": [
      "                   all      0.999          1\n"
     ]
    },
    {
     "name": "stderr",
     "output_type": "stream",
     "text": [
      "\n"
     ]
    },
    {
     "name": "stdout",
     "output_type": "stream",
     "text": [
      "\n",
      "      Epoch    GPU_mem       loss  Instances       Size\n"
     ]
    },
    {
     "name": "stderr",
     "output_type": "stream",
     "text": [
      "    221/250     0.508G    0.01861          9        224: 100%|██████████| 325/325 [00:15<00:00, 20.59it/s]\n",
      "               classes   top1_acc   top5_acc: 100%|██████████| 47/47 [00:01<00:00, 30.90it/s]"
     ]
    },
    {
     "name": "stdout",
     "output_type": "stream",
     "text": [
      "                   all      0.999          1\n"
     ]
    },
    {
     "name": "stderr",
     "output_type": "stream",
     "text": [
      "\n"
     ]
    },
    {
     "name": "stdout",
     "output_type": "stream",
     "text": [
      "\n",
      "      Epoch    GPU_mem       loss  Instances       Size\n"
     ]
    },
    {
     "name": "stderr",
     "output_type": "stream",
     "text": [
      "    222/250     0.508G     0.0227          9        224: 100%|██████████| 325/325 [00:14<00:00, 22.02it/s]\n",
      "               classes   top1_acc   top5_acc: 100%|██████████| 47/47 [00:01<00:00, 30.72it/s]"
     ]
    },
    {
     "name": "stdout",
     "output_type": "stream",
     "text": [
      "                   all      0.999          1\n"
     ]
    },
    {
     "name": "stderr",
     "output_type": "stream",
     "text": [
      "\n"
     ]
    },
    {
     "name": "stdout",
     "output_type": "stream",
     "text": [
      "\n",
      "      Epoch    GPU_mem       loss  Instances       Size\n"
     ]
    },
    {
     "name": "stderr",
     "output_type": "stream",
     "text": [
      "    223/250     0.508G    0.02024          9        224: 100%|██████████| 325/325 [00:17<00:00, 18.25it/s]\n",
      "               classes   top1_acc   top5_acc: 100%|██████████| 47/47 [00:01<00:00, 29.76it/s]"
     ]
    },
    {
     "name": "stdout",
     "output_type": "stream",
     "text": [
      "                   all      0.999          1\n"
     ]
    },
    {
     "name": "stderr",
     "output_type": "stream",
     "text": [
      "\n"
     ]
    },
    {
     "name": "stdout",
     "output_type": "stream",
     "text": [
      "\n",
      "      Epoch    GPU_mem       loss  Instances       Size\n"
     ]
    },
    {
     "name": "stderr",
     "output_type": "stream",
     "text": [
      "    224/250     0.505G    0.01903          9        224: 100%|██████████| 325/325 [00:17<00:00, 18.36it/s]\n",
      "               classes   top1_acc   top5_acc: 100%|██████████| 47/47 [00:01<00:00, 30.08it/s]"
     ]
    },
    {
     "name": "stdout",
     "output_type": "stream",
     "text": [
      "                   all      0.999          1\n"
     ]
    },
    {
     "name": "stderr",
     "output_type": "stream",
     "text": [
      "\n"
     ]
    },
    {
     "name": "stdout",
     "output_type": "stream",
     "text": [
      "\n",
      "      Epoch    GPU_mem       loss  Instances       Size\n"
     ]
    },
    {
     "name": "stderr",
     "output_type": "stream",
     "text": [
      "    225/250     0.508G    0.02124          9        224: 100%|██████████| 325/325 [00:17<00:00, 18.58it/s]\n",
      "               classes   top1_acc   top5_acc: 100%|██████████| 47/47 [00:01<00:00, 29.68it/s]"
     ]
    },
    {
     "name": "stdout",
     "output_type": "stream",
     "text": [
      "                   all      0.999          1\n"
     ]
    },
    {
     "name": "stderr",
     "output_type": "stream",
     "text": [
      "\n"
     ]
    },
    {
     "name": "stdout",
     "output_type": "stream",
     "text": [
      "\n",
      "      Epoch    GPU_mem       loss  Instances       Size\n"
     ]
    },
    {
     "name": "stderr",
     "output_type": "stream",
     "text": [
      "    226/250     0.508G    0.02203          9        224: 100%|██████████| 325/325 [00:18<00:00, 17.72it/s]\n",
      "               classes   top1_acc   top5_acc: 100%|██████████| 47/47 [00:01<00:00, 29.74it/s]"
     ]
    },
    {
     "name": "stdout",
     "output_type": "stream",
     "text": [
      "                   all      0.999          1\n"
     ]
    },
    {
     "name": "stderr",
     "output_type": "stream",
     "text": [
      "\n"
     ]
    },
    {
     "name": "stdout",
     "output_type": "stream",
     "text": [
      "\n",
      "      Epoch    GPU_mem       loss  Instances       Size\n"
     ]
    },
    {
     "name": "stderr",
     "output_type": "stream",
     "text": [
      "    227/250     0.508G    0.01534          9        224: 100%|██████████| 325/325 [00:17<00:00, 18.70it/s]\n",
      "               classes   top1_acc   top5_acc: 100%|██████████| 47/47 [00:01<00:00, 29.66it/s]"
     ]
    },
    {
     "name": "stdout",
     "output_type": "stream",
     "text": [
      "                   all      0.999          1\n"
     ]
    },
    {
     "name": "stderr",
     "output_type": "stream",
     "text": [
      "\n"
     ]
    },
    {
     "name": "stdout",
     "output_type": "stream",
     "text": [
      "\n",
      "      Epoch    GPU_mem       loss  Instances       Size\n"
     ]
    },
    {
     "name": "stderr",
     "output_type": "stream",
     "text": [
      "    228/250     0.508G    0.02241          9        224: 100%|██████████| 325/325 [00:15<00:00, 20.35it/s]\n",
      "               classes   top1_acc   top5_acc: 100%|██████████| 47/47 [00:01<00:00, 31.37it/s]"
     ]
    },
    {
     "name": "stdout",
     "output_type": "stream",
     "text": [
      "                   all      0.999          1\n"
     ]
    },
    {
     "name": "stderr",
     "output_type": "stream",
     "text": [
      "\n"
     ]
    },
    {
     "name": "stdout",
     "output_type": "stream",
     "text": [
      "\n",
      "      Epoch    GPU_mem       loss  Instances       Size\n"
     ]
    },
    {
     "name": "stderr",
     "output_type": "stream",
     "text": [
      "    229/250     0.508G    0.02062          9        224: 100%|██████████| 325/325 [00:17<00:00, 18.80it/s]\n",
      "               classes   top1_acc   top5_acc: 100%|██████████| 47/47 [00:01<00:00, 29.17it/s]"
     ]
    },
    {
     "name": "stdout",
     "output_type": "stream",
     "text": [
      "                   all      0.999          1\n"
     ]
    },
    {
     "name": "stderr",
     "output_type": "stream",
     "text": [
      "\n"
     ]
    },
    {
     "name": "stdout",
     "output_type": "stream",
     "text": [
      "\n",
      "      Epoch    GPU_mem       loss  Instances       Size\n"
     ]
    },
    {
     "name": "stderr",
     "output_type": "stream",
     "text": [
      "    230/250     0.508G    0.02417          9        224: 100%|██████████| 325/325 [00:19<00:00, 16.94it/s]\n",
      "               classes   top1_acc   top5_acc: 100%|██████████| 47/47 [00:01<00:00, 29.86it/s]"
     ]
    },
    {
     "name": "stdout",
     "output_type": "stream",
     "text": [
      "                   all      0.999          1\n"
     ]
    },
    {
     "name": "stderr",
     "output_type": "stream",
     "text": [
      "\n"
     ]
    },
    {
     "name": "stdout",
     "output_type": "stream",
     "text": [
      "\n",
      "      Epoch    GPU_mem       loss  Instances       Size\n"
     ]
    },
    {
     "name": "stderr",
     "output_type": "stream",
     "text": [
      "    231/250     0.508G    0.01858          9        224: 100%|██████████| 325/325 [00:17<00:00, 18.68it/s]\n",
      "               classes   top1_acc   top5_acc: 100%|██████████| 47/47 [00:01<00:00, 30.18it/s]"
     ]
    },
    {
     "name": "stdout",
     "output_type": "stream",
     "text": [
      "                   all      0.999          1\n"
     ]
    },
    {
     "name": "stderr",
     "output_type": "stream",
     "text": [
      "\n"
     ]
    },
    {
     "name": "stdout",
     "output_type": "stream",
     "text": [
      "\n",
      "      Epoch    GPU_mem       loss  Instances       Size\n"
     ]
    },
    {
     "name": "stderr",
     "output_type": "stream",
     "text": [
      "    232/250     0.505G    0.01886          9        224: 100%|██████████| 325/325 [00:17<00:00, 18.31it/s]\n",
      "               classes   top1_acc   top5_acc: 100%|██████████| 47/47 [00:01<00:00, 31.00it/s]"
     ]
    },
    {
     "name": "stdout",
     "output_type": "stream",
     "text": [
      "                   all      0.999          1\n"
     ]
    },
    {
     "name": "stderr",
     "output_type": "stream",
     "text": [
      "\n"
     ]
    },
    {
     "name": "stdout",
     "output_type": "stream",
     "text": [
      "\n",
      "      Epoch    GPU_mem       loss  Instances       Size\n"
     ]
    },
    {
     "name": "stderr",
     "output_type": "stream",
     "text": [
      "    233/250     0.508G    0.02067          9        224: 100%|██████████| 325/325 [00:16<00:00, 19.38it/s]\n",
      "               classes   top1_acc   top5_acc: 100%|██████████| 47/47 [00:01<00:00, 28.69it/s]"
     ]
    },
    {
     "name": "stdout",
     "output_type": "stream",
     "text": [
      "                   all      0.999          1\n"
     ]
    },
    {
     "name": "stderr",
     "output_type": "stream",
     "text": [
      "\n"
     ]
    },
    {
     "name": "stdout",
     "output_type": "stream",
     "text": [
      "\n",
      "      Epoch    GPU_mem       loss  Instances       Size\n"
     ]
    },
    {
     "name": "stderr",
     "output_type": "stream",
     "text": [
      "    234/250     0.508G    0.01974          9        224: 100%|██████████| 325/325 [00:18<00:00, 17.15it/s]\n",
      "               classes   top1_acc   top5_acc: 100%|██████████| 47/47 [00:01<00:00, 29.01it/s]\n"
     ]
    },
    {
     "name": "stdout",
     "output_type": "stream",
     "text": [
      "                   all      0.999          1\n",
      "\n",
      "      Epoch    GPU_mem       loss  Instances       Size\n"
     ]
    },
    {
     "name": "stderr",
     "output_type": "stream",
     "text": [
      "    235/250     0.508G    0.01609          9        224: 100%|██████████| 325/325 [00:18<00:00, 18.03it/s]\n",
      "               classes   top1_acc   top5_acc: 100%|██████████| 47/47 [00:01<00:00, 30.53it/s]"
     ]
    },
    {
     "name": "stdout",
     "output_type": "stream",
     "text": [
      "                   all      0.999          1\n"
     ]
    },
    {
     "name": "stderr",
     "output_type": "stream",
     "text": [
      "\n"
     ]
    },
    {
     "name": "stdout",
     "output_type": "stream",
     "text": [
      "\n",
      "      Epoch    GPU_mem       loss  Instances       Size\n"
     ]
    },
    {
     "name": "stderr",
     "output_type": "stream",
     "text": [
      "    236/250     0.505G    0.01578          9        224: 100%|██████████| 325/325 [00:17<00:00, 18.26it/s]\n",
      "               classes   top1_acc   top5_acc: 100%|██████████| 47/47 [00:01<00:00, 31.45it/s]"
     ]
    },
    {
     "name": "stdout",
     "output_type": "stream",
     "text": [
      "                   all      0.999          1\n"
     ]
    },
    {
     "name": "stderr",
     "output_type": "stream",
     "text": [
      "\n"
     ]
    },
    {
     "name": "stdout",
     "output_type": "stream",
     "text": [
      "\n",
      "      Epoch    GPU_mem       loss  Instances       Size\n"
     ]
    },
    {
     "name": "stderr",
     "output_type": "stream",
     "text": [
      "    237/250     0.508G    0.01557          9        224: 100%|██████████| 325/325 [00:18<00:00, 17.70it/s]\n",
      "               classes   top1_acc   top5_acc: 100%|██████████| 47/47 [00:01<00:00, 29.52it/s]"
     ]
    },
    {
     "name": "stdout",
     "output_type": "stream",
     "text": [
      "                   all      0.999          1\n"
     ]
    },
    {
     "name": "stderr",
     "output_type": "stream",
     "text": [
      "\n"
     ]
    },
    {
     "name": "stdout",
     "output_type": "stream",
     "text": [
      "\n",
      "      Epoch    GPU_mem       loss  Instances       Size\n"
     ]
    },
    {
     "name": "stderr",
     "output_type": "stream",
     "text": [
      "    238/250     0.508G    0.01658          9        224: 100%|██████████| 325/325 [00:17<00:00, 18.12it/s]\n",
      "               classes   top1_acc   top5_acc: 100%|██████████| 47/47 [00:01<00:00, 30.05it/s]"
     ]
    },
    {
     "name": "stdout",
     "output_type": "stream",
     "text": [
      "                   all      0.999          1\n"
     ]
    },
    {
     "name": "stderr",
     "output_type": "stream",
     "text": [
      "\n"
     ]
    },
    {
     "name": "stdout",
     "output_type": "stream",
     "text": [
      "\n",
      "      Epoch    GPU_mem       loss  Instances       Size\n"
     ]
    },
    {
     "name": "stderr",
     "output_type": "stream",
     "text": [
      "    239/250     0.508G    0.01649          9        224: 100%|██████████| 325/325 [00:16<00:00, 19.30it/s]\n",
      "               classes   top1_acc   top5_acc: 100%|██████████| 47/47 [00:01<00:00, 30.71it/s]"
     ]
    },
    {
     "name": "stdout",
     "output_type": "stream",
     "text": [
      "                   all      0.999          1\n"
     ]
    },
    {
     "name": "stderr",
     "output_type": "stream",
     "text": [
      "\n"
     ]
    },
    {
     "name": "stdout",
     "output_type": "stream",
     "text": [
      "\n",
      "      Epoch    GPU_mem       loss  Instances       Size\n"
     ]
    },
    {
     "name": "stderr",
     "output_type": "stream",
     "text": [
      "    240/250     0.508G    0.01684          9        224: 100%|██████████| 325/325 [00:15<00:00, 20.95it/s]\n",
      "               classes   top1_acc   top5_acc: 100%|██████████| 47/47 [00:01<00:00, 29.71it/s]"
     ]
    },
    {
     "name": "stdout",
     "output_type": "stream",
     "text": [
      "                   all      0.999          1\n"
     ]
    },
    {
     "name": "stderr",
     "output_type": "stream",
     "text": [
      "\n"
     ]
    },
    {
     "name": "stdout",
     "output_type": "stream",
     "text": [
      "\n",
      "      Epoch    GPU_mem       loss  Instances       Size\n"
     ]
    },
    {
     "name": "stderr",
     "output_type": "stream",
     "text": [
      "    241/250     0.508G    0.01742          9        224: 100%|██████████| 325/325 [00:16<00:00, 19.89it/s]\n",
      "               classes   top1_acc   top5_acc: 100%|██████████| 47/47 [00:01<00:00, 31.98it/s]"
     ]
    },
    {
     "name": "stdout",
     "output_type": "stream",
     "text": [
      "                   all      0.999          1\n"
     ]
    },
    {
     "name": "stderr",
     "output_type": "stream",
     "text": [
      "\n"
     ]
    },
    {
     "name": "stdout",
     "output_type": "stream",
     "text": [
      "\n",
      "      Epoch    GPU_mem       loss  Instances       Size\n"
     ]
    },
    {
     "name": "stderr",
     "output_type": "stream",
     "text": [
      "    242/250     0.508G    0.01921          9        224: 100%|██████████| 325/325 [00:17<00:00, 18.69it/s]\n",
      "               classes   top1_acc   top5_acc: 100%|██████████| 47/47 [00:01<00:00, 30.36it/s]"
     ]
    },
    {
     "name": "stdout",
     "output_type": "stream",
     "text": [
      "                   all      0.999          1\n"
     ]
    },
    {
     "name": "stderr",
     "output_type": "stream",
     "text": [
      "\n"
     ]
    },
    {
     "name": "stdout",
     "output_type": "stream",
     "text": [
      "\n",
      "      Epoch    GPU_mem       loss  Instances       Size\n"
     ]
    },
    {
     "name": "stderr",
     "output_type": "stream",
     "text": [
      "    243/250     0.508G    0.01893          9        224: 100%|██████████| 325/325 [00:17<00:00, 18.75it/s]\n",
      "               classes   top1_acc   top5_acc: 100%|██████████| 47/47 [00:01<00:00, 30.74it/s]"
     ]
    },
    {
     "name": "stdout",
     "output_type": "stream",
     "text": [
      "                   all      0.999          1\n"
     ]
    },
    {
     "name": "stderr",
     "output_type": "stream",
     "text": [
      "\n"
     ]
    },
    {
     "name": "stdout",
     "output_type": "stream",
     "text": [
      "\n",
      "      Epoch    GPU_mem       loss  Instances       Size\n"
     ]
    },
    {
     "name": "stderr",
     "output_type": "stream",
     "text": [
      "    244/250     0.505G    0.01683          9        224: 100%|██████████| 325/325 [00:15<00:00, 20.76it/s]\n",
      "               classes   top1_acc   top5_acc: 100%|██████████| 47/47 [00:01<00:00, 30.21it/s]"
     ]
    },
    {
     "name": "stdout",
     "output_type": "stream",
     "text": [
      "                   all      0.999          1\n"
     ]
    },
    {
     "name": "stderr",
     "output_type": "stream",
     "text": [
      "\n"
     ]
    },
    {
     "name": "stdout",
     "output_type": "stream",
     "text": [
      "\n",
      "      Epoch    GPU_mem       loss  Instances       Size\n"
     ]
    },
    {
     "name": "stderr",
     "output_type": "stream",
     "text": [
      "    245/250     0.508G    0.01326          9        224: 100%|██████████| 325/325 [00:17<00:00, 18.11it/s]\n",
      "               classes   top1_acc   top5_acc: 100%|██████████| 47/47 [00:01<00:00, 29.91it/s]"
     ]
    },
    {
     "name": "stdout",
     "output_type": "stream",
     "text": [
      "                   all      0.999          1\n"
     ]
    },
    {
     "name": "stderr",
     "output_type": "stream",
     "text": [
      "\n"
     ]
    },
    {
     "name": "stdout",
     "output_type": "stream",
     "text": [
      "\n",
      "      Epoch    GPU_mem       loss  Instances       Size\n"
     ]
    },
    {
     "name": "stderr",
     "output_type": "stream",
     "text": [
      "    246/250     0.508G    0.01561          9        224: 100%|██████████| 325/325 [00:19<00:00, 16.90it/s]\n",
      "               classes   top1_acc   top5_acc: 100%|██████████| 47/47 [00:01<00:00, 29.80it/s]"
     ]
    },
    {
     "name": "stdout",
     "output_type": "stream",
     "text": [
      "                   all      0.999          1\n"
     ]
    },
    {
     "name": "stderr",
     "output_type": "stream",
     "text": [
      "\n"
     ]
    },
    {
     "name": "stdout",
     "output_type": "stream",
     "text": [
      "\n",
      "      Epoch    GPU_mem       loss  Instances       Size\n"
     ]
    },
    {
     "name": "stderr",
     "output_type": "stream",
     "text": [
      "    247/250     0.508G    0.01561          9        224: 100%|██████████| 325/325 [00:17<00:00, 18.81it/s]\n",
      "               classes   top1_acc   top5_acc: 100%|██████████| 47/47 [00:01<00:00, 30.37it/s]\n"
     ]
    },
    {
     "name": "stdout",
     "output_type": "stream",
     "text": [
      "                   all      0.999          1\n",
      "\n",
      "      Epoch    GPU_mem       loss  Instances       Size\n"
     ]
    },
    {
     "name": "stderr",
     "output_type": "stream",
     "text": [
      "    248/250     0.505G    0.01476          9        224: 100%|██████████| 325/325 [00:16<00:00, 19.75it/s]\n",
      "               classes   top1_acc   top5_acc: 100%|██████████| 47/47 [00:01<00:00, 31.37it/s]"
     ]
    },
    {
     "name": "stdout",
     "output_type": "stream",
     "text": [
      "                   all      0.999          1\n"
     ]
    },
    {
     "name": "stderr",
     "output_type": "stream",
     "text": [
      "\n"
     ]
    },
    {
     "name": "stdout",
     "output_type": "stream",
     "text": [
      "\n",
      "      Epoch    GPU_mem       loss  Instances       Size\n"
     ]
    },
    {
     "name": "stderr",
     "output_type": "stream",
     "text": [
      "    249/250     0.508G    0.01939          9        224: 100%|██████████| 325/325 [00:18<00:00, 17.60it/s]\n",
      "               classes   top1_acc   top5_acc: 100%|██████████| 47/47 [00:01<00:00, 29.29it/s]"
     ]
    },
    {
     "name": "stdout",
     "output_type": "stream",
     "text": [
      "                   all      0.999          1\n"
     ]
    },
    {
     "name": "stderr",
     "output_type": "stream",
     "text": [
      "\n"
     ]
    },
    {
     "name": "stdout",
     "output_type": "stream",
     "text": [
      "\n",
      "      Epoch    GPU_mem       loss  Instances       Size\n"
     ]
    },
    {
     "name": "stderr",
     "output_type": "stream",
     "text": [
      "    250/250     0.508G    0.01464          9        224: 100%|██████████| 325/325 [00:17<00:00, 18.79it/s]\n",
      "               classes   top1_acc   top5_acc: 100%|██████████| 47/47 [00:01<00:00, 30.53it/s]"
     ]
    },
    {
     "name": "stdout",
     "output_type": "stream",
     "text": [
      "                   all      0.999          1\n"
     ]
    },
    {
     "name": "stderr",
     "output_type": "stream",
     "text": [
      "\n"
     ]
    },
    {
     "name": "stdout",
     "output_type": "stream",
     "text": [
      "\n",
      "250 epochs completed in 1.328 hours.\n",
      "Optimizer stripped from runs/classify/train5/weights/last.pt, 3.0MB\n",
      "Optimizer stripped from runs/classify/train5/weights/best.pt, 3.0MB\n",
      "\n",
      "Validating runs/classify/train5/weights/best.pt...\n",
      "Ultralytics YOLOv8.2.78 🚀 Python-3.11.7 torch-2.1.1+cu121 CUDA:0 (NVIDIA GeForce RTX 3090, 24260MiB)\n",
      "YOLOv8n-cls summary (fused): 73 layers, 1,440,004 parameters, 0 gradients, 3.3 GFLOPs\n",
      "\u001b[34m\u001b[1mtrain:\u001b[0m /home/esidserver/datasets/testing_cls/swapvaltrain/train... found 5193 images in 4 classes ✅ \n",
      "\u001b[34m\u001b[1mval:\u001b[0m /home/esidserver/datasets/testing_cls/swapvaltrain/val... found 1484 images in 4 classes ✅ \n",
      "\u001b[34m\u001b[1mtest:\u001b[0m /home/esidserver/datasets/testing_cls/swapvaltrain/test... found 740 images in 4 classes ✅ \n"
     ]
    },
    {
     "name": "stderr",
     "output_type": "stream",
     "text": [
      "               classes   top1_acc   top5_acc: 100%|██████████| 47/47 [00:01<00:00, 30.55it/s]\n"
     ]
    },
    {
     "name": "stdout",
     "output_type": "stream",
     "text": [
      "                   all      0.999          1\n",
      "Speed: 0.1ms preprocess, 0.4ms inference, 0.0ms loss, 0.0ms postprocess per image\n",
      "Results saved to \u001b[1mruns/classify/train5\u001b[0m\n",
      "Results saved to \u001b[1mruns/classify/train5\u001b[0m\n"
     ]
    }
   ],
   "source": [
    "# This is the actual working one piece\n",
    "%cd {HOME}\n",
    "\n",
    "#!yolo task=detect mode=train model=yolov8s.pt data={dataset.location}/data.yaml epochs=500 imgsz=640 plots=True\n",
    "model = YOLO(\"yolov8n-cls.yaml\")  # build a new model from YAML\n",
    "model = YOLO(\"yolov8n-cls.pt\")  # load a pretrained model (recommended for training)\n",
    "model = YOLO(\"yolov8n-cls.yaml\").load(\"yolov8n-cls.pt\")  # build from YAML and transfer weights\n",
    "\n",
    "model.info\n",
    "\n",
    "# Train the model\n",
    "results = model.train (data=f\"/home/esidserver/datasets/testing_cls/swapvaltrain\", epochs=250, imgsz=224)\n",
    "\n",
    "# results = model.train(\n",
    "#     data=\"/home/esidserver/datasets/testing_cls/swapvaltrain\",\n",
    "#     epochs=250,\n",
    "#     imgsz=224,\n",
    "#     #auto_augment=False,  # Disable automatic augmentation\n",
    "#     crop_fraction=1.0,  # Disable cropping\n",
    "#     #shear=False,          # Disable shearing\n",
    "#     mosaic=0.0,           # Disable mosaic augmentation\n",
    "#     mixup=0.0,            # Disable mixup augmentation\n",
    "#     #degrees=0.0,          # Disable rotation\n",
    "#     translate=0.0,        # Disable translation\n",
    "#     scale=0.0,            # Disable scaling\n",
    "#     perspective=0.0,      # Disable perspective transformation\n",
    "#     flipud=0.0,           # Disable vertical flip\n",
    "#     fliplr=0.0,           # Disable horizontal flip\n",
    "#     erasing=0.0,           # Disable random erasing\n",
    "#     patience=50\n",
    "# )\n",
    "#metrics.results_dict"
   ]
  },
  {
   "cell_type": "code",
   "execution_count": 25,
   "metadata": {},
   "outputs": [
    {
     "name": "stdout",
     "output_type": "stream",
     "text": [
      "/home/esidserver/New_project_larvae\n"
     ]
    },
    {
     "data": {
      "image/png": "[encoded data removed]",
      "text/plain": [
       "<IPython.core.display.Image object>"
      ]
     },
     "execution_count": 25,
     "metadata": {
      "image/png": {
       "width": 600
      }
     },
     "output_type": "execute_result"
    }
   ],
   "source": [
    "%cd {HOME}\n",
    "Image(filename=f'{HOME}/runs/classify/train5/results.png', width=600)"
   ]
  },
  {
   "cell_type": "code",
   "execution_count": 26,
   "metadata": {},
   "outputs": [
    {
     "name": "stdout",
     "output_type": "stream",
     "text": [
      "/home/esidserver/New_project_larvae\n"
     ]
    },
    {
     "data": {
      "image/jpeg": "[encoded data removed]",
      "text/plain": [
       "<IPython.core.display.Image object>"
      ]
     },
     "execution_count": 26,
     "metadata": {
      "image/jpeg": {
       "width": 600
      }
     },
     "output_type": "execute_result"
    }
   ],
   "source": [
    "%cd {HOME}\n",
    "Image(filename=f'{HOME}/runs/classify/train5/val_batch0_pred.jpg', width=600)"
   ]
  },
  {
   "cell_type": "code",
   "execution_count": 30,
   "metadata": {},
   "outputs": [
    {
     "name": "stdout",
     "output_type": "stream",
     "text": [
      "/home/esidserver/New_project_larvae\n",
      "Ultralytics YOLOv8.2.78 🚀 Python-3.11.7 torch-2.1.1+cu121 CUDA:0 (NVIDIA GeForce RTX 3090, 24260MiB)\n",
      "YOLOv8n-cls summary (fused): 73 layers, 1,440,004 parameters, 0 gradients, 3.3 GFLOPs\n",
      "\u001b[34m\u001b[1mtrain:\u001b[0m /home/esidserver/datasets/testing_cls/swapvaltrain/train... found 5193 images in 4 classes ✅ \n",
      "\u001b[34m\u001b[1mval:\u001b[0m /home/esidserver/datasets/testing_cls/swapvaltrain/val... found 1484 images in 4 classes ✅ \n",
      "\u001b[34m\u001b[1mtest:\u001b[0m /home/esidserver/datasets/testing_cls/swapvaltrain/test... found 740 images in 4 classes ✅ \n"
     ]
    },
    {
     "name": "stderr",
     "output_type": "stream",
     "text": [
      "\u001b[34m\u001b[1mval: \u001b[0mScanning /home/esidserver/datasets/testing_cls/swapvaltrain/val... 1484 images, 0 corrupt: 100%|██████████| 1484/1484 [00:00<00:00, 2222.13it/s]"
     ]
    },
    {
     "name": "stdout",
     "output_type": "stream",
     "text": [
      "\u001b[34m\u001b[1mval: \u001b[0mNew cache created: /home/esidserver/datasets/testing_cls/swapvaltrain/val.cache\n"
     ]
    },
    {
     "name": "stderr",
     "output_type": "stream",
     "text": [
      "\n",
      "               classes   top1_acc   top5_acc: 100%|██████████| 93/93 [00:02<00:00, 32.80it/s]\n"
     ]
    },
    {
     "name": "stdout",
     "output_type": "stream",
     "text": [
      "                   all      0.999          1\n",
      "Speed: 0.1ms preprocess, 0.8ms inference, 0.0ms loss, 0.0ms postprocess per image\n",
      "Results saved to \u001b[1mruns/classify/val5\u001b[0m\n"
     ]
    },
    {
     "data": {
      "text/plain": [
       "1.0"
      ]
     },
     "execution_count": 30,
     "metadata": {},
     "output_type": "execute_result"
    }
   ],
   "source": [
    "%cd {HOME}\n",
    "\n",
    "#!yolo task=detect mode=val model={HOME}/runs/detect/train32/weights/best.pt data={dataset.location}/data.yaml\n",
    "#from ultralytics import YOLO\n",
    "\n",
    "# Load a model\n",
    "model = YOLO(\"yolov8n-cls.pt\")  # load an official model\n",
    "model = YOLO(\"runs/classify/train5/weights/best.pt\")  # load a custom model\n",
    "\n",
    "# Validate the model\n",
    "metrics = model.val()  # no arguments needed, dataset and settings remembered\n",
    "metrics.top1  # top1 accuracy\n",
    "metrics.top5  # top5 accuracy"
   ]
  },
  {
   "cell_type": "code",
   "execution_count": 34,
   "metadata": {},
   "outputs": [
    {
     "name": "stdout",
     "output_type": "stream",
     "text": [
      "/home/esidserver/New_project_larvae\n",
      "\n",
      "image 1/742 /home/esidserver/datasets/testing_cls/allin-test/AedesAegypti-InfinixS5-12-_jpg.rf.2f4a5749584afb71d8d8a8bced007bec.jpg: 224x224 AG 0.98, AB 0.02, CQ 0.00, ANO 0.00, 6.5ms\n",
      "image 2/742 /home/esidserver/datasets/testing_cls/allin-test/AedesAegypti-InfinixS5-127-_jpg.rf.fd1b226c923c14fcddd58af6094ba6f8.jpg: 224x224 AG 1.00, AB 0.00, CQ 0.00, ANO 0.00, 5.5ms\n",
      "image 3/742 /home/esidserver/datasets/testing_cls/allin-test/AedesAegypti-InfinixS5-131-_jpg.rf.14fb9551a783fbba9ba307e8c4c72543.jpg: 224x224 AG 1.00, AB 0.00, ANO 0.00, CQ 0.00, 4.9ms\n",
      "image 4/742 /home/esidserver/datasets/testing_cls/allin-test/AedesAegypti-InfinixS5-144-_jpg.rf.8ec7ccef1c16a9ab3c2ee60292e97087.jpg: 224x224 AG 1.00, AB 0.00, ANO 0.00, CQ 0.00, 5.2ms\n",
      "image 5/742 /home/esidserver/datasets/testing_cls/allin-test/AedesAegypti-InfinixS5-147-_jpg.rf.54c77798beadb0dbf5db7f69e91b1b26.jpg: 224x224 AG 0.94, AB 0.06, ANO 0.00, CQ 0.00, 4.9ms\n",
      "image 6/742 /home/esidserver/datasets/testing_cls/allin-test/AedesAegypti-InfinixS5-151-_jpg.rf.1f4e75ffc0ecdab6b7f89e584233e737.jpg: 224x224 AG 1.00, AB 0.00, ANO 0.00, CQ 0.00, 4.9ms\n",
      "image 7/742 /home/esidserver/datasets/testing_cls/allin-test/AedesAegypti-InfinixS5-157-_jpg.rf.105eb3c4a92463d499bcc423ec3a095f.jpg: 224x224 AG 1.00, AB 0.00, CQ 0.00, ANO 0.00, 4.9ms\n",
      "image 8/742 /home/esidserver/datasets/testing_cls/allin-test/AedesAegypti-InfinixS5-161-_jpg.rf.612d5650334f79f5728f83e05667c321.jpg: 224x224 AG 1.00, AB 0.00, ANO 0.00, CQ 0.00, 6.5ms\n",
      "image 9/742 /home/esidserver/datasets/testing_cls/allin-test/AedesAegypti-InfinixS5-166-_jpg.rf.508e7db88a0c851a1b8434161a4804d6.jpg: 224x224 AG 1.00, CQ 0.00, AB 0.00, ANO 0.00, 5.2ms\n",
      "image 10/742 /home/esidserver/datasets/testing_cls/allin-test/AedesAegypti-InfinixS5-17-_jpg.rf.81d190d246f5ee43f8efbb897f49ae21.jpg: 224x224 AG 1.00, CQ 0.00, AB 0.00, ANO 0.00, 5.2ms\n",
      "image 11/742 /home/esidserver/datasets/testing_cls/allin-test/AedesAegypti-InfinixS5-188-_jpg.rf.c1bf1d2e86d33ba692b3bd4cdcf04fb2.jpg: 224x224 AG 1.00, AB 0.00, CQ 0.00, ANO 0.00, 5.2ms\n",
      "image 12/742 /home/esidserver/datasets/testing_cls/allin-test/AedesAegypti-InfinixS5-214-_jpg.rf.eb07ef5d4838038024d4f9ae18bcddc8.jpg: 224x224 AG 1.00, AB 0.00, ANO 0.00, CQ 0.00, 5.1ms\n",
      "image 13/742 /home/esidserver/datasets/testing_cls/allin-test/AedesAegypti-InfinixS5-219-_jpg.rf.c3762338dc3f9bfed9afda226aed9f86.jpg: 224x224 AG 1.00, AB 0.00, CQ 0.00, ANO 0.00, 5.0ms\n",
      "image 14/742 /home/esidserver/datasets/testing_cls/allin-test/AedesAegypti-InfinixS5-229-_jpg.rf.c4863525cc242358745c148f8c99ad1b.jpg: 224x224 AB 0.59, AG 0.41, ANO 0.00, CQ 0.00, 5.5ms\n",
      "image 15/742 /home/esidserver/datasets/testing_cls/allin-test/AedesAegypti-InfinixS5-269-_jpg.rf.25cd500ecfa15ab84c1e8fccc3641104.jpg: 224x224 AG 0.96, CQ 0.04, ANO 0.00, AB 0.00, 4.8ms\n",
      "image 16/742 /home/esidserver/datasets/testing_cls/allin-test/AedesAegypti-InfinixS5-271-_jpg.rf.342f605c6c7c12c82f1269818d41ddf2.jpg: 224x224 CQ 0.94, AG 0.06, AB 0.00, ANO 0.00, 5.2ms\n",
      "image 17/742 /home/esidserver/datasets/testing_cls/allin-test/AedesAegypti-InfinixS5-302-_jpg.rf.4798903432b7cf245611b74a8c25430d.jpg: 224x224 AG 0.97, AB 0.03, CQ 0.00, ANO 0.00, 6.3ms\n",
      "image 18/742 /home/esidserver/datasets/testing_cls/allin-test/AedesAegypti-InfinixS5-304-_jpg.rf.feb45102a0ed5212e6ce63dc1f989e7e.jpg: 224x224 AG 1.00, AB 0.00, CQ 0.00, ANO 0.00, 6.6ms\n",
      "image 19/742 /home/esidserver/datasets/testing_cls/allin-test/AedesAegypti-InfinixS5-308-_jpg.rf.c47be22c31feb24daa0604434dce20f9.jpg: 224x224 AG 0.93, CQ 0.05, AB 0.02, ANO 0.00, 6.6ms\n",
      "image 20/742 /home/esidserver/datasets/testing_cls/allin-test/AedesAegypti-InfinixS5-310-_jpg.rf.47e0fd57d0dedfce5f7eaa419ef45251.jpg: 224x224 AG 1.00, CQ 0.00, AB 0.00, ANO 0.00, 4.8ms\n",
      "image 21/742 /home/esidserver/datasets/testing_cls/allin-test/AedesAegypti-InfinixS5-312-_jpg.rf.ccc3817be443f953e68173d939b28a58.jpg: 224x224 AG 0.99, AB 0.01, CQ 0.00, ANO 0.00, 4.9ms\n",
      "image 22/742 /home/esidserver/datasets/testing_cls/allin-test/AedesAegypti-InfinixS5-32-_jpg.rf.0a06a5ab1b1fa62c30207549b3eaa85b.jpg: 224x224 AG 0.89, AB 0.10, CQ 0.01, ANO 0.00, 4.9ms\n",
      "image 23/742 /home/esidserver/datasets/testing_cls/allin-test/AedesAegypti-InfinixS5-325-_jpg.rf.6a340628b65a92bd56185212ea035de7.jpg: 224x224 CQ 0.99, AG 0.01, AB 0.00, ANO 0.00, 5.9ms\n",
      "image 24/742 /home/esidserver/datasets/testing_cls/allin-test/AedesAegypti-InfinixS5-33-_jpg.rf.313a278b9e767bae25af91b0337f2136.jpg: 224x224 AG 0.88, AB 0.11, CQ 0.01, ANO 0.00, 6.1ms\n",
      "image 25/742 /home/esidserver/datasets/testing_cls/allin-test/AedesAegypti-InfinixS5-332-_jpg.rf.d5ce7dd01fb215d35ba935761fb8468b.jpg: 224x224 CQ 1.00, AG 0.00, AB 0.00, ANO 0.00, 5.7ms\n",
      "image 26/742 /home/esidserver/datasets/testing_cls/allin-test/AedesAegypti-InfinixS5-335-_jpg.rf.38a9864a4afcac8f0aaaa7551a418e9e.jpg: 224x224 AG 0.93, CQ 0.07, AB 0.00, ANO 0.00, 5.4ms\n",
      "image 27/742 /home/esidserver/datasets/testing_cls/allin-test/AedesAegypti-InfinixS5-336-_jpg.rf.421b6a12d14f921b5eae06abde4ecb73.jpg: 224x224 CQ 0.82, AG 0.09, AB 0.09, ANO 0.00, 5.0ms\n",
      "image 28/742 /home/esidserver/datasets/testing_cls/allin-test/AedesAegypti-InfinixS5-337-_jpg.rf.8389e751a5d63ef06792339824295b4a.jpg: 224x224 CQ 0.66, AG 0.20, AB 0.13, ANO 0.00, 5.0ms\n",
      "image 29/742 /home/esidserver/datasets/testing_cls/allin-test/AedesAegypti-InfinixS5-343-_jpg.rf.06465db49843f188764a02975bdac311.jpg: 224x224 CQ 0.51, AG 0.48, AB 0.00, ANO 0.00, 5.1ms\n",
      "image 30/742 /home/esidserver/datasets/testing_cls/allin-test/AedesAegypti-InfinixS5-362-_jpg.rf.187aae60788ebef4b54019b1c266f2db.jpg: 224x224 AG 0.99, CQ 0.01, ANO 0.00, AB 0.00, 5.7ms\n",
      "image 31/742 /home/esidserver/datasets/testing_cls/allin-test/AedesAegypti-InfinixS5-368-_jpg.rf.ad4a399692003cae75bd613d93336b2a.jpg: 224x224 AG 1.00, CQ 0.00, AB 0.00, ANO 0.00, 5.3ms\n",
      "image 32/742 /home/esidserver/datasets/testing_cls/allin-test/AedesAegypti-InfinixS5-37-_jpg.rf.fc0bad582ef674e7fc9e34a6fd529379.jpg: 224x224 AG 0.92, AB 0.08, CQ 0.00, ANO 0.00, 5.9ms\n",
      "image 33/742 /home/esidserver/datasets/testing_cls/allin-test/AedesAegypti-InfinixS5-372-_jpg.rf.6b254069a8434567c452d44d6fed2926.jpg: 224x224 AG 1.00, CQ 0.00, AB 0.00, ANO 0.00, 5.1ms\n",
      "image 34/742 /home/esidserver/datasets/testing_cls/allin-test/AedesAegypti-InfinixS5-375-_jpg.rf.d5e39d525fe661cda31bed5d0a7abaa3.jpg: 224x224 AG 1.00, AB 0.00, CQ 0.00, ANO 0.00, 4.9ms\n",
      "image 35/742 /home/esidserver/datasets/testing_cls/allin-test/AedesAegypti-InfinixS5-395-_jpg.rf.0dd11881fd11b5db611c8252cc1e8268.jpg: 224x224 AG 1.00, AB 0.00, CQ 0.00, ANO 0.00, 5.2ms\n",
      "image 36/742 /home/esidserver/datasets/testing_cls/allin-test/AedesAegypti-InfinixS5-409-_jpg.rf.1eb60aa496d4c60b9bc31e82709c3700.jpg: 224x224 AG 1.00, CQ 0.00, ANO 0.00, AB 0.00, 5.2ms\n",
      "image 37/742 /home/esidserver/datasets/testing_cls/allin-test/AedesAegypti-InfinixS5-410-_jpg.rf.709e7047a521ae266c8b676e661850bb.jpg: 224x224 AG 0.67, AB 0.33, CQ 0.00, ANO 0.00, 5.2ms\n",
      "image 38/742 /home/esidserver/datasets/testing_cls/allin-test/AedesAegypti-InfinixS5-436-_jpg.rf.396350b9d105e73f37bebc289a664271.jpg: 224x224 AG 0.86, ANO 0.13, AB 0.01, CQ 0.00, 4.6ms\n",
      "image 39/742 /home/esidserver/datasets/testing_cls/allin-test/AedesAegypti-InfinixS5-445-_jpg.rf.b225e7a6d48e938153901f9cc2847908.jpg: 224x224 AG 1.00, CQ 0.00, AB 0.00, ANO 0.00, 4.1ms\n",
      "image 40/742 /home/esidserver/datasets/testing_cls/allin-test/AedesAegypti-InfinixS5-45-_jpg.rf.b28f0ee337abc1e1e41c45050ab374c6.jpg: 224x224 AG 1.00, AB 0.00, CQ 0.00, ANO 0.00, 4.4ms\n",
      "image 41/742 /home/esidserver/datasets/testing_cls/allin-test/AedesAegypti-InfinixS5-452-_jpg.rf.e019bbbf2d07dfb09b9da753b560867a.jpg: 224x224 AG 0.82, ANO 0.09, AB 0.08, CQ 0.01, 4.0ms\n",
      "image 42/742 /home/esidserver/datasets/testing_cls/allin-test/AedesAegypti-InfinixS5-453-_jpg.rf.8e6151ef59b34660ac23c47ad3c2eda0.jpg: 224x224 AG 1.00, ANO 0.00, AB 0.00, CQ 0.00, 4.0ms\n",
      "image 43/742 /home/esidserver/datasets/testing_cls/allin-test/AedesAegypti-InfinixS5-455-_jpg.rf.4e0f45150a62f224c76ce9a9cfe17bc2.jpg: 224x224 AG 1.00, AB 0.00, ANO 0.00, CQ 0.00, 3.9ms\n",
      "image 44/742 /home/esidserver/datasets/testing_cls/allin-test/AedesAegypti-InfinixS5-465-_jpg.rf.b87d5eb4d53ec926bd433b18b9cf3939.jpg: 224x224 AG 0.99, AB 0.01, ANO 0.01, CQ 0.00, 4.6ms\n",
      "image 45/742 /home/esidserver/datasets/testing_cls/allin-test/AedesAegypti-InfinixS5-468-_jpg.rf.7cfb18c5d6324ba3029f5fbf1474ae99.jpg: 224x224 AG 1.00, AB 0.00, ANO 0.00, CQ 0.00, 4.9ms\n",
      "image 46/742 /home/esidserver/datasets/testing_cls/allin-test/AedesAegypti-InfinixS5-470-_jpg.rf.6269808088ba934c031518f48ebd68d5.jpg: 224x224 AG 0.97, AB 0.02, CQ 0.01, ANO 0.00, 4.6ms\n",
      "image 47/742 /home/esidserver/datasets/testing_cls/allin-test/AedesAegypti-InfinixS5-476-_jpg.rf.0f8f130110dacd3d6f96181e75e0c017.jpg: 224x224 AG 0.98, AB 0.02, CQ 0.00, ANO 0.00, 4.3ms\n",
      "image 48/742 /home/esidserver/datasets/testing_cls/allin-test/AedesAegypti-InfinixS5-488-_jpg.rf.befcd41916b8df0bc5c94a095d51ed6c.jpg: 224x224 AG 0.99, AB 0.00, CQ 0.00, ANO 0.00, 4.6ms\n",
      "image 49/742 /home/esidserver/datasets/testing_cls/allin-test/AedesAegypti-InfinixS5-509-_jpg.rf.6923575da7ee748596a2869f6b818a97.jpg: 224x224 AG 1.00, AB 0.00, CQ 0.00, ANO 0.00, 4.0ms\n",
      "image 50/742 /home/esidserver/datasets/testing_cls/allin-test/AedesAegypti-InfinixS5-515-_jpg.rf.892dc9bcfa4c8726fa3381dc2cb83848.jpg: 224x224 AG 1.00, CQ 0.00, AB 0.00, ANO 0.00, 3.9ms\n",
      "image 51/742 /home/esidserver/datasets/testing_cls/allin-test/AedesAegypti-InfinixS5-520-_jpg.rf.537a502e7db5c5ae4b3e213926d5c3bd.jpg: 224x224 AB 0.84, AG 0.16, CQ 0.00, ANO 0.00, 4.0ms\n",
      "image 52/742 /home/esidserver/datasets/testing_cls/allin-test/AedesAegypti-InfinixS5-538-_jpg.rf.9f588b7f9612f1bc3744b26c8253ed50.jpg: 224x224 AG 0.90, AB 0.10, CQ 0.00, ANO 0.00, 4.0ms\n",
      "image 53/742 /home/esidserver/datasets/testing_cls/allin-test/AedesAegypti-InfinixS5-546-_jpg.rf.7b09beaf5985d7813ce29825dca5252f.jpg: 224x224 AG 1.00, CQ 0.00, AB 0.00, ANO 0.00, 3.7ms\n",
      "image 54/742 /home/esidserver/datasets/testing_cls/allin-test/AedesAegypti-InfinixS5-548-_jpg.rf.0209fdd751c4b10d4cb6a267b9e313fd.jpg: 224x224 AG 0.52, AB 0.48, ANO 0.00, CQ 0.00, 4.6ms\n",
      "image 55/742 /home/esidserver/datasets/testing_cls/allin-test/AedesAegypti-InfinixS5-549-_jpg.rf.64049e0b922099902fb4269e5bfb6c34.jpg: 224x224 AG 0.97, AB 0.03, CQ 0.00, ANO 0.00, 4.7ms\n",
      "image 56/742 /home/esidserver/datasets/testing_cls/allin-test/AedesAegypti-InfinixS5-553-_jpg.rf.056d88b278b9a4118458d5693e9acb2d.jpg: 224x224 AG 0.99, AB 0.01, CQ 0.00, ANO 0.00, 4.4ms\n",
      "image 57/742 /home/esidserver/datasets/testing_cls/allin-test/AedesAegypti-InfinixS5-556-_jpg.rf.08c4de8b062e58129db66a0cd25d89e7.jpg: 224x224 AG 1.00, AB 0.00, CQ 0.00, ANO 0.00, 4.9ms\n",
      "image 58/742 /home/esidserver/datasets/testing_cls/allin-test/AedesAegypti-InfinixS5-562-_jpg.rf.18dbaba481cc994a069171c8faac5df6.jpg: 224x224 AG 0.70, CQ 0.27, ANO 0.02, AB 0.01, 4.6ms\n",
      "image 59/742 /home/esidserver/datasets/testing_cls/allin-test/AedesAegypti-InfinixS5-569-_jpg.rf.b722050acd6bc1b95906f7f561807d8a.jpg: 224x224 AG 0.99, AB 0.01, CQ 0.00, ANO 0.00, 4.1ms\n",
      "image 60/742 /home/esidserver/datasets/testing_cls/allin-test/AedesAegypti-InfinixS5-61-_jpg.rf.51929bc402356df266ed1381a17330c6.jpg: 224x224 AG 0.53, AB 0.32, CQ 0.09, ANO 0.06, 6.1ms\n",
      "image 61/742 /home/esidserver/datasets/testing_cls/allin-test/AedesAegypti-InfinixS5-66-_jpg.rf.66c09d351e455247b8c3948e8865b1ff.jpg: 224x224 AG 0.81, AB 0.19, ANO 0.00, CQ 0.00, 4.3ms\n",
      "image 62/742 /home/esidserver/datasets/testing_cls/allin-test/AedesAegypti-InfinixS5-67-_jpg.rf.657a90256b930444f732f81e6e4444e0.jpg: 224x224 AG 0.41, AB 0.37, ANO 0.17, CQ 0.05, 4.1ms\n",
      "image 63/742 /home/esidserver/datasets/testing_cls/allin-test/AedesAegypti-InfinixS5-70-_jpg.rf.ca890c6711a2921e99d8b34d37806fa2.jpg: 224x224 AG 1.00, AB 0.00, CQ 0.00, ANO 0.00, 4.9ms\n",
      "image 64/742 /home/esidserver/datasets/testing_cls/allin-test/AedesAegypti-InfinixS5-73-_jpg.rf.b9c74d8fbf8a73fdc7029a50c2dfe487.jpg: 224x224 AG 1.00, AB 0.00, CQ 0.00, ANO 0.00, 4.6ms\n",
      "image 65/742 /home/esidserver/datasets/testing_cls/allin-test/AedesAegypti-InfinixS5-80-_jpg.rf.546cdfe6388ea6b9c5f19e72e5ff8c8f.jpg: 224x224 AG 1.00, AB 0.00, ANO 0.00, CQ 0.00, 4.0ms\n",
      "image 66/742 /home/esidserver/datasets/testing_cls/allin-test/AedesAegypti_100x_001_02_nat_JPG.rf.c1e17a1492ee33b2d7181be3bbaff6b8.jpg: 224x224 AG 0.96, CQ 0.03, AB 0.01, ANO 0.00, 4.3ms\n",
      "image 67/742 /home/esidserver/datasets/testing_cls/allin-test/AedesAegypti_100x_007_01_lab_JPG.rf.b88b48f8a4dab2cb69526ca80897325e.jpg: 224x224 AG 1.00, AB 0.00, CQ 0.00, ANO 0.00, 4.4ms\n",
      "image 68/742 /home/esidserver/datasets/testing_cls/allin-test/AedesAegypti_100x_007_04_nat_JPG.rf.b25850fd41eccb6e09f59e578550b700.jpg: 224x224 AG 0.95, AB 0.03, CQ 0.02, ANO 0.00, 4.1ms\n",
      "image 69/742 /home/esidserver/datasets/testing_cls/allin-test/AedesAegypti_100x_008_02_nat_JPG.rf.a383db1b4a7b9f0bfd739bdaa9550700.jpg: 224x224 AG 1.00, CQ 0.00, AB 0.00, ANO 0.00, 4.1ms\n",
      "image 70/742 /home/esidserver/datasets/testing_cls/allin-test/AedesAegypti_100x_009_02_lab_JPG.rf.2cfaa6c2de3c62fae7079cda43ca0cba.jpg: 224x224 AG 1.00, AB 0.00, CQ 0.00, ANO 0.00, 5.4ms\n",
      "image 71/742 /home/esidserver/datasets/testing_cls/allin-test/AedesAegypti_100x_010_01_lab_JPG.rf.056b9f059373ad8c4e56012a108cceaa.jpg: 224x224 AB 1.00, AG 0.00, ANO 0.00, CQ 0.00, 4.1ms\n",
      "image 72/742 /home/esidserver/datasets/testing_cls/allin-test/AedesAegypti_100x_011_03_lab_JPG.rf.4f76c12f19e9e748df61d817e04974b5.jpg: 224x224 AG 1.00, AB 0.00, CQ 0.00, ANO 0.00, 4.1ms\n",
      "image 73/742 /home/esidserver/datasets/testing_cls/allin-test/AedesAegypti_100x_011_03_nat_JPG.rf.873f110be9b6e56076b80ba354ca685a.jpg: 224x224 AG 1.00, AB 0.00, CQ 0.00, ANO 0.00, 3.9ms\n",
      "image 74/742 /home/esidserver/datasets/testing_cls/allin-test/AedesAegypti_100x_012_03_nat_JPG.rf.902de8fe3bde7662a9826c8de05c8826.jpg: 224x224 AG 1.00, AB 0.00, CQ 0.00, ANO 0.00, 4.9ms\n",
      "image 75/742 /home/esidserver/datasets/testing_cls/allin-test/AedesAegypti_100x_013_02_lab_JPG.rf.12554e1f00bf92814de5589a58a035df.jpg: 224x224 AG 0.99, AB 0.01, CQ 0.00, ANO 0.00, 4.7ms\n",
      "image 76/742 /home/esidserver/datasets/testing_cls/allin-test/AedesAegypti_100x_015_03_nat_JPG.rf.fe27197e04cb1d41de425cb8a7423ba2.jpg: 224x224 AG 0.98, CQ 0.02, AB 0.00, ANO 0.00, 4.6ms\n",
      "image 77/742 /home/esidserver/datasets/testing_cls/allin-test/AedesAegypti_100x_015_04_nat_JPG.rf.00399b837c7029ba71b73722f0777e92.jpg: 224x224 AG 0.94, CQ 0.04, AB 0.02, ANO 0.00, 5.0ms\n",
      "image 78/742 /home/esidserver/datasets/testing_cls/allin-test/AedesAegypti_100x_016_01_lab_JPG.rf.20da2370e3bb85b55d73cd476eaac9f1.jpg: 224x224 AB 0.55, AG 0.45, CQ 0.00, ANO 0.00, 4.9ms\n",
      "image 79/742 /home/esidserver/datasets/testing_cls/allin-test/AedesAegypti_100x_018_04_nat_JPG.rf.91abe228dafe9b5d06113639cad07091.jpg: 224x224 AG 0.83, AB 0.12, CQ 0.05, ANO 0.00, 5.0ms\n",
      "image 80/742 /home/esidserver/datasets/testing_cls/allin-test/AedesAegypti_100x_019_01_lab_JPG.rf.854ec78945886f5b5c41f75c8e862ca8.jpg: 224x224 AG 0.99, AB 0.01, CQ 0.00, ANO 0.00, 5.0ms\n",
      "image 81/742 /home/esidserver/datasets/testing_cls/allin-test/AedesAegypti_100x_020_03_lab_JPG.rf.96751e445de57786574b850c96d8ad51.jpg: 224x224 AB 0.81, AG 0.19, CQ 0.00, ANO 0.00, 5.0ms\n",
      "image 82/742 /home/esidserver/datasets/testing_cls/allin-test/AedesAegypti_100x_023_02_nat_JPG.rf.f59739dc18bc5a756f6d0ee19ab38e4a.jpg: 224x224 AG 1.00, CQ 0.00, AB 0.00, ANO 0.00, 5.2ms\n",
      "image 83/742 /home/esidserver/datasets/testing_cls/allin-test/AedesAegypti_100x_023_04_nat_JPG.rf.d769d5e1b60d8b4fac2539717b1bcd3b.jpg: 224x224 AG 1.00, AB 0.00, CQ 0.00, ANO 0.00, 4.5ms\n",
      "image 84/742 /home/esidserver/datasets/testing_cls/allin-test/AedesAegypti_100x_026_01_nat_JPG.rf.beabaa3ef4132c1b05ad79a7a54cc0fd.jpg: 224x224 AG 0.91, AB 0.09, CQ 0.00, ANO 0.00, 4.7ms\n",
      "image 85/742 /home/esidserver/datasets/testing_cls/allin-test/AedesAegypti_100x_027_03_lab_JPG.rf.e058d53eca4063657ee6562e4bc184f1.jpg: 224x224 AG 1.00, AB 0.00, CQ 0.00, ANO 0.00, 4.4ms\n",
      "image 86/742 /home/esidserver/datasets/testing_cls/allin-test/AedesAegypti_100x_027_04_lab_JPG.rf.125ae69efbf381e6d7fe07efd0bd36d4.jpg: 224x224 AG 1.00, CQ 0.00, AB 0.00, ANO 0.00, 4.8ms\n",
      "image 87/742 /home/esidserver/datasets/testing_cls/allin-test/AedesAegypti_100x_029_02_lab_JPG.rf.69b8de3d984f0b4db794df92e1b81340.jpg: 224x224 AG 1.00, AB 0.00, CQ 0.00, ANO 0.00, 5.1ms\n",
      "image 88/742 /home/esidserver/datasets/testing_cls/allin-test/AedesAegypti_100x_030_02_nat_JPG.rf.06ee1064a965563cc085a251f68700fb.jpg: 224x224 AG 0.90, AB 0.10, CQ 0.00, ANO 0.00, 5.8ms\n",
      "image 89/742 /home/esidserver/datasets/testing_cls/allin-test/AedesAegypti_100x_030_03_lab_JPG.rf.fe102591c63fa442f7a24134c4592a7b.jpg: 224x224 AG 1.00, AB 0.00, CQ 0.00, ANO 0.00, 5.2ms\n",
      "image 90/742 /home/esidserver/datasets/testing_cls/allin-test/AedesAegypti_100x_031_01_nat_JPG.rf.0f99224590ca9fd57f29d8b7d3407f6d.jpg: 224x224 AG 1.00, AB 0.00, CQ 0.00, ANO 0.00, 4.5ms\n",
      "image 91/742 /home/esidserver/datasets/testing_cls/allin-test/AedesAegypti_100x_031_03_nat_JPG.rf.14e661a46b5082d9b492bdbffdec4e4a.jpg: 224x224 AG 1.00, CQ 0.00, AB 0.00, ANO 0.00, 4.5ms\n",
      "image 92/742 /home/esidserver/datasets/testing_cls/allin-test/AedesAegypti_100x_033_03_nat_JPG.rf.605d562c27d15252601283c50dde2704.jpg: 224x224 AG 0.99, AB 0.01, CQ 0.00, ANO 0.00, 4.5ms\n",
      "image 93/742 /home/esidserver/datasets/testing_cls/allin-test/AedesAegypti_100x_036_03_lab_JPG.rf.e72eab01fa4c1b9e8b51c4bdc301d773.jpg: 224x224 AG 1.00, AB 0.00, ANO 0.00, CQ 0.00, 4.4ms\n",
      "image 94/742 /home/esidserver/datasets/testing_cls/allin-test/AedesAegypti_100x_036_03_nat_JPG.rf.a1513805c7a78bef7ba8585f2672d5ce.jpg: 224x224 AG 0.99, CQ 0.01, ANO 0.00, AB 0.00, 4.4ms\n",
      "image 95/742 /home/esidserver/datasets/testing_cls/allin-test/AedesAegypti_100x_036_04_lab_JPG.rf.7e0d6605dd37d87186031c5ebe4463af.jpg: 224x224 AG 1.00, AB 0.00, ANO 0.00, CQ 0.00, 4.4ms\n",
      "image 96/742 /home/esidserver/datasets/testing_cls/allin-test/AedesAegypti_100x_037_03_nat_JPG.rf.a4c1881b161f9530e7084a446980e3e7.jpg: 224x224 AG 1.00, CQ 0.00, AB 0.00, ANO 0.00, 4.5ms\n",
      "image 97/742 /home/esidserver/datasets/testing_cls/allin-test/AedesAegypti_100x_038_02_nat_JPG.rf.09378e6e9205eb24be3e0799873f909d.jpg: 224x224 AG 1.00, AB 0.00, CQ 0.00, ANO 0.00, 4.5ms\n",
      "image 98/742 /home/esidserver/datasets/testing_cls/allin-test/AedesAegypti_100x_039_01_lab_JPG.rf.5173247942dc1fb05644390f4c56cb40.jpg: 224x224 AG 1.00, AB 0.00, CQ 0.00, ANO 0.00, 3.9ms\n",
      "image 99/742 /home/esidserver/datasets/testing_cls/allin-test/AedesAegypti_100x_040_01_nat_JPG.rf.304515862a78699f0bef281c5df6c80f.jpg: 224x224 AG 1.00, AB 0.00, CQ 0.00, ANO 0.00, 4.4ms\n",
      "image 100/742 /home/esidserver/datasets/testing_cls/allin-test/AedesAegypti_100x_041_02_nat_JPG.rf.77fe56c63649179bf4fe946c1759ec60.jpg: 224x224 CQ 0.81, AG 0.19, AB 0.00, ANO 0.00, 4.6ms\n",
      "image 101/742 /home/esidserver/datasets/testing_cls/allin-test/AedesAegypti_100x_047_03_lab_JPG.rf.e6fbcf03d8cd76dcef4adea326112c7e.jpg: 224x224 AB 0.87, AG 0.13, ANO 0.00, CQ 0.00, 6.2ms\n",
      "image 102/742 /home/esidserver/datasets/testing_cls/allin-test/AedesAegypti_100x_049_01_lab_JPG.rf.09f154a8a1103ab6e4507c890d1fce75.jpg: 224x224 AG 1.00, AB 0.00, ANO 0.00, CQ 0.00, 5.5ms\n",
      "image 103/742 /home/esidserver/datasets/testing_cls/allin-test/AedesAegypti_100x_052_04_lab_JPG.rf.4b2394b2f3a3fb88af314622096ea7da.jpg: 224x224 AG 1.00, AB 0.00, CQ 0.00, ANO 0.00, 5.1ms\n",
      "image 104/742 /home/esidserver/datasets/testing_cls/allin-test/AedesAegypti_100x_053_04_lab_JPG.rf.c85d2a66f9f1a40eb35d604fe58151d0.jpg: 224x224 AG 0.98, AB 0.02, CQ 0.00, ANO 0.00, 4.6ms\n",
      "image 105/742 /home/esidserver/datasets/testing_cls/allin-test/AedesAegypti_100x_054_01_lab_JPG.rf.a33ff0ab28e7d9436c08a190c780bd1e.jpg: 224x224 AG 1.00, AB 0.00, CQ 0.00, ANO 0.00, 4.9ms\n",
      "image 106/742 /home/esidserver/datasets/testing_cls/allin-test/AedesAegypti_100x_056_02_lab_JPG.rf.9d2bb7aff57b29f8d256cbb12551c166.jpg: 224x224 AG 1.00, AB 0.00, CQ 0.00, ANO 0.00, 4.5ms\n",
      "image 107/742 /home/esidserver/datasets/testing_cls/allin-test/AedesAegypti_100x_059_02_lab_JPG.rf.ca4190f5d84eb69196a677d4515403a7.jpg: 224x224 AG 1.00, CQ 0.00, AB 0.00, ANO 0.00, 4.5ms\n",
      "image 108/742 /home/esidserver/datasets/testing_cls/allin-test/AedesAegypti_100x_061_03_lab_JPG.rf.22e8a91848129c292ab3a70a9baf0cf8.jpg: 224x224 AG 1.00, AB 0.00, CQ 0.00, ANO 0.00, 4.6ms\n",
      "image 109/742 /home/esidserver/datasets/testing_cls/allin-test/AedesAegypti_100x_064_03_lab_JPG.rf.824200a272e27d303b367c591a546d71.jpg: 224x224 AG 0.97, AB 0.03, CQ 0.00, ANO 0.00, 4.6ms\n",
      "image 110/742 /home/esidserver/datasets/testing_cls/allin-test/AedesAegypti_100x_068_03_lab_JPG.rf.849e019359d19e5684b61c5f0b23c20c.jpg: 224x224 AG 0.73, AB 0.27, CQ 0.00, ANO 0.00, 4.6ms\n",
      "image 111/742 /home/esidserver/datasets/testing_cls/allin-test/AedesAegypti_100x_071_01_lab_JPG.rf.9dcd44418399e0954305cc7a338cd0f7.jpg: 224x224 AG 1.00, AB 0.00, CQ 0.00, ANO 0.00, 5.7ms\n",
      "image 112/742 /home/esidserver/datasets/testing_cls/allin-test/AedesAegypti_100x_075_03_lab_JPG.rf.58770ba1586a6aae93af8e761736cf2e.jpg: 224x224 AG 1.00, AB 0.00, CQ 0.00, ANO 0.00, 6.9ms\n",
      "image 113/742 /home/esidserver/datasets/testing_cls/allin-test/AedesAegypti_100x_077_03_lab_JPG.rf.5bf9256c9f6948d27db8cf290e1de4fd.jpg: 224x224 AG 1.00, AB 0.00, CQ 0.00, ANO 0.00, 6.4ms\n",
      "image 114/742 /home/esidserver/datasets/testing_cls/allin-test/AedesAegypti_100x_085_01_lab_JPG.rf.887fe2be546ecaa77f379979d6f0c265.jpg: 224x224 AG 0.98, AB 0.02, CQ 0.00, ANO 0.00, 4.7ms\n",
      "image 115/742 /home/esidserver/datasets/testing_cls/allin-test/AedesAegypti_100x_086_03_lab_JPG.rf.802209974bff1317b71bfb12427f8c1a.jpg: 224x224 AG 1.00, AB 0.00, CQ 0.00, ANO 0.00, 5.0ms\n",
      "image 116/742 /home/esidserver/datasets/testing_cls/allin-test/AedesAegypti_100x_087_03_lab_JPG.rf.d4d72f99a8efeaf8947521756f1aa8b0.jpg: 224x224 AG 0.97, CQ 0.02, AB 0.01, ANO 0.00, 4.6ms\n",
      "image 117/742 /home/esidserver/datasets/testing_cls/allin-test/AedesAegypti_100x_091_01_lab_JPG.rf.5ce34bca2a0110ab24eb617eb0385478.jpg: 224x224 AG 0.95, AB 0.05, ANO 0.00, CQ 0.00, 4.6ms\n",
      "image 118/742 /home/esidserver/datasets/testing_cls/allin-test/AedesAegypti_100x_091_02_lab_JPG.rf.d09720ccd430d4d4b72621f66d3f0d70.jpg: 224x224 AG 0.95, AB 0.05, CQ 0.00, ANO 0.00, 4.7ms\n",
      "image 119/742 /home/esidserver/datasets/testing_cls/allin-test/AedesAegypti_100x_092_02_lab_JPG.rf.1c8dfaad14c52704e5b7f69c37ab8f31.jpg: 224x224 AG 0.99, AB 0.01, CQ 0.00, ANO 0.00, 4.8ms\n",
      "image 120/742 /home/esidserver/datasets/testing_cls/allin-test/AedesAegypti_100x_097_04_lab_JPG.rf.e0ce0e67160c46d88ef3395a11fd5915.jpg: 224x224 AB 0.80, AG 0.20, CQ 0.00, ANO 0.00, 4.5ms\n",
      "image 121/742 /home/esidserver/datasets/testing_cls/allin-test/AedesAegypti_100x_099_04_lab_JPG.rf.b5996a22e94a4d91fb125d1dbd7db2ec.jpg: 224x224 AG 1.00, CQ 0.00, AB 0.00, ANO 0.00, 4.8ms\n",
      "image 122/742 /home/esidserver/datasets/testing_cls/allin-test/AedesAegypti_100x_100_01_lab_JPG.rf.c6bc66bacd98cb856b6573a967c7c060.jpg: 224x224 AG 0.96, CQ 0.04, AB 0.01, ANO 0.00, 5.0ms\n",
      "image 123/742 /home/esidserver/datasets/testing_cls/allin-test/AedesAegypti_100x_100_03_lab_JPG.rf.7c66b96ed5ed5917f3c7c408a8926d03.jpg: 224x224 AG 1.00, AB 0.00, CQ 0.00, ANO 0.00, 4.7ms\n",
      "image 124/742 /home/esidserver/datasets/testing_cls/allin-test/AedesAegypti_100x_102_04_lab_JPG.rf.6608b51741b5d69b0252e7be5ae8b17c.jpg: 224x224 AG 1.00, AB 0.00, CQ 0.00, ANO 0.00, 4.5ms\n",
      "image 125/742 /home/esidserver/datasets/testing_cls/allin-test/AedesAegypti_100x_110_02_lab_JPG.rf.754a3d944e99a45a3a41ba7fffebc1e3.jpg: 224x224 AG 1.00, AB 0.00, CQ 0.00, ANO 0.00, 4.4ms\n",
      "image 126/742 /home/esidserver/datasets/testing_cls/allin-test/AedesAegypti_100x_110_04_lab_JPG.rf.7bdb7f6504019428243e12fcb6bb8d13.jpg: 224x224 AG 1.00, AB 0.00, CQ 0.00, ANO 0.00, 5.5ms\n",
      "image 127/742 /home/esidserver/datasets/testing_cls/allin-test/AedesAegypti_40x_001_01_lab_JPG.rf.b90a5a82f76c0f8ae72642e2bdcfe220.jpg: 224x224 AG 1.00, AB 0.00, CQ 0.00, ANO 0.00, 5.1ms\n",
      "image 128/742 /home/esidserver/datasets/testing_cls/allin-test/AedesAegypti_40x_001_03_lab_JPG.rf.4b0e4254629161308c647cf05a12c714.jpg: 224x224 AG 1.00, AB 0.00, CQ 0.00, ANO 0.00, 5.0ms\n",
      "image 129/742 /home/esidserver/datasets/testing_cls/allin-test/AedesAegypti_40x_002_04_nat_JPG.rf.6d474f4d620870507d44385496c75447.jpg: 224x224 AG 1.00, AB 0.00, CQ 0.00, ANO 0.00, 5.0ms\n",
      "image 130/742 /home/esidserver/datasets/testing_cls/allin-test/AedesAegypti_40x_003_01_nat_JPG.rf.4bcf52195146e04af51b4e9b2f335371.jpg: 224x224 AG 1.00, AB 0.00, CQ 0.00, ANO 0.00, 5.0ms\n",
      "image 131/742 /home/esidserver/datasets/testing_cls/allin-test/AedesAegypti_40x_005_04_lab_JPG.rf.91d57689b15bccd9812cd3da1a7d6eb5.jpg: 224x224 AG 1.00, AB 0.00, CQ 0.00, ANO 0.00, 5.3ms\n",
      "image 132/742 /home/esidserver/datasets/testing_cls/allin-test/AedesAegypti_40x_006_03_nat_JPG.rf.90cd9370150a280df571a0475b021c1c.jpg: 224x224 AG 1.00, AB 0.00, ANO 0.00, CQ 0.00, 6.8ms\n",
      "image 133/742 /home/esidserver/datasets/testing_cls/allin-test/AedesAegypti_40x_009_01_nat_JPG.rf.3f305d93184f6cb83714dbc3c2393a73.jpg: 224x224 AG 1.00, AB 0.00, CQ 0.00, ANO 0.00, 5.4ms\n",
      "image 134/742 /home/esidserver/datasets/testing_cls/allin-test/AedesAegypti_40x_009_03_nat_JPG.rf.9220689ce95f0dcc592a8c6d3a33a846.jpg: 224x224 AG 1.00, AB 0.00, CQ 0.00, ANO 0.00, 5.4ms\n",
      "image 135/742 /home/esidserver/datasets/testing_cls/allin-test/AedesAegypti_40x_015_03_lab_JPG.rf.49299f28cd2dcd946f11ab265cb5ae4c.jpg: 224x224 AG 0.81, AB 0.19, ANO 0.00, CQ 0.00, 5.3ms\n",
      "image 136/742 /home/esidserver/datasets/testing_cls/allin-test/AedesAegypti_40x_016_04_nat_JPG.rf.d54de2916cb5ba7181836f49c34c5b0e.jpg: 224x224 AG 1.00, AB 0.00, CQ 0.00, ANO 0.00, 5.3ms\n",
      "image 137/742 /home/esidserver/datasets/testing_cls/allin-test/AedesAegypti_40x_017_02_nat_JPG.rf.b00960c92519a802644bea95aaf3f3c7.jpg: 224x224 AG 0.96, AB 0.04, CQ 0.00, ANO 0.00, 5.1ms\n",
      "image 138/742 /home/esidserver/datasets/testing_cls/allin-test/AedesAegypti_40x_018_04_nat_JPG.rf.16792a2a0639de2ac7fa989d1124a3dd.jpg: 224x224 AG 1.00, AB 0.00, CQ 0.00, ANO 0.00, 5.1ms\n",
      "image 139/742 /home/esidserver/datasets/testing_cls/allin-test/AedesAegypti_40x_020_02_nat_JPG.rf.04708b3db969389f2e37229eef2cd0dc.jpg: 224x224 AG 1.00, AB 0.00, CQ 0.00, ANO 0.00, 4.9ms\n",
      "image 140/742 /home/esidserver/datasets/testing_cls/allin-test/AedesAegypti_40x_021_01_nat_JPG.rf.d85a93c8beebe295db24d40d80da0b40.jpg: 224x224 AG 0.99, AB 0.01, CQ 0.00, ANO 0.00, 5.0ms\n",
      "image 141/742 /home/esidserver/datasets/testing_cls/allin-test/AedesAegypti_40x_021_03_nat_JPG.rf.4b26aaa73a9c655a35d7795536994660.jpg: 224x224 AG 1.00, AB 0.00, CQ 0.00, ANO 0.00, 4.9ms\n",
      "image 142/742 /home/esidserver/datasets/testing_cls/allin-test/AedesAegypti_40x_023_01_nat_JPG.rf.9fb3aee5fafd5c73fcc5a5ed8d8fcd86.jpg: 224x224 AG 1.00, AB 0.00, CQ 0.00, ANO 0.00, 4.9ms\n",
      "image 143/742 /home/esidserver/datasets/testing_cls/allin-test/AedesAegypti_40x_023_02_nat_JPG.rf.d871105af73b5f031a5dd34ec1433932.jpg: 224x224 AG 1.00, AB 0.00, CQ 0.00, ANO 0.00, 4.8ms\n",
      "image 144/742 /home/esidserver/datasets/testing_cls/allin-test/AedesAegypti_40x_024_03_lab_JPG.rf.729d31f1d699e837f745a8d1663546e6.jpg: 224x224 AG 1.00, AB 0.00, CQ 0.00, ANO 0.00, 4.9ms\n",
      "image 145/742 /home/esidserver/datasets/testing_cls/allin-test/AedesAegypti_40x_025_01_nat_JPG.rf.124cdfc39e1ffc1e1636bc8efc7b756e.jpg: 224x224 AG 0.94, AB 0.06, CQ 0.00, ANO 0.00, 4.9ms\n",
      "image 146/742 /home/esidserver/datasets/testing_cls/allin-test/AedesAegypti_40x_025_02_nat_JPG.rf.bc1d3137d3405300771bec364bc28286.jpg: 224x224 AG 0.96, AB 0.04, CQ 0.00, ANO 0.00, 5.4ms\n",
      "image 147/742 /home/esidserver/datasets/testing_cls/allin-test/AedesAegypti_40x_025_04_lab_JPG.rf.65589622a44bede106178ae77d2149e7.jpg: 224x224 AG 0.99, AB 0.01, CQ 0.00, ANO 0.00, 5.5ms\n",
      "image 148/742 /home/esidserver/datasets/testing_cls/allin-test/AedesAegypti_40x_026_03_nat_JPG.rf.b232d3712f1704c92e51fa4a3f79a6d7.jpg: 224x224 AG 1.00, AB 0.00, CQ 0.00, ANO 0.00, 5.0ms\n",
      "image 149/742 /home/esidserver/datasets/testing_cls/allin-test/AedesAegypti_40x_029_01_nat_JPG.rf.d5d4682a65d151721e697f8b8bc7c203.jpg: 224x224 AG 1.00, AB 0.00, CQ 0.00, ANO 0.00, 5.4ms\n",
      "image 150/742 /home/esidserver/datasets/testing_cls/allin-test/AedesAegypti_40x_029_02_lab_JPG.rf.7260537f4752e877f3a7b56883708291.jpg: 224x224 AG 1.00, AB 0.00, ANO 0.00, CQ 0.00, 5.2ms\n",
      "image 151/742 /home/esidserver/datasets/testing_cls/allin-test/AedesAegypti_40x_033_02_nat_JPG.rf.757a1e95ba2e727f1f775819c7902312.jpg: 224x224 AG 1.00, AB 0.00, CQ 0.00, ANO 0.00, 4.9ms\n",
      "image 152/742 /home/esidserver/datasets/testing_cls/allin-test/AedesAegypti_40x_033_03_nat_JPG.rf.11107c1f520ef1038096594545f56045.jpg: 224x224 AG 1.00, AB 0.00, CQ 0.00, ANO 0.00, 4.9ms\n",
      "image 153/742 /home/esidserver/datasets/testing_cls/allin-test/AedesAegypti_40x_035_04_lab_JPG.rf.59f52ae0f53ca62d922cb62a808ab424.jpg: 224x224 AG 1.00, AB 0.00, CQ 0.00, ANO 0.00, 5.0ms\n",
      "image 154/742 /home/esidserver/datasets/testing_cls/allin-test/AedesAegypti_40x_036_01_nat_JPG.rf.8569669ef14470e781ba68400aa3b508.jpg: 224x224 AG 1.00, CQ 0.00, AB 0.00, ANO 0.00, 4.7ms\n",
      "image 155/742 /home/esidserver/datasets/testing_cls/allin-test/AedesAegypti_40x_037_03_lab_JPG.rf.0d6521bb7e707fe8bd93c39bbf8cab65.jpg: 224x224 AG 1.00, AB 0.00, CQ 0.00, ANO 0.00, 4.8ms\n",
      "image 156/742 /home/esidserver/datasets/testing_cls/allin-test/AedesAegypti_40x_038_01_nat_JPG.rf.d35bdb48352ccb6828f89e5c76eb7ac9.jpg: 224x224 AG 0.94, AB 0.05, CQ 0.00, ANO 0.00, 4.7ms\n",
      "image 157/742 /home/esidserver/datasets/testing_cls/allin-test/AedesAegypti_40x_038_03_lab_JPG.rf.bbf6f2c1a77637f3bb27055c5481bbc7.jpg: 224x224 AG 1.00, AB 0.00, ANO 0.00, CQ 0.00, 4.6ms\n",
      "image 158/742 /home/esidserver/datasets/testing_cls/allin-test/AedesAegypti_40x_040_04_lab_JPG.rf.cddb587e9fe4ddc9d2a4c9018f086b76.jpg: 224x224 AG 1.00, AB 0.00, CQ 0.00, ANO 0.00, 4.0ms\n",
      "image 159/742 /home/esidserver/datasets/testing_cls/allin-test/AedesAegypti_40x_045_03_lab_JPG.rf.e09b85242cb4d5c188170fc5c44bdafe.jpg: 224x224 AG 1.00, AB 0.00, ANO 0.00, CQ 0.00, 3.6ms\n",
      "image 160/742 /home/esidserver/datasets/testing_cls/allin-test/AedesAegypti_40x_049_02_lab_JPG.rf.5d990c978b569f651c66fc070ca179fe.jpg: 224x224 AG 1.00, CQ 0.00, AB 0.00, ANO 0.00, 4.2ms\n",
      "image 161/742 /home/esidserver/datasets/testing_cls/allin-test/AedesAegypti_40x_051_01_lab_JPG.rf.e3bf61049aebcadec813f3bc81de76a1.jpg: 224x224 AG 1.00, AB 0.00, CQ 0.00, ANO 0.00, 4.2ms\n",
      "image 162/742 /home/esidserver/datasets/testing_cls/allin-test/AedesAegypti_40x_053_02_lab_JPG.rf.2c3c23279ca0c7d9220af9fa7955c3eb.jpg: 224x224 AG 0.98, AB 0.02, CQ 0.00, ANO 0.00, 4.1ms\n",
      "image 163/742 /home/esidserver/datasets/testing_cls/allin-test/AedesAegypti_40x_055_01_lab_JPG.rf.b2f6357cd41daeb5d223c4d5113e427a.jpg: 224x224 AG 0.78, AB 0.22, CQ 0.00, ANO 0.00, 4.9ms\n",
      "image 164/742 /home/esidserver/datasets/testing_cls/allin-test/AedesAegypti_40x_056_03_lab_JPG.rf.d634c45071bc3ea3dac994a9082fcdec.jpg: 224x224 AG 0.94, AB 0.06, CQ 0.00, ANO 0.00, 4.1ms\n",
      "image 165/742 /home/esidserver/datasets/testing_cls/allin-test/AedesAegypti_40x_058_03_lab_JPG.rf.c9571e96dd46866d1ee9ab37c372ee3b.jpg: 224x224 AG 1.00, AB 0.00, CQ 0.00, ANO 0.00, 4.0ms\n",
      "image 166/742 /home/esidserver/datasets/testing_cls/allin-test/AedesAegypti_40x_059_02_lab_JPG.rf.967d44c84da4fb7490604f5d7d7ba2b7.jpg: 224x224 AG 1.00, AB 0.00, CQ 0.00, ANO 0.00, 4.3ms\n",
      "image 167/742 /home/esidserver/datasets/testing_cls/allin-test/AedesAegypti_40x_066_02_lab_JPG.rf.bb1c23dff470ba0bada4b124771b55e5.jpg: 224x224 AG 1.00, AB 0.00, CQ 0.00, ANO 0.00, 4.4ms\n",
      "image 168/742 /home/esidserver/datasets/testing_cls/allin-test/AedesAegypti_40x_066_03_lab_JPG.rf.6afe5d8883de2f12d3f300c1186f9daa.jpg: 224x224 AG 1.00, CQ 0.00, AB 0.00, ANO 0.00, 4.4ms\n",
      "image 169/742 /home/esidserver/datasets/testing_cls/allin-test/AedesAegypti_40x_070_03_lab_JPG.rf.3de0dcf00a370ef517b8d507ed07c31a.jpg: 224x224 AG 0.98, AB 0.02, CQ 0.00, ANO 0.00, 3.9ms\n",
      "image 170/742 /home/esidserver/datasets/testing_cls/allin-test/AedesAegypti_40x_070_04_lab_JPG.rf.c6398bd8477c0d12d4eb43a06bff565a.jpg: 224x224 AG 1.00, AB 0.00, CQ 0.00, ANO 0.00, 4.1ms\n",
      "image 171/742 /home/esidserver/datasets/testing_cls/allin-test/AedesAegypti_40x_073_01_lab_JPG.rf.a97443d503300c1c7b303acfc03977a7.jpg: 224x224 AG 1.00, AB 0.00, CQ 0.00, ANO 0.00, 4.1ms\n",
      "image 172/742 /home/esidserver/datasets/testing_cls/allin-test/AedesAegypti_40x_076_02_lab_JPG.rf.05c90d8d4c88974a47bcfbf62d77ed4d.jpg: 224x224 AG 1.00, AB 0.00, CQ 0.00, ANO 0.00, 4.2ms\n",
      "image 173/742 /home/esidserver/datasets/testing_cls/allin-test/AedesAegypti_40x_078_01_lab_JPG.rf.3ad3d257940497b00611f8cc75b1d30a.jpg: 224x224 AG 0.99, AB 0.01, CQ 0.00, ANO 0.00, 4.0ms\n",
      "image 174/742 /home/esidserver/datasets/testing_cls/allin-test/AedesAegypti_40x_081_01_lab_JPG.rf.367100a77d666a8d76a6fa969134a6cb.jpg: 224x224 AG 1.00, AB 0.00, ANO 0.00, CQ 0.00, 4.0ms\n",
      "image 175/742 /home/esidserver/datasets/testing_cls/allin-test/AedesAegypti_40x_083_02_lab_JPG.rf.7ec11f8114a191171c37c7e2479bcc8f.jpg: 224x224 AG 1.00, AB 0.00, CQ 0.00, ANO 0.00, 4.0ms\n",
      "image 176/742 /home/esidserver/datasets/testing_cls/allin-test/AedesAegypti_40x_085_01_lab_JPG.rf.5c6e22b9b88079d11a429537b2bb2c79.jpg: 224x224 AG 1.00, AB 0.00, CQ 0.00, ANO 0.00, 3.9ms\n",
      "image 177/742 /home/esidserver/datasets/testing_cls/allin-test/AedesAegypti_40x_088_04_lab_JPG.rf.5847c51b3e8dd13eb50bd6de070ff156.jpg: 224x224 AG 1.00, AB 0.00, CQ 0.00, ANO 0.00, 4.5ms\n",
      "image 178/742 /home/esidserver/datasets/testing_cls/allin-test/AedesAegypti_40x_090_01_lab_JPG.rf.421525457953acafc0729861cb360e71.jpg: 224x224 AG 1.00, AB 0.00, CQ 0.00, ANO 0.00, 4.0ms\n",
      "image 179/742 /home/esidserver/datasets/testing_cls/allin-test/AedesAegypti_40x_091_02_lab_JPG.rf.2f3ba7c627f626fe79fa42bc074f6f34.jpg: 224x224 AG 0.99, AB 0.01, CQ 0.00, ANO 0.00, 3.9ms\n",
      "image 180/742 /home/esidserver/datasets/testing_cls/allin-test/AedesAegypti_40x_099_03_lab_JPG.rf.2ed9cd2041103d6800e3a13dafa38a8b.jpg: 224x224 AG 1.00, CQ 0.00, AB 0.00, ANO 0.00, 4.7ms\n",
      "image 181/742 /home/esidserver/datasets/testing_cls/allin-test/AedesAegypti_40x_108_02_lab_JPG.rf.91ee8e10013491e4f2c3fe1fe2c08b1f.jpg: 224x224 AG 0.78, AB 0.22, CQ 0.00, ANO 0.00, 4.0ms\n",
      "image 182/742 /home/esidserver/datasets/testing_cls/allin-test/AedesAegypti_40x_111_02_lab_JPG.rf.1f28e41d040152de156235107e52871a.jpg: 224x224 AG 0.77, AB 0.23, CQ 0.00, ANO 0.00, 4.2ms\n",
      "image 183/742 /home/esidserver/datasets/testing_cls/allin-test/AedesAegypti_40x_113_03_lab_JPG.rf.a309790275b65a10896b42d518c1ee26.jpg: 224x224 AG 0.99, AB 0.01, CQ 0.00, ANO 0.00, 4.7ms\n",
      "image 184/742 /home/esidserver/datasets/testing_cls/allin-test/AedesAegypti_40x_114_03_lab_JPG.rf.b47e1dc00b4c9f9613ad9515b1b61eb1.jpg: 224x224 AG 1.00, AB 0.00, CQ 0.00, ANO 0.00, 4.9ms\n",
      "image 185/742 /home/esidserver/datasets/testing_cls/allin-test/AedesAlbopictus-infinixS5-1001-_jpg.rf.1729526a86757c720b7b0f9434b641a0.jpg: 224x224 AB 1.00, AG 0.00, ANO 0.00, CQ 0.00, 5.5ms\n",
      "image 186/742 /home/esidserver/datasets/testing_cls/allin-test/AedesAlbopictus-infinixS5-101-_jpg.rf.94436df0fdc7910bd7b83cc38f609f7b.jpg: 224x224 AB 1.00, AG 0.00, CQ 0.00, ANO 0.00, 4.7ms\n",
      "image 187/742 /home/esidserver/datasets/testing_cls/allin-test/AedesAlbopictus-infinixS5-1012-_jpg.rf.b6f152a5e9e7036b9ac01da57621bb63.jpg: 224x224 AB 1.00, AG 0.00, CQ 0.00, ANO 0.00, 4.7ms\n",
      "image 188/742 /home/esidserver/datasets/testing_cls/allin-test/AedesAlbopictus-infinixS5-1028-_jpg.rf.e67f75b59a2378581518f4fa757f7daa.jpg: 224x224 AB 0.95, AG 0.05, CQ 0.00, ANO 0.00, 5.1ms\n",
      "image 189/742 /home/esidserver/datasets/testing_cls/allin-test/AedesAlbopictus-infinixS5-1029-_jpg.rf.8dca03483124fdd76eff7e1891e93d92.jpg: 224x224 AB 1.00, AG 0.00, CQ 0.00, ANO 0.00, 5.4ms\n",
      "image 190/742 /home/esidserver/datasets/testing_cls/allin-test/AedesAlbopictus-infinixS5-1042-_jpg.rf.2995b425e8703be47d3446f77e2aa3fc.jpg: 224x224 AB 0.99, AG 0.00, ANO 0.00, CQ 0.00, 5.2ms\n",
      "image 191/742 /home/esidserver/datasets/testing_cls/allin-test/AedesAlbopictus-infinixS5-107-_jpg.rf.687749d735697b9fef741924bd36d686.jpg: 224x224 AB 1.00, CQ 0.00, AG 0.00, ANO 0.00, 4.8ms\n",
      "image 192/742 /home/esidserver/datasets/testing_cls/allin-test/AedesAlbopictus-infinixS5-1077-_jpg.rf.c8d7155f2a178f27ccafc5ceeea490af.jpg: 224x224 AB 1.00, AG 0.00, ANO 0.00, CQ 0.00, 5.3ms\n",
      "image 193/742 /home/esidserver/datasets/testing_cls/allin-test/AedesAlbopictus-infinixS5-1081-_jpg.rf.17b3dddd223b3fb967c3b7b0bbfe5c34.jpg: 224x224 AB 1.00, AG 0.00, ANO 0.00, CQ 0.00, 5.3ms\n",
      "image 194/742 /home/esidserver/datasets/testing_cls/allin-test/AedesAlbopictus-infinixS5-1107-_jpg.rf.75ce3e82f98812450894e739502f6738.jpg: 224x224 AB 0.80, AG 0.20, ANO 0.00, CQ 0.00, 4.9ms\n",
      "image 195/742 /home/esidserver/datasets/testing_cls/allin-test/AedesAlbopictus-infinixS5-113-_jpg.rf.deee9e89db1f967a5ea4518a9294c655.jpg: 224x224 AB 0.90, AG 0.10, ANO 0.00, CQ 0.00, 5.0ms\n",
      "image 196/742 /home/esidserver/datasets/testing_cls/allin-test/AedesAlbopictus-infinixS5-1134-_jpg.rf.18bb359fcfe8b049e4e3fa89ac47a717.jpg: 224x224 AB 1.00, AG 0.00, ANO 0.00, CQ 0.00, 5.1ms\n",
      "image 197/742 /home/esidserver/datasets/testing_cls/allin-test/AedesAlbopictus-infinixS5-1138-_jpg.rf.b0f5d33b9c0c6ff9cdfb9066e062e895.jpg: 224x224 AB 0.99, AG 0.01, CQ 0.00, ANO 0.00, 5.6ms\n",
      "image 198/742 /home/esidserver/datasets/testing_cls/allin-test/AedesAlbopictus-infinixS5-114-_jpg.rf.9db2af06b107a1fb5e4b9c0ab1a6905d.jpg: 224x224 AB 1.00, AG 0.00, CQ 0.00, ANO 0.00, 5.2ms\n",
      "image 199/742 /home/esidserver/datasets/testing_cls/allin-test/AedesAlbopictus-infinixS5-1145-_jpg.rf.0760210077fd0510fea76509730a0eb9.jpg: 224x224 AB 1.00, AG 0.00, CQ 0.00, ANO 0.00, 5.3ms\n",
      "image 200/742 /home/esidserver/datasets/testing_cls/allin-test/AedesAlbopictus-infinixS5-1159-_jpg.rf.c3e26be91e3dde4ec6d2e850a3a95061.jpg: 224x224 AB 1.00, AG 0.00, ANO 0.00, CQ 0.00, 4.9ms\n",
      "image 201/742 /home/esidserver/datasets/testing_cls/allin-test/AedesAlbopictus-infinixS5-116-_jpg.rf.6c2d68e1f3d9297cbd87b141da0406f0.jpg: 224x224 AB 1.00, AG 0.00, CQ 0.00, ANO 0.00, 4.7ms\n",
      "image 202/742 /home/esidserver/datasets/testing_cls/allin-test/AedesAlbopictus-infinixS5-1170-_jpg.rf.fb291a4fae40bd5e63d6b4a3e9956d0f.jpg: 224x224 AB 1.00, AG 0.00, ANO 0.00, CQ 0.00, 5.0ms\n",
      "image 203/742 /home/esidserver/datasets/testing_cls/allin-test/AedesAlbopictus-infinixS5-1180-_jpg.rf.068992e94e6cf8b544e03a6aedf91547.jpg: 224x224 AB 1.00, AG 0.00, CQ 0.00, ANO 0.00, 5.9ms\n",
      "image 204/742 /home/esidserver/datasets/testing_cls/allin-test/AedesAlbopictus-infinixS5-1183-_jpg.rf.1ad9d8cb8b9a65b27ed2bdb12f5d6015.jpg: 224x224 AB 1.00, AG 0.00, ANO 0.00, CQ 0.00, 5.2ms\n",
      "image 205/742 /home/esidserver/datasets/testing_cls/allin-test/AedesAlbopictus-infinixS5-1185-_jpg.rf.6a89b970bd2a9844326c0209320cdf71.jpg: 224x224 AB 0.99, AG 0.01, CQ 0.00, ANO 0.00, 4.9ms\n",
      "image 206/742 /home/esidserver/datasets/testing_cls/allin-test/AedesAlbopictus-infinixS5-1187-_jpg.rf.7cf77c606c67feb773981576ce011f4b.jpg: 224x224 AB 0.99, AG 0.01, ANO 0.00, CQ 0.00, 5.3ms\n",
      "image 207/742 /home/esidserver/datasets/testing_cls/allin-test/AedesAlbopictus-infinixS5-119-_jpg.rf.7d68e02e70d6b9330d9c0d2f99ef6bac.jpg: 224x224 AB 0.99, AG 0.01, CQ 0.00, ANO 0.00, 4.9ms\n",
      "image 208/742 /home/esidserver/datasets/testing_cls/allin-test/AedesAlbopictus-infinixS5-1191-_jpg.rf.74052dbb8dc669a5c308145a1c782e44.jpg: 224x224 AB 1.00, AG 0.00, ANO 0.00, CQ 0.00, 4.9ms\n",
      "image 209/742 /home/esidserver/datasets/testing_cls/allin-test/AedesAlbopictus-infinixS5-1192-_jpg.rf.9856c21e54520d38f069b1d82ca4240e.jpg: 224x224 AB 0.99, AG 0.01, ANO 0.00, CQ 0.00, 5.2ms\n",
      "image 210/742 /home/esidserver/datasets/testing_cls/allin-test/AedesAlbopictus-infinixS5-1199-_jpg.rf.9174d1836949e45331d571269ea3ae84.jpg: 224x224 AB 0.98, AG 0.02, ANO 0.00, CQ 0.00, 6.7ms\n",
      "image 211/742 /home/esidserver/datasets/testing_cls/allin-test/AedesAlbopictus-infinixS5-124-_jpg.rf.82374886f84c1175e80a860154e3a4d6.jpg: 224x224 AB 1.00, AG 0.00, CQ 0.00, ANO 0.00, 8.0ms\n",
      "image 212/742 /home/esidserver/datasets/testing_cls/allin-test/AedesAlbopictus-infinixS5-1244-_jpg.rf.4c78a4116cab218f954b594f80633b4d.jpg: 224x224 AB 1.00, AG 0.00, CQ 0.00, ANO 0.00, 5.9ms\n",
      "image 213/742 /home/esidserver/datasets/testing_cls/allin-test/AedesAlbopictus-infinixS5-1255-_jpg.rf.c1080264d7e3f227428bbd1b8e1876b3.jpg: 224x224 AB 1.00, AG 0.00, CQ 0.00, ANO 0.00, 6.1ms\n",
      "image 214/742 /home/esidserver/datasets/testing_cls/allin-test/AedesAlbopictus-infinixS5-151-_jpg.rf.6fc4cb8043280379ec605eab34b1efa3.jpg: 224x224 AG 0.73, AB 0.27, ANO 0.00, CQ 0.00, 6.5ms\n",
      "image 215/742 /home/esidserver/datasets/testing_cls/allin-test/AedesAlbopictus-infinixS5-165-_jpg.rf.cfb88da092f726ae229d629e9e876eb5.jpg: 224x224 AB 1.00, AG 0.00, ANO 0.00, CQ 0.00, 5.0ms\n",
      "image 216/742 /home/esidserver/datasets/testing_cls/allin-test/AedesAlbopictus-infinixS5-181-_jpg.rf.be8302376cbc43984eacd386d48553cd.jpg: 224x224 AB 1.00, AG 0.00, CQ 0.00, ANO 0.00, 6.6ms\n",
      "image 217/742 /home/esidserver/datasets/testing_cls/allin-test/AedesAlbopictus-infinixS5-19-_jpg.rf.2e8d7348be8e225bb0115dd4a7544cab.jpg: 224x224 AB 0.97, AG 0.03, CQ 0.00, ANO 0.00, 5.7ms\n",
      "image 218/742 /home/esidserver/datasets/testing_cls/allin-test/AedesAlbopictus-infinixS5-203-_jpg.rf.31f73b7f975ca46a9581f3ee1381468a.jpg: 224x224 AB 0.98, AG 0.02, ANO 0.00, CQ 0.00, 5.6ms\n",
      "image 219/742 /home/esidserver/datasets/testing_cls/allin-test/AedesAlbopictus-infinixS5-231-_jpg.rf.20aa5a69bbe2128f04c6aaeed1bec4eb.jpg: 224x224 AB 0.75, AG 0.25, CQ 0.00, ANO 0.00, 6.0ms\n",
      "image 220/742 /home/esidserver/datasets/testing_cls/allin-test/AedesAlbopictus-infinixS5-234-_jpg.rf.f69eb6d83dfd0cb5921bad08422440c3.jpg: 224x224 AB 1.00, AG 0.00, ANO 0.00, CQ 0.00, 5.6ms\n",
      "image 221/742 /home/esidserver/datasets/testing_cls/allin-test/AedesAlbopictus-infinixS5-252-_jpg.rf.92f575f92f6cd2ceb41c1fa4500a1b2c.jpg: 224x224 AB 0.99, AG 0.01, CQ 0.00, ANO 0.00, 4.9ms\n",
      "image 222/742 /home/esidserver/datasets/testing_cls/allin-test/AedesAlbopictus-infinixS5-254-_jpg.rf.6008dfeea2b008621f34f51ebdf7ae04.jpg: 224x224 AB 0.89, AG 0.11, CQ 0.00, ANO 0.00, 6.1ms\n",
      "image 223/742 /home/esidserver/datasets/testing_cls/allin-test/AedesAlbopictus-infinixS5-26-_jpg.rf.e973a0942b6368a8279b492b50bf24a8.jpg: 224x224 AG 0.86, AB 0.14, CQ 0.00, ANO 0.00, 7.0ms\n",
      "image 224/742 /home/esidserver/datasets/testing_cls/allin-test/AedesAlbopictus-infinixS5-270-_jpg.rf.83665510841025d1528453ea215a0982.jpg: 224x224 AB 0.97, AG 0.03, CQ 0.00, ANO 0.00, 6.8ms\n",
      "image 225/742 /home/esidserver/datasets/testing_cls/allin-test/AedesAlbopictus-infinixS5-28-_jpg.rf.5aab0eb99792e38695245723954ba23e.jpg: 224x224 AB 1.00, AG 0.00, CQ 0.00, ANO 0.00, 6.7ms\n",
      "image 226/742 /home/esidserver/datasets/testing_cls/allin-test/AedesAlbopictus-infinixS5-283-_jpg.rf.125d15e3b5bbe0b6d0622f3cd073d605.jpg: 224x224 AB 1.00, AG 0.00, CQ 0.00, ANO 0.00, 6.6ms\n",
      "image 227/742 /home/esidserver/datasets/testing_cls/allin-test/AedesAlbopictus-infinixS5-291-_jpg.rf.39325167ad1675a7bb42cd78376399bb.jpg: 224x224 AB 1.00, AG 0.00, CQ 0.00, ANO 0.00, 6.9ms\n",
      "image 228/742 /home/esidserver/datasets/testing_cls/allin-test/AedesAlbopictus-infinixS5-294-_jpg.rf.70f9b58ed9b0492860e49506567984b1.jpg: 224x224 AB 0.98, AG 0.02, CQ 0.00, ANO 0.00, 6.6ms\n",
      "image 229/742 /home/esidserver/datasets/testing_cls/allin-test/AedesAlbopictus-infinixS5-31-_jpg.rf.de2ed739e95f3da728e93692ef9a99ee.jpg: 224x224 AB 1.00, AG 0.00, CQ 0.00, ANO 0.00, 7.5ms\n",
      "image 230/742 /home/esidserver/datasets/testing_cls/allin-test/AedesAlbopictus-infinixS5-314-_jpg.rf.48816ee50fe9d2310a918cf3b1be4779.jpg: 224x224 AB 1.00, AG 0.00, CQ 0.00, ANO 0.00, 6.6ms\n",
      "image 231/742 /home/esidserver/datasets/testing_cls/allin-test/AedesAlbopictus-infinixS5-333-_jpg.rf.7680a8668207fcc9f060be2cc303e45a.jpg: 224x224 AB 1.00, AG 0.00, CQ 0.00, ANO 0.00, 7.2ms\n",
      "image 232/742 /home/esidserver/datasets/testing_cls/allin-test/AedesAlbopictus-infinixS5-34-_jpg.rf.2203c731993e932df5b27db2d7d6e148.jpg: 224x224 AG 0.91, AB 0.08, CQ 0.01, ANO 0.00, 7.4ms\n",
      "image 233/742 /home/esidserver/datasets/testing_cls/allin-test/AedesAlbopictus-infinixS5-348-_jpg.rf.c73573d43cd3260028c7f96c2a898181.jpg: 224x224 AB 1.00, AG 0.00, CQ 0.00, ANO 0.00, 7.3ms\n",
      "image 234/742 /home/esidserver/datasets/testing_cls/allin-test/AedesAlbopictus-infinixS5-369-_jpg.rf.7cecec42ee9939f8bb4c306e6b161015.jpg: 224x224 AB 1.00, AG 0.00, ANO 0.00, CQ 0.00, 7.7ms\n",
      "image 235/742 /home/esidserver/datasets/testing_cls/allin-test/AedesAlbopictus-infinixS5-385-_jpg.rf.38458272ebab33b8096a2016f7fa9168.jpg: 224x224 AB 1.00, AG 0.00, ANO 0.00, CQ 0.00, 7.5ms\n",
      "image 236/742 /home/esidserver/datasets/testing_cls/allin-test/AedesAlbopictus-infinixS5-39-_jpg.rf.64f046a4ab08015e60fc963835e4efdb.jpg: 224x224 AB 0.80, AG 0.19, CQ 0.01, ANO 0.00, 7.5ms\n",
      "image 237/742 /home/esidserver/datasets/testing_cls/allin-test/AedesAlbopictus-infinixS5-392-_jpg.rf.442d59a5152abf2dffa4ade68a11e222.jpg: 224x224 AB 1.00, CQ 0.00, AG 0.00, ANO 0.00, 5.7ms\n",
      "image 238/742 /home/esidserver/datasets/testing_cls/allin-test/AedesAlbopictus-infinixS5-420-_jpg.rf.2ca1f3b868fff3599ea0f5361747fba8.jpg: 224x224 AB 1.00, ANO 0.00, AG 0.00, CQ 0.00, 5.5ms\n",
      "image 239/742 /home/esidserver/datasets/testing_cls/allin-test/AedesAlbopictus-infinixS5-429-_jpg.rf.0b3db2c383cd7a11a9cb44ad6bf5256d.jpg: 224x224 AB 1.00, AG 0.00, CQ 0.00, ANO 0.00, 5.3ms\n",
      "image 240/742 /home/esidserver/datasets/testing_cls/allin-test/AedesAlbopictus-infinixS5-430-_jpg.rf.27c79f61d7d9580e98dd1fd273e8f3b5.jpg: 224x224 AB 1.00, AG 0.00, ANO 0.00, CQ 0.00, 4.9ms\n",
      "image 241/742 /home/esidserver/datasets/testing_cls/allin-test/AedesAlbopictus-infinixS5-431-_jpg.rf.3192a85192980b3d7710d94ef80ce0ee.jpg: 224x224 AB 1.00, AG 0.00, CQ 0.00, ANO 0.00, 5.0ms\n",
      "image 242/742 /home/esidserver/datasets/testing_cls/allin-test/AedesAlbopictus-infinixS5-435-_jpg.rf.b562be12dbf0242301fe3a02dbbcd409.jpg: 224x224 AB 1.00, AG 0.00, CQ 0.00, ANO 0.00, 5.2ms\n",
      "image 243/742 /home/esidserver/datasets/testing_cls/allin-test/AedesAlbopictus-infinixS5-445-_jpg.rf.77820982920afc7f6de3a8dbcc0daea5.jpg: 224x224 AB 1.00, AG 0.00, ANO 0.00, CQ 0.00, 5.0ms\n",
      "image 244/742 /home/esidserver/datasets/testing_cls/allin-test/AedesAlbopictus-infinixS5-449-_jpg.rf.28501a6b72e251622f14878ea7939bf2.jpg: 224x224 AB 1.00, AG 0.00, CQ 0.00, ANO 0.00, 4.9ms\n",
      "image 245/742 /home/esidserver/datasets/testing_cls/allin-test/AedesAlbopictus-infinixS5-45-_jpg.rf.b929be1c1f4b1153db8830bb220e4259.jpg: 224x224 AB 0.91, AG 0.09, CQ 0.00, ANO 0.00, 5.0ms\n",
      "image 246/742 /home/esidserver/datasets/testing_cls/allin-test/AedesAlbopictus-infinixS5-471-_jpg.rf.25b9b51c757913d23506aacc15c06ef0.jpg: 224x224 AB 1.00, CQ 0.00, ANO 0.00, AG 0.00, 4.9ms\n",
      "image 247/742 /home/esidserver/datasets/testing_cls/allin-test/AedesAlbopictus-infinixS5-488-_jpg.rf.1954f580adfe9f5027f4906c0182c69f.jpg: 224x224 AB 1.00, CQ 0.00, AG 0.00, ANO 0.00, 4.9ms\n",
      "image 248/742 /home/esidserver/datasets/testing_cls/allin-test/AedesAlbopictus-infinixS5-494-_jpg.rf.c2b4501216bdf9909d60d145a67d4162.jpg: 224x224 AB 1.00, AG 0.00, ANO 0.00, CQ 0.00, 5.0ms\n",
      "image 249/742 /home/esidserver/datasets/testing_cls/allin-test/AedesAlbopictus-infinixS5-501-_jpg.rf.2a65252756823479e99c9c36db4c5cfd.jpg: 224x224 AB 1.00, AG 0.00, CQ 0.00, ANO 0.00, 7.1ms\n",
      "image 250/742 /home/esidserver/datasets/testing_cls/allin-test/AedesAlbopictus-infinixS5-504-_jpg.rf.9233363730ff69d9f45a194162396c5c.jpg: 224x224 AB 1.00, AG 0.00, ANO 0.00, CQ 0.00, 5.3ms\n",
      "image 251/742 /home/esidserver/datasets/testing_cls/allin-test/AedesAlbopictus-infinixS5-508-_jpg.rf.2d31d7024417d9cdbd850dc2c0fbb757.jpg: 224x224 AB 1.00, AG 0.00, CQ 0.00, ANO 0.00, 5.9ms\n",
      "image 252/742 /home/esidserver/datasets/testing_cls/allin-test/AedesAlbopictus-infinixS5-51-_jpg.rf.d297cd6c84d3722e4602df6246912e58.jpg: 224x224 AB 1.00, AG 0.00, CQ 0.00, ANO 0.00, 5.6ms\n",
      "image 253/742 /home/esidserver/datasets/testing_cls/allin-test/AedesAlbopictus-infinixS5-519-_jpg.rf.0f55e0852084c507b3f03c233f812be0.jpg: 224x224 AB 0.99, AG 0.01, ANO 0.00, CQ 0.00, 5.2ms\n",
      "image 254/742 /home/esidserver/datasets/testing_cls/allin-test/AedesAlbopictus-infinixS5-52-_jpg.rf.bd11fdded63f6790d19803c4f33f498c.jpg: 224x224 AB 0.59, AG 0.39, ANO 0.01, CQ 0.01, 5.6ms\n",
      "image 255/742 /home/esidserver/datasets/testing_cls/allin-test/AedesAlbopictus-infinixS5-54-_jpg.rf.dfe5a495805be9908cbed4eaad89c706.jpg: 224x224 AB 0.97, AG 0.03, CQ 0.00, ANO 0.00, 5.4ms\n",
      "image 256/742 /home/esidserver/datasets/testing_cls/allin-test/AedesAlbopictus-infinixS5-558-_jpg.rf.fa559d3cc446c0bfa62ee728d4b80ad7.jpg: 224x224 AB 1.00, AG 0.00, ANO 0.00, CQ 0.00, 5.9ms\n",
      "image 257/742 /home/esidserver/datasets/testing_cls/allin-test/AedesAlbopictus-infinixS5-559-_jpg.rf.5a0968b102de923767c186adb5b4e48c.jpg: 224x224 AB 1.00, AG 0.00, ANO 0.00, CQ 0.00, 4.6ms\n",
      "image 258/742 /home/esidserver/datasets/testing_cls/allin-test/AedesAlbopictus-infinixS5-566-_jpg.rf.1cdddc52bb1a879465d34087e5592619.jpg: 224x224 AB 1.00, AG 0.00, ANO 0.00, CQ 0.00, 4.5ms\n",
      "image 259/742 /home/esidserver/datasets/testing_cls/allin-test/AedesAlbopictus-infinixS5-567-_jpg.rf.1c14624f5f16b4b809ac15f7245ceb22.jpg: 224x224 AB 1.00, AG 0.00, ANO 0.00, CQ 0.00, 4.9ms\n",
      "image 260/742 /home/esidserver/datasets/testing_cls/allin-test/AedesAlbopictus-infinixS5-568-_jpg.rf.b7a9c411a3bccdc16958c6ce2f01c247.jpg: 224x224 AB 1.00, AG 0.00, ANO 0.00, CQ 0.00, 4.7ms\n",
      "image 261/742 /home/esidserver/datasets/testing_cls/allin-test/AedesAlbopictus-infinixS5-569-_jpg.rf.979710215b46e00f1da369170785fd92.jpg: 224x224 AB 1.00, AG 0.00, ANO 0.00, CQ 0.00, 4.7ms\n",
      "image 262/742 /home/esidserver/datasets/testing_cls/allin-test/AedesAlbopictus-infinixS5-576-_jpg.rf.28857c610779b70d5b5d4fa8b198527e.jpg: 224x224 AB 1.00, AG 0.00, ANO 0.00, CQ 0.00, 4.8ms\n",
      "image 263/742 /home/esidserver/datasets/testing_cls/allin-test/AedesAlbopictus-infinixS5-590-_jpg.rf.e6d5915054141265c18e1c61a0050bcc.jpg: 224x224 AB 1.00, ANO 0.00, CQ 0.00, AG 0.00, 4.9ms\n",
      "image 264/742 /home/esidserver/datasets/testing_cls/allin-test/AedesAlbopictus-infinixS5-592-_jpg.rf.2ffd343546b7e7b7b85b85eb70a1990b.jpg: 224x224 AB 1.00, ANO 0.00, AG 0.00, CQ 0.00, 4.9ms\n",
      "image 265/742 /home/esidserver/datasets/testing_cls/allin-test/AedesAlbopictus-infinixS5-606-_jpg.rf.71ffd5745255250473c7de2a30c51e9f.jpg: 224x224 AB 1.00, AG 0.00, ANO 0.00, CQ 0.00, 4.9ms\n",
      "image 266/742 /home/esidserver/datasets/testing_cls/allin-test/AedesAlbopictus-infinixS5-622-_jpg.rf.7f7a783d27ea7607caad0157454ebe7f.jpg: 224x224 AB 1.00, AG 0.00, ANO 0.00, CQ 0.00, 5.0ms\n",
      "image 267/742 /home/esidserver/datasets/testing_cls/allin-test/AedesAlbopictus-infinixS5-627-_jpg.rf.715d905026b70bbd878ab8359d56fac5.jpg: 224x224 AB 1.00, AG 0.00, CQ 0.00, ANO 0.00, 5.0ms\n",
      "image 268/742 /home/esidserver/datasets/testing_cls/allin-test/AedesAlbopictus-infinixS5-630-_jpg.rf.610a1a84d9e5c939681671ae54d970ab.jpg: 224x224 AB 0.99, AG 0.01, CQ 0.00, ANO 0.00, 5.3ms\n",
      "image 269/742 /home/esidserver/datasets/testing_cls/allin-test/AedesAlbopictus-infinixS5-632-_jpg.rf.905ad5f06463988d847a5777817c682c.jpg: 224x224 AB 1.00, AG 0.00, ANO 0.00, CQ 0.00, 6.4ms\n",
      "image 270/742 /home/esidserver/datasets/testing_cls/allin-test/AedesAlbopictus-infinixS5-643-_jpg.rf.f1f6d2c9160a23376e69e018005ffabc.jpg: 224x224 AB 0.99, CQ 0.01, AG 0.00, ANO 0.00, 5.4ms\n",
      "image 271/742 /home/esidserver/datasets/testing_cls/allin-test/AedesAlbopictus-infinixS5-644-_jpg.rf.4dbc843b12fcbdb15511ed0ec402f741.jpg: 224x224 AB 1.00, AG 0.00, CQ 0.00, ANO 0.00, 4.9ms\n",
      "image 272/742 /home/esidserver/datasets/testing_cls/allin-test/AedesAlbopictus-infinixS5-645-_jpg.rf.27ff88812fa789cb2a11207726acd271.jpg: 224x224 AB 0.99, AG 0.01, CQ 0.00, ANO 0.00, 8.1ms\n",
      "image 273/742 /home/esidserver/datasets/testing_cls/allin-test/AedesAlbopictus-infinixS5-679-_jpg.rf.a745f9cc3f406e918e05a4797e482089.jpg: 224x224 AB 1.00, AG 0.00, CQ 0.00, ANO 0.00, 5.0ms\n",
      "image 274/742 /home/esidserver/datasets/testing_cls/allin-test/AedesAlbopictus-infinixS5-70-_jpg.rf.8ee5582624622345987087b716ebf257.jpg: 224x224 AB 1.00, AG 0.00, ANO 0.00, CQ 0.00, 5.1ms\n",
      "image 275/742 /home/esidserver/datasets/testing_cls/allin-test/AedesAlbopictus-infinixS5-703-_jpg.rf.e68bb880813b26a58aecd360571b35f4.jpg: 224x224 AB 1.00, ANO 0.00, CQ 0.00, AG 0.00, 4.9ms\n",
      "image 276/742 /home/esidserver/datasets/testing_cls/allin-test/AedesAlbopictus-infinixS5-715-_jpg.rf.77c92dd527910768ae00ca27180f5e4b.jpg: 224x224 AB 1.00, AG 0.00, ANO 0.00, CQ 0.00, 5.0ms\n",
      "image 277/742 /home/esidserver/datasets/testing_cls/allin-test/AedesAlbopictus-infinixS5-717-_jpg.rf.ce0824a7b353ea03cf510b7212ae86db.jpg: 224x224 AB 1.00, CQ 0.00, ANO 0.00, AG 0.00, 5.0ms\n",
      "image 278/742 /home/esidserver/datasets/testing_cls/allin-test/AedesAlbopictus-infinixS5-718-_jpg.rf.abe99fecdf7ba9005a2004667cb6a1d3.jpg: 224x224 AB 1.00, ANO 0.00, AG 0.00, CQ 0.00, 5.0ms\n",
      "image 279/742 /home/esidserver/datasets/testing_cls/allin-test/AedesAlbopictus-infinixS5-719-_jpg.rf.8d21e9581ed8691724b0e0a7cbb5e6e6.jpg: 224x224 AB 1.00, ANO 0.00, AG 0.00, CQ 0.00, 5.3ms\n",
      "image 280/742 /home/esidserver/datasets/testing_cls/allin-test/AedesAlbopictus-infinixS5-727-_jpg.rf.0d01b2f929107b0a4d0bc845e43023b5.jpg: 224x224 AG 0.63, AB 0.37, CQ 0.00, ANO 0.00, 5.5ms\n",
      "image 281/742 /home/esidserver/datasets/testing_cls/allin-test/AedesAlbopictus-infinixS5-731-_jpg.rf.baa704c2532a8810f03af18a7eea67f2.jpg: 224x224 AB 1.00, AG 0.00, CQ 0.00, ANO 0.00, 5.2ms\n",
      "image 282/742 /home/esidserver/datasets/testing_cls/allin-test/AedesAlbopictus-infinixS5-735-_jpg.rf.ef0317ec5663827dfa7e7d6d7c6d2e65.jpg: 224x224 AB 1.00, AG 0.00, CQ 0.00, ANO 0.00, 5.6ms\n",
      "image 283/742 /home/esidserver/datasets/testing_cls/allin-test/AedesAlbopictus-infinixS5-750-_jpg.rf.e1f54429d9bc5b75568118fee4771811.jpg: 224x224 AB 1.00, AG 0.00, CQ 0.00, ANO 0.00, 5.5ms\n",
      "image 284/742 /home/esidserver/datasets/testing_cls/allin-test/AedesAlbopictus-infinixS5-752-_jpg.rf.8eefb5d0dab629fedc578937f04f2811.jpg: 224x224 AB 1.00, AG 0.00, CQ 0.00, ANO 0.00, 5.3ms\n",
      "image 285/742 /home/esidserver/datasets/testing_cls/allin-test/AedesAlbopictus-infinixS5-755-_jpg.rf.4637238bc339b166f59834d6b31792b2.jpg: 224x224 AB 1.00, AG 0.00, CQ 0.00, ANO 0.00, 5.1ms\n",
      "image 286/742 /home/esidserver/datasets/testing_cls/allin-test/AedesAlbopictus-infinixS5-759-_jpg.rf.6862f82691c10eab5eec25f94ef89991.jpg: 224x224 AB 1.00, AG 0.00, ANO 0.00, CQ 0.00, 5.0ms\n",
      "image 287/742 /home/esidserver/datasets/testing_cls/allin-test/AedesAlbopictus-infinixS5-777-_jpg.rf.fdeec38735b684460072dce985f741c2.jpg: 224x224 AB 1.00, AG 0.00, CQ 0.00, ANO 0.00, 4.9ms\n",
      "image 288/742 /home/esidserver/datasets/testing_cls/allin-test/AedesAlbopictus-infinixS5-791-_jpg.rf.b86777b354682c4f7cfcfc2b32eda2a1.jpg: 224x224 AB 1.00, AG 0.00, ANO 0.00, CQ 0.00, 4.9ms\n",
      "image 289/742 /home/esidserver/datasets/testing_cls/allin-test/AedesAlbopictus-infinixS5-794-_jpg.rf.75bce188b64d1e20abfcc28619e8e8c4.jpg: 224x224 AB 1.00, AG 0.00, ANO 0.00, CQ 0.00, 5.0ms\n",
      "image 290/742 /home/esidserver/datasets/testing_cls/allin-test/AedesAlbopictus-infinixS5-82-_jpg.rf.9bce62c41df601ab0e3b707ef7e90ce6.jpg: 224x224 AB 1.00, ANO 0.00, AG 0.00, CQ 0.00, 4.6ms\n",
      "image 291/742 /home/esidserver/datasets/testing_cls/allin-test/AedesAlbopictus-infinixS5-828-_jpg.rf.d45b49362d55a2924a1f897840676ea1.jpg: 224x224 AB 1.00, AG 0.00, ANO 0.00, CQ 0.00, 4.7ms\n",
      "image 292/742 /home/esidserver/datasets/testing_cls/allin-test/AedesAlbopictus-infinixS5-830-_jpg.rf.a034f74f1a1770e455d5ea2b7feaad5b.jpg: 224x224 AB 0.99, AG 0.01, ANO 0.00, CQ 0.00, 4.6ms\n",
      "image 293/742 /home/esidserver/datasets/testing_cls/allin-test/AedesAlbopictus-infinixS5-832-_jpg.rf.c14ccbec70b281c8abae6f7326c32b54.jpg: 224x224 AB 1.00, AG 0.00, ANO 0.00, CQ 0.00, 4.6ms\n",
      "image 294/742 /home/esidserver/datasets/testing_cls/allin-test/AedesAlbopictus-infinixS5-838-_jpg.rf.73e5fa0e6fa834208b0599962f88be5e.jpg: 224x224 AB 1.00, AG 0.00, ANO 0.00, CQ 0.00, 4.9ms\n",
      "image 295/742 /home/esidserver/datasets/testing_cls/allin-test/AedesAlbopictus-infinixS5-84-_jpg.rf.42deced56986c221049b6f666dc993e7.jpg: 224x224 AB 1.00, AG 0.00, CQ 0.00, ANO 0.00, 4.8ms\n",
      "image 296/742 /home/esidserver/datasets/testing_cls/allin-test/AedesAlbopictus-infinixS5-857-_jpg.rf.db571f19188047e2035b45ec92dddc5e.jpg: 224x224 AB 1.00, AG 0.00, ANO 0.00, CQ 0.00, 5.0ms\n",
      "image 297/742 /home/esidserver/datasets/testing_cls/allin-test/AedesAlbopictus-infinixS5-860-_jpg.rf.e7a08627d2a2a1689cea19308a6c82ff.jpg: 224x224 AB 1.00, AG 0.00, ANO 0.00, CQ 0.00, 5.0ms\n",
      "image 298/742 /home/esidserver/datasets/testing_cls/allin-test/AedesAlbopictus-infinixS5-862-_jpg.rf.c0ab87c63316ab36fe105aa78c7ab853.jpg: 224x224 AB 1.00, AG 0.00, CQ 0.00, ANO 0.00, 5.3ms\n",
      "image 299/742 /home/esidserver/datasets/testing_cls/allin-test/AedesAlbopictus-infinixS5-873-_jpg.rf.933b52ecf789853b45b436689b4fd5d2.jpg: 224x224 AB 1.00, AG 0.00, ANO 0.00, CQ 0.00, 5.6ms\n",
      "image 300/742 /home/esidserver/datasets/testing_cls/allin-test/AedesAlbopictus-infinixS5-874-_jpg.rf.b02500d354d2eb23745c4f0010344ff9.jpg: 224x224 AB 1.00, AG 0.00, CQ 0.00, ANO 0.00, 5.7ms\n",
      "image 301/742 /home/esidserver/datasets/testing_cls/allin-test/AedesAlbopictus-infinixS5-879-_jpg.rf.a3799abbc10a8628084b1ffb368c425f.jpg: 224x224 AB 1.00, AG 0.00, ANO 0.00, CQ 0.00, 5.5ms\n",
      "image 302/742 /home/esidserver/datasets/testing_cls/allin-test/AedesAlbopictus-infinixS5-899-_jpg.rf.61a8e4b01be99272f140e21e7b25251b.jpg: 224x224 AB 1.00, AG 0.00, CQ 0.00, ANO 0.00, 5.0ms\n",
      "image 303/742 /home/esidserver/datasets/testing_cls/allin-test/AedesAlbopictus-infinixS5-900-_jpg.rf.83dc5a6f01290079db5ac4222f287bda.jpg: 224x224 AB 1.00, AG 0.00, CQ 0.00, ANO 0.00, 5.1ms\n",
      "image 304/742 /home/esidserver/datasets/testing_cls/allin-test/AedesAlbopictus-infinixS5-905-_jpg.rf.f64eb02c6d8b212fb43d46a10a089443.jpg: 224x224 AB 1.00, AG 0.00, ANO 0.00, CQ 0.00, 5.1ms\n",
      "image 305/742 /home/esidserver/datasets/testing_cls/allin-test/AedesAlbopictus-infinixS5-908-_jpg.rf.e7256eefc852b58ae8e88dade88c69af.jpg: 224x224 AB 1.00, AG 0.00, ANO 0.00, CQ 0.00, 5.0ms\n",
      "image 306/742 /home/esidserver/datasets/testing_cls/allin-test/AedesAlbopictus-infinixS5-916-_jpg.rf.44b1c25d5f49e5e829bb239e82552323.jpg: 224x224 AB 1.00, CQ 0.00, AG 0.00, ANO 0.00, 5.0ms\n",
      "image 307/742 /home/esidserver/datasets/testing_cls/allin-test/AedesAlbopictus-infinixS5-944-_jpg.rf.9bd659ec05563f8b71889781b39fe90f.jpg: 224x224 AB 1.00, ANO 0.00, CQ 0.00, AG 0.00, 5.1ms\n",
      "image 308/742 /home/esidserver/datasets/testing_cls/allin-test/AedesAlbopictus-infinixS5-957-_jpg.rf.a4e858f00dc2898da12011ea52ccb3d5.jpg: 224x224 AB 1.00, ANO 0.00, CQ 0.00, AG 0.00, 4.9ms\n",
      "image 309/742 /home/esidserver/datasets/testing_cls/allin-test/AedesAlbopictus-infinixS5-965-_jpg.rf.9b2b0ed49f04f676958276dbbe871b8c.jpg: 224x224 AB 1.00, AG 0.00, CQ 0.00, ANO 0.00, 4.2ms\n",
      "image 310/742 /home/esidserver/datasets/testing_cls/allin-test/AedesAlbopictus-infinixS5-979-_jpg.rf.0a0784f4287e7b830808d95e710a246d.jpg: 224x224 AB 1.00, ANO 0.00, AG 0.00, CQ 0.00, 3.9ms\n",
      "image 311/742 /home/esidserver/datasets/testing_cls/allin-test/AedesAlbopictus-infinixS5-987-_jpg.rf.fd5b0e3da21c60fe27f8c603f934e313.jpg: 224x224 AB 1.00, ANO 0.00, AG 0.00, CQ 0.00, 4.4ms\n",
      "image 312/742 /home/esidserver/datasets/testing_cls/allin-test/AedesAlbopictus-infinixS5-99-_jpg.rf.eb7c90f15f8bc5a22c66e08290fd2eab.jpg: 224x224 AB 0.99, AG 0.01, CQ 0.00, ANO 0.00, 3.8ms\n",
      "image 313/742 /home/esidserver/datasets/testing_cls/allin-test/AedesAlbopictus-infinixS5-991-_jpg.rf.1a69309756278fd34fc234ba31a39a1e.jpg: 224x224 AB 1.00, ANO 0.00, AG 0.00, CQ 0.00, 4.2ms\n",
      "image 314/742 /home/esidserver/datasets/testing_cls/allin-test/AedesAlbopictus-infinixS5-996-_jpg.rf.1a67ea1f9ea3cd9b49f12a1f17995a9b.jpg: 224x224 AB 0.70, AG 0.30, CQ 0.00, ANO 0.00, 4.1ms\n",
      "image 315/742 /home/esidserver/datasets/testing_cls/allin-test/AedesAlbopictus-infinixS5-999-_jpg.rf.58747b83f491dc645e695caac3a5e7c7.jpg: 224x224 AB 0.74, AG 0.26, CQ 0.00, ANO 0.00, 4.8ms\n",
      "image 316/742 /home/esidserver/datasets/testing_cls/allin-test/AedesAlbopictus_100x_003_01_lab_JPG.rf.fc8a14e5366dece511fdbd676a0637b1.jpg: 224x224 AB 1.00, AG 0.00, CQ 0.00, ANO 0.00, 4.9ms\n",
      "image 317/742 /home/esidserver/datasets/testing_cls/allin-test/AedesAlbopictus_100x_004_02_lab_JPG.rf.110e8f369b7cd4d773fc1299da0080db.jpg: 224x224 AB 1.00, AG 0.00, ANO 0.00, CQ 0.00, 4.9ms\n",
      "image 318/742 /home/esidserver/datasets/testing_cls/allin-test/AedesAlbopictus_100x_004_02_nat_JPG.rf.56ee266fa8968b1f6b65e55d45cc1d74.jpg: 224x224 AG 0.84, CQ 0.11, AB 0.05, ANO 0.00, 5.0ms\n",
      "image 319/742 /home/esidserver/datasets/testing_cls/allin-test/AedesAlbopictus_100x_005_03_lab_JPG.rf.98b0985d6fe8683a7cffa138eada4a4a.jpg: 224x224 AG 0.85, AB 0.15, CQ 0.00, ANO 0.00, 5.0ms\n",
      "image 320/742 /home/esidserver/datasets/testing_cls/allin-test/AedesAlbopictus_100x_006_02_lab_JPG.rf.6f4164d11757a492c2e337feaaf37af3.jpg: 224x224 AB 0.99, AG 0.01, CQ 0.00, ANO 0.00, 5.1ms\n",
      "image 321/742 /home/esidserver/datasets/testing_cls/allin-test/AedesAlbopictus_100x_008_03_lab_JPG.rf.e16e5d805cf57f82b00791654c9f5437.jpg: 224x224 AB 1.00, AG 0.00, ANO 0.00, CQ 0.00, 5.2ms\n",
      "image 322/742 /home/esidserver/datasets/testing_cls/allin-test/AedesAlbopictus_100x_009_03_lab_JPG.rf.23e670c539b554333ab488f41c0746be.jpg: 224x224 AB 1.00, AG 0.00, ANO 0.00, CQ 0.00, 6.8ms\n",
      "image 323/742 /home/esidserver/datasets/testing_cls/allin-test/AedesAlbopictus_100x_010_03_lab_JPG.rf.1eb36ba8c6ed8bf4e73d9c5649b8abd2.jpg: 224x224 AB 1.00, AG 0.00, CQ 0.00, ANO 0.00, 5.3ms\n",
      "image 324/742 /home/esidserver/datasets/testing_cls/allin-test/AedesAlbopictus_100x_011_03_lab_JPG.rf.f8fbc133b459c1fcdafb290bcad3b502.jpg: 224x224 AB 1.00, AG 0.00, ANO 0.00, CQ 0.00, 4.5ms\n",
      "image 325/742 /home/esidserver/datasets/testing_cls/allin-test/AedesAlbopictus_100x_012_02_lab_JPG.rf.87bf8da6d9d689dd9b7dddb8e4128070.jpg: 224x224 AB 0.99, CQ 0.00, AG 0.00, ANO 0.00, 4.5ms\n",
      "image 326/742 /home/esidserver/datasets/testing_cls/allin-test/AedesAlbopictus_100x_013_02_lab_JPG.rf.deb336a3b8acb5b3fd737c6e2eafaaf6.jpg: 224x224 AB 1.00, AG 0.00, ANO 0.00, CQ 0.00, 4.5ms\n",
      "image 327/742 /home/esidserver/datasets/testing_cls/allin-test/AedesAlbopictus_100x_015_02_lab_JPG.rf.637e63488066009d9d7bc6aaddcc452a.jpg: 224x224 AB 0.86, CQ 0.07, AG 0.06, ANO 0.00, 4.5ms\n",
      "image 328/742 /home/esidserver/datasets/testing_cls/allin-test/AedesAlbopictus_100x_018_01_lab_JPG.rf.d3559e34cae939af97a23719b28415b2.jpg: 224x224 AB 0.64, AG 0.33, CQ 0.02, ANO 0.01, 4.5ms\n",
      "image 329/742 /home/esidserver/datasets/testing_cls/allin-test/AedesAlbopictus_100x_019_03_lab_JPG.rf.0c8e3a5f2c5209d77e49843efc9225bd.jpg: 224x224 AB 1.00, AG 0.00, ANO 0.00, CQ 0.00, 4.5ms\n",
      "image 330/742 /home/esidserver/datasets/testing_cls/allin-test/AedesAlbopictus_100x_025_01_lab_JPG.rf.517bdabd92db82bebd199414b1f0b9cd.jpg: 224x224 AB 1.00, AG 0.00, CQ 0.00, ANO 0.00, 4.4ms\n",
      "image 331/742 /home/esidserver/datasets/testing_cls/allin-test/AedesAlbopictus_100x_027_02_lab_JPG.rf.6ecf45b36082064ea654ed92e98a5bfd.jpg: 224x224 AG 0.98, AB 0.02, CQ 0.00, ANO 0.00, 4.5ms\n",
      "image 332/742 /home/esidserver/datasets/testing_cls/allin-test/AedesAlbopictus_100x_028_03_lab_JPG.rf.fe987219bd2528b9fdda10c2a77a06f6.jpg: 224x224 AB 0.99, AG 0.01, CQ 0.00, ANO 0.00, 4.6ms\n",
      "image 333/742 /home/esidserver/datasets/testing_cls/allin-test/AedesAlbopictus_100x_030_04_lab_JPG.rf.5b6e31710ad48d0420d8aded3a602ff5.jpg: 224x224 AB 0.64, AG 0.36, CQ 0.00, ANO 0.00, 4.5ms\n",
      "image 334/742 /home/esidserver/datasets/testing_cls/allin-test/AedesAlbopictus_100x_037_01_lab_JPG.rf.4626f78422ec49273ef0bc3a183f24a1.jpg: 224x224 AG 0.52, AB 0.48, CQ 0.00, ANO 0.00, 4.4ms\n",
      "image 335/742 /home/esidserver/datasets/testing_cls/allin-test/AedesAlbopictus_100x_043_01_lab_JPG.rf.f03fb9f7dbd573f66725bdaf300387a8.jpg: 224x224 AB 0.99, AG 0.01, ANO 0.00, CQ 0.00, 4.4ms\n",
      "image 336/742 /home/esidserver/datasets/testing_cls/allin-test/AedesAlbopictus_100x_044_03_lab_JPG.rf.3c18202e579d91374183b52526d024b3.jpg: 224x224 AB 1.00, AG 0.00, ANO 0.00, CQ 0.00, 4.4ms\n",
      "image 337/742 /home/esidserver/datasets/testing_cls/allin-test/AedesAlbopictus_100x_047_02_lab_JPG.rf.7c33a4c75104f3190ac6c6f87e01cd32.jpg: 224x224 AG 0.94, AB 0.06, CQ 0.00, ANO 0.00, 4.4ms\n",
      "image 338/742 /home/esidserver/datasets/testing_cls/allin-test/AedesAlbopictus_100x_051_02_lab_JPG.rf.9a6099aaf2e8e73b8ac7c7504fcff3ea.jpg: 224x224 AB 1.00, AG 0.00, CQ 0.00, ANO 0.00, 4.5ms\n",
      "image 339/742 /home/esidserver/datasets/testing_cls/allin-test/AedesAlbopictus_100x_052_04_lab_JPG.rf.56186ac3f36ad0c9ac4a3fc8533177e0.jpg: 224x224 AB 0.97, AG 0.02, CQ 0.00, ANO 0.00, 4.6ms\n",
      "image 340/742 /home/esidserver/datasets/testing_cls/allin-test/AedesAlbopictus_100x_053_02_lab_JPG.rf.adbdd82d170d4178e4ca4e619161910c.jpg: 224x224 AB 1.00, AG 0.00, CQ 0.00, ANO 0.00, 4.4ms\n",
      "image 341/742 /home/esidserver/datasets/testing_cls/allin-test/AedesAlbopictus_100x_055_04_lab_JPG.rf.f8a0adcefa740b5cabcc03fe4106ce79.jpg: 224x224 AB 1.00, AG 0.00, CQ 0.00, ANO 0.00, 4.8ms\n",
      "image 342/742 /home/esidserver/datasets/testing_cls/allin-test/AedesAlbopictus_100x_061_02_lab_JPG.rf.bc6523ac76b58aac82e1342d7d200595.jpg: 224x224 AB 0.98, AG 0.02, ANO 0.00, CQ 0.00, 4.4ms\n",
      "image 343/742 /home/esidserver/datasets/testing_cls/allin-test/AedesAlbopictus_100x_069_04_lab_JPG.rf.2a37b1b43f8d9ca548f7b99b89d1a2fd.jpg: 224x224 AB 0.85, CQ 0.11, AG 0.04, ANO 0.00, 4.5ms\n",
      "image 344/742 /home/esidserver/datasets/testing_cls/allin-test/AedesAlbopictus_100x_074_04_lab_JPG.rf.5728128b9f157557ee9801b3aed83e85.jpg: 224x224 AB 1.00, AG 0.00, CQ 0.00, ANO 0.00, 4.5ms\n",
      "image 345/742 /home/esidserver/datasets/testing_cls/allin-test/AedesAlbopictus_100x_076_01_lab_JPG.rf.32993ba4b7196e53245bfc3a4fb69e5b.jpg: 224x224 AB 1.00, AG 0.00, CQ 0.00, ANO 0.00, 4.4ms\n",
      "image 346/742 /home/esidserver/datasets/testing_cls/allin-test/AedesAlbopictus_100x_077_03_lab_JPG.rf.541cf8b26927fdc13a1512b38f3cb259.jpg: 224x224 AB 0.96, AG 0.04, CQ 0.00, ANO 0.00, 4.5ms\n",
      "image 347/742 /home/esidserver/datasets/testing_cls/allin-test/AedesAlbopictus_100x_078_02_lab_JPG.rf.4ddc2ddba7c739df6bf184c7a1a3893e.jpg: 224x224 AG 0.97, AB 0.03, CQ 0.00, ANO 0.00, 4.6ms\n",
      "image 348/742 /home/esidserver/datasets/testing_cls/allin-test/AedesAlbopictus_100x_078_04_lab_JPG.rf.62033c7d133ac7d3ad9c6cb0572d3d16.jpg: 224x224 AG 0.95, AB 0.05, CQ 0.00, ANO 0.00, 3.9ms\n",
      "image 349/742 /home/esidserver/datasets/testing_cls/allin-test/AedesAlbopictus_40x_002_03_nat_JPG.rf.5d00c6ad92c9c5cba57b0b737b337429.jpg: 224x224 AB 0.58, AG 0.42, CQ 0.00, ANO 0.00, 4.5ms\n",
      "image 350/742 /home/esidserver/datasets/testing_cls/allin-test/AedesAlbopictus_40x_015_02_lab_JPG.rf.ec6f8448d39735c0907f8504c5469cfc.jpg: 224x224 AB 1.00, AG 0.00, ANO 0.00, CQ 0.00, 4.7ms\n",
      "image 351/742 /home/esidserver/datasets/testing_cls/allin-test/AedesAlbopictus_40x_016_03_lab_JPG.rf.981775ec799b366ce431dc129a0a6248.jpg: 224x224 AB 0.90, AG 0.10, ANO 0.00, CQ 0.00, 4.6ms\n",
      "image 352/742 /home/esidserver/datasets/testing_cls/allin-test/AedesAlbopictus_40x_018_01_lab_JPG.rf.ea45cebdcf629ad53f47d9dfca7622d6.jpg: 224x224 AG 0.68, AB 0.32, ANO 0.00, CQ 0.00, 4.0ms\n",
      "image 353/742 /home/esidserver/datasets/testing_cls/allin-test/AedesAlbopictus_40x_020_01_lab_JPG.rf.153813c56f195f84ae4b56e6c64bf730.jpg: 224x224 AB 0.80, AG 0.20, ANO 0.00, CQ 0.00, 4.5ms\n",
      "image 354/742 /home/esidserver/datasets/testing_cls/allin-test/AedesAlbopictus_40x_022_02_lab_JPG.rf.53cb329e78ec81d60f32bb85a883fdc6.jpg: 224x224 AB 0.92, AG 0.08, CQ 0.00, ANO 0.00, 4.5ms\n",
      "image 355/742 /home/esidserver/datasets/testing_cls/allin-test/AedesAlbopictus_40x_023_01_lab_JPG.rf.1b8468c8586bc6035c2592bc5830d624.jpg: 224x224 AB 1.00, AG 0.00, CQ 0.00, ANO 0.00, 5.2ms\n",
      "image 356/742 /home/esidserver/datasets/testing_cls/allin-test/AedesAlbopictus_40x_032_02_lab_JPG.rf.9b76a6a500d8a715f6306ca44d0b772c.jpg: 224x224 AB 1.00, AG 0.00, ANO 0.00, CQ 0.00, 4.0ms\n",
      "image 357/742 /home/esidserver/datasets/testing_cls/allin-test/AedesAlbopictus_40x_035_04_lab_JPG.rf.1d19b6a8737368f66344abd08954a3cf.jpg: 224x224 AB 0.99, AG 0.01, CQ 0.00, ANO 0.00, 4.6ms\n",
      "image 358/742 /home/esidserver/datasets/testing_cls/allin-test/AedesAlbopictus_40x_038_02_lab_JPG.rf.41c2253772bcd0d453cb2eef16cb11ef.jpg: 224x224 AG 0.59, AB 0.41, CQ 0.00, ANO 0.00, 5.9ms\n",
      "image 359/742 /home/esidserver/datasets/testing_cls/allin-test/AedesAlbopictus_40x_041_02_lab_JPG.rf.38576fb72f40a590504e26a7fc175865.jpg: 224x224 AB 0.94, AG 0.06, ANO 0.00, CQ 0.00, 5.5ms\n",
      "image 360/742 /home/esidserver/datasets/testing_cls/allin-test/AedesAlbopictus_40x_047_01_lab_JPG.rf.811655920b1eda36ab4268c366152088.jpg: 224x224 AB 1.00, AG 0.00, ANO 0.00, CQ 0.00, 6.4ms\n",
      "image 361/742 /home/esidserver/datasets/testing_cls/allin-test/AedesAlbopictus_40x_047_03_lab_JPG.rf.0f77f14940eb1f323c1ed94604cb5a3d.jpg: 224x224 AB 0.97, AG 0.03, ANO 0.00, CQ 0.00, 6.4ms\n",
      "image 362/742 /home/esidserver/datasets/testing_cls/allin-test/AedesAlbopictus_40x_048_01_lab_JPG.rf.68ae41d4ed1b2be36acfc0305d0aa4e3.jpg: 224x224 AB 1.00, AG 0.00, ANO 0.00, CQ 0.00, 6.5ms\n",
      "image 363/742 /home/esidserver/datasets/testing_cls/allin-test/AedesAlbopictus_40x_048_04_lab_JPG.rf.77b20409a76cbc16d46f6d809d44708b.jpg: 224x224 AB 0.98, AG 0.02, CQ 0.00, ANO 0.00, 6.3ms\n",
      "image 364/742 /home/esidserver/datasets/testing_cls/allin-test/AedesAlbopictus_40x_049_03_lab_JPG.rf.f60d1120af032ccede6fbb40e0c15daa.jpg: 224x224 AB 0.98, AG 0.02, ANO 0.00, CQ 0.00, 6.4ms\n",
      "image 365/742 /home/esidserver/datasets/testing_cls/allin-test/AedesAlbopictus_40x_052_01_lab_JPG.rf.6f0cf8dcd1b144f3c74b028c26d50f69.jpg: 224x224 AB 0.95, AG 0.05, ANO 0.00, CQ 0.00, 6.4ms\n",
      "image 366/742 /home/esidserver/datasets/testing_cls/allin-test/AedesAlbopictus_40x_052_02_lab_JPG.rf.c5406de408c84715cfd7e5f14a93b18d.jpg: 224x224 AB 0.93, AG 0.07, ANO 0.00, CQ 0.00, 4.8ms\n",
      "image 367/742 /home/esidserver/datasets/testing_cls/allin-test/AedesAlbopictus_40x_056_03_lab_JPG.rf.b34ed65d84f4ffa6f72b95b5ddd4ca61.jpg: 224x224 AB 0.98, AG 0.02, ANO 0.00, CQ 0.00, 5.3ms\n",
      "image 368/742 /home/esidserver/datasets/testing_cls/allin-test/AedesAlbopictus_40x_061_01_lab_JPG.rf.1bac96f4f80926d624f6c9b7df819cea.jpg: 224x224 AB 1.00, AG 0.00, CQ 0.00, ANO 0.00, 4.8ms\n",
      "image 369/742 /home/esidserver/datasets/testing_cls/allin-test/AedesAlbopictus_40x_062_03_lab_JPG.rf.322cdcf36252f6b6602f7ee350ef501c.jpg: 224x224 AB 0.99, AG 0.01, CQ 0.00, ANO 0.00, 4.9ms\n",
      "image 370/742 /home/esidserver/datasets/testing_cls/allin-test/AedesAlbopictus_40x_062_04_lab_JPG.rf.f7b27994e26d7409e0c6979577186e62.jpg: 224x224 AB 0.99, AG 0.01, CQ 0.00, ANO 0.00, 7.0ms\n",
      "image 371/742 /home/esidserver/datasets/testing_cls/allin-test/AedesAlbopictus_40x_071_03_lab_JPG.rf.86f16b1364a2564ce3b50f82c2fbd3f2.jpg: 224x224 AB 1.00, AG 0.00, ANO 0.00, CQ 0.00, 6.9ms\n",
      "image 372/742 /home/esidserver/datasets/testing_cls/allin-test/AedesAlbopictus_40x_073_01_lab_JPG.rf.1a35b8dca30eb67db744cd4a50f7ffbd.jpg: 224x224 AG 0.51, AB 0.49, CQ 0.00, ANO 0.00, 4.5ms\n",
      "image 373/742 /home/esidserver/datasets/testing_cls/allin-test/AedesAlbopictus_40x_076_03_lab_JPG.rf.a02b366a7343941044c2936bc1f6319c.jpg: 224x224 AB 1.00, AG 0.00, ANO 0.00, CQ 0.00, 4.5ms\n",
      "image 374/742 /home/esidserver/datasets/testing_cls/allin-test/AedesAlbopictus_40x_077_02_lab_JPG.rf.2e4524ae66c4037325b12388bdae03f1.jpg: 224x224 AB 1.00, AG 0.00, CQ 0.00, ANO 0.00, 4.5ms\n",
      "image 375/742 /home/esidserver/datasets/testing_cls/allin-test/Anopheles-InfinixS5-10-_jpg.rf.75c68cf51c205df96a44ab1b52d5309e.jpg: 224x224 ANO 1.00, AG 0.00, CQ 0.00, AB 0.00, 4.0ms\n",
      "image 376/742 /home/esidserver/datasets/testing_cls/allin-test/Anopheles-InfinixS5-1024-_jpg.rf.55ad154b9d0bb8607ebb730a88fb6a05.jpg: 224x224 ANO 1.00, CQ 0.00, AB 0.00, AG 0.00, 4.1ms\n",
      "image 377/742 /home/esidserver/datasets/testing_cls/allin-test/Anopheles-InfinixS5-103-_jpg.rf.0b88c47055fc2aed7bc78b2490d53540.jpg: 224x224 ANO 1.00, CQ 0.00, AG 0.00, AB 0.00, 5.4ms\n",
      "image 378/742 /home/esidserver/datasets/testing_cls/allin-test/Anopheles-InfinixS5-1035-_jpg.rf.d7489ec2fcf318e180ee4e447581aa0a.jpg: 224x224 ANO 1.00, CQ 0.00, AG 0.00, AB 0.00, 4.0ms\n",
      "image 379/742 /home/esidserver/datasets/testing_cls/allin-test/Anopheles-InfinixS5-104-_jpg.rf.1a3f53038b58798bae0b1bf98994dfe2.jpg: 224x224 ANO 1.00, AG 0.00, CQ 0.00, AB 0.00, 4.0ms\n",
      "image 380/742 /home/esidserver/datasets/testing_cls/allin-test/Anopheles-InfinixS5-105-_jpg.rf.dc6a46ae7066f818dc901da41dbdcd8c.jpg: 224x224 ANO 1.00, CQ 0.00, AG 0.00, AB 0.00, 4.2ms\n",
      "image 381/742 /home/esidserver/datasets/testing_cls/allin-test/Anopheles-InfinixS5-1065-_jpg.rf.954cbebc61baf7f02fab4434b2d91661.jpg: 224x224 ANO 1.00, CQ 0.00, AG 0.00, AB 0.00, 5.7ms\n",
      "image 382/742 /home/esidserver/datasets/testing_cls/allin-test/Anopheles-InfinixS5-1077-_jpg.rf.3b6051c21a3e0aab2ef160946046a7f4.jpg: 224x224 ANO 1.00, AG 0.00, CQ 0.00, AB 0.00, 6.5ms\n",
      "image 383/742 /home/esidserver/datasets/testing_cls/allin-test/Anopheles-InfinixS5-1081-_jpg.rf.57f503fd8ec128063a9b98cd37650250.jpg: 224x224 ANO 1.00, CQ 0.00, AB 0.00, AG 0.00, 6.8ms\n",
      "image 384/742 /home/esidserver/datasets/testing_cls/allin-test/Anopheles-InfinixS5-1084-_jpg.rf.7f5c3a89a44b6f215c414758b454a9b0.jpg: 224x224 ANO 1.00, AB 0.00, CQ 0.00, AG 0.00, 4.7ms\n",
      "image 385/742 /home/esidserver/datasets/testing_cls/allin-test/Anopheles-InfinixS5-1090-_jpg.rf.ba3e557fc3725213677963220ed8a8d4.jpg: 224x224 ANO 1.00, AB 0.00, CQ 0.00, AG 0.00, 4.6ms\n",
      "image 386/742 /home/esidserver/datasets/testing_cls/allin-test/Anopheles-InfinixS5-111-_jpg.rf.6db3d6b43baedee40149a141a5b3f061.jpg: 224x224 ANO 1.00, AB 0.00, CQ 0.00, AG 0.00, 4.7ms\n",
      "image 387/742 /home/esidserver/datasets/testing_cls/allin-test/Anopheles-InfinixS5-1113-_jpg.rf.de6fcc96519abfc8542090c823577715.jpg: 224x224 ANO 1.00, AG 0.00, CQ 0.00, AB 0.00, 4.7ms\n",
      "image 388/742 /home/esidserver/datasets/testing_cls/allin-test/Anopheles-InfinixS5-1115-_jpg.rf.a5189f61fe30193e57a83478036b97c7.jpg: 224x224 ANO 1.00, CQ 0.00, AG 0.00, AB 0.00, 4.5ms\n",
      "image 389/742 /home/esidserver/datasets/testing_cls/allin-test/Anopheles-InfinixS5-1117-_jpg.rf.a0744b13a821013922f5aaf4818ba30d.jpg: 224x224 ANO 1.00, CQ 0.00, AG 0.00, AB 0.00, 4.5ms\n",
      "image 390/742 /home/esidserver/datasets/testing_cls/allin-test/Anopheles-InfinixS5-1120-_jpg.rf.3e2ea0a9df03834f2a277390cb69ea07.jpg: 224x224 ANO 1.00, CQ 0.00, AG 0.00, AB 0.00, 4.6ms\n",
      "image 391/742 /home/esidserver/datasets/testing_cls/allin-test/Anopheles-InfinixS5-1143-_jpg.rf.b9d4b965f857f72d08000fef66a929c3.jpg: 224x224 ANO 1.00, AB 0.00, CQ 0.00, AG 0.00, 4.6ms\n",
      "image 392/742 /home/esidserver/datasets/testing_cls/allin-test/Anopheles-InfinixS5-1149-_jpg.rf.2495ea0f2c5b03c755d6cf1e3a5e2a5a.jpg: 224x224 ANO 1.00, CQ 0.00, AB 0.00, AG 0.00, 4.9ms\n",
      "image 393/742 /home/esidserver/datasets/testing_cls/allin-test/Anopheles-InfinixS5-1154-_jpg.rf.64898d1ef79ccf825e6ce3ce5a88c8c4.jpg: 224x224 ANO 1.00, CQ 0.00, AG 0.00, AB 0.00, 4.5ms\n",
      "image 394/742 /home/esidserver/datasets/testing_cls/allin-test/Anopheles-InfinixS5-1159-_jpg.rf.c32d1c58c529822f3305c162d70de652.jpg: 224x224 ANO 1.00, CQ 0.00, AG 0.00, AB 0.00, 4.6ms\n",
      "image 395/742 /home/esidserver/datasets/testing_cls/allin-test/Anopheles-InfinixS5-116-_jpg.rf.7b3c030ab5d262a9ec4ec63bfc26b0a8.jpg: 224x224 ANO 1.00, CQ 0.00, AG 0.00, AB 0.00, 4.5ms\n",
      "image 396/742 /home/esidserver/datasets/testing_cls/allin-test/Anopheles-InfinixS5-1162-_jpg.rf.16e8684505df36b970b897aa486752cb.jpg: 224x224 ANO 1.00, CQ 0.00, AG 0.00, AB 0.00, 5.6ms\n",
      "image 397/742 /home/esidserver/datasets/testing_cls/allin-test/Anopheles-InfinixS5-1191-_jpg.rf.43ae0b871022450a9d82c1445a3d5e3b.jpg: 224x224 ANO 1.00, CQ 0.00, AG 0.00, AB 0.00, 4.6ms\n",
      "image 398/742 /home/esidserver/datasets/testing_cls/allin-test/Anopheles-InfinixS5-1192-_jpg.rf.0c0d936e369492214df3bd62c2bb96c6.jpg: 224x224 ANO 1.00, CQ 0.00, AG 0.00, AB 0.00, 4.6ms\n",
      "image 399/742 /home/esidserver/datasets/testing_cls/allin-test/Anopheles-InfinixS5-1208-_jpg.rf.9fd484a6ec21a00e7be9925b1d4a805c.jpg: 224x224 ANO 1.00, AG 0.00, CQ 0.00, AB 0.00, 4.7ms\n",
      "image 400/742 /home/esidserver/datasets/testing_cls/allin-test/Anopheles-InfinixS5-1211-_jpg.rf.cf78f3985b53b55983f62d366ab7a191.jpg: 224x224 ANO 1.00, CQ 0.00, AG 0.00, AB 0.00, 4.8ms\n",
      "image 401/742 /home/esidserver/datasets/testing_cls/allin-test/Anopheles-InfinixS5-1233-_jpg.rf.7611221b831b33f542dcb5b854336b2b.jpg: 224x224 ANO 1.00, CQ 0.00, AG 0.00, AB 0.00, 4.6ms\n",
      "image 402/742 /home/esidserver/datasets/testing_cls/allin-test/Anopheles-InfinixS5-1249-_jpg.rf.7a426bbccb42f6608af3c9f26df1645a.jpg: 224x224 ANO 1.00, CQ 0.00, AG 0.00, AB 0.00, 4.6ms\n",
      "image 403/742 /home/esidserver/datasets/testing_cls/allin-test/Anopheles-InfinixS5-1255-_jpg.rf.f831f5f462fe2bb74ee0190d25554a9e.jpg: 224x224 ANO 1.00, AG 0.00, CQ 0.00, AB 0.00, 4.6ms\n",
      "image 404/742 /home/esidserver/datasets/testing_cls/allin-test/Anopheles-InfinixS5-1258-_jpg.rf.cf5550fb8200ffc32ad37537f71861ed.jpg: 224x224 ANO 1.00, AB 0.00, CQ 0.00, AG 0.00, 4.6ms\n",
      "image 405/742 /home/esidserver/datasets/testing_cls/allin-test/Anopheles-InfinixS5-1260-_jpg.rf.aa0beb81f0dc407c67bb621286a177c8.jpg: 224x224 ANO 1.00, AG 0.00, CQ 0.00, AB 0.00, 4.7ms\n",
      "image 406/742 /home/esidserver/datasets/testing_cls/allin-test/Anopheles-InfinixS5-1266-_jpg.rf.7ca076c25414f7fc716173fae517bce6.jpg: 224x224 ANO 1.00, AG 0.00, CQ 0.00, AB 0.00, 4.6ms\n",
      "image 407/742 /home/esidserver/datasets/testing_cls/allin-test/Anopheles-InfinixS5-1269-_jpg.rf.d7dc7ee41544ea0e9f144964283156c8.jpg: 224x224 ANO 1.00, AG 0.00, CQ 0.00, AB 0.00, 4.5ms\n",
      "image 408/742 /home/esidserver/datasets/testing_cls/allin-test/Anopheles-InfinixS5-129-_jpg.rf.f85ecbf5de279c6b110f18bffe692a33.jpg: 224x224 ANO 1.00, AG 0.00, CQ 0.00, AB 0.00, 4.5ms\n",
      "image 409/742 /home/esidserver/datasets/testing_cls/allin-test/Anopheles-InfinixS5-1295-_jpg.rf.54aea4bc474610c27fddd2853ff64286.jpg: 224x224 ANO 1.00, AG 0.00, CQ 0.00, AB 0.00, 4.5ms\n",
      "image 410/742 /home/esidserver/datasets/testing_cls/allin-test/Anopheles-InfinixS5-1297-_jpg.rf.c06a3f0b954456206747ef7b699a86e4.jpg: 224x224 ANO 1.00, CQ 0.00, AG 0.00, AB 0.00, 4.4ms\n",
      "image 411/742 /home/esidserver/datasets/testing_cls/allin-test/Anopheles-InfinixS5-130-_jpg.rf.7d6d5896aa3f0b0b39cd138af91d6559.jpg: 224x224 ANO 1.00, AG 0.00, CQ 0.00, AB 0.00, 4.4ms\n",
      "image 412/742 /home/esidserver/datasets/testing_cls/allin-test/Anopheles-InfinixS5-1304-_jpg.rf.6dd2e44a58aaf7727b30fc4b0d764880.jpg: 224x224 ANO 1.00, CQ 0.00, AG 0.00, AB 0.00, 4.5ms\n",
      "image 413/742 /home/esidserver/datasets/testing_cls/allin-test/Anopheles-InfinixS5-1308-_jpg.rf.548d50f35304832219726888cd47ff24.jpg: 224x224 ANO 1.00, AG 0.00, AB 0.00, CQ 0.00, 4.5ms\n",
      "image 414/742 /home/esidserver/datasets/testing_cls/allin-test/Anopheles-InfinixS5-131-_jpg.rf.265a484570b44e67ba5ab6b797e98ff1.jpg: 224x224 ANO 1.00, AG 0.00, CQ 0.00, AB 0.00, 4.9ms\n",
      "image 415/742 /home/esidserver/datasets/testing_cls/allin-test/Anopheles-InfinixS5-1312-_jpg.rf.0f60ccf7a9243488bc98dd70a765c248.jpg: 224x224 ANO 1.00, AG 0.00, CQ 0.00, AB 0.00, 4.9ms\n",
      "image 416/742 /home/esidserver/datasets/testing_cls/allin-test/Anopheles-InfinixS5-1316-_jpg.rf.3cfdb4f355ea63accc0b7256dfd683a9.jpg: 224x224 ANO 1.00, AB 0.00, CQ 0.00, AG 0.00, 5.1ms\n",
      "image 417/742 /home/esidserver/datasets/testing_cls/allin-test/Anopheles-InfinixS5-1332-_jpg.rf.9d2c0d8b738fe62a8bcf83772b5c44d9.jpg: 224x224 ANO 1.00, CQ 0.00, AB 0.00, AG 0.00, 5.4ms\n",
      "image 418/742 /home/esidserver/datasets/testing_cls/allin-test/Anopheles-InfinixS5-1333-_jpg.rf.eb54779ea38dec2da157bd9f1c7e3b0b.jpg: 224x224 ANO 1.00, CQ 0.00, AG 0.00, AB 0.00, 5.7ms\n",
      "image 419/742 /home/esidserver/datasets/testing_cls/allin-test/Anopheles-InfinixS5-1342-_jpg.rf.4d0ea0d9f39a1350acb95c9bdc842a67.jpg: 224x224 ANO 1.00, AB 0.00, CQ 0.00, AG 0.00, 6.3ms\n",
      "image 420/742 /home/esidserver/datasets/testing_cls/allin-test/Anopheles-InfinixS5-1351-_jpg.rf.64f8db838c4ca0577b47b2a2cb43d7e9.jpg: 224x224 ANO 1.00, CQ 0.00, AG 0.00, AB 0.00, 5.8ms\n",
      "image 421/742 /home/esidserver/datasets/testing_cls/allin-test/Anopheles-InfinixS5-1361-_jpg.rf.7fba7396dd68ddd3fe05c9938dc15032.jpg: 224x224 ANO 1.00, CQ 0.00, AG 0.00, AB 0.00, 4.6ms\n",
      "image 422/742 /home/esidserver/datasets/testing_cls/allin-test/Anopheles-InfinixS5-1374-_jpg.rf.737e963b225e097b32d622569461b23e.jpg: 224x224 ANO 1.00, CQ 0.00, AG 0.00, AB 0.00, 4.7ms\n",
      "image 423/742 /home/esidserver/datasets/testing_cls/allin-test/Anopheles-InfinixS5-1387-_jpg.rf.833ca9c98375bc5d241464c5fe50d2df.jpg: 224x224 ANO 1.00, CQ 0.00, AG 0.00, AB 0.00, 4.5ms\n",
      "image 424/742 /home/esidserver/datasets/testing_cls/allin-test/Anopheles-InfinixS5-1390-_jpg.rf.b0d3750543520dabf7c193937066d0dd.jpg: 224x224 ANO 1.00, CQ 0.00, AG 0.00, AB 0.00, 4.8ms\n",
      "image 425/742 /home/esidserver/datasets/testing_cls/allin-test/Anopheles-InfinixS5-1399-_jpg.rf.52bdf8a83384c3c4fcd570b40c3275aa.jpg: 224x224 ANO 1.00, CQ 0.00, AB 0.00, AG 0.00, 4.7ms\n",
      "image 426/742 /home/esidserver/datasets/testing_cls/allin-test/Anopheles-InfinixS5-1409-_jpg.rf.7593e558eeb723fac7d70868cbae3298.jpg: 224x224 ANO 1.00, AB 0.00, CQ 0.00, AG 0.00, 4.0ms\n",
      "image 427/742 /home/esidserver/datasets/testing_cls/allin-test/Anopheles-InfinixS5-1411-_jpg.rf.67ddaec1fb7fe0dde81e6f37afa41ba7.jpg: 224x224 ANO 1.00, CQ 0.00, AG 0.00, AB 0.00, 3.9ms\n",
      "image 428/742 /home/esidserver/datasets/testing_cls/allin-test/Anopheles-InfinixS5-1414-_jpg.rf.3b543ecac94436dd47b83adba0a02636.jpg: 224x224 ANO 1.00, AB 0.00, CQ 0.00, AG 0.00, 3.8ms\n",
      "image 429/742 /home/esidserver/datasets/testing_cls/allin-test/Anopheles-InfinixS5-1415-_jpg.rf.2c37c53c457d4dee49fbaac08148b6cd.jpg: 224x224 ANO 1.00, CQ 0.00, AG 0.00, AB 0.00, 4.0ms\n",
      "image 430/742 /home/esidserver/datasets/testing_cls/allin-test/Anopheles-InfinixS5-1432-_jpg.rf.b1d3776d665cc25b5403de6242aa09d3.jpg: 224x224 ANO 1.00, CQ 0.00, AG 0.00, AB 0.00, 5.4ms\n",
      "image 431/742 /home/esidserver/datasets/testing_cls/allin-test/Anopheles-InfinixS5-1442-_jpg.rf.b56c918eac1bd34edf013bb667b874de.jpg: 224x224 ANO 1.00, CQ 0.00, AG 0.00, AB 0.00, 5.0ms\n",
      "image 432/742 /home/esidserver/datasets/testing_cls/allin-test/Anopheles-InfinixS5-1443-_jpg.rf.0d63397b28a12f48969a540c99ef5bb6.jpg: 224x224 ANO 1.00, CQ 0.00, AB 0.00, AG 0.00, 4.1ms\n",
      "image 433/742 /home/esidserver/datasets/testing_cls/allin-test/Anopheles-InfinixS5-1445-_jpg.rf.db8350e07b0a9687bd69c70be5906dd8.jpg: 224x224 ANO 1.00, CQ 0.00, AG 0.00, AB 0.00, 4.6ms\n",
      "image 434/742 /home/esidserver/datasets/testing_cls/allin-test/Anopheles-InfinixS5-145-_jpg.rf.b4506cc31775cd73adcf8ebdbad64098.jpg: 224x224 ANO 1.00, CQ 0.00, AG 0.00, AB 0.00, 5.1ms\n",
      "image 435/742 /home/esidserver/datasets/testing_cls/allin-test/Anopheles-InfinixS5-1496-_jpg.rf.d28630190935417f734850218fbf3f06.jpg: 224x224 ANO 1.00, CQ 0.00, AG 0.00, AB 0.00, 5.6ms\n",
      "image 436/742 /home/esidserver/datasets/testing_cls/allin-test/Anopheles-InfinixS5-1501-_jpg.rf.e7faa9649fc69dac59f88ff04af17561.jpg: 224x224 ANO 0.99, CQ 0.01, AG 0.00, AB 0.00, 5.1ms\n",
      "image 437/742 /home/esidserver/datasets/testing_cls/allin-test/Anopheles-InfinixS5-1502-_jpg.rf.f7e848f6bcce5bf1b34f88e19648f3a2.jpg: 224x224 ANO 1.00, CQ 0.00, AG 0.00, AB 0.00, 6.2ms\n",
      "image 438/742 /home/esidserver/datasets/testing_cls/allin-test/Anopheles-InfinixS5-1510-_jpg.rf.05587995f0ae40a91d7ae4af745a2896.jpg: 224x224 ANO 1.00, CQ 0.00, AG 0.00, AB 0.00, 5.1ms\n",
      "image 439/742 /home/esidserver/datasets/testing_cls/allin-test/Anopheles-InfinixS5-1513-_jpg.rf.21a197235809a2e63ebb6edff999fa45.jpg: 224x224 ANO 1.00, CQ 0.00, AG 0.00, AB 0.00, 5.2ms\n",
      "image 440/742 /home/esidserver/datasets/testing_cls/allin-test/Anopheles-InfinixS5-1521-_jpg.rf.0e36d5415b284a55a15f1067506e057c.jpg: 224x224 ANO 1.00, CQ 0.00, AG 0.00, AB 0.00, 5.3ms\n",
      "image 441/742 /home/esidserver/datasets/testing_cls/allin-test/Anopheles-InfinixS5-1524-_jpg.rf.0f86b0b297227577241fc97c1805694a.jpg: 224x224 ANO 1.00, AB 0.00, AG 0.00, CQ 0.00, 5.5ms\n",
      "image 442/742 /home/esidserver/datasets/testing_cls/allin-test/Anopheles-InfinixS5-1549-_jpg.rf.6ff39558af56b6412e55afcfbd0f78ba.jpg: 224x224 ANO 0.99, CQ 0.00, AG 0.00, AB 0.00, 5.6ms\n",
      "image 443/742 /home/esidserver/datasets/testing_cls/allin-test/Anopheles-InfinixS5-1551-_jpg.rf.c601aefa38b19f2d9957a99b9be0215e.jpg: 224x224 ANO 1.00, CQ 0.00, AG 0.00, AB 0.00, 5.8ms\n",
      "image 444/742 /home/esidserver/datasets/testing_cls/allin-test/Anopheles-InfinixS5-156-_jpg.rf.14b8a80bc2a170dbdf64d0a657a25a27.jpg: 224x224 ANO 1.00, CQ 0.00, AG 0.00, AB 0.00, 4.6ms\n",
      "image 445/742 /home/esidserver/datasets/testing_cls/allin-test/Anopheles-InfinixS5-1566-_jpg.rf.e167915d4886336b252e10d554f2eccc.jpg: 224x224 ANO 1.00, CQ 0.00, AG 0.00, AB 0.00, 4.5ms\n",
      "image 446/742 /home/esidserver/datasets/testing_cls/allin-test/Anopheles-InfinixS5-1580-_jpg.rf.165f3ca1defceb0c6d7669f079531bfa.jpg: 224x224 ANO 1.00, AG 0.00, CQ 0.00, AB 0.00, 4.4ms\n",
      "image 447/742 /home/esidserver/datasets/testing_cls/allin-test/Anopheles-InfinixS5-1582-_jpg.rf.1b5d2162948bed423fd838e3c195f686.jpg: 224x224 ANO 1.00, AG 0.00, AB 0.00, CQ 0.00, 4.4ms\n",
      "image 448/742 /home/esidserver/datasets/testing_cls/allin-test/Anopheles-InfinixS5-1614-_jpg.rf.ee56722b4b5cd525b1870be7c4b589ff.jpg: 224x224 ANO 1.00, CQ 0.00, AB 0.00, AG 0.00, 4.5ms\n",
      "image 449/742 /home/esidserver/datasets/testing_cls/allin-test/Anopheles-InfinixS5-1618-_jpg.rf.d1707dba6b7a22c14c55c947412f03ed.jpg: 224x224 ANO 1.00, CQ 0.00, AG 0.00, AB 0.00, 4.5ms\n",
      "image 450/742 /home/esidserver/datasets/testing_cls/allin-test/Anopheles-InfinixS5-1625-_jpg.rf.936ac133baa3a9a54ac51c567a18b84d.jpg: 224x224 ANO 1.00, AG 0.00, CQ 0.00, AB 0.00, 4.7ms\n",
      "image 451/742 /home/esidserver/datasets/testing_cls/allin-test/Anopheles-InfinixS5-1626-_jpg.rf.0050243db26c63b218db0a0482db933b.jpg: 224x224 ANO 1.00, CQ 0.00, AG 0.00, AB 0.00, 4.8ms\n",
      "image 452/742 /home/esidserver/datasets/testing_cls/allin-test/Anopheles-InfinixS5-1636-_jpg.rf.6aabffd4fd22aee0a38e88b767645c7b.jpg: 224x224 ANO 1.00, CQ 0.00, AG 0.00, AB 0.00, 4.6ms\n",
      "image 453/742 /home/esidserver/datasets/testing_cls/allin-test/Anopheles-InfinixS5-1638-_jpg.rf.a04e7cd4989a4f9c988b150a1e1c25da.jpg: 224x224 ANO 1.00, AG 0.00, CQ 0.00, AB 0.00, 4.8ms\n",
      "image 454/742 /home/esidserver/datasets/testing_cls/allin-test/Anopheles-InfinixS5-1644-_jpg.rf.cd81291481cc712f1f0c2ac9fb236910.jpg: 224x224 ANO 1.00, CQ 0.00, AG 0.00, AB 0.00, 5.2ms\n",
      "image 455/742 /home/esidserver/datasets/testing_cls/allin-test/Anopheles-InfinixS5-1647-_jpg.rf.c255c699b0e0ed036e52f871dbb92f65.jpg: 224x224 ANO 1.00, CQ 0.00, AG 0.00, AB 0.00, 4.6ms\n",
      "image 456/742 /home/esidserver/datasets/testing_cls/allin-test/Anopheles-InfinixS5-1663-_jpg.rf.1842fafe01d7624b2afedb74ce5d2715.jpg: 224x224 ANO 1.00, AG 0.00, CQ 0.00, AB 0.00, 4.6ms\n",
      "image 457/742 /home/esidserver/datasets/testing_cls/allin-test/Anopheles-InfinixS5-1688-_jpg.rf.ee57e6ec1a217eb25e84fa4d8375e056.jpg: 224x224 ANO 1.00, AG 0.00, CQ 0.00, AB 0.00, 4.9ms\n",
      "image 458/742 /home/esidserver/datasets/testing_cls/allin-test/Anopheles-InfinixS5-1689-_jpg.rf.75cb63607bb478fe6b9a92e546df645c.jpg: 224x224 ANO 1.00, CQ 0.00, AG 0.00, AB 0.00, 7.0ms\n",
      "image 459/742 /home/esidserver/datasets/testing_cls/allin-test/Anopheles-InfinixS5-169-_jpg.rf.0cdc2bddaf70d813a39b8cee0eab4c90.jpg: 224x224 ANO 1.00, AB 0.00, AG 0.00, CQ 0.00, 5.9ms\n",
      "image 460/742 /home/esidserver/datasets/testing_cls/allin-test/Anopheles-InfinixS5-1698-_jpg.rf.9b61523777601908f10ab55d1db31c9e.jpg: 224x224 ANO 1.00, AG 0.00, CQ 0.00, AB 0.00, 5.3ms\n",
      "image 461/742 /home/esidserver/datasets/testing_cls/allin-test/Anopheles-InfinixS5-1699-_jpg.rf.d924e32af35d79c575704c7a2fd62590.jpg: 224x224 ANO 1.00, CQ 0.00, AB 0.00, AG 0.00, 5.2ms\n",
      "image 462/742 /home/esidserver/datasets/testing_cls/allin-test/Anopheles-InfinixS5-1709-_jpg.rf.ebe1054e3ef89a0483db183be64d6fb2.jpg: 224x224 ANO 1.00, AG 0.00, CQ 0.00, AB 0.00, 6.1ms\n",
      "image 463/742 /home/esidserver/datasets/testing_cls/allin-test/Anopheles-InfinixS5-1719-_jpg.rf.19092f8986f7676ce1a5c1e72d0a1a38.jpg: 224x224 ANO 1.00, AG 0.00, CQ 0.00, AB 0.00, 4.7ms\n",
      "image 464/742 /home/esidserver/datasets/testing_cls/allin-test/Anopheles-InfinixS5-1728-_jpg.rf.e620ca234e1a122fc135aca0b82c1656.jpg: 224x224 ANO 1.00, AG 0.00, CQ 0.00, AB 0.00, 5.0ms\n",
      "image 465/742 /home/esidserver/datasets/testing_cls/allin-test/Anopheles-InfinixS5-1731-_jpg.rf.af0b1365147ec7c6ebc00acebe3f331e.jpg: 224x224 ANO 1.00, AG 0.00, CQ 0.00, AB 0.00, 4.6ms\n",
      "image 466/742 /home/esidserver/datasets/testing_cls/allin-test/Anopheles-InfinixS5-1736-_jpg.rf.8fbeff93639ae48149ddae49531cea26.jpg: 224x224 ANO 0.85, AG 0.12, CQ 0.02, AB 0.01, 5.0ms\n",
      "image 467/742 /home/esidserver/datasets/testing_cls/allin-test/Anopheles-InfinixS5-1741-_jpg.rf.e357b671d3e682742b0c9c93f7d4fdf7.jpg: 224x224 ANO 1.00, AG 0.00, CQ 0.00, AB 0.00, 4.9ms\n",
      "image 468/742 /home/esidserver/datasets/testing_cls/allin-test/Anopheles-InfinixS5-1760-_jpg.rf.bce065f064a17576b522ba282273d8ca.jpg: 224x224 ANO 1.00, AG 0.00, CQ 0.00, AB 0.00, 6.3ms\n",
      "image 469/742 /home/esidserver/datasets/testing_cls/allin-test/Anopheles-InfinixS5-1761-_jpg.rf.d21b4c9ddad8dc86a168aaff6f01bbfb.jpg: 224x224 ANO 1.00, AG 0.00, CQ 0.00, AB 0.00, 5.0ms\n",
      "image 470/742 /home/esidserver/datasets/testing_cls/allin-test/Anopheles-InfinixS5-1771-_jpg.rf.b4fd36f324471a0cd0e0ee24ffc7089b.jpg: 224x224 ANO 1.00, CQ 0.00, AG 0.00, AB 0.00, 4.7ms\n",
      "image 471/742 /home/esidserver/datasets/testing_cls/allin-test/Anopheles-InfinixS5-1781-_jpg.rf.00735f113464ec78d2ea0dd66310ae96.jpg: 224x224 ANO 1.00, CQ 0.00, AB 0.00, AG 0.00, 6.6ms\n",
      "image 472/742 /home/esidserver/datasets/testing_cls/allin-test/Anopheles-InfinixS5-1787-_jpg.rf.09bf754984599a52f3582a76dc3d5b1e.jpg: 224x224 ANO 1.00, CQ 0.00, AG 0.00, AB 0.00, 4.9ms\n",
      "image 473/742 /home/esidserver/datasets/testing_cls/allin-test/Anopheles-InfinixS5-179-_jpg.rf.f97e97978746249fa5a7af70bc2c2d9a.jpg: 224x224 ANO 1.00, CQ 0.00, AG 0.00, AB 0.00, 5.3ms\n",
      "image 474/742 /home/esidserver/datasets/testing_cls/allin-test/Anopheles-InfinixS5-1798-_jpg.rf.e2546b5c2026530c5ee4dbe4bbca6805.jpg: 224x224 ANO 1.00, AG 0.00, CQ 0.00, AB 0.00, 5.3ms\n",
      "image 475/742 /home/esidserver/datasets/testing_cls/allin-test/Anopheles-InfinixS5-1803-_jpg.rf.ed6fe96d44d0ed4cbced76efb679007f.jpg: 224x224 ANO 1.00, CQ 0.00, AG 0.00, AB 0.00, 5.5ms\n",
      "image 476/742 /home/esidserver/datasets/testing_cls/allin-test/Anopheles-InfinixS5-1805-_jpg.rf.fb07a5580e991ba0525acff9b8f55023.jpg: 224x224 ANO 1.00, CQ 0.00, AG 0.00, AB 0.00, 5.9ms\n",
      "image 477/742 /home/esidserver/datasets/testing_cls/allin-test/Anopheles-InfinixS5-1809-_jpg.rf.8be2a5628154fef154dddcc0597a13fa.jpg: 224x224 ANO 1.00, AB 0.00, CQ 0.00, AG 0.00, 5.4ms\n",
      "image 478/742 /home/esidserver/datasets/testing_cls/allin-test/Anopheles-InfinixS5-1824-_jpg.rf.bb23578f4068938cd509d4f7ac2d02ea.jpg: 224x224 ANO 1.00, CQ 0.00, AG 0.00, AB 0.00, 5.3ms\n",
      "image 479/742 /home/esidserver/datasets/testing_cls/allin-test/Anopheles-InfinixS5-1825-_jpg.rf.e5fbd2f7a243d762d2cd9b64e8a1a314.jpg: 224x224 ANO 1.00, CQ 0.00, AG 0.00, AB 0.00, 5.6ms\n",
      "image 480/742 /home/esidserver/datasets/testing_cls/allin-test/Anopheles-InfinixS5-1826-_jpg.rf.1dc232062966ae1dd42408f2a8ef80fd.jpg: 224x224 ANO 1.00, CQ 0.00, AG 0.00, AB 0.00, 8.4ms\n",
      "image 481/742 /home/esidserver/datasets/testing_cls/allin-test/Anopheles-InfinixS5-183-_jpg.rf.ac228a4270e30f6c3a6cf426f10fe6da.jpg: 224x224 ANO 1.00, CQ 0.00, AG 0.00, AB 0.00, 6.0ms\n",
      "image 482/742 /home/esidserver/datasets/testing_cls/allin-test/Anopheles-InfinixS5-1838-_jpg.rf.b2db153ffe91958fa89454c49a3daefd.jpg: 224x224 ANO 1.00, CQ 0.00, AG 0.00, AB 0.00, 5.2ms\n",
      "image 483/742 /home/esidserver/datasets/testing_cls/allin-test/Anopheles-InfinixS5-1839-_jpg.rf.c92e68f7b7b55fb9c5287bd59ef60711.jpg: 224x224 ANO 1.00, CQ 0.00, AG 0.00, AB 0.00, 5.9ms\n",
      "image 484/742 /home/esidserver/datasets/testing_cls/allin-test/Anopheles-InfinixS5-189-_jpg.rf.6a8a684237f0da4e6a8aa609b4eb4188.jpg: 224x224 ANO 1.00, CQ 0.00, AG 0.00, AB 0.00, 7.8ms\n",
      "image 485/742 /home/esidserver/datasets/testing_cls/allin-test/Anopheles-InfinixS5-19-_jpg.rf.f02e999592986179569461f7448ff7cd.jpg: 224x224 ANO 1.00, AB 0.00, CQ 0.00, AG 0.00, 5.0ms\n",
      "image 486/742 /home/esidserver/datasets/testing_cls/allin-test/Anopheles-InfinixS5-196-_jpg.rf.3b41eb05c9cc3352f95f1178e147eea5.jpg: 224x224 ANO 1.00, CQ 0.00, AG 0.00, AB 0.00, 5.8ms\n",
      "image 487/742 /home/esidserver/datasets/testing_cls/allin-test/Anopheles-InfinixS5-198-_jpg.rf.60c1b72aee5649c75034bca99c86d206.jpg: 224x224 ANO 1.00, CQ 0.00, AG 0.00, AB 0.00, 4.6ms\n",
      "image 488/742 /home/esidserver/datasets/testing_cls/allin-test/Anopheles-InfinixS5-211-_jpg.rf.83e7fd1e4c68f04885ea2435cf1e4b0d.jpg: 224x224 ANO 1.00, CQ 0.00, AG 0.00, AB 0.00, 4.6ms\n",
      "image 489/742 /home/esidserver/datasets/testing_cls/allin-test/Anopheles-InfinixS5-218-_jpg.rf.2f41539eec72786ea40fd2231abb0e00.jpg: 224x224 ANO 1.00, CQ 0.00, AB 0.00, AG 0.00, 4.6ms\n",
      "image 490/742 /home/esidserver/datasets/testing_cls/allin-test/Anopheles-InfinixS5-233-_jpg.rf.33bdc2e89a1f26a3b8cbb288754ef67f.jpg: 224x224 ANO 1.00, CQ 0.00, AG 0.00, AB 0.00, 5.2ms\n",
      "image 491/742 /home/esidserver/datasets/testing_cls/allin-test/Anopheles-InfinixS5-234-_jpg.rf.a0aceb19964c08e6ca3034132adec39f.jpg: 224x224 ANO 1.00, CQ 0.00, AG 0.00, AB 0.00, 5.0ms\n",
      "image 492/742 /home/esidserver/datasets/testing_cls/allin-test/Anopheles-InfinixS5-242-_jpg.rf.3f2cb3751ed4d3e9fed15328ac7101b3.jpg: 224x224 ANO 1.00, CQ 0.00, AG 0.00, AB 0.00, 5.3ms\n",
      "image 493/742 /home/esidserver/datasets/testing_cls/allin-test/Anopheles-InfinixS5-251-_jpg.rf.97006f0a6fc71ee930849b734090f780.jpg: 224x224 ANO 1.00, CQ 0.00, AG 0.00, AB 0.00, 5.5ms\n",
      "image 494/742 /home/esidserver/datasets/testing_cls/allin-test/Anopheles-InfinixS5-266-_jpg.rf.98d54ebf92a833bf3bc8406af2e5e060.jpg: 224x224 ANO 0.99, AG 0.01, CQ 0.00, AB 0.00, 6.5ms\n",
      "image 495/742 /home/esidserver/datasets/testing_cls/allin-test/Anopheles-InfinixS5-286-_jpg.rf.5772449ba64f25a1661ae1b7e1235501.jpg: 224x224 ANO 1.00, CQ 0.00, AG 0.00, AB 0.00, 6.6ms\n",
      "image 496/742 /home/esidserver/datasets/testing_cls/allin-test/Anopheles-InfinixS5-289-_jpg.rf.679186f77a89197809ce97de6ad562fd.jpg: 224x224 ANO 1.00, AB 0.00, CQ 0.00, AG 0.00, 5.5ms\n",
      "image 497/742 /home/esidserver/datasets/testing_cls/allin-test/Anopheles-InfinixS5-303-_jpg.rf.875834ae8cca419b2ee763bfc02660aa.jpg: 224x224 ANO 1.00, CQ 0.00, AG 0.00, AB 0.00, 5.5ms\n",
      "image 498/742 /home/esidserver/datasets/testing_cls/allin-test/Anopheles-InfinixS5-304-_jpg.rf.8e4ef814007c849744da61995e240093.jpg: 224x224 ANO 1.00, AG 0.00, CQ 0.00, AB 0.00, 5.5ms\n",
      "image 499/742 /home/esidserver/datasets/testing_cls/allin-test/Anopheles-InfinixS5-380-_jpg.rf.f48e661e087320eaa1322ce569ee78b9.jpg: 224x224 ANO 1.00, CQ 0.00, AG 0.00, AB 0.00, 5.2ms\n",
      "image 500/742 /home/esidserver/datasets/testing_cls/allin-test/Anopheles-InfinixS5-392-_jpg.rf.81f9359d37e37b4488d5271b9dace241.jpg: 224x224 ANO 1.00, AG 0.00, CQ 0.00, AB 0.00, 5.5ms\n",
      "image 501/742 /home/esidserver/datasets/testing_cls/allin-test/Anopheles-InfinixS5-393-_jpg.rf.29a55081da389e517ff1794b19dc41a6.jpg: 224x224 ANO 1.00, AG 0.00, CQ 0.00, AB 0.00, 6.6ms\n",
      "image 502/742 /home/esidserver/datasets/testing_cls/allin-test/Anopheles-InfinixS5-394-_jpg.rf.9a60f2c95fda154d296d6f46bd8382ae.jpg: 224x224 ANO 1.00, AG 0.00, CQ 0.00, AB 0.00, 5.2ms\n",
      "image 503/742 /home/esidserver/datasets/testing_cls/allin-test/Anopheles-InfinixS5-4-_jpg.rf.f93f475f6c914e0826fc566d0f39b3e9.jpg: 224x224 ANO 1.00, CQ 0.00, AB 0.00, AG 0.00, 5.1ms\n",
      "image 504/742 /home/esidserver/datasets/testing_cls/allin-test/Anopheles-InfinixS5-433-_jpg.rf.9fb5afd3c07efc0be1da9b4e63da8fd7.jpg: 224x224 ANO 1.00, CQ 0.00, AG 0.00, AB 0.00, 5.0ms\n",
      "image 505/742 /home/esidserver/datasets/testing_cls/allin-test/Anopheles-InfinixS5-434-_jpg.rf.1819f002bbabd3985fcf1e025b610fa3.jpg: 224x224 ANO 1.00, AG 0.00, CQ 0.00, AB 0.00, 5.0ms\n",
      "image 506/742 /home/esidserver/datasets/testing_cls/allin-test/Anopheles-InfinixS5-454-_jpg.rf.1c639ed81b0e96a7dc7b8ee4a2b5ca26.jpg: 224x224 ANO 1.00, AG 0.00, CQ 0.00, AB 0.00, 6.6ms\n",
      "image 507/742 /home/esidserver/datasets/testing_cls/allin-test/Anopheles-InfinixS5-468-_jpg.rf.f8229518049a33d0e86b7cf197755bac.jpg: 224x224 ANO 1.00, CQ 0.00, AG 0.00, AB 0.00, 6.0ms\n",
      "image 508/742 /home/esidserver/datasets/testing_cls/allin-test/Anopheles-InfinixS5-478-_jpg.rf.81ef85380cee847e6a4eb9fc8f457203.jpg: 224x224 ANO 1.00, AG 0.00, CQ 0.00, AB 0.00, 5.2ms\n",
      "image 509/742 /home/esidserver/datasets/testing_cls/allin-test/Anopheles-InfinixS5-480-_jpg.rf.337679e11ccbb3e025a93443b61612aa.jpg: 224x224 ANO 1.00, CQ 0.00, AG 0.00, AB 0.00, 5.2ms\n",
      "image 510/742 /home/esidserver/datasets/testing_cls/allin-test/Anopheles-InfinixS5-487-_jpg.rf.a52360cea2586c8274c5c8e54725312d.jpg: 224x224 ANO 1.00, CQ 0.00, AG 0.00, AB 0.00, 5.4ms\n",
      "image 511/742 /home/esidserver/datasets/testing_cls/allin-test/Anopheles-InfinixS5-509-_jpg.rf.14fc07e19a1b67cea971d285b7e7ff66.jpg: 224x224 ANO 1.00, AG 0.00, AB 0.00, CQ 0.00, 5.0ms\n",
      "image 512/742 /home/esidserver/datasets/testing_cls/allin-test/Anopheles-InfinixS5-526-_jpg.rf.b3e6e4c68bb0aa06fdef0a31d58fabbe.jpg: 224x224 ANO 1.00, CQ 0.00, AG 0.00, AB 0.00, 5.5ms\n",
      "image 513/742 /home/esidserver/datasets/testing_cls/allin-test/Anopheles-InfinixS5-541-_jpg.rf.5a0e2cd8375350739e1d9041a5a9b178.jpg: 224x224 ANO 1.00, AB 0.00, AG 0.00, CQ 0.00, 5.5ms\n",
      "image 514/742 /home/esidserver/datasets/testing_cls/allin-test/Anopheles-InfinixS5-543-_jpg.rf.8d6a6111f6ca8f7440cc786f4bd00478.jpg: 224x224 ANO 1.00, CQ 0.00, AG 0.00, AB 0.00, 4.9ms\n",
      "image 515/742 /home/esidserver/datasets/testing_cls/allin-test/Anopheles-InfinixS5-552-_jpg.rf.60b551d8d047437d140ad3feb0c23976.jpg: 224x224 ANO 1.00, AB 0.00, CQ 0.00, AG 0.00, 5.0ms\n",
      "image 516/742 /home/esidserver/datasets/testing_cls/allin-test/Anopheles-InfinixS5-578-_jpg.rf.3dad372ec33ef9d44577e98ea9724530.jpg: 224x224 ANO 1.00, AG 0.00, CQ 0.00, AB 0.00, 5.0ms\n",
      "image 517/742 /home/esidserver/datasets/testing_cls/allin-test/Anopheles-InfinixS5-580-_jpg.rf.0dece18065c4c57d25464730b8944268.jpg: 224x224 ANO 1.00, AG 0.00, CQ 0.00, AB 0.00, 5.0ms\n",
      "image 518/742 /home/esidserver/datasets/testing_cls/allin-test/Anopheles-InfinixS5-588-_jpg.rf.921861dea0a211f6bfc0bd4b1ef1764d.jpg: 224x224 ANO 1.00, AG 0.00, CQ 0.00, AB 0.00, 5.0ms\n",
      "image 519/742 /home/esidserver/datasets/testing_cls/allin-test/Anopheles-InfinixS5-596-_jpg.rf.f6b251d0e084000ddfc8b14c0c52fe88.jpg: 224x224 ANO 1.00, CQ 0.00, AG 0.00, AB 0.00, 6.2ms\n",
      "image 520/742 /home/esidserver/datasets/testing_cls/allin-test/Anopheles-InfinixS5-603-_jpg.rf.32d4e2be837b7eea76e187ce464e8859.jpg: 224x224 ANO 1.00, AG 0.00, CQ 0.00, AB 0.00, 5.5ms\n",
      "image 521/742 /home/esidserver/datasets/testing_cls/allin-test/Anopheles-InfinixS5-641-_jpg.rf.f823ec2dbf3e63d2237796081542e788.jpg: 224x224 ANO 1.00, CQ 0.00, AB 0.00, AG 0.00, 5.1ms\n",
      "image 522/742 /home/esidserver/datasets/testing_cls/allin-test/Anopheles-InfinixS5-645-_jpg.rf.768cbaf6eaab98d6626fa2b7c7ad9e2c.jpg: 224x224 ANO 1.00, CQ 0.00, AB 0.00, AG 0.00, 5.5ms\n",
      "image 523/742 /home/esidserver/datasets/testing_cls/allin-test/Anopheles-InfinixS5-668-_jpg.rf.13f8a1e385cfd0244e7db4620793310a.jpg: 224x224 ANO 1.00, CQ 0.00, AG 0.00, AB 0.00, 5.2ms\n",
      "image 524/742 /home/esidserver/datasets/testing_cls/allin-test/Anopheles-InfinixS5-670-_jpg.rf.9089c8b31d3c754c57f23542dc9e78fa.jpg: 224x224 ANO 1.00, AG 0.00, AB 0.00, CQ 0.00, 5.4ms\n",
      "image 525/742 /home/esidserver/datasets/testing_cls/allin-test/Anopheles-InfinixS5-672-_jpg.rf.567c87f37ea2ceca2ed0aee405005867.jpg: 224x224 ANO 1.00, CQ 0.00, AG 0.00, AB 0.00, 5.2ms\n",
      "image 526/742 /home/esidserver/datasets/testing_cls/allin-test/Anopheles-InfinixS5-706-_jpg.rf.7df85bde81581aa5ce6c3cf992586c97.jpg: 224x224 ANO 1.00, CQ 0.00, AG 0.00, AB 0.00, 5.8ms\n",
      "image 527/742 /home/esidserver/datasets/testing_cls/allin-test/Anopheles-InfinixS5-713-_jpg.rf.43437b27b2ebcd0610b64afd09449c73.jpg: 224x224 ANO 1.00, CQ 0.00, AG 0.00, AB 0.00, 5.7ms\n",
      "image 528/742 /home/esidserver/datasets/testing_cls/allin-test/Anopheles-InfinixS5-723-_jpg.rf.0015e84c7ec6a035387bc6a804340cab.jpg: 224x224 ANO 1.00, AB 0.00, AG 0.00, CQ 0.00, 5.3ms\n",
      "image 529/742 /home/esidserver/datasets/testing_cls/allin-test/Anopheles-InfinixS5-725-_jpg.rf.7c10f087f16a436995764c40bd5658ab.jpg: 224x224 ANO 1.00, CQ 0.00, AG 0.00, AB 0.00, 5.0ms\n",
      "image 530/742 /home/esidserver/datasets/testing_cls/allin-test/Anopheles-InfinixS5-727-_jpg.rf.8a804170493601b06dc24646c744298a.jpg: 224x224 ANO 1.00, AB 0.00, CQ 0.00, AG 0.00, 5.1ms\n",
      "image 531/742 /home/esidserver/datasets/testing_cls/allin-test/Anopheles-InfinixS5-729-_jpg.rf.ac27abdfaa4db80c63f075beb6877c41.jpg: 224x224 ANO 1.00, AG 0.00, CQ 0.00, AB 0.00, 5.3ms\n",
      "image 532/742 /home/esidserver/datasets/testing_cls/allin-test/Anopheles-InfinixS5-733-_jpg.rf.d554196a1cf859cc7b331fa5827511fd.jpg: 224x224 ANO 1.00, CQ 0.00, AG 0.00, AB 0.00, 5.4ms\n",
      "image 533/742 /home/esidserver/datasets/testing_cls/allin-test/Anopheles-InfinixS5-74-_jpg.rf.eca8ddba439ceba45a1939839263858e.jpg: 224x224 ANO 1.00, CQ 0.00, AG 0.00, AB 0.00, 5.0ms\n",
      "image 534/742 /home/esidserver/datasets/testing_cls/allin-test/Anopheles-InfinixS5-742-_jpg.rf.165498df0d953576fbb7ea6debf10019.jpg: 224x224 ANO 1.00, CQ 0.00, AG 0.00, AB 0.00, 4.1ms\n",
      "image 535/742 /home/esidserver/datasets/testing_cls/allin-test/Anopheles-InfinixS5-748-_jpg.rf.f48028e4c52de19d1dbe894780ffb5c0.jpg: 224x224 ANO 1.00, CQ 0.00, AB 0.00, AG 0.00, 4.0ms\n",
      "image 536/742 /home/esidserver/datasets/testing_cls/allin-test/Anopheles-InfinixS5-753-_jpg.rf.c79d9188ee7621125b3497b756dffd76.jpg: 224x224 ANO 1.00, AG 0.00, CQ 0.00, AB 0.00, 4.6ms\n",
      "image 537/742 /home/esidserver/datasets/testing_cls/allin-test/Anopheles-InfinixS5-765-_jpg.rf.4b98bbc5224f4a9e9460d280d3dd37b8.jpg: 224x224 ANO 1.00, CQ 0.00, AG 0.00, AB 0.00, 4.8ms\n",
      "image 538/742 /home/esidserver/datasets/testing_cls/allin-test/Anopheles-InfinixS5-776-_jpg.rf.21dc39e0c08eb2d0abd0b366d6b2c5de.jpg: 224x224 ANO 1.00, AB 0.00, AG 0.00, CQ 0.00, 4.5ms\n",
      "image 539/742 /home/esidserver/datasets/testing_cls/allin-test/Anopheles-InfinixS5-81-_jpg.rf.ff93a81c3ecbf232b8fa286f6bc7c023.jpg: 224x224 ANO 1.00, AG 0.00, CQ 0.00, AB 0.00, 4.9ms\n",
      "image 540/742 /home/esidserver/datasets/testing_cls/allin-test/Anopheles-InfinixS5-817-_jpg.rf.97ed8a7c604f203861f604757ac611bd.jpg: 224x224 ANO 1.00, CQ 0.00, AG 0.00, AB 0.00, 5.1ms\n",
      "image 541/742 /home/esidserver/datasets/testing_cls/allin-test/Anopheles-InfinixS5-822-_jpg.rf.99f59245dd0c65236b2ce045a3e2a5c6.jpg: 224x224 ANO 1.00, AG 0.00, CQ 0.00, AB 0.00, 4.6ms\n",
      "image 542/742 /home/esidserver/datasets/testing_cls/allin-test/Anopheles-InfinixS5-83-_jpg.rf.ebeae387c8c64c9521a669d3c4c9846f.jpg: 224x224 ANO 1.00, AG 0.00, CQ 0.00, AB 0.00, 4.8ms\n",
      "image 543/742 /home/esidserver/datasets/testing_cls/allin-test/Anopheles-InfinixS5-850-_jpg.rf.708c6b79ed60fb30fdc84daae578bbbf.jpg: 224x224 ANO 1.00, CQ 0.00, AG 0.00, AB 0.00, 6.3ms\n",
      "image 544/742 /home/esidserver/datasets/testing_cls/allin-test/Anopheles-InfinixS5-853-_jpg.rf.a2b9c544c07b0dc96e02d1113b8d9baf.jpg: 224x224 ANO 1.00, AG 0.00, CQ 0.00, AB 0.00, 4.1ms\n",
      "image 545/742 /home/esidserver/datasets/testing_cls/allin-test/Anopheles-InfinixS5-86-_jpg.rf.b654fbe212add1fc730be3868300fdc2.jpg: 224x224 ANO 1.00, AG 0.00, CQ 0.00, AB 0.00, 4.1ms\n",
      "image 546/742 /home/esidserver/datasets/testing_cls/allin-test/Anopheles-InfinixS5-863-_jpg.rf.d450f83006d5c18d62d7bc74a644cb9e.jpg: 224x224 ANO 1.00, AG 0.00, CQ 0.00, AB 0.00, 4.0ms\n",
      "image 547/742 /home/esidserver/datasets/testing_cls/allin-test/Anopheles-InfinixS5-864-_jpg.rf.f67d9646fe7e181197b3fa114dbbdadd.jpg: 224x224 ANO 1.00, AG 0.00, CQ 0.00, AB 0.00, 4.2ms\n",
      "image 548/742 /home/esidserver/datasets/testing_cls/allin-test/Anopheles-InfinixS5-868-_jpg.rf.477afe705af78eaf3c6004dbb32cfa0c.jpg: 224x224 ANO 1.00, CQ 0.00, AG 0.00, AB 0.00, 4.1ms\n",
      "image 549/742 /home/esidserver/datasets/testing_cls/allin-test/Anopheles-InfinixS5-878-_jpg.rf.3e1e8bf42eb460c94f12742da4ef4fb3.jpg: 224x224 ANO 1.00, AG 0.00, CQ 0.00, AB 0.00, 4.1ms\n",
      "image 550/742 /home/esidserver/datasets/testing_cls/allin-test/Anopheles-InfinixS5-911-_jpg.rf.d113f41738f82ad21e3ea51406cf3529.jpg: 224x224 ANO 1.00, CQ 0.00, AG 0.00, AB 0.00, 4.3ms\n",
      "image 551/742 /home/esidserver/datasets/testing_cls/allin-test/Anopheles-InfinixS5-917-_jpg.rf.50dc016cd100c497bb200a7f7b026573.jpg: 224x224 ANO 1.00, CQ 0.00, AG 0.00, AB 0.00, 4.7ms\n",
      "image 552/742 /home/esidserver/datasets/testing_cls/allin-test/Anopheles-InfinixS5-935-_jpg.rf.97888b393d84994bfd08145c5315cc6e.jpg: 224x224 ANO 1.00, CQ 0.00, AG 0.00, AB 0.00, 4.6ms\n",
      "image 553/742 /home/esidserver/datasets/testing_cls/allin-test/Anopheles-InfinixS5-938-_jpg.rf.c899d0681a2653978e1fc174f38d7a30.jpg: 224x224 ANO 1.00, CQ 0.00, AG 0.00, AB 0.00, 5.2ms\n",
      "image 554/742 /home/esidserver/datasets/testing_cls/allin-test/Anopheles-InfinixS5-964-_jpg.rf.a1a71c7b28c1cca3fa56fc9cf26baaf4.jpg: 224x224 ANO 1.00, AG 0.00, CQ 0.00, AB 0.00, 4.0ms\n",
      "image 555/742 /home/esidserver/datasets/testing_cls/allin-test/Anopheles-InfinixS5-980-_jpg.rf.baa9529dab1765a6f3f391ee8c66f46a.jpg: 224x224 ANO 1.00, CQ 0.00, AG 0.00, AB 0.00, 4.5ms\n",
      "image 556/742 /home/esidserver/datasets/testing_cls/allin-test/Anopheles-InfinixS5-981-_jpg.rf.098629d38a3caaef25848e2072283377.jpg: 224x224 ANO 1.00, CQ 0.00, AG 0.00, AB 0.00, 5.2ms\n",
      "image 557/742 /home/esidserver/datasets/testing_cls/allin-test/Anopheles-InfinixS5-99-_jpg.rf.a564a679bceccf8b9889fd8cc9fa6dea.jpg: 224x224 ANO 1.00, CQ 0.00, AG 0.00, AB 0.00, 5.3ms\n",
      "image 558/742 /home/esidserver/datasets/testing_cls/allin-test/Anopheles-InfinixS5-991-_jpg.rf.cbf9b6a0ee1495b1850e0163c8708e76.jpg: 224x224 ANO 1.00, AG 0.00, CQ 0.00, AB 0.00, 5.3ms\n",
      "image 559/742 /home/esidserver/datasets/testing_cls/allin-test/CulexQuinquefasciatus-InfinixS5-10-_jpg.rf.d92110d37f7d234c93783a509a7f5010.jpg: 224x224 CQ 1.00, AG 0.00, AB 0.00, ANO 0.00, 5.4ms\n",
      "image 560/742 /home/esidserver/datasets/testing_cls/allin-test/CulexQuinquefasciatus-InfinixS5-1002-_jpg.rf.ae6d52ffcde94c806a78b491491d9c1d.jpg: 224x224 CQ 1.00, AB 0.00, AG 0.00, ANO 0.00, 5.3ms\n",
      "image 561/742 /home/esidserver/datasets/testing_cls/allin-test/CulexQuinquefasciatus-InfinixS5-1023-_jpg.rf.e38ebf55378f4a0be923f915bb3f94e0.jpg: 224x224 CQ 1.00, AG 0.00, ANO 0.00, AB 0.00, 5.1ms\n",
      "image 562/742 /home/esidserver/datasets/testing_cls/allin-test/CulexQuinquefasciatus-InfinixS5-1057-_jpg.rf.5827f6b84f35399a1afed5c03fe1846d.jpg: 224x224 CQ 1.00, AB 0.00, AG 0.00, ANO 0.00, 5.0ms\n",
      "image 563/742 /home/esidserver/datasets/testing_cls/allin-test/CulexQuinquefasciatus-InfinixS5-1060-_jpg.rf.f15c810ed8221aa5985b0092ee4837b9.jpg: 224x224 CQ 1.00, AG 0.00, AB 0.00, ANO 0.00, 4.6ms\n",
      "image 564/742 /home/esidserver/datasets/testing_cls/allin-test/CulexQuinquefasciatus-InfinixS5-1064-_jpg.rf.89e6090239465624222cea8899e614aa.jpg: 224x224 CQ 1.00, AG 0.00, AB 0.00, ANO 0.00, 4.6ms\n",
      "image 565/742 /home/esidserver/datasets/testing_cls/allin-test/CulexQuinquefasciatus-InfinixS5-1072-_jpg.rf.43f86d97d9f5a0a2c77c8471127cb3cf.jpg: 224x224 CQ 1.00, AB 0.00, AG 0.00, ANO 0.00, 4.5ms\n",
      "image 566/742 /home/esidserver/datasets/testing_cls/allin-test/CulexQuinquefasciatus-InfinixS5-1075-_jpg.rf.1e95e9adffe3df697e4720ee7b64d964.jpg: 224x224 CQ 1.00, AG 0.00, ANO 0.00, AB 0.00, 5.4ms\n",
      "image 567/742 /home/esidserver/datasets/testing_cls/allin-test/CulexQuinquefasciatus-InfinixS5-1082-_jpg.rf.c140e46da08a76595454f1a2d1a4dedd.jpg: 224x224 CQ 1.00, AG 0.00, AB 0.00, ANO 0.00, 5.2ms\n",
      "image 568/742 /home/esidserver/datasets/testing_cls/allin-test/CulexQuinquefasciatus-InfinixS5-1084-_jpg.rf.e921033089432370c49a33d4c048ce10.jpg: 224x224 CQ 1.00, AG 0.00, AB 0.00, ANO 0.00, 6.9ms\n",
      "image 569/742 /home/esidserver/datasets/testing_cls/allin-test/CulexQuinquefasciatus-InfinixS5-1086-_jpg.rf.da62f76e5e59aa255924dfed3c215f94.jpg: 224x224 CQ 1.00, AG 0.00, AB 0.00, ANO 0.00, 7.0ms\n",
      "image 570/742 /home/esidserver/datasets/testing_cls/allin-test/CulexQuinquefasciatus-InfinixS5-1113-_jpg.rf.0ad71ebf2c65b05aae9f29e165973ae1.jpg: 224x224 CQ 1.00, AB 0.00, AG 0.00, ANO 0.00, 5.7ms\n",
      "image 571/742 /home/esidserver/datasets/testing_cls/allin-test/CulexQuinquefasciatus-InfinixS5-1129-_jpg.rf.22ab383da6f5d1b8445263fab0ca5d7e.jpg: 224x224 AG 0.86, CQ 0.14, ANO 0.00, AB 0.00, 6.3ms\n",
      "image 572/742 /home/esidserver/datasets/testing_cls/allin-test/CulexQuinquefasciatus-InfinixS5-1146-_jpg.rf.e1622cca64b92515c9cb48094d4b3194.jpg: 224x224 CQ 1.00, AB 0.00, AG 0.00, ANO 0.00, 5.3ms\n",
      "image 573/742 /home/esidserver/datasets/testing_cls/allin-test/CulexQuinquefasciatus-InfinixS5-117-_jpg.rf.5dbc04073cb315473993ce1c7afa8cc4.jpg: 224x224 CQ 1.00, AG 0.00, ANO 0.00, AB 0.00, 4.6ms\n",
      "image 574/742 /home/esidserver/datasets/testing_cls/allin-test/CulexQuinquefasciatus-InfinixS5-1171-_jpg.rf.0e2c333ded15cbfede739a012628daef.jpg: 224x224 CQ 1.00, AG 0.00, ANO 0.00, AB 0.00, 5.1ms\n",
      "image 575/742 /home/esidserver/datasets/testing_cls/allin-test/CulexQuinquefasciatus-InfinixS5-1184-_jpg.rf.32f1875f5f332d619d4a9b2efe321c8d.jpg: 224x224 CQ 1.00, AG 0.00, AB 0.00, ANO 0.00, 4.9ms\n",
      "image 576/742 /home/esidserver/datasets/testing_cls/allin-test/CulexQuinquefasciatus-InfinixS5-1185-_jpg.rf.83819f57672530018b3c312fa533577e.jpg: 224x224 CQ 1.00, AG 0.00, AB 0.00, ANO 0.00, 4.9ms\n",
      "image 577/742 /home/esidserver/datasets/testing_cls/allin-test/CulexQuinquefasciatus-InfinixS5-1194-_jpg.rf.fdd951c497101aac25d37bbc3a99ee7b.jpg: 224x224 CQ 1.00, AB 0.00, AG 0.00, ANO 0.00, 5.4ms\n",
      "image 578/742 /home/esidserver/datasets/testing_cls/allin-test/CulexQuinquefasciatus-InfinixS5-1213-_jpg.rf.3879889cd6bdbb04bf2431db500f9394.jpg: 224x224 CQ 1.00, AG 0.00, AB 0.00, ANO 0.00, 5.6ms\n",
      "image 579/742 /home/esidserver/datasets/testing_cls/allin-test/CulexQuinquefasciatus-InfinixS5-1222-_jpg.rf.60bf1305087f235c32a37445fd9bd1e5.jpg: 224x224 CQ 1.00, AB 0.00, AG 0.00, ANO 0.00, 5.8ms\n",
      "image 580/742 /home/esidserver/datasets/testing_cls/allin-test/CulexQuinquefasciatus-InfinixS5-1226-_jpg.rf.d168762bc784c68844055bf315b29b41.jpg: 224x224 CQ 1.00, AG 0.00, ANO 0.00, AB 0.00, 6.0ms\n",
      "image 581/742 /home/esidserver/datasets/testing_cls/allin-test/CulexQuinquefasciatus-InfinixS5-1228-_jpg.rf.bfd74f80ce419c1f4d2bd90132fb3f42.jpg: 224x224 CQ 1.00, AG 0.00, AB 0.00, ANO 0.00, 5.3ms\n",
      "image 582/742 /home/esidserver/datasets/testing_cls/allin-test/CulexQuinquefasciatus-InfinixS5-1232-_jpg.rf.268a65a7d24a1de8d8ac413c73c184e1.jpg: 224x224 CQ 1.00, AG 0.00, AB 0.00, ANO 0.00, 4.6ms\n",
      "image 583/742 /home/esidserver/datasets/testing_cls/allin-test/CulexQuinquefasciatus-InfinixS5-124-_jpg.rf.7db7843f769c60f0f8e8b140e3f9e7e2.jpg: 224x224 CQ 1.00, ANO 0.00, AG 0.00, AB 0.00, 4.6ms\n",
      "image 584/742 /home/esidserver/datasets/testing_cls/allin-test/CulexQuinquefasciatus-InfinixS5-1244-_jpg.rf.86ff523f0770075c809f1e633bc65b33.jpg: 224x224 CQ 1.00, AG 0.00, AB 0.00, ANO 0.00, 5.0ms\n",
      "image 585/742 /home/esidserver/datasets/testing_cls/allin-test/CulexQuinquefasciatus-InfinixS5-1257-_jpg.rf.b9fe98099b25f768b1dda94ae083905d.jpg: 224x224 CQ 0.99, AB 0.00, ANO 0.00, AG 0.00, 4.9ms\n",
      "image 586/742 /home/esidserver/datasets/testing_cls/allin-test/CulexQuinquefasciatus-InfinixS5-1264-_jpg.rf.3da3ccd47c88dd53def95d0c672b98ce.jpg: 224x224 CQ 1.00, AB 0.00, AG 0.00, ANO 0.00, 4.8ms\n",
      "image 587/742 /home/esidserver/datasets/testing_cls/allin-test/CulexQuinquefasciatus-InfinixS5-1292-_jpg.rf.681b005b4e979eaffa79457596a5a93b.jpg: 224x224 CQ 1.00, ANO 0.00, AB 0.00, AG 0.00, 5.4ms\n",
      "image 588/742 /home/esidserver/datasets/testing_cls/allin-test/CulexQuinquefasciatus-InfinixS5-13-_jpg.rf.84afbe7fe5e641974433bb45034b4814.jpg: 224x224 CQ 1.00, AB 0.00, AG 0.00, ANO 0.00, 4.9ms\n",
      "image 589/742 /home/esidserver/datasets/testing_cls/allin-test/CulexQuinquefasciatus-InfinixS5-130-_jpg.rf.423cd64a494d2a1306f8aaf3525ffd9c.jpg: 224x224 CQ 1.00, AG 0.00, ANO 0.00, AB 0.00, 4.8ms\n",
      "image 590/742 /home/esidserver/datasets/testing_cls/allin-test/CulexQuinquefasciatus-InfinixS5-1305-_jpg.rf.7f4193f58805ffd3c7195ae11b3f220a.jpg: 224x224 CQ 1.00, AG 0.00, AB 0.00, ANO 0.00, 5.4ms\n",
      "image 591/742 /home/esidserver/datasets/testing_cls/allin-test/CulexQuinquefasciatus-InfinixS5-1309-_jpg.rf.e5ab0a8d3fd089e478f061659b3c2d94.jpg: 224x224 CQ 1.00, AG 0.00, AB 0.00, ANO 0.00, 5.0ms\n",
      "image 592/742 /home/esidserver/datasets/testing_cls/allin-test/CulexQuinquefasciatus-InfinixS5-1312-_jpg.rf.27cf08e881abf39ace415b561190d92f.jpg: 224x224 CQ 1.00, AB 0.00, AG 0.00, ANO 0.00, 5.0ms\n",
      "image 593/742 /home/esidserver/datasets/testing_cls/allin-test/CulexQuinquefasciatus-InfinixS5-1313-_jpg.rf.ba37c6cda16a3e30d3131080392e066e.jpg: 224x224 CQ 1.00, AG 0.00, ANO 0.00, AB 0.00, 5.0ms\n",
      "image 594/742 /home/esidserver/datasets/testing_cls/allin-test/CulexQuinquefasciatus-InfinixS5-1320-_jpg.rf.44b4d79936d772cb3f40b8f501c583bc.jpg: 224x224 CQ 1.00, ANO 0.00, AB 0.00, AG 0.00, 4.9ms\n",
      "image 595/742 /home/esidserver/datasets/testing_cls/allin-test/CulexQuinquefasciatus-InfinixS5-1321-_jpg.rf.0d16aa3499c629dc8d07457918455514.jpg: 224x224 CQ 1.00, ANO 0.00, AB 0.00, AG 0.00, 4.8ms\n",
      "image 596/742 /home/esidserver/datasets/testing_cls/allin-test/CulexQuinquefasciatus-InfinixS5-1327-_jpg.rf.ccc8b71691cc4756d783fb4f170b6eee.jpg: 224x224 CQ 1.00, AG 0.00, AB 0.00, ANO 0.00, 4.9ms\n",
      "image 597/742 /home/esidserver/datasets/testing_cls/allin-test/CulexQuinquefasciatus-InfinixS5-1348-_jpg.rf.98fa7b3c4fc03a84515e5dc016e7dd72.jpg: 224x224 CQ 1.00, AG 0.00, AB 0.00, ANO 0.00, 4.9ms\n",
      "image 598/742 /home/esidserver/datasets/testing_cls/allin-test/CulexQuinquefasciatus-InfinixS5-1351-_jpg.rf.0369e90b4e51fa7bd60d83303e597a25.jpg: 224x224 CQ 1.00, AB 0.00, AG 0.00, ANO 0.00, 4.9ms\n",
      "image 599/742 /home/esidserver/datasets/testing_cls/allin-test/CulexQuinquefasciatus-InfinixS5-1357-_jpg.rf.1bd07d008a01c01498e99d5a13356c98.jpg: 224x224 CQ 1.00, AB 0.00, AG 0.00, ANO 0.00, 4.9ms\n",
      "image 600/742 /home/esidserver/datasets/testing_cls/allin-test/CulexQuinquefasciatus-InfinixS5-1359-_jpg.rf.f8351954185445b5d1fa583fa5448b7a.jpg: 224x224 CQ 1.00, AB 0.00, AG 0.00, ANO 0.00, 4.9ms\n",
      "image 601/742 /home/esidserver/datasets/testing_cls/allin-test/CulexQuinquefasciatus-InfinixS5-1361-_jpg.rf.32a09f20b2b80e4e0c9263f1d4cded16.jpg: 224x224 CQ 1.00, AG 0.00, AB 0.00, ANO 0.00, 5.0ms\n",
      "image 602/742 /home/esidserver/datasets/testing_cls/allin-test/CulexQuinquefasciatus-InfinixS5-1363-_jpg.rf.87f4a1559fee3102935147812242c4b0.jpg: 224x224 CQ 1.00, AB 0.00, AG 0.00, ANO 0.00, 5.5ms\n",
      "image 603/742 /home/esidserver/datasets/testing_cls/allin-test/CulexQuinquefasciatus-InfinixS5-1365-_jpg.rf.f87090fb5aef897cb35b07c79c554bd4.jpg: 224x224 CQ 1.00, AB 0.00, AG 0.00, ANO 0.00, 5.3ms\n",
      "image 604/742 /home/esidserver/datasets/testing_cls/allin-test/CulexQuinquefasciatus-InfinixS5-1383-_jpg.rf.602901c0881b48d110e9d50037e08cff.jpg: 224x224 CQ 1.00, AG 0.00, AB 0.00, ANO 0.00, 4.7ms\n",
      "image 605/742 /home/esidserver/datasets/testing_cls/allin-test/CulexQuinquefasciatus-InfinixS5-1395-_jpg.rf.55d91967e5487625265ead9c7b28eb34.jpg: 224x224 CQ 1.00, AG 0.00, ANO 0.00, AB 0.00, 6.4ms\n",
      "image 606/742 /home/esidserver/datasets/testing_cls/allin-test/CulexQuinquefasciatus-InfinixS5-1432-_jpg.rf.d3d225e79dc4e415bd64a83204a4b24d.jpg: 224x224 CQ 1.00, AB 0.00, ANO 0.00, AG 0.00, 5.8ms\n",
      "image 607/742 /home/esidserver/datasets/testing_cls/allin-test/CulexQuinquefasciatus-InfinixS5-1436-_jpg.rf.0a724dee5e7024ed6b280d5929912bd4.jpg: 224x224 CQ 1.00, AG 0.00, AB 0.00, ANO 0.00, 5.0ms\n",
      "image 608/742 /home/esidserver/datasets/testing_cls/allin-test/CulexQuinquefasciatus-InfinixS5-144-_jpg.rf.92ba6f6280a6d27054f46725ae01f56c.jpg: 224x224 CQ 1.00, AG 0.00, AB 0.00, ANO 0.00, 5.2ms\n",
      "image 609/742 /home/esidserver/datasets/testing_cls/allin-test/CulexQuinquefasciatus-InfinixS5-1440-_jpg.rf.2f65e4c82309d37aa5d20f6b332a1f6e.jpg: 224x224 CQ 1.00, AB 0.00, AG 0.00, ANO 0.00, 5.0ms\n",
      "image 610/742 /home/esidserver/datasets/testing_cls/allin-test/CulexQuinquefasciatus-InfinixS5-1467-_jpg.rf.763483dcec71dbb447bd831813cf37f6.jpg: 224x224 CQ 1.00, AG 0.00, AB 0.00, ANO 0.00, 6.2ms\n",
      "image 611/742 /home/esidserver/datasets/testing_cls/allin-test/CulexQuinquefasciatus-InfinixS5-16-_jpg.rf.4bdb1446759710955d55e230443a296d.jpg: 224x224 CQ 1.00, AG 0.00, AB 0.00, ANO 0.00, 5.3ms\n",
      "image 612/742 /home/esidserver/datasets/testing_cls/allin-test/CulexQuinquefasciatus-InfinixS5-168-_jpg.rf.24865986f0d76b060c3b75286bef3e14.jpg: 224x224 CQ 1.00, AG 0.00, AB 0.00, ANO 0.00, 5.4ms\n",
      "image 613/742 /home/esidserver/datasets/testing_cls/allin-test/CulexQuinquefasciatus-InfinixS5-170-_jpg.rf.d6355bfed18231474dd8ac11664ab543.jpg: 224x224 CQ 1.00, ANO 0.00, AB 0.00, AG 0.00, 5.2ms\n",
      "image 614/742 /home/esidserver/datasets/testing_cls/allin-test/CulexQuinquefasciatus-InfinixS5-172-_jpg.rf.557058fff18ccf2c0deaa4aa1fa457f5.jpg: 224x224 CQ 1.00, AB 0.00, ANO 0.00, AG 0.00, 5.7ms\n",
      "image 615/742 /home/esidserver/datasets/testing_cls/allin-test/CulexQuinquefasciatus-InfinixS5-174-_jpg.rf.81906c9fa9dfbe7eff5dd0421f878ade.jpg: 224x224 CQ 0.99, AG 0.01, AB 0.00, ANO 0.00, 5.4ms\n",
      "image 616/742 /home/esidserver/datasets/testing_cls/allin-test/CulexQuinquefasciatus-InfinixS5-175-_jpg.rf.f0ec9b654ec6bb0126301e3e3f03048c.jpg: 224x224 CQ 0.98, AB 0.01, AG 0.01, ANO 0.00, 5.0ms\n",
      "image 617/742 /home/esidserver/datasets/testing_cls/allin-test/CulexQuinquefasciatus-InfinixS5-177-_jpg.rf.31b228980cd6f1659cc4fe4d876ea258.jpg: 224x224 CQ 0.98, AG 0.01, AB 0.01, ANO 0.00, 5.1ms\n",
      "image 618/742 /home/esidserver/datasets/testing_cls/allin-test/CulexQuinquefasciatus-InfinixS5-190-_jpg.rf.21146ab4a54103058fbc40747f1e28a6.jpg: 224x224 CQ 1.00, AG 0.00, AB 0.00, ANO 0.00, 5.1ms\n",
      "image 619/742 /home/esidserver/datasets/testing_cls/allin-test/CulexQuinquefasciatus-InfinixS5-194-_jpg.rf.1e4999ba84dd70be82185f6137234cb2.jpg: 224x224 CQ 1.00, AB 0.00, AG 0.00, ANO 0.00, 5.1ms\n",
      "image 620/742 /home/esidserver/datasets/testing_cls/allin-test/CulexQuinquefasciatus-InfinixS5-196-_jpg.rf.a0146c4a96058713536355aebc2c9a61.jpg: 224x224 CQ 1.00, AG 0.00, AB 0.00, ANO 0.00, 5.0ms\n",
      "image 621/742 /home/esidserver/datasets/testing_cls/allin-test/CulexQuinquefasciatus-InfinixS5-20-_jpg.rf.658a1371e4468e87eb9e4f0afda12328.jpg: 224x224 CQ 1.00, AG 0.00, AB 0.00, ANO 0.00, 4.9ms\n",
      "image 622/742 /home/esidserver/datasets/testing_cls/allin-test/CulexQuinquefasciatus-InfinixS5-203-_jpg.rf.4e4fe7741741e5504debd7f78215c86c.jpg: 224x224 CQ 1.00, AG 0.00, AB 0.00, ANO 0.00, 4.9ms\n",
      "image 623/742 /home/esidserver/datasets/testing_cls/allin-test/CulexQuinquefasciatus-InfinixS5-212-_jpg.rf.96310c87e8a451ed34f0be37cff1a70b.jpg: 224x224 CQ 1.00, AG 0.00, AB 0.00, ANO 0.00, 5.7ms\n",
      "image 624/742 /home/esidserver/datasets/testing_cls/allin-test/CulexQuinquefasciatus-InfinixS5-218-_jpg.rf.7a6fe4674fe02e93056c6ad3f1127eb0.jpg: 224x224 CQ 1.00, ANO 0.00, AG 0.00, AB 0.00, 5.7ms\n",
      "image 625/742 /home/esidserver/datasets/testing_cls/allin-test/CulexQuinquefasciatus-InfinixS5-225-_jpg.rf.6a1afed619768897ec3261e8dd4ffc68.jpg: 224x224 CQ 1.00, AG 0.00, ANO 0.00, AB 0.00, 5.6ms\n",
      "image 626/742 /home/esidserver/datasets/testing_cls/allin-test/CulexQuinquefasciatus-InfinixS5-232-_jpg.rf.5427d0ecedbd3464c1b650a3f489ecac.jpg: 224x224 CQ 0.96, AB 0.04, AG 0.00, ANO 0.00, 4.9ms\n",
      "image 627/742 /home/esidserver/datasets/testing_cls/allin-test/CulexQuinquefasciatus-InfinixS5-236-_jpg.rf.412b43289175cef52947899e8df86d49.jpg: 224x224 CQ 1.00, AB 0.00, AG 0.00, ANO 0.00, 5.4ms\n",
      "image 628/742 /home/esidserver/datasets/testing_cls/allin-test/CulexQuinquefasciatus-InfinixS5-238-_jpg.rf.29329f41f96d86f9ec3397a14cac3804.jpg: 224x224 CQ 0.92, AG 0.08, AB 0.00, ANO 0.00, 5.2ms\n",
      "image 629/742 /home/esidserver/datasets/testing_cls/allin-test/CulexQuinquefasciatus-InfinixS5-26-_jpg.rf.fd8acd054451363f56907daeabc83abb.jpg: 224x224 CQ 1.00, AB 0.00, AG 0.00, ANO 0.00, 5.2ms\n",
      "image 630/742 /home/esidserver/datasets/testing_cls/allin-test/CulexQuinquefasciatus-InfinixS5-261-_jpg.rf.5569aff9bd5248ff285e74f226a54666.jpg: 224x224 CQ 1.00, AG 0.00, AB 0.00, ANO 0.00, 5.1ms\n",
      "image 631/742 /home/esidserver/datasets/testing_cls/allin-test/CulexQuinquefasciatus-InfinixS5-269-_jpg.rf.9c1c062436fd0ba6784785bea3124821.jpg: 224x224 CQ 0.87, AG 0.13, AB 0.00, ANO 0.00, 4.9ms\n",
      "image 632/742 /home/esidserver/datasets/testing_cls/allin-test/CulexQuinquefasciatus-InfinixS5-285-_jpg.rf.5ca7214363cab43b061c7e77d45b70ff.jpg: 224x224 CQ 1.00, AG 0.00, ANO 0.00, AB 0.00, 4.9ms\n",
      "image 633/742 /home/esidserver/datasets/testing_cls/allin-test/CulexQuinquefasciatus-InfinixS5-29-_jpg.rf.fb567e635ecc22dc34273e0ebb0e1744.jpg: 224x224 CQ 1.00, AB 0.00, AG 0.00, ANO 0.00, 4.9ms\n",
      "image 634/742 /home/esidserver/datasets/testing_cls/allin-test/CulexQuinquefasciatus-InfinixS5-291-_jpg.rf.2ee5166acdae3c7ea19b6e3ab9a8a745.jpg: 224x224 CQ 1.00, AG 0.00, AB 0.00, ANO 0.00, 4.9ms\n",
      "image 635/742 /home/esidserver/datasets/testing_cls/allin-test/CulexQuinquefasciatus-InfinixS5-30-_jpg.rf.1a7b5c7e8d616ccbb86dad6c41b22fd9.jpg: 224x224 CQ 1.00, AB 0.00, AG 0.00, ANO 0.00, 4.9ms\n",
      "image 636/742 /home/esidserver/datasets/testing_cls/allin-test/CulexQuinquefasciatus-InfinixS5-300-_jpg.rf.42c34809de1ca13b960a94ee40aa58a6.jpg: 224x224 CQ 0.99, AG 0.01, AB 0.00, ANO 0.00, 4.9ms\n",
      "image 637/742 /home/esidserver/datasets/testing_cls/allin-test/CulexQuinquefasciatus-InfinixS5-304-_jpg.rf.a9936204cf01f3db6248568f809770df.jpg: 224x224 CQ 1.00, AG 0.00, ANO 0.00, AB 0.00, 5.0ms\n",
      "image 638/742 /home/esidserver/datasets/testing_cls/allin-test/CulexQuinquefasciatus-InfinixS5-307-_jpg.rf.1410f21a2c211da604178e40c7793d49.jpg: 224x224 CQ 1.00, AG 0.00, ANO 0.00, AB 0.00, 4.9ms\n",
      "image 639/742 /home/esidserver/datasets/testing_cls/allin-test/CulexQuinquefasciatus-InfinixS5-316-_jpg.rf.ad7524b9a8f8c7963a9f4e91929611f9.jpg: 224x224 CQ 1.00, ANO 0.00, AG 0.00, AB 0.00, 6.0ms\n",
      "image 640/742 /home/esidserver/datasets/testing_cls/allin-test/CulexQuinquefasciatus-InfinixS5-336-_jpg.rf.f2301bbec43bec4810bc2627a940a015.jpg: 224x224 CQ 1.00, AB 0.00, AG 0.00, ANO 0.00, 5.9ms\n",
      "image 641/742 /home/esidserver/datasets/testing_cls/allin-test/CulexQuinquefasciatus-InfinixS5-337-_jpg.rf.fa4ae9339b5a3ad831543eff7a0b372b.jpg: 224x224 CQ 1.00, AB 0.00, AG 0.00, ANO 0.00, 4.8ms\n",
      "image 642/742 /home/esidserver/datasets/testing_cls/allin-test/CulexQuinquefasciatus-InfinixS5-338-_jpg.rf.59e5b0f947cfa4e1b8c0586b4d77220d.jpg: 224x224 CQ 0.96, AB 0.03, ANO 0.01, AG 0.00, 4.9ms\n",
      "image 643/742 /home/esidserver/datasets/testing_cls/allin-test/CulexQuinquefasciatus-InfinixS5-342-_jpg.rf.1b3fa7c00d9fc2284345c8f81e5fbea0.jpg: 224x224 CQ 1.00, AB 0.00, AG 0.00, ANO 0.00, 5.2ms\n",
      "image 644/742 /home/esidserver/datasets/testing_cls/allin-test/CulexQuinquefasciatus-InfinixS5-347-_jpg.rf.f5ac090cd34fbbf3c75f10f31ac9adae.jpg: 224x224 CQ 1.00, AB 0.00, ANO 0.00, AG 0.00, 4.9ms\n",
      "image 645/742 /home/esidserver/datasets/testing_cls/allin-test/CulexQuinquefasciatus-InfinixS5-350-_jpg.rf.8bb648b93a95d7ec0f6b5ec4d1a586bd.jpg: 224x224 CQ 1.00, AB 0.00, AG 0.00, ANO 0.00, 4.9ms\n",
      "image 646/742 /home/esidserver/datasets/testing_cls/allin-test/CulexQuinquefasciatus-InfinixS5-353-_jpg.rf.050f4b87eb029961fa7b68d651b78d5f.jpg: 224x224 CQ 1.00, AG 0.00, AB 0.00, ANO 0.00, 5.7ms\n",
      "image 647/742 /home/esidserver/datasets/testing_cls/allin-test/CulexQuinquefasciatus-InfinixS5-391-_jpg.rf.815f405add58b2161e9929cddbe3cdce.jpg: 224x224 CQ 0.99, AG 0.00, AB 0.00, ANO 0.00, 5.3ms\n",
      "image 648/742 /home/esidserver/datasets/testing_cls/allin-test/CulexQuinquefasciatus-InfinixS5-399-_jpg.rf.d3bde15c1a570e0fbc03270467d943d1.jpg: 224x224 CQ 1.00, AB 0.00, AG 0.00, ANO 0.00, 4.9ms\n",
      "image 649/742 /home/esidserver/datasets/testing_cls/allin-test/CulexQuinquefasciatus-InfinixS5-423-_jpg.rf.ac543cf96d810505e6e98cf40c1d7fa4.jpg: 224x224 CQ 1.00, AG 0.00, AB 0.00, ANO 0.00, 5.1ms\n",
      "image 650/742 /home/esidserver/datasets/testing_cls/allin-test/CulexQuinquefasciatus-InfinixS5-425-_jpg.rf.a3d9b18cda202240d440fe9ecf8141b5.jpg: 224x224 CQ 1.00, AG 0.00, AB 0.00, ANO 0.00, 5.9ms\n",
      "image 651/742 /home/esidserver/datasets/testing_cls/allin-test/CulexQuinquefasciatus-InfinixS5-429-_jpg.rf.b80e25306259e7ecd8f6815536ea8592.jpg: 224x224 CQ 1.00, AB 0.00, AG 0.00, ANO 0.00, 6.4ms\n",
      "image 652/742 /home/esidserver/datasets/testing_cls/allin-test/CulexQuinquefasciatus-InfinixS5-440-_jpg.rf.900aefb7ca40ad12389caf5e1f9d00b9.jpg: 224x224 CQ 0.99, AG 0.01, ANO 0.00, AB 0.00, 5.1ms\n",
      "image 653/742 /home/esidserver/datasets/testing_cls/allin-test/CulexQuinquefasciatus-InfinixS5-455-_jpg.rf.164642061f080059525d2e8375ecdc67.jpg: 224x224 CQ 1.00, AG 0.00, AB 0.00, ANO 0.00, 5.4ms\n",
      "image 654/742 /home/esidserver/datasets/testing_cls/allin-test/CulexQuinquefasciatus-InfinixS5-48-_jpg.rf.a92784421c36e382533c00145aa9cf0d.jpg: 224x224 CQ 1.00, ANO 0.00, AG 0.00, AB 0.00, 5.3ms\n",
      "image 655/742 /home/esidserver/datasets/testing_cls/allin-test/CulexQuinquefasciatus-InfinixS5-483-_jpg.rf.02e4b88a7724378204d646e85feec4aa.jpg: 224x224 CQ 1.00, AB 0.00, AG 0.00, ANO 0.00, 5.8ms\n",
      "image 656/742 /home/esidserver/datasets/testing_cls/allin-test/CulexQuinquefasciatus-InfinixS5-490-_jpg.rf.b64045384c5227ec6a42718f3259a029.jpg: 224x224 CQ 1.00, AB 0.00, ANO 0.00, AG 0.00, 6.4ms\n",
      "image 657/742 /home/esidserver/datasets/testing_cls/allin-test/CulexQuinquefasciatus-InfinixS5-51-_jpg.rf.20cd87eeb0b7eddda5b305709c61636e.jpg: 224x224 CQ 1.00, AG 0.00, ANO 0.00, AB 0.00, 5.1ms\n",
      "image 658/742 /home/esidserver/datasets/testing_cls/allin-test/CulexQuinquefasciatus-InfinixS5-513-_jpg.rf.961bff7143eefcaf076b9fc4a2d0f4c1.jpg: 224x224 CQ 0.99, AG 0.01, ANO 0.00, AB 0.00, 4.5ms\n",
      "image 659/742 /home/esidserver/datasets/testing_cls/allin-test/CulexQuinquefasciatus-InfinixS5-515-_jpg.rf.af7de700008f0e3fc67b181077cfbd47.jpg: 224x224 CQ 1.00, AB 0.00, AG 0.00, ANO 0.00, 4.6ms\n",
      "image 660/742 /home/esidserver/datasets/testing_cls/allin-test/CulexQuinquefasciatus-InfinixS5-519-_jpg.rf.de45894bfe9b032638804430ac9d5c8b.jpg: 224x224 CQ 0.76, AG 0.23, AB 0.00, ANO 0.00, 4.7ms\n",
      "image 661/742 /home/esidserver/datasets/testing_cls/allin-test/CulexQuinquefasciatus-InfinixS5-523-_jpg.rf.cb0f9d8c79ee07a85ed62aa178c86a32.jpg: 224x224 CQ 1.00, AG 0.00, ANO 0.00, AB 0.00, 4.8ms\n",
      "image 662/742 /home/esidserver/datasets/testing_cls/allin-test/CulexQuinquefasciatus-InfinixS5-534-_jpg.rf.37ef83e552cdb655a3d32223224b7415.jpg: 224x224 CQ 0.96, AG 0.03, ANO 0.01, AB 0.00, 4.7ms\n",
      "image 663/742 /home/esidserver/datasets/testing_cls/allin-test/CulexQuinquefasciatus-InfinixS5-538-_jpg.rf.52fe19fb1e2c443ae5706014674ea6fa.jpg: 224x224 CQ 1.00, AB 0.00, AG 0.00, ANO 0.00, 4.8ms\n",
      "image 664/742 /home/esidserver/datasets/testing_cls/allin-test/CulexQuinquefasciatus-InfinixS5-539-_jpg.rf.4f8a9814fbad0a2c43b4690a520c34f3.jpg: 224x224 CQ 1.00, AG 0.00, ANO 0.00, AB 0.00, 4.8ms\n",
      "image 665/742 /home/esidserver/datasets/testing_cls/allin-test/CulexQuinquefasciatus-InfinixS5-548-_jpg.rf.25f7403341f693117add3d1e3a47c15a.jpg: 224x224 CQ 1.00, AB 0.00, AG 0.00, ANO 0.00, 5.0ms\n",
      "image 666/742 /home/esidserver/datasets/testing_cls/allin-test/CulexQuinquefasciatus-InfinixS5-577-_jpg.rf.b641fb6ecd4c0c915d4c31004f7640dc.jpg: 224x224 CQ 1.00, AG 0.00, AB 0.00, ANO 0.00, 3.9ms\n",
      "image 667/742 /home/esidserver/datasets/testing_cls/allin-test/CulexQuinquefasciatus-InfinixS5-578-_jpg.rf.1bcacb3451ddc26d0ce8352a06bbfcd7.jpg: 224x224 CQ 1.00, AG 0.00, ANO 0.00, AB 0.00, 5.7ms\n",
      "image 668/742 /home/esidserver/datasets/testing_cls/allin-test/CulexQuinquefasciatus-InfinixS5-585-_jpg.rf.0f6f447e69befb17e5c546f869e102c2.jpg: 224x224 CQ 1.00, AB 0.00, AG 0.00, ANO 0.00, 6.6ms\n",
      "image 669/742 /home/esidserver/datasets/testing_cls/allin-test/CulexQuinquefasciatus-InfinixS5-60-_jpg.rf.2ce2131d133958cf4d1a85ce692b63d5.jpg: 224x224 CQ 1.00, AG 0.00, ANO 0.00, AB 0.00, 6.7ms\n",
      "image 670/742 /home/esidserver/datasets/testing_cls/allin-test/CulexQuinquefasciatus-InfinixS5-612-_jpg.rf.e84101364eae6d532921aac079495d85.jpg: 224x224 CQ 1.00, AB 0.00, ANO 0.00, AG 0.00, 6.5ms\n",
      "image 671/742 /home/esidserver/datasets/testing_cls/allin-test/CulexQuinquefasciatus-InfinixS5-620-_jpg.rf.f43b4ba0304cd95502769c1cf1680844.jpg: 224x224 CQ 1.00, AG 0.00, AB 0.00, ANO 0.00, 6.7ms\n",
      "image 672/742 /home/esidserver/datasets/testing_cls/allin-test/CulexQuinquefasciatus-InfinixS5-622-_jpg.rf.8b53c761b0b1d38d0e6f5b7377142cd2.jpg: 224x224 CQ 0.97, AB 0.02, ANO 0.01, AG 0.00, 4.9ms\n",
      "image 673/742 /home/esidserver/datasets/testing_cls/allin-test/CulexQuinquefasciatus-InfinixS5-625-_jpg.rf.9d72d2a91b9abc5d193b2a54fc8525b2.jpg: 224x224 CQ 0.95, AB 0.04, AG 0.01, ANO 0.00, 4.5ms\n",
      "image 674/742 /home/esidserver/datasets/testing_cls/allin-test/CulexQuinquefasciatus-InfinixS5-668-_jpg.rf.818b14ab1bc1a1609cecc0ade84061d1.jpg: 224x224 CQ 1.00, AG 0.00, AB 0.00, ANO 0.00, 4.5ms\n",
      "image 675/742 /home/esidserver/datasets/testing_cls/allin-test/CulexQuinquefasciatus-InfinixS5-67-_jpg.rf.3b58d09ca632c4dc0857aefefd87319e.jpg: 224x224 CQ 1.00, AB 0.00, ANO 0.00, AG 0.00, 4.5ms\n",
      "image 676/742 /home/esidserver/datasets/testing_cls/allin-test/CulexQuinquefasciatus-InfinixS5-672-_jpg.rf.8068c30c2420048a39d92b2e482c7174.jpg: 224x224 CQ 1.00, AG 0.00, AB 0.00, ANO 0.00, 4.4ms\n",
      "image 677/742 /home/esidserver/datasets/testing_cls/allin-test/CulexQuinquefasciatus-InfinixS5-676-_jpg.rf.14a830efaa6e79e1889bf626262829ad.jpg: 224x224 CQ 1.00, ANO 0.00, AG 0.00, AB 0.00, 5.2ms\n",
      "image 678/742 /home/esidserver/datasets/testing_cls/allin-test/CulexQuinquefasciatus-InfinixS5-688-_jpg.rf.9e4566d3b7aac5ac5cecbdac65cf8562.jpg: 224x224 CQ 1.00, AG 0.00, ANO 0.00, AB 0.00, 4.5ms\n",
      "image 679/742 /home/esidserver/datasets/testing_cls/allin-test/CulexQuinquefasciatus-InfinixS5-699-_jpg.rf.f370b4a8a63a86b9228756f685fccc2c.jpg: 224x224 CQ 1.00, AB 0.00, AG 0.00, ANO 0.00, 4.6ms\n",
      "image 680/742 /home/esidserver/datasets/testing_cls/allin-test/CulexQuinquefasciatus-InfinixS5-700-_jpg.rf.37e2c1f2c04c7bb1db2ac0a0fae24609.jpg: 224x224 CQ 1.00, AG 0.00, ANO 0.00, AB 0.00, 4.5ms\n",
      "image 681/742 /home/esidserver/datasets/testing_cls/allin-test/CulexQuinquefasciatus-InfinixS5-706-_jpg.rf.cb7ca30db1b37aa0bb4c02a27411ce77.jpg: 224x224 CQ 1.00, AG 0.00, AB 0.00, ANO 0.00, 4.9ms\n",
      "image 682/742 /home/esidserver/datasets/testing_cls/allin-test/CulexQuinquefasciatus-InfinixS5-722-_jpg.rf.554366e2f9555d84116a5e7cfb1a8f87.jpg: 224x224 CQ 1.00, AG 0.00, AB 0.00, ANO 0.00, 5.0ms\n",
      "image 683/742 /home/esidserver/datasets/testing_cls/allin-test/CulexQuinquefasciatus-InfinixS5-748-_jpg.rf.0ba96fd0426c1bfc82b8fcb60bda4647.jpg: 224x224 CQ 1.00, AG 0.00, AB 0.00, ANO 0.00, 4.6ms\n",
      "image 684/742 /home/esidserver/datasets/testing_cls/allin-test/CulexQuinquefasciatus-InfinixS5-749-_jpg.rf.2d1412f0a29f162b5b73fdba6c32ed41.jpg: 224x224 CQ 1.00, AB 0.00, AG 0.00, ANO 0.00, 4.9ms\n",
      "image 685/742 /home/esidserver/datasets/testing_cls/allin-test/CulexQuinquefasciatus-InfinixS5-759-_jpg.rf.b171eee6d15453368bdad3191b18181f.jpg: 224x224 CQ 1.00, AG 0.00, AB 0.00, ANO 0.00, 4.8ms\n",
      "image 686/742 /home/esidserver/datasets/testing_cls/allin-test/CulexQuinquefasciatus-InfinixS5-763-_jpg.rf.25a425325de14ba64e953741a0e15385.jpg: 224x224 CQ 1.00, AG 0.00, AB 0.00, ANO 0.00, 4.8ms\n",
      "image 687/742 /home/esidserver/datasets/testing_cls/allin-test/CulexQuinquefasciatus-InfinixS5-770-_jpg.rf.6c5262bcfa93ecb5cc5e78ba17169fc9.jpg: 224x224 CQ 1.00, AG 0.00, AB 0.00, ANO 0.00, 4.8ms\n",
      "image 688/742 /home/esidserver/datasets/testing_cls/allin-test/CulexQuinquefasciatus-InfinixS5-774-_jpg.rf.9a672cea082fd365b11ca441536eff18.jpg: 224x224 CQ 1.00, AG 0.00, AB 0.00, ANO 0.00, 4.8ms\n",
      "image 689/742 /home/esidserver/datasets/testing_cls/allin-test/CulexQuinquefasciatus-InfinixS5-778-_jpg.rf.b880c95960ed51711408c25acd61a8a6.jpg: 224x224 CQ 1.00, AG 0.00, AB 0.00, ANO 0.00, 4.8ms\n",
      "image 690/742 /home/esidserver/datasets/testing_cls/allin-test/CulexQuinquefasciatus-InfinixS5-78-_jpg.rf.0ad324a5621a49fca78669edc6814067.jpg: 224x224 CQ 1.00, ANO 0.00, AG 0.00, AB 0.00, 4.8ms\n",
      "image 691/742 /home/esidserver/datasets/testing_cls/allin-test/CulexQuinquefasciatus-InfinixS5-795-_jpg.rf.4bb8b75e8f818b5b435a1bd96e6c7f36.jpg: 224x224 CQ 1.00, AG 0.00, AB 0.00, ANO 0.00, 4.9ms\n",
      "image 692/742 /home/esidserver/datasets/testing_cls/allin-test/CulexQuinquefasciatus-InfinixS5-8-_jpg.rf.2634b26fa9b1614d6781c360ccc5d759.jpg: 224x224 CQ 1.00, AG 0.00, AB 0.00, ANO 0.00, 4.9ms\n",
      "image 693/742 /home/esidserver/datasets/testing_cls/allin-test/CulexQuinquefasciatus-InfinixS5-811-_jpg.rf.abfd5bab220d1620dc7a7059f6b105a7.jpg: 224x224 CQ 1.00, AB 0.00, AG 0.00, ANO 0.00, 8.3ms\n",
      "image 694/742 /home/esidserver/datasets/testing_cls/allin-test/CulexQuinquefasciatus-InfinixS5-820-_jpg.rf.8355c41b9661d8cd90daf952973bb274.jpg: 224x224 CQ 1.00, AG 0.00, AB 0.00, ANO 0.00, 5.0ms\n",
      "image 695/742 /home/esidserver/datasets/testing_cls/allin-test/CulexQuinquefasciatus-InfinixS5-825-_jpg.rf.7d9da2e1cffb50f73bced209c9744ff5.jpg: 224x224 CQ 1.00, AG 0.00, ANO 0.00, AB 0.00, 5.2ms\n",
      "image 696/742 /home/esidserver/datasets/testing_cls/allin-test/CulexQuinquefasciatus-InfinixS5-836-_jpg.rf.af9b4e1ae40279ff4d0904302ecad184.jpg: 224x224 CQ 1.00, AG 0.00, ANO 0.00, AB 0.00, 5.4ms\n",
      "image 697/742 /home/esidserver/datasets/testing_cls/allin-test/CulexQuinquefasciatus-InfinixS5-848-_jpg.rf.c24fe1aa7d6b2056f71832e92f97504e.jpg: 224x224 CQ 1.00, ANO 0.00, AG 0.00, AB 0.00, 5.4ms\n",
      "image 698/742 /home/esidserver/datasets/testing_cls/allin-test/CulexQuinquefasciatus-InfinixS5-875-_jpg.rf.eb47d484c8350cff51698f80e9aec0fe.jpg: 224x224 CQ 0.98, AB 0.01, ANO 0.01, AG 0.00, 5.5ms\n",
      "image 699/742 /home/esidserver/datasets/testing_cls/allin-test/CulexQuinquefasciatus-InfinixS5-881-_jpg.rf.936b29c4018311726cae8be7d637ca6b.jpg: 224x224 CQ 1.00, AG 0.00, AB 0.00, ANO 0.00, 4.9ms\n",
      "image 700/742 /home/esidserver/datasets/testing_cls/allin-test/CulexQuinquefasciatus-InfinixS5-883-_jpg.rf.6990c3939e06db5ad89787d7d16b8da1.jpg: 224x224 CQ 1.00, AG 0.00, AB 0.00, ANO 0.00, 4.9ms\n",
      "image 701/742 /home/esidserver/datasets/testing_cls/allin-test/CulexQuinquefasciatus-InfinixS5-893-_jpg.rf.831e9442cbecd97dff280d2ca4117219.jpg: 224x224 CQ 1.00, AB 0.00, AG 0.00, ANO 0.00, 4.9ms\n",
      "image 702/742 /home/esidserver/datasets/testing_cls/allin-test/CulexQuinquefasciatus-InfinixS5-911-_jpg.rf.ce3aa05955df99e3b04bd98798d40dff.jpg: 224x224 CQ 1.00, AG 0.00, AB 0.00, ANO 0.00, 5.4ms\n",
      "image 703/742 /home/esidserver/datasets/testing_cls/allin-test/CulexQuinquefasciatus-InfinixS5-916-_jpg.rf.46d4de26815d40378cd35320d0b1eb96.jpg: 224x224 CQ 1.00, AB 0.00, ANO 0.00, AG 0.00, 4.9ms\n",
      "image 704/742 /home/esidserver/datasets/testing_cls/allin-test/CulexQuinquefasciatus-InfinixS5-920-_jpg.rf.10f601abc60fb04a0222667ecd77614b.jpg: 224x224 CQ 1.00, AB 0.00, AG 0.00, ANO 0.00, 5.0ms\n",
      "image 705/742 /home/esidserver/datasets/testing_cls/allin-test/CulexQuinquefasciatus-InfinixS5-932-_jpg.rf.518a93133b385adb86482a320a7ef130.jpg: 224x224 CQ 1.00, AG 0.00, AB 0.00, ANO 0.00, 4.9ms\n",
      "image 706/742 /home/esidserver/datasets/testing_cls/allin-test/CulexQuinquefasciatus-InfinixS5-934-_jpg.rf.a8e3f294f88dd7be20d3fc83d3d60855.jpg: 224x224 CQ 1.00, AB 0.00, AG 0.00, ANO 0.00, 5.0ms\n",
      "image 707/742 /home/esidserver/datasets/testing_cls/allin-test/CulexQuinquefasciatus-InfinixS5-950-_jpg.rf.c91678ffac9ead0878b56e16fef16a63.jpg: 224x224 CQ 1.00, AB 0.00, ANO 0.00, AG 0.00, 4.8ms\n",
      "image 708/742 /home/esidserver/datasets/testing_cls/allin-test/CulexQuinquefasciatus-InfinixS5-96-_jpg.rf.3cabc81cc501654d9047be0eda857fac.jpg: 224x224 CQ 1.00, AG 0.00, ANO 0.00, AB 0.00, 4.8ms\n",
      "image 709/742 /home/esidserver/datasets/testing_cls/allin-test/CulexQuinquefasciatus-InfinixS5-97-_jpg.rf.435705375e79f7401f4845b35e1d1050.jpg: 224x224 CQ 1.00, AG 0.00, ANO 0.00, AB 0.00, 5.0ms\n",
      "image 710/742 /home/esidserver/datasets/testing_cls/allin-test/CulexQuinquefasciatus-InfinixS5-983-_jpg.rf.fa53deac332b60eed4fea66dc4bac74b.jpg: 224x224 CQ 1.00, AB 0.00, AG 0.00, ANO 0.00, 5.1ms\n",
      "image 711/742 /home/esidserver/datasets/testing_cls/allin-test/CulexQuinquefasciatus_100x_001_03_lab_JPG.rf.10c25d560451183f8f23a939d1237c0b.jpg: 224x224 CQ 0.87, AB 0.12, ANO 0.01, AG 0.00, 4.9ms\n",
      "image 712/742 /home/esidserver/datasets/testing_cls/allin-test/CulexQuinquefasciatus_100x_001_04_lab_JPG.rf.519391c3d330ac6071e8f08d1e865dc9.jpg: 224x224 CQ 0.96, AB 0.03, AG 0.01, ANO 0.00, 6.0ms\n",
      "image 713/742 /home/esidserver/datasets/testing_cls/allin-test/CulexQuinquefasciatus_100x_005_02_lab_JPG.rf.5301c3479d77908ca0d547ff98c02693.jpg: 224x224 CQ 1.00, AG 0.00, AB 0.00, ANO 0.00, 5.1ms\n",
      "image 714/742 /home/esidserver/datasets/testing_cls/allin-test/CulexQuinquefasciatus_100x_007_02_lab_JPG.rf.6e348526ec10596ad28d7a3b0172c79e.jpg: 224x224 CQ 0.96, AB 0.03, ANO 0.01, AG 0.00, 5.0ms\n",
      "image 715/742 /home/esidserver/datasets/testing_cls/allin-test/CulexQuinquefasciatus_100x_012_03_lab_JPG.rf.19dbb2726f56bf0fbf85a3825a7118f2.jpg: 224x224 CQ 1.00, AG 0.00, AB 0.00, ANO 0.00, 4.9ms\n",
      "image 716/742 /home/esidserver/datasets/testing_cls/allin-test/CulexQuinquefasciatus_100x_013_02_lab_JPG.rf.18a12be97cbd547edba36baf637bf008.jpg: 224x224 CQ 1.00, AB 0.00, AG 0.00, ANO 0.00, 4.8ms\n",
      "image 717/742 /home/esidserver/datasets/testing_cls/allin-test/CulexQuinquefasciatus_100x_014_04_lab_JPG.rf.ad2f01484729f5ec70e79da7f32c388a.jpg: 224x224 CQ 1.00, AB 0.00, AG 0.00, ANO 0.00, 4.8ms\n",
      "image 718/742 /home/esidserver/datasets/testing_cls/allin-test/CulexQuinquefasciatus_100x_015_04_lab_JPG.rf.8c60ec900e696443fba3736f62c03ad8.jpg: 224x224 CQ 1.00, AB 0.00, AG 0.00, ANO 0.00, 5.3ms\n",
      "image 719/742 /home/esidserver/datasets/testing_cls/allin-test/CulexQuinquefasciatus_100x_017_04_lab_JPG.rf.c22ca9fd25918d0e5f4c2c3938078597.jpg: 224x224 CQ 1.00, AB 0.00, AG 0.00, ANO 0.00, 4.7ms\n",
      "image 720/742 /home/esidserver/datasets/testing_cls/allin-test/CulexQuinquefasciatus_100x_020_02_lab_JPG.rf.97349e4267f32c0304c0f881abfe5d29.jpg: 224x224 CQ 1.00, AG 0.00, AB 0.00, ANO 0.00, 4.7ms\n",
      "image 721/742 /home/esidserver/datasets/testing_cls/allin-test/CulexQuinquefasciatus_100x_023_02_lab_JPG.rf.875be6733339ab8d1ebecb93bd2266ea.jpg: 224x224 CQ 0.96, AG 0.03, AB 0.00, ANO 0.00, 4.8ms\n",
      "image 722/742 /home/esidserver/datasets/testing_cls/allin-test/CulexQuinquefasciatus_100x_027_03_lab_JPG.rf.034214dde243c7c2d5a923bf602056e6.jpg: 224x224 CQ 0.58, AB 0.42, AG 0.00, ANO 0.00, 4.4ms\n",
      "image 723/742 /home/esidserver/datasets/testing_cls/allin-test/CulexQuinquefasciatus_100x_028_03_lab_JPG.rf.4c5125c3a6ef113dcbf13e36d747e638.jpg: 224x224 CQ 1.00, AB 0.00, AG 0.00, ANO 0.00, 4.5ms\n",
      "image 724/742 /home/esidserver/datasets/testing_cls/allin-test/CulexQuinquefasciatus_100x_039_01_lab_JPG.rf.503c27b69cb8de05429ee710f9e7119f.jpg: 224x224 CQ 1.00, ANO 0.00, AG 0.00, AB 0.00, 4.5ms\n",
      "image 725/742 /home/esidserver/datasets/testing_cls/allin-test/CulexQuinquefasciatus_100x_040_02_lab_JPG.rf.6f11828454592f106edfd2a9efa2dfe9.jpg: 224x224 CQ 1.00, AG 0.00, AB 0.00, ANO 0.00, 4.4ms\n",
      "image 726/742 /home/esidserver/datasets/testing_cls/allin-test/CulexQuinquefasciatus_100x_041_03_lab_JPG.rf.9a2c0438eb2d5592630536ac82ed5ac5.jpg: 224x224 CQ 1.00, AG 0.00, AB 0.00, ANO 0.00, 4.4ms\n",
      "image 727/742 /home/esidserver/datasets/testing_cls/allin-test/CulexQuinquefasciatus_100x_042_02_lab_JPG.rf.09f5c44fd684c8207818e8a6bfdf8d31.jpg: 224x224 CQ 1.00, AB 0.00, AG 0.00, ANO 0.00, 4.8ms\n",
      "image 728/742 /home/esidserver/datasets/testing_cls/allin-test/CulexQuinquefasciatus_100x_042_04_lab_JPG.rf.a458f1206c5ac87c4d905b927b716dad.jpg: 224x224 CQ 1.00, AG 0.00, AB 0.00, ANO 0.00, 4.8ms\n",
      "image 729/742 /home/esidserver/datasets/testing_cls/allin-test/CulexQuinquefasciatus_100x_044_03_lab_JPG.rf.006d14baf210f7ef44380e66786fa7e6.jpg: 224x224 CQ 1.00, AB 0.00, AG 0.00, ANO 0.00, 4.4ms\n",
      "image 730/742 /home/esidserver/datasets/testing_cls/allin-test/CulexQuinquefasciatus_40x_002_04_lab_JPG.rf.f00c7a8bb4883c92aa3986cb5271defc.jpg: 224x224 CQ 0.98, ANO 0.01, AG 0.00, AB 0.00, 4.2ms\n",
      "image 731/742 /home/esidserver/datasets/testing_cls/allin-test/CulexQuinquefasciatus_40x_006_03_lab_JPG.rf.a32682231d94be2663ee7e5f051f121d.jpg: 224x224 CQ 1.00, AB 0.00, AG 0.00, ANO 0.00, 4.5ms\n",
      "image 732/742 /home/esidserver/datasets/testing_cls/allin-test/CulexQuinquefasciatus_40x_007_03_lab_JPG.rf.5ff741d914587d04bffcd45758b8daea.jpg: 224x224 CQ 0.83, AB 0.16, AG 0.00, ANO 0.00, 4.0ms\n",
      "image 733/742 /home/esidserver/datasets/testing_cls/allin-test/CulexQuinquefasciatus_40x_007_04_lab_JPG.rf.63439440d0c005f06d0abfdd80eef1b9.jpg: 224x224 CQ 0.95, AB 0.04, AG 0.00, ANO 0.00, 4.2ms\n",
      "image 734/742 /home/esidserver/datasets/testing_cls/allin-test/CulexQuinquefasciatus_40x_010_04_lab_JPG.rf.56ba203686c053ab1845e2de7898c98e.jpg: 224x224 CQ 1.00, AB 0.00, AG 0.00, ANO 0.00, 4.2ms\n",
      "image 735/742 /home/esidserver/datasets/testing_cls/allin-test/CulexQuinquefasciatus_40x_012_04_lab_JPG.rf.62bff49866279158c1e3db9736a75fdc.jpg: 224x224 CQ 0.99, AB 0.01, ANO 0.00, AG 0.00, 4.4ms\n",
      "image 736/742 /home/esidserver/datasets/testing_cls/allin-test/CulexQuinquefasciatus_40x_013_01_lab_JPG.rf.34eed6ebdf2686a5fd3a954043da1288.jpg: 224x224 CQ 1.00, AB 0.00, AG 0.00, ANO 0.00, 4.5ms\n",
      "image 737/742 /home/esidserver/datasets/testing_cls/allin-test/CulexQuinquefasciatus_40x_014_01_lab_JPG.rf.84f7bb9c67353930e21f4c878c31dd1d.jpg: 224x224 CQ 1.00, AG 0.00, ANO 0.00, AB 0.00, 4.5ms\n",
      "image 738/742 /home/esidserver/datasets/testing_cls/allin-test/CulexQuinquefasciatus_40x_020_04_lab_JPG.rf.cc41cd8205ead2d1d0087935a2fd54a0.jpg: 224x224 CQ 0.99, AG 0.00, AB 0.00, ANO 0.00, 4.5ms\n",
      "image 739/742 /home/esidserver/datasets/testing_cls/allin-test/CulexQuinquefasciatus_40x_026_01_lab_JPG.rf.2d5411d1680e943d73693e2569309e0a.jpg: 224x224 CQ 1.00, AB 0.00, ANO 0.00, AG 0.00, 4.4ms\n",
      "image 740/742 /home/esidserver/datasets/testing_cls/allin-test/CulexQuinquefasciatus_40x_032_02_lab_JPG.rf.ca4da76b4b9482ff480ea780398f0fd6.jpg: 224x224 CQ 1.00, AG 0.00, AB 0.00, ANO 0.00, 4.5ms\n",
      "image 741/742 /home/esidserver/datasets/testing_cls/allin-test/CulexQuinquefasciatus_40x_035_01_lab_JPG.rf.c6d6e440d0477e8540be503fd410d527.jpg: 224x224 CQ 1.00, AB 0.00, ANO 0.00, AG 0.00, 4.5ms\n",
      "image 742/742 /home/esidserver/datasets/testing_cls/allin-test/CulexQuinquefasciatus_40x_045_02_lab_JPG.rf.9e76eb2f4e6707a2aac4662804a54bf5.jpg: 224x224 CQ 1.00, AB 0.00, AG 0.00, ANO 0.00, 4.5ms\n",
      "Speed: 8.2ms preprocess, 5.1ms inference, 0.1ms postprocess per image at shape (1, 3, 224, 224)\n"
     ]
    }
   ],
   "source": [
    "%cd {HOME}\n",
    "#!yolo task=detect mode=predict model={HOME}/runs/detect/train33/weights/best.pt conf=0.25 source={dataset.location}/test/images save=True\n",
    "\n",
    "#!yolo task=detect mode=predict model=runs/classify/train/weights/best.pt conf=0.25 source=\"/home/esidserver/datasets/testing_cls/test/\" save=True\n",
    "#from ultralytics import YOLO\n",
    "\n",
    "# Load a model\n",
    "model = YOLO(\"yolov8n-cls.pt\")  # load an official model\n",
    "model = YOLO(\"runs/classify/train5/weights/best.pt\")  # load a custom model\n",
    "import os\n",
    "\n",
    "dataset_dir = \"/home/esidserver/datasets/testing_cls/allin-test/\"\n",
    "files = os.listdir(dataset_dir)\n",
    "#print(f\"Files in {dataset_dir}: {files}\")\n",
    "\n",
    "# Predict with the model\n",
    "results = model(source=\"/home/esidserver/datasets/testing_cls/allin-test/\") # predict on an image"
   ]
  },
  {
   "cell_type": "code",
   "execution_count": 35,
   "metadata": {},
   "outputs": [],
   "source": [
    "model = YOLO(\"runs/classify/train5/weights/best.pt\")  # load a custom model\n"
   ]
  },
  {
   "cell_type": "code",
   "execution_count": 36,
   "metadata": {},
   "outputs": [
    {
     "data": {
      "text/plain": [
       "{'metrics/accuracy_top1': 0.9993261694908142,\n",
       " 'metrics/accuracy_top5': 1.0,\n",
       " 'fitness': 0.9996630847454071}"
      ]
     },
     "execution_count": 36,
     "metadata": {},
     "output_type": "execute_result"
    }
   ],
   "source": [
    "#metrics = model.val()\n",
    "metrics.results_dict\n",
    "\n",
    "#print(\"Validation Accuracy:\", metrics.accuracy_top1)\n"
   ]
  }
 ],
 "metadata": {
  "kernelspec": {
   "display_name": "Python 3 (ipykernel)",
   "language": "python",
   "name": "python3"
  },
  "language_info": {
   "codemirror_mode": {
    "name": "ipython",
    "version": 3
   },
   "file_extension": ".py",
   "mimetype": "text/x-python",
   "name": "python",
   "nbconvert_exporter": "python",
   "pygments_lexer": "ipython3",
   "version": "3.11.7"
  }
 },
 "nbformat": 4,
 "nbformat_minor": 2
}
